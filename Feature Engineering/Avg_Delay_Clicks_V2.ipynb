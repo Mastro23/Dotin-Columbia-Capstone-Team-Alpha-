{
 "cells": [
  {
   "cell_type": "code",
   "execution_count": 3,
   "metadata": {
    "ExecuteTime": {
     "end_time": "2019-10-21T21:20:51.739899Z",
     "start_time": "2019-10-21T21:20:51.019475Z"
    }
   },
   "outputs": [],
   "source": [
    "import pandas as pd\n",
    "import numpy as np\n",
    "import os\n",
    "import pathlib as Path"
   ]
  },
  {
   "cell_type": "code",
   "execution_count": 4,
   "metadata": {
    "ExecuteTime": {
     "end_time": "2019-10-21T21:20:51.746557Z",
     "start_time": "2019-10-21T21:20:51.742678Z"
    }
   },
   "outputs": [],
   "source": [
    "os.chdir(\"/Users/albertomastrotto/Desktop/Fall_2019 /Capstone/Dotin-Columbia-Castone-Team-Alpha-/Data/Clean Data\")"
   ]
  },
  {
   "cell_type": "code",
   "execution_count": 5,
   "metadata": {
    "ExecuteTime": {
     "end_time": "2019-10-21T21:21:09.112510Z",
     "start_time": "2019-10-21T21:20:52.219790Z"
    }
   },
   "outputs": [
    {
     "name": "stderr",
     "output_type": "stream",
     "text": [
      "/Users/albertomastrotto/anaconda3/lib/python3.7/site-packages/numpy/lib/arraysetops.py:569: FutureWarning: elementwise comparison failed; returning scalar instead, but in the future will perform elementwise comparison\n",
      "  mask |= (ar1 == a)\n"
     ]
    }
   ],
   "source": [
    "df=pd.read_csv(\"/Users/albertomastrotto/Desktop/Fall_2019 /Capstone/Dotin-Columbia-Castone-Team-Alpha-/Data/Clean Data/mouse_flat_v3.csv\", index_col = 0 )\n"
   ]
  },
  {
   "cell_type": "markdown",
   "metadata": {},
   "source": [
    "###### FEATURE TO CALCULATE AVERAGE DELAY BETWEEN CLICKS FOR EACH USER\n",
    "\n",
    "*Note: We will focus later on creating average delay between clicks filtered by only clicks on radio buttons. "
   ]
  },
  {
   "cell_type": "code",
   "execution_count": 6,
   "metadata": {
    "ExecuteTime": {
     "end_time": "2019-10-21T21:21:09.148142Z",
     "start_time": "2019-10-21T21:21:09.115484Z"
    }
   },
   "outputs": [
    {
     "data": {
      "text/html": [
       "<div>\n",
       "<style scoped>\n",
       "    .dataframe tbody tr th:only-of-type {\n",
       "        vertical-align: middle;\n",
       "    }\n",
       "\n",
       "    .dataframe tbody tr th {\n",
       "        vertical-align: top;\n",
       "    }\n",
       "\n",
       "    .dataframe thead th {\n",
       "        text-align: right;\n",
       "    }\n",
       "</style>\n",
       "<table border=\"1\" class=\"dataframe\">\n",
       "  <thead>\n",
       "    <tr style=\"text-align: right;\">\n",
       "      <th></th>\n",
       "      <th>user_id</th>\n",
       "      <th>action</th>\n",
       "      <th>cord_x</th>\n",
       "      <th>cord_y</th>\n",
       "      <th>distance</th>\n",
       "      <th>radio</th>\n",
       "      <th>time_since</th>\n",
       "      <th>id</th>\n",
       "      <th>created_at</th>\n",
       "      <th>updated_at</th>\n",
       "      <th>timeElapsed</th>\n",
       "      <th>window_x</th>\n",
       "      <th>window_y</th>\n",
       "      <th>system</th>\n",
       "    </tr>\n",
       "    <tr>\n",
       "      <th>Index</th>\n",
       "      <th></th>\n",
       "      <th></th>\n",
       "      <th></th>\n",
       "      <th></th>\n",
       "      <th></th>\n",
       "      <th></th>\n",
       "      <th></th>\n",
       "      <th></th>\n",
       "      <th></th>\n",
       "      <th></th>\n",
       "      <th></th>\n",
       "      <th></th>\n",
       "      <th></th>\n",
       "      <th></th>\n",
       "    </tr>\n",
       "  </thead>\n",
       "  <tbody>\n",
       "    <tr>\n",
       "      <th>0</th>\n",
       "      <td>365</td>\n",
       "      <td>s</td>\n",
       "      <td>0</td>\n",
       "      <td>0.0</td>\n",
       "      <td>0.000000</td>\n",
       "      <td>NaN</td>\n",
       "      <td>0.000</td>\n",
       "      <td>1</td>\n",
       "      <td>2019-03-05 06:56:35.848652</td>\n",
       "      <td>2019-03-05 06:56:35.848652</td>\n",
       "      <td>245.925</td>\n",
       "      <td>1600</td>\n",
       "      <td>860</td>\n",
       "      <td>pc</td>\n",
       "    </tr>\n",
       "    <tr>\n",
       "      <th>1</th>\n",
       "      <td>365</td>\n",
       "      <td>m</td>\n",
       "      <td>601</td>\n",
       "      <td>167.0</td>\n",
       "      <td>623.770791</td>\n",
       "      <td>NaN</td>\n",
       "      <td>0.220</td>\n",
       "      <td>1</td>\n",
       "      <td>2019-03-05 06:56:35.848652</td>\n",
       "      <td>2019-03-05 06:56:35.848652</td>\n",
       "      <td>245.925</td>\n",
       "      <td>1600</td>\n",
       "      <td>860</td>\n",
       "      <td>pc</td>\n",
       "    </tr>\n",
       "    <tr>\n",
       "      <th>2</th>\n",
       "      <td>365</td>\n",
       "      <td>m</td>\n",
       "      <td>602</td>\n",
       "      <td>166.0</td>\n",
       "      <td>1.414214</td>\n",
       "      <td>NaN</td>\n",
       "      <td>0.304</td>\n",
       "      <td>1</td>\n",
       "      <td>2019-03-05 06:56:35.848652</td>\n",
       "      <td>2019-03-05 06:56:35.848652</td>\n",
       "      <td>245.925</td>\n",
       "      <td>1600</td>\n",
       "      <td>860</td>\n",
       "      <td>pc</td>\n",
       "    </tr>\n",
       "    <tr>\n",
       "      <th>3</th>\n",
       "      <td>365</td>\n",
       "      <td>c</td>\n",
       "      <td>602</td>\n",
       "      <td>166.0</td>\n",
       "      <td>0.000000</td>\n",
       "      <td>NaN</td>\n",
       "      <td>0.432</td>\n",
       "      <td>1</td>\n",
       "      <td>2019-03-05 06:56:35.848652</td>\n",
       "      <td>2019-03-05 06:56:35.848652</td>\n",
       "      <td>245.925</td>\n",
       "      <td>1600</td>\n",
       "      <td>860</td>\n",
       "      <td>pc</td>\n",
       "    </tr>\n",
       "    <tr>\n",
       "      <th>4</th>\n",
       "      <td>365</td>\n",
       "      <td>m</td>\n",
       "      <td>602</td>\n",
       "      <td>166.0</td>\n",
       "      <td>0.000000</td>\n",
       "      <td>NaN</td>\n",
       "      <td>0.518</td>\n",
       "      <td>1</td>\n",
       "      <td>2019-03-05 06:56:35.848652</td>\n",
       "      <td>2019-03-05 06:56:35.848652</td>\n",
       "      <td>245.925</td>\n",
       "      <td>1600</td>\n",
       "      <td>860</td>\n",
       "      <td>pc</td>\n",
       "    </tr>\n",
       "  </tbody>\n",
       "</table>\n",
       "</div>"
      ],
      "text/plain": [
       "       user_id action  cord_x  cord_y    distance radio  time_since  id  \\\n",
       "Index                                                                     \n",
       "0          365      s       0     0.0    0.000000   NaN       0.000   1   \n",
       "1          365      m     601   167.0  623.770791   NaN       0.220   1   \n",
       "2          365      m     602   166.0    1.414214   NaN       0.304   1   \n",
       "3          365      c     602   166.0    0.000000   NaN       0.432   1   \n",
       "4          365      m     602   166.0    0.000000   NaN       0.518   1   \n",
       "\n",
       "                       created_at                  updated_at  timeElapsed  \\\n",
       "Index                                                                        \n",
       "0      2019-03-05 06:56:35.848652  2019-03-05 06:56:35.848652      245.925   \n",
       "1      2019-03-05 06:56:35.848652  2019-03-05 06:56:35.848652      245.925   \n",
       "2      2019-03-05 06:56:35.848652  2019-03-05 06:56:35.848652      245.925   \n",
       "3      2019-03-05 06:56:35.848652  2019-03-05 06:56:35.848652      245.925   \n",
       "4      2019-03-05 06:56:35.848652  2019-03-05 06:56:35.848652      245.925   \n",
       "\n",
       "       window_x  window_y system  \n",
       "Index                             \n",
       "0          1600       860     pc  \n",
       "1          1600       860     pc  \n",
       "2          1600       860     pc  \n",
       "3          1600       860     pc  \n",
       "4          1600       860     pc  "
      ]
     },
     "execution_count": 6,
     "metadata": {},
     "output_type": "execute_result"
    }
   ],
   "source": [
    "df.head(5)"
   ]
  },
  {
   "cell_type": "code",
   "execution_count": 7,
   "metadata": {
    "ExecuteTime": {
     "end_time": "2019-10-21T21:21:09.836321Z",
     "start_time": "2019-10-21T21:21:09.152034Z"
    }
   },
   "outputs": [],
   "source": [
    "#filter dataset by action = \"c\" only \n",
    "df_clicks=df[df['action']=='c']"
   ]
  },
  {
   "cell_type": "code",
   "execution_count": 8,
   "metadata": {
    "ExecuteTime": {
     "end_time": "2019-10-21T21:21:10.073967Z",
     "start_time": "2019-10-21T21:21:09.840149Z"
    }
   },
   "outputs": [],
   "source": [
    "df_clicks_grouped=df_clicks.groupby('user_id')['time_since'].apply(list).reset_index(name='time_since')"
   ]
  },
  {
   "cell_type": "code",
   "execution_count": 9,
   "metadata": {
    "ExecuteTime": {
     "end_time": "2019-10-21T21:21:10.238798Z",
     "start_time": "2019-10-21T21:21:10.077737Z"
    }
   },
   "outputs": [],
   "source": [
    "def calc_avg_delay_btwn_clicks(df):\n",
    "    \n",
    "    #calc difference of time in clicks\n",
    "    diff=abs(np.diff(df['time_since']))\n",
    "    \n",
    "    #calculate average delay of clicks per user based on difference above    \n",
    "    avg_calc=sum(diff)/len(diff)\n",
    "    return avg_calc\n",
    "\n",
    "df_clicks_grouped['average_click_delay']=df_clicks_grouped.apply(lambda x: calc_avg_delay_btwn_clicks(x), axis=1)"
   ]
  },
  {
   "cell_type": "code",
   "execution_count": 10,
   "metadata": {
    "ExecuteTime": {
     "end_time": "2019-10-21T21:21:10.263442Z",
     "start_time": "2019-10-21T21:21:10.241303Z"
    }
   },
   "outputs": [
    {
     "data": {
      "text/html": [
       "<div>\n",
       "<style scoped>\n",
       "    .dataframe tbody tr th:only-of-type {\n",
       "        vertical-align: middle;\n",
       "    }\n",
       "\n",
       "    .dataframe tbody tr th {\n",
       "        vertical-align: top;\n",
       "    }\n",
       "\n",
       "    .dataframe thead th {\n",
       "        text-align: right;\n",
       "    }\n",
       "</style>\n",
       "<table border=\"1\" class=\"dataframe\">\n",
       "  <thead>\n",
       "    <tr style=\"text-align: right;\">\n",
       "      <th></th>\n",
       "      <th>user_id</th>\n",
       "      <th>time_since</th>\n",
       "      <th>average_click_delay</th>\n",
       "    </tr>\n",
       "  </thead>\n",
       "  <tbody>\n",
       "    <tr>\n",
       "      <th>0</th>\n",
       "      <td>365</td>\n",
       "      <td>[0.4320001602172852, 3.595000028610228, 6.5570...</td>\n",
       "      <td>1.081283</td>\n",
       "    </tr>\n",
       "    <tr>\n",
       "      <th>1</th>\n",
       "      <td>371</td>\n",
       "      <td>[0.5269999504089355, 2.11899995803833, 3.26300...</td>\n",
       "      <td>1.301838</td>\n",
       "    </tr>\n",
       "    <tr>\n",
       "      <th>2</th>\n",
       "      <td>373</td>\n",
       "      <td>[1.49399995803833, 3.2689998149871826, 5.67499...</td>\n",
       "      <td>0.886830</td>\n",
       "    </tr>\n",
       "    <tr>\n",
       "      <th>3</th>\n",
       "      <td>374</td>\n",
       "      <td>[0.2739999294281006, 2.095999956130981, 3.4500...</td>\n",
       "      <td>0.904714</td>\n",
       "    </tr>\n",
       "    <tr>\n",
       "      <th>4</th>\n",
       "      <td>375</td>\n",
       "      <td>[20.395999908447266, 25.128000020980835, 26.85...</td>\n",
       "      <td>7.335211</td>\n",
       "    </tr>\n",
       "  </tbody>\n",
       "</table>\n",
       "</div>"
      ],
      "text/plain": [
       "   user_id                                         time_since  \\\n",
       "0      365  [0.4320001602172852, 3.595000028610228, 6.5570...   \n",
       "1      371  [0.5269999504089355, 2.11899995803833, 3.26300...   \n",
       "2      373  [1.49399995803833, 3.2689998149871826, 5.67499...   \n",
       "3      374  [0.2739999294281006, 2.095999956130981, 3.4500...   \n",
       "4      375  [20.395999908447266, 25.128000020980835, 26.85...   \n",
       "\n",
       "   average_click_delay  \n",
       "0             1.081283  \n",
       "1             1.301838  \n",
       "2             0.886830  \n",
       "3             0.904714  \n",
       "4             7.335211  "
      ]
     },
     "execution_count": 10,
     "metadata": {},
     "output_type": "execute_result"
    }
   ],
   "source": [
    "df_clicks_grouped.head()"
   ]
  },
  {
   "cell_type": "code",
   "execution_count": 11,
   "metadata": {
    "ExecuteTime": {
     "end_time": "2019-10-21T21:21:10.303733Z",
     "start_time": "2019-10-21T21:21:10.266008Z"
    }
   },
   "outputs": [],
   "source": [
    "#Load new file and concat: \n",
    "data = pd.read_csv(\"/Users/albertomastrotto/Desktop/Fall_2019 /Capstone/Dotin-Columbia-Castone-Team-Alpha-/Data/Clean Data/merged_data_user_level.csv\", index_col = 0 )\n"
   ]
  },
  {
   "cell_type": "code",
   "execution_count": 12,
   "metadata": {
    "ExecuteTime": {
     "end_time": "2019-10-21T21:21:10.317170Z",
     "start_time": "2019-10-21T21:21:10.307731Z"
    }
   },
   "outputs": [],
   "source": [
    "data.insert(loc = data.columns.get_loc('click count')+1, column=\"average_click_delay\", value = df_clicks_grouped.average_click_delay)"
   ]
  },
  {
   "cell_type": "code",
   "execution_count": 13,
   "metadata": {
    "ExecuteTime": {
     "end_time": "2019-10-21T21:21:10.346256Z",
     "start_time": "2019-10-21T21:21:10.320076Z"
    }
   },
   "outputs": [
    {
     "data": {
      "text/html": [
       "<div>\n",
       "<style scoped>\n",
       "    .dataframe tbody tr th:only-of-type {\n",
       "        vertical-align: middle;\n",
       "    }\n",
       "\n",
       "    .dataframe tbody tr th {\n",
       "        vertical-align: top;\n",
       "    }\n",
       "\n",
       "    .dataframe thead th {\n",
       "        text-align: right;\n",
       "    }\n",
       "</style>\n",
       "<table border=\"1\" class=\"dataframe\">\n",
       "  <thead>\n",
       "    <tr style=\"text-align: right;\">\n",
       "      <th></th>\n",
       "      <th>user_id</th>\n",
       "      <th>scroll count</th>\n",
       "      <th>mouse movement count</th>\n",
       "      <th>click count</th>\n",
       "      <th>average_click_delay</th>\n",
       "      <th>NA</th>\n",
       "      <th>User Record Count</th>\n",
       "      <th>Total Time</th>\n",
       "      <th>Total Distance</th>\n",
       "      <th>validation</th>\n",
       "      <th>...</th>\n",
       "      <th>movesup</th>\n",
       "      <th>movesdown</th>\n",
       "      <th>no_vertical_movement</th>\n",
       "      <th>perc_upwward_movement</th>\n",
       "      <th>perc_downward_movement</th>\n",
       "      <th>perc_no_movement_y</th>\n",
       "      <th>system</th>\n",
       "      <th>Max Speed</th>\n",
       "      <th>Avg Speed</th>\n",
       "      <th>Sd Speed</th>\n",
       "    </tr>\n",
       "  </thead>\n",
       "  <tbody>\n",
       "    <tr>\n",
       "      <th>1</th>\n",
       "      <td>0</td>\n",
       "      <td>0</td>\n",
       "      <td>0</td>\n",
       "      <td>0</td>\n",
       "      <td>1.301838</td>\n",
       "      <td>680</td>\n",
       "      <td>680</td>\n",
       "      <td>0.000</td>\n",
       "      <td>0.000000</td>\n",
       "      <td>0</td>\n",
       "      <td>...</td>\n",
       "      <td>0</td>\n",
       "      <td>0</td>\n",
       "      <td>0</td>\n",
       "      <td>0.000000</td>\n",
       "      <td>0.000000</td>\n",
       "      <td>0.000000</td>\n",
       "      <td>0</td>\n",
       "      <td>0.000000</td>\n",
       "      <td>0.000000</td>\n",
       "      <td>0.000000</td>\n",
       "    </tr>\n",
       "    <tr>\n",
       "      <th>2</th>\n",
       "      <td>365</td>\n",
       "      <td>11</td>\n",
       "      <td>4766</td>\n",
       "      <td>227</td>\n",
       "      <td>0.886830</td>\n",
       "      <td>0</td>\n",
       "      <td>5005</td>\n",
       "      <td>245.808</td>\n",
       "      <td>62662.118363</td>\n",
       "      <td>0</td>\n",
       "      <td>...</td>\n",
       "      <td>1512</td>\n",
       "      <td>2620</td>\n",
       "      <td>872</td>\n",
       "      <td>30.215827</td>\n",
       "      <td>52.358114</td>\n",
       "      <td>17.426059</td>\n",
       "      <td>pc</td>\n",
       "      <td>2835.321410</td>\n",
       "      <td>0.812244</td>\n",
       "      <td>40.225504</td>\n",
       "    </tr>\n",
       "    <tr>\n",
       "      <th>3</th>\n",
       "      <td>371</td>\n",
       "      <td>1</td>\n",
       "      <td>3900</td>\n",
       "      <td>143</td>\n",
       "      <td>0.904714</td>\n",
       "      <td>0</td>\n",
       "      <td>4044</td>\n",
       "      <td>185.388</td>\n",
       "      <td>41381.708124</td>\n",
       "      <td>1</td>\n",
       "      <td>...</td>\n",
       "      <td>1327</td>\n",
       "      <td>1950</td>\n",
       "      <td>766</td>\n",
       "      <td>32.822162</td>\n",
       "      <td>48.231511</td>\n",
       "      <td>18.946327</td>\n",
       "      <td>pc</td>\n",
       "      <td>6285.067883</td>\n",
       "      <td>1.977682</td>\n",
       "      <td>98.953356</td>\n",
       "    </tr>\n",
       "    <tr>\n",
       "      <th>4</th>\n",
       "      <td>373</td>\n",
       "      <td>34</td>\n",
       "      <td>5692</td>\n",
       "      <td>225</td>\n",
       "      <td>7.335211</td>\n",
       "      <td>0</td>\n",
       "      <td>5951</td>\n",
       "      <td>200.144</td>\n",
       "      <td>67693.337045</td>\n",
       "      <td>0</td>\n",
       "      <td>...</td>\n",
       "      <td>1719</td>\n",
       "      <td>2539</td>\n",
       "      <td>1693</td>\n",
       "      <td>28.885902</td>\n",
       "      <td>42.665098</td>\n",
       "      <td>28.449000</td>\n",
       "      <td>pc</td>\n",
       "      <td>209.407844</td>\n",
       "      <td>0.380699</td>\n",
       "      <td>4.693707</td>\n",
       "    </tr>\n",
       "    <tr>\n",
       "      <th>5</th>\n",
       "      <td>374</td>\n",
       "      <td>32</td>\n",
       "      <td>4666</td>\n",
       "      <td>277</td>\n",
       "      <td>3.378696</td>\n",
       "      <td>0</td>\n",
       "      <td>4975</td>\n",
       "      <td>249.975</td>\n",
       "      <td>115106.227146</td>\n",
       "      <td>1</td>\n",
       "      <td>...</td>\n",
       "      <td>1626</td>\n",
       "      <td>2169</td>\n",
       "      <td>1179</td>\n",
       "      <td>32.689988</td>\n",
       "      <td>43.606755</td>\n",
       "      <td>23.703257</td>\n",
       "      <td>pc</td>\n",
       "      <td>2809.115990</td>\n",
       "      <td>1.010814</td>\n",
       "      <td>40.907223</td>\n",
       "    </tr>\n",
       "  </tbody>\n",
       "</table>\n",
       "<p>5 rows × 52 columns</p>\n",
       "</div>"
      ],
      "text/plain": [
       "   user_id  scroll count  mouse movement count  click count  \\\n",
       "1        0             0                     0            0   \n",
       "2      365            11                  4766          227   \n",
       "3      371             1                  3900          143   \n",
       "4      373            34                  5692          225   \n",
       "5      374            32                  4666          277   \n",
       "\n",
       "   average_click_delay   NA  User Record Count  Total Time  Total Distance  \\\n",
       "1             1.301838  680                680       0.000        0.000000   \n",
       "2             0.886830    0               5005     245.808    62662.118363   \n",
       "3             0.904714    0               4044     185.388    41381.708124   \n",
       "4             7.335211    0               5951     200.144    67693.337045   \n",
       "5             3.378696    0               4975     249.975   115106.227146   \n",
       "\n",
       "   validation  ...  movesup  movesdown  no_vertical_movement  \\\n",
       "1           0  ...        0          0                     0   \n",
       "2           0  ...     1512       2620                   872   \n",
       "3           1  ...     1327       1950                   766   \n",
       "4           0  ...     1719       2539                  1693   \n",
       "5           1  ...     1626       2169                  1179   \n",
       "\n",
       "   perc_upwward_movement  perc_downward_movement  perc_no_movement_y  system  \\\n",
       "1               0.000000                0.000000            0.000000       0   \n",
       "2              30.215827               52.358114           17.426059      pc   \n",
       "3              32.822162               48.231511           18.946327      pc   \n",
       "4              28.885902               42.665098           28.449000      pc   \n",
       "5              32.689988               43.606755           23.703257      pc   \n",
       "\n",
       "     Max Speed  Avg Speed   Sd Speed  \n",
       "1     0.000000   0.000000   0.000000  \n",
       "2  2835.321410   0.812244  40.225504  \n",
       "3  6285.067883   1.977682  98.953356  \n",
       "4   209.407844   0.380699   4.693707  \n",
       "5  2809.115990   1.010814  40.907223  \n",
       "\n",
       "[5 rows x 52 columns]"
      ]
     },
     "execution_count": 13,
     "metadata": {},
     "output_type": "execute_result"
    }
   ],
   "source": [
    "data.head()"
   ]
  },
  {
   "cell_type": "code",
   "execution_count": 14,
   "metadata": {
    "ExecuteTime": {
     "end_time": "2019-10-21T21:21:10.404629Z",
     "start_time": "2019-10-21T21:21:10.348864Z"
    }
   },
   "outputs": [],
   "source": [
    "data.to_csv(r\"merged_data_user_level_V2.csv\")"
   ]
  },
  {
   "cell_type": "markdown",
   "metadata": {},
   "source": [
    "###### FEATURE TO CALCULATE AVERAGE DELAY BETWEEN CLICKS FOR EACH USER Filtered by CLICKS ON RADIO BUTTONS.\n",
    "\n",
    "*Note: This feature can only be created after the dataset has been cleaned from people that never clicked on a radio button. (See business rules). "
   ]
  },
  {
   "cell_type": "code",
   "execution_count": null,
   "metadata": {},
   "outputs": [],
   "source": [
    "# Creating avg_delay_between_clicks_radio"
   ]
  },
  {
   "cell_type": "code",
   "execution_count": null,
   "metadata": {},
   "outputs": [],
   "source": [
    "#filter dataset by radio = values that are not NaN\n",
    "#df_clicks_radio = df_clicks[df_clicks['radio'].notnull()]"
   ]
  },
  {
   "cell_type": "code",
   "execution_count": null,
   "metadata": {},
   "outputs": [],
   "source": [
    "#df_clicks_grouped_radio=df_clicks.groupby('user_id')['time_since'].apply(list).reset_index(name='time_since')"
   ]
  },
  {
   "cell_type": "code",
   "execution_count": null,
   "metadata": {},
   "outputs": [],
   "source": [
    "#df_clicks_grouped_radio['average_click_delay']=df_clicks_grouped_radio.apply(lambda x: calc_avg_delay_btwn_clicks(x), axis=1)\n"
   ]
  },
  {
   "cell_type": "code",
   "execution_count": null,
   "metadata": {},
   "outputs": [],
   "source": [
    "#df_clicks_grouped_radio.head()"
   ]
  }
 ],
 "metadata": {
  "kernelspec": {
   "display_name": "Python 3",
   "language": "python",
   "name": "python3"
  },
  "language_info": {
   "codemirror_mode": {
    "name": "ipython",
    "version": 3
   },
   "file_extension": ".py",
   "mimetype": "text/x-python",
   "name": "python",
   "nbconvert_exporter": "python",
   "pygments_lexer": "ipython3",
   "version": "3.7.3"
  },
  "pycharm": {
   "stem_cell": {
    "cell_type": "raw",
    "metadata": {
     "collapsed": false
    },
    "source": []
   }
  }
 },
 "nbformat": 4,
 "nbformat_minor": 4
}
