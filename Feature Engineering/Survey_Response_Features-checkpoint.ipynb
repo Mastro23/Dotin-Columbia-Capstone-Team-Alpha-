{
 "cells": [
  {
   "cell_type": "code",
   "execution_count": 1,
   "metadata": {},
   "outputs": [],
   "source": [
    "import pandas as pd\n",
    "import numpy as np\n",
    "import os\n",
    "from pathlib import Path"
   ]
  },
  {
   "cell_type": "code",
   "execution_count": 2,
   "metadata": {},
   "outputs": [],
   "source": [
    "#set path directory\n",
    "path = Path(\"./Data\")\n",
    "\n",
    "#read in the data\n",
    "votes=pd.read_csv(path/\"votes_modified.csv\")"
   ]
  },
  {
   "cell_type": "markdown",
   "metadata": {},
   "source": [
    "FEATURES TO GET ABSOLUTE MIN AND MAX RESPONSE TYPES"
   ]
  },
  {
   "cell_type": "code",
   "execution_count": 3,
   "metadata": {},
   "outputs": [],
   "source": [
    "def get_min_response(df):\n",
    "    \"\"\"Create new column to capture absolute min response (aka 1) as 1=yes, 0=no\"\"\"\n",
    "    if df['score']==1:\n",
    "        return 1\n",
    "    else:\n",
    "        return 0\n",
    "\n",
    "votes['is_min_response?']= votes.apply(lambda x: get_min_response(x), axis=1)"
   ]
  },
  {
   "cell_type": "code",
   "execution_count": 4,
   "metadata": {},
   "outputs": [],
   "source": [
    "def get_max_response(df):\n",
    "    \"\"\"Create new column to capture absolute max response (aka 5 or 7 depending on question) as 1=yes, 0=no\"\"\"\n",
    "    if \"pgi_\" in df['value']:\n",
    "        if df['score']==7:\n",
    "            return 1\n",
    "        else:\n",
    "            return 0\n",
    "    else:\n",
    "        if df['score']==5:\n",
    "            return 1\n",
    "        else: \n",
    "            return 0\n",
    "        \n",
    "votes[\"is_max_response?\"]=votes.apply(lambda x: get_max_response(x), axis=1)"
   ]
  },
  {
   "cell_type": "markdown",
   "metadata": {},
   "source": [
    "ADDITIONAL FEATURES FOR SURVEY QUESTIONS"
   ]
  },
  {
   "cell_type": "code",
   "execution_count": 5,
   "metadata": {},
   "outputs": [],
   "source": [
    "#function to group survey responses by type and see if they have been responded as an absolute min and max \n",
    "#as an aggregate\n",
    "\n",
    "def create_question_buckets(df):\n",
    "    \"\"\"Create a new column to bucket questions by category\"\"\"\n",
    "    if \"bf_\" in df['value']:\n",
    "        return \"bf_questions\"\n",
    "    elif \"bs_\" in df['value']:\n",
    "        return \"bs_questions\"\n",
    "    elif \"miq_\" in df['value']:\n",
    "        return \"miq_questions\"\n",
    "    elif \"_Liking\" in df['value']:\n",
    "        return \"pgi_liking_questions\"\n",
    "    else:\n",
    "        return \"pgi_competence_questions\"\n",
    "\n",
    "votes['value_category']=votes.apply(lambda x: create_question_buckets(x), axis=1)"
   ]
  },
  {
   "cell_type": "code",
   "execution_count": 6,
   "metadata": {},
   "outputs": [],
   "source": [
    "#ABSOLUTE MIN/MAX RESPONSE CALCULATIONS#\n",
    "\n",
    "#create pivot table for absolute min/max answer to aggregate information\n",
    "\n",
    "abs_minmax_pivot_table=pd.pivot_table(votes, index=['value_category', 'user_id'], values=['is_min_response?', \n",
    "                                'is_max_response?'],aggfunc=[np.sum, len])"
   ]
  },
  {
   "cell_type": "code",
   "execution_count": 7,
   "metadata": {},
   "outputs": [],
   "source": [
    "#turn pivot table to regular dataframe\n",
    "abs_minmax_pivot_table.columns = abs_minmax_pivot_table.columns.droplevel(0)\n",
    "abs_minmax_votes = abs_minmax_pivot_table.reset_index().rename_axis(None, axis=1)"
   ]
  },
  {
   "cell_type": "code",
   "execution_count": 8,
   "metadata": {},
   "outputs": [],
   "source": [
    "#change column names for is_min_responses\n",
    "abs_minmax_votes.columns=['value_category','user_id','sum_max_resp_occurrence','sum_min_resp_occurrence',\n",
    "                          'total_count_of_cat_questions', 'total_count_of_cat_questions_2']"
   ]
  },
  {
   "cell_type": "code",
   "execution_count": 9,
   "metadata": {},
   "outputs": [],
   "source": [
    "del abs_minmax_votes['total_count_of_cat_questions_2']"
   ]
  },
  {
   "cell_type": "code",
   "execution_count": 10,
   "metadata": {},
   "outputs": [],
   "source": [
    "#function to capture users who have selected only absolute min or max per question category\n",
    "\n",
    "def abs_min_users_per_cat(df):\n",
    "    \"\"\"Create new column to capture users who have full absolute min response across categories\"\"\"\n",
    "    \n",
    "    if df['sum_min_resp_occurrence']==df['total_count_of_cat_questions']:\n",
    "        return 1\n",
    "    else:\n",
    "        return 0\n",
    "\n",
    "abs_minmax_votes['full_abs_min_response']=abs_minmax_votes.apply(lambda x: abs_min_users_per_cat(x), axis=1)\n",
    "\n",
    "def abs_max_users_per_cat(df):\n",
    "    \"\"\"Create new column to capture users who have full absolute min response across categories\"\"\"\n",
    "    \n",
    "    if df['sum_max_resp_occurrence']==df['total_count_of_cat_questions']:\n",
    "        return 1\n",
    "    else:\n",
    "        return 0\n",
    "    \n",
    "abs_minmax_votes['full_abs_max_response']=abs_minmax_votes.apply(lambda x: abs_max_users_per_cat(x), axis=1)"
   ]
  },
  {
   "cell_type": "code",
   "execution_count": 19,
   "metadata": {},
   "outputs": [],
   "source": [
    "absolute_response_features=votes.to_csv(path/\"absolute_resp_features.csv\")"
   ]
  },
  {
   "cell_type": "code",
   "execution_count": 20,
   "metadata": {},
   "outputs": [],
   "source": [
    "users_with_abs_minmax_responses=abs_minmax_votes.to_csv(path/\"absolute_resp_features.csv\")"
   ]
  }
 ],
 "metadata": {
  "kernelspec": {
   "display_name": "Python 3",
   "language": "python",
   "name": "python3"
  },
  "language_info": {
   "codemirror_mode": {
    "name": "ipython",
    "version": 3
   },
   "file_extension": ".py",
   "mimetype": "text/x-python",
   "name": "python",
   "nbconvert_exporter": "python",
   "pygments_lexer": "ipython3",
   "version": "3.7.3"
  }
 },
 "nbformat": 4,
 "nbformat_minor": 4
}
