{
 "cells": [
  {
   "cell_type": "code",
   "execution_count": 25,
   "metadata": {},
   "outputs": [],
   "source": [
    "import os \n",
    "import pandas as pd \n",
    "import math"
   ]
  },
  {
   "cell_type": "code",
   "execution_count": 2,
   "metadata": {},
   "outputs": [],
   "source": [
    "# set mouse flat path \n",
    "mouse_flat_path = '../Data/mouse-flat.csv'\n",
    "\n",
    "# read data \n",
    "data = pd.read_csv(mouse_flat_path)\n",
    "data = data.drop(columns='Unnamed: 0')"
   ]
  },
  {
   "cell_type": "code",
   "execution_count": 17,
   "metadata": {},
   "outputs": [
    {
     "data": {
      "text/html": [
       "<div>\n",
       "<style scoped>\n",
       "    .dataframe tbody tr th:only-of-type {\n",
       "        vertical-align: middle;\n",
       "    }\n",
       "\n",
       "    .dataframe tbody tr th {\n",
       "        vertical-align: top;\n",
       "    }\n",
       "\n",
       "    .dataframe thead th {\n",
       "        text-align: right;\n",
       "    }\n",
       "</style>\n",
       "<table border=\"1\" class=\"dataframe\">\n",
       "  <thead>\n",
       "    <tr style=\"text-align: right;\">\n",
       "      <th></th>\n",
       "      <th>Unnamed: 0</th>\n",
       "      <th>user_id</th>\n",
       "      <th>action</th>\n",
       "      <th>cord_x</th>\n",
       "      <th>cord_y</th>\n",
       "      <th>radio</th>\n",
       "      <th>time_since</th>\n",
       "      <th>id</th>\n",
       "      <th>created_at</th>\n",
       "      <th>updated_at</th>\n",
       "      <th>timeElapsed</th>\n",
       "      <th>window_x</th>\n",
       "      <th>window_y</th>\n",
       "    </tr>\n",
       "  </thead>\n",
       "  <tbody>\n",
       "    <tr>\n",
       "      <th>0</th>\n",
       "      <td>0</td>\n",
       "      <td>365</td>\n",
       "      <td>s</td>\n",
       "      <td>0</td>\n",
       "      <td>0.0</td>\n",
       "      <td>NaN</td>\n",
       "      <td>0.000</td>\n",
       "      <td>1</td>\n",
       "      <td>2019-03-05 06:56:35.848652</td>\n",
       "      <td>2019-03-05 06:56:35.848652</td>\n",
       "      <td>245.925</td>\n",
       "      <td>1600</td>\n",
       "      <td>860</td>\n",
       "    </tr>\n",
       "    <tr>\n",
       "      <th>1</th>\n",
       "      <td>1</td>\n",
       "      <td>365</td>\n",
       "      <td>m</td>\n",
       "      <td>601</td>\n",
       "      <td>167.0</td>\n",
       "      <td>NaN</td>\n",
       "      <td>0.220</td>\n",
       "      <td>1</td>\n",
       "      <td>2019-03-05 06:56:35.848652</td>\n",
       "      <td>2019-03-05 06:56:35.848652</td>\n",
       "      <td>245.925</td>\n",
       "      <td>1600</td>\n",
       "      <td>860</td>\n",
       "    </tr>\n",
       "    <tr>\n",
       "      <th>2</th>\n",
       "      <td>2</td>\n",
       "      <td>365</td>\n",
       "      <td>m</td>\n",
       "      <td>602</td>\n",
       "      <td>166.0</td>\n",
       "      <td>NaN</td>\n",
       "      <td>0.304</td>\n",
       "      <td>1</td>\n",
       "      <td>2019-03-05 06:56:35.848652</td>\n",
       "      <td>2019-03-05 06:56:35.848652</td>\n",
       "      <td>245.925</td>\n",
       "      <td>1600</td>\n",
       "      <td>860</td>\n",
       "    </tr>\n",
       "    <tr>\n",
       "      <th>3</th>\n",
       "      <td>3</td>\n",
       "      <td>365</td>\n",
       "      <td>c</td>\n",
       "      <td>602</td>\n",
       "      <td>166.0</td>\n",
       "      <td>NaN</td>\n",
       "      <td>0.432</td>\n",
       "      <td>1</td>\n",
       "      <td>2019-03-05 06:56:35.848652</td>\n",
       "      <td>2019-03-05 06:56:35.848652</td>\n",
       "      <td>245.925</td>\n",
       "      <td>1600</td>\n",
       "      <td>860</td>\n",
       "    </tr>\n",
       "    <tr>\n",
       "      <th>4</th>\n",
       "      <td>4</td>\n",
       "      <td>365</td>\n",
       "      <td>m</td>\n",
       "      <td>602</td>\n",
       "      <td>166.0</td>\n",
       "      <td>NaN</td>\n",
       "      <td>0.518</td>\n",
       "      <td>1</td>\n",
       "      <td>2019-03-05 06:56:35.848652</td>\n",
       "      <td>2019-03-05 06:56:35.848652</td>\n",
       "      <td>245.925</td>\n",
       "      <td>1600</td>\n",
       "      <td>860</td>\n",
       "    </tr>\n",
       "  </tbody>\n",
       "</table>\n",
       "</div>"
      ],
      "text/plain": [
       "   Unnamed: 0  user_id action  cord_x  cord_y radio  time_since  id  \\\n",
       "0           0      365      s       0     0.0   NaN       0.000   1   \n",
       "1           1      365      m     601   167.0   NaN       0.220   1   \n",
       "2           2      365      m     602   166.0   NaN       0.304   1   \n",
       "3           3      365      c     602   166.0   NaN       0.432   1   \n",
       "4           4      365      m     602   166.0   NaN       0.518   1   \n",
       "\n",
       "                   created_at                  updated_at  timeElapsed  \\\n",
       "0  2019-03-05 06:56:35.848652  2019-03-05 06:56:35.848652      245.925   \n",
       "1  2019-03-05 06:56:35.848652  2019-03-05 06:56:35.848652      245.925   \n",
       "2  2019-03-05 06:56:35.848652  2019-03-05 06:56:35.848652      245.925   \n",
       "3  2019-03-05 06:56:35.848652  2019-03-05 06:56:35.848652      245.925   \n",
       "4  2019-03-05 06:56:35.848652  2019-03-05 06:56:35.848652      245.925   \n",
       "\n",
       "   window_x  window_y  \n",
       "0      1600       860  \n",
       "1      1600       860  \n",
       "2      1600       860  \n",
       "3      1600       860  \n",
       "4      1600       860  "
      ]
     },
     "execution_count": 17,
     "metadata": {},
     "output_type": "execute_result"
    }
   ],
   "source": [
    "data.head()"
   ]
  },
  {
   "cell_type": "code",
   "execution_count": 31,
   "metadata": {},
   "outputs": [],
   "source": [
    "def mouse_distance(x1, y1, x2, y2):\n",
    "        \"\"\"\n",
    "        Calculates the euclidean distance between two vectors.\n",
    "        \n",
    "        return: Integer class object that represents the euclidean distance.\n",
    "        \"\"\"\n",
    "\n",
    "        return math.sqrt((x2 - x1) ** 2 + (y2 - y1) ** 2)"
   ]
  },
  {
   "cell_type": "code",
   "execution_count": 28,
   "metadata": {},
   "outputs": [
    {
     "data": {
      "text/html": [
       "<div>\n",
       "<style scoped>\n",
       "    .dataframe tbody tr th:only-of-type {\n",
       "        vertical-align: middle;\n",
       "    }\n",
       "\n",
       "    .dataframe tbody tr th {\n",
       "        vertical-align: top;\n",
       "    }\n",
       "\n",
       "    .dataframe thead th {\n",
       "        text-align: right;\n",
       "    }\n",
       "</style>\n",
       "<table border=\"1\" class=\"dataframe\">\n",
       "  <thead>\n",
       "    <tr style=\"text-align: right;\">\n",
       "      <th></th>\n",
       "      <th>Unnamed: 0</th>\n",
       "      <th>user_id</th>\n",
       "      <th>action</th>\n",
       "      <th>cord_x</th>\n",
       "      <th>cord_y</th>\n",
       "      <th>radio</th>\n",
       "      <th>time_since</th>\n",
       "      <th>id</th>\n",
       "      <th>created_at</th>\n",
       "      <th>updated_at</th>\n",
       "      <th>timeElapsed</th>\n",
       "      <th>window_x</th>\n",
       "      <th>window_y</th>\n",
       "    </tr>\n",
       "  </thead>\n",
       "  <tbody>\n",
       "    <tr>\n",
       "      <th>1</th>\n",
       "      <td>1</td>\n",
       "      <td>365</td>\n",
       "      <td>m</td>\n",
       "      <td>601</td>\n",
       "      <td>167.0</td>\n",
       "      <td>NaN</td>\n",
       "      <td>0.220</td>\n",
       "      <td>1</td>\n",
       "      <td>2019-03-05 06:56:35.848652</td>\n",
       "      <td>2019-03-05 06:56:35.848652</td>\n",
       "      <td>245.925</td>\n",
       "      <td>1600</td>\n",
       "      <td>860</td>\n",
       "    </tr>\n",
       "    <tr>\n",
       "      <th>2</th>\n",
       "      <td>2</td>\n",
       "      <td>365</td>\n",
       "      <td>m</td>\n",
       "      <td>602</td>\n",
       "      <td>166.0</td>\n",
       "      <td>NaN</td>\n",
       "      <td>0.304</td>\n",
       "      <td>1</td>\n",
       "      <td>2019-03-05 06:56:35.848652</td>\n",
       "      <td>2019-03-05 06:56:35.848652</td>\n",
       "      <td>245.925</td>\n",
       "      <td>1600</td>\n",
       "      <td>860</td>\n",
       "    </tr>\n",
       "    <tr>\n",
       "      <th>3</th>\n",
       "      <td>3</td>\n",
       "      <td>365</td>\n",
       "      <td>c</td>\n",
       "      <td>602</td>\n",
       "      <td>166.0</td>\n",
       "      <td>NaN</td>\n",
       "      <td>0.432</td>\n",
       "      <td>1</td>\n",
       "      <td>2019-03-05 06:56:35.848652</td>\n",
       "      <td>2019-03-05 06:56:35.848652</td>\n",
       "      <td>245.925</td>\n",
       "      <td>1600</td>\n",
       "      <td>860</td>\n",
       "    </tr>\n",
       "    <tr>\n",
       "      <th>4</th>\n",
       "      <td>4</td>\n",
       "      <td>365</td>\n",
       "      <td>m</td>\n",
       "      <td>602</td>\n",
       "      <td>166.0</td>\n",
       "      <td>NaN</td>\n",
       "      <td>0.518</td>\n",
       "      <td>1</td>\n",
       "      <td>2019-03-05 06:56:35.848652</td>\n",
       "      <td>2019-03-05 06:56:35.848652</td>\n",
       "      <td>245.925</td>\n",
       "      <td>1600</td>\n",
       "      <td>860</td>\n",
       "    </tr>\n",
       "  </tbody>\n",
       "</table>\n",
       "</div>"
      ],
      "text/plain": [
       "   Unnamed: 0  user_id action  cord_x  cord_y radio  time_since  id  \\\n",
       "1           1      365      m     601   167.0   NaN       0.220   1   \n",
       "2           2      365      m     602   166.0   NaN       0.304   1   \n",
       "3           3      365      c     602   166.0   NaN       0.432   1   \n",
       "4           4      365      m     602   166.0   NaN       0.518   1   \n",
       "\n",
       "                   created_at                  updated_at  timeElapsed  \\\n",
       "1  2019-03-05 06:56:35.848652  2019-03-05 06:56:35.848652      245.925   \n",
       "2  2019-03-05 06:56:35.848652  2019-03-05 06:56:35.848652      245.925   \n",
       "3  2019-03-05 06:56:35.848652  2019-03-05 06:56:35.848652      245.925   \n",
       "4  2019-03-05 06:56:35.848652  2019-03-05 06:56:35.848652      245.925   \n",
       "\n",
       "   window_x  window_y  \n",
       "1      1600       860  \n",
       "2      1600       860  \n",
       "3      1600       860  \n",
       "4      1600       860  "
      ]
     },
     "execution_count": 28,
     "metadata": {},
     "output_type": "execute_result"
    }
   ],
   "source": [
    "testing_data = data[1:5]\n",
    "testing_data"
   ]
  },
  {
   "cell_type": "code",
   "execution_count": 36,
   "metadata": {},
   "outputs": [
    {
     "data": {
      "text/plain": [
       "1.4142135623730951"
      ]
     },
     "execution_count": 36,
     "metadata": {},
     "output_type": "execute_result"
    }
   ],
   "source": [
    "x1 = testing_data['cord_x'][1]\n",
    "x2 = testing_data['cord_x'][2]\n",
    "\n",
    "y1 = testing_data['cord_y'][1]\n",
    "y2 = testing_data['cord_y'][2]\n",
    "\n",
    "mouse_distance(x1, y1, x2, y2)"
   ]
  },
  {
   "cell_type": "code",
   "execution_count": 45,
   "metadata": {},
   "outputs": [
    {
     "name": "stdout",
     "output_type": "stream",
     "text": [
      "0\n",
      "1\n",
      "2\n",
      "3\n"
     ]
    }
   ],
   "source": [
    "for i in range(testing_data.shape[0]):\n",
    "    print(i)"
   ]
  },
  {
   "cell_type": "code",
   "execution_count": 43,
   "metadata": {},
   "outputs": [
    {
     "data": {
      "text/plain": [
       "13"
      ]
     },
     "execution_count": 43,
     "metadata": {},
     "output_type": "execute_result"
    }
   ],
   "source": [
    "testing_data"
   ]
  }
 ],
 "metadata": {
  "kernelspec": {
   "display_name": "Python 3",
   "language": "python",
   "name": "python3"
  },
  "language_info": {
   "codemirror_mode": {
    "name": "ipython",
    "version": 3
   },
   "file_extension": ".py",
   "mimetype": "text/x-python",
   "name": "python",
   "nbconvert_exporter": "python",
   "pygments_lexer": "ipython3",
   "version": "3.7.3"
  }
 },
 "nbformat": 4,
 "nbformat_minor": 4
}
