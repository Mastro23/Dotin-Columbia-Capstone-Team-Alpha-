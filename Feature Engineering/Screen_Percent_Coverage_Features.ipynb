{
 "cells": [
  {
   "cell_type": "code",
   "execution_count": 4,
   "metadata": {},
   "outputs": [],
   "source": [
    "import pandas as pd\n",
    "import numpy as np\n",
    "import os\n",
    "import pathlib as Path"
   ]
  },
  {
   "cell_type": "code",
   "execution_count": 5,
   "metadata": {},
   "outputs": [],
   "source": [
    "#path=Path(\"C:/Users/Ergo/Desktop/Github_Capstone/Dotin-Columbia-Castone-Team-Alpha-/Data\")\n",
    "\n",
    "df=pd.read_csv(\"C:/Users/Ergo/Desktop/Github_Capstone/Dotin-Columbia-Castone-Team-Alpha-/Data/mouse-flat.csv\")"
   ]
  },
  {
   "cell_type": "markdown",
   "metadata": {},
   "source": [
    "FEATURES TO CAPTURE SCREEN COVERAGE BASED ON MOUSE PATHS"
   ]
  },
  {
   "cell_type": "code",
   "execution_count": 10,
   "metadata": {},
   "outputs": [],
   "source": [
    "df_u_365=df[df['user_id']==365]"
   ]
  },
  {
   "cell_type": "code",
   "execution_count": 31,
   "metadata": {},
   "outputs": [],
   "source": [
    "#create separate arrays for x and y cords\n",
    "cord_x_u365=np.array(df_u_365['cord_x'])\n",
    "cord_y_u365=np.array(df_u_365['cord_y'])"
   ]
  },
  {
   "cell_type": "code",
   "execution_count": 33,
   "metadata": {},
   "outputs": [],
   "source": [
    "#get absolute diff between adjacent items in array. get two interim distance arrays id_x and id_y\n",
    "id_x=abs(np.diff(cord_x_u365))\n",
    "id_y=abs(np.diff(cord_y_u365))"
   ]
  },
  {
   "cell_type": "code",
   "execution_count": 38,
   "metadata": {},
   "outputs": [],
   "source": [
    "def calc_total_dist_x(idx):\n",
    "    \"\"\"Calculate total distance x based on interim distances x \"\"\"\n",
    "    #initialize total distance x\n",
    "    td_x=0\n",
    "    \n",
    "    #array to store total distance x incrementing\n",
    "    td_x_array=[]\n",
    "    \n",
    "    for i in range(len(idx)):\n",
    "        td_x=td_x+idx[i]\n",
    "        td_x_array.append(td_x)\n",
    "    return td_x_array\n",
    "\n",
    "td_x=calc_total_dist_x(id_x)"
   ]
  },
  {
   "cell_type": "code",
   "execution_count": 39,
   "metadata": {},
   "outputs": [],
   "source": [
    "def calc_total_dist_y(idy):\n",
    "    \"\"\"Calculate total distance x based on interim distances x \"\"\"\n",
    "    #initialize total distance y\n",
    "    td_y=0\n",
    "    \n",
    "    #array to store total distance x incrementing\n",
    "    td_y_array=[]\n",
    "    \n",
    "    for j in range(len(idy)):\n",
    "        td_y=td_y+idy[j]\n",
    "        td_y_array.append(td_y)\n",
    "    return td_y_array\n",
    "\n",
    "td_y=calc_total_dist_y(id_y)"
   ]
  },
  {
   "cell_type": "code",
   "execution_count": null,
   "metadata": {},
   "outputs": [],
   "source": [
    "#last value of td_x and td_y is what we care about - that's the total aggregated value td=td+id\n",
    "td_x[-1]\n",
    "td_y[-1]"
   ]
  },
  {
   "cell_type": "code",
   "execution_count": 55,
   "metadata": {},
   "outputs": [],
   "source": [
    "#calculate % width of screen covered for user 365\n",
    "percent_width_u365=td_x[-1]/window_u365[0][1]"
   ]
  },
  {
   "cell_type": "code",
   "execution_count": 56,
   "metadata": {},
   "outputs": [
    {
     "data": {
      "text/plain": [
       "51.574418604651164"
      ]
     },
     "execution_count": 56,
     "metadata": {},
     "output_type": "execute_result"
    }
   ],
   "source": [
    "percent_width"
   ]
  },
  {
   "cell_type": "code",
   "execution_count": 58,
   "metadata": {},
   "outputs": [],
   "source": [
    "#calculate % height of screen covered for user 365\n",
    "percent_height_u365=td_y[-1]/window_u365[0][0]"
   ]
  },
  {
   "cell_type": "code",
   "execution_count": 59,
   "metadata": {},
   "outputs": [
    {
     "data": {
      "text/plain": [
       "20.128125"
      ]
     },
     "execution_count": 59,
     "metadata": {},
     "output_type": "execute_result"
    }
   ],
   "source": [
    "percent_height"
   ]
  }
 ],
 "metadata": {
  "kernelspec": {
   "display_name": "Python 3",
   "language": "python",
   "name": "python3"
  },
  "language_info": {
   "codemirror_mode": {
    "name": "ipython",
    "version": 3
   },
   "file_extension": ".py",
   "mimetype": "text/x-python",
   "name": "python",
   "nbconvert_exporter": "python",
   "pygments_lexer": "ipython3",
   "version": "3.7.3"
  }
 },
 "nbformat": 4,
 "nbformat_minor": 4
}
