{
 "cells": [
  {
   "cell_type": "code",
   "execution_count": 1,
   "metadata": {},
   "outputs": [],
   "source": [
    "import pandas as pd\n",
    "import numpy as np\n",
    "import os\n",
    "import pathlib as Path"
   ]
  },
  {
   "cell_type": "code",
   "execution_count": 3,
   "metadata": {},
   "outputs": [],
   "source": [
    "df=pd.read_csv(\"C:/Users/Ergo/Desktop/Github_Capstone/Dotin-Columbia-Castone-Team-Alpha-/Data/mouse-flat.csv\")"
   ]
  },
  {
   "cell_type": "markdown",
   "metadata": {},
   "source": [
    "FEATURE TO CALCULATE AVERAGE DELAY BETWEEN CLICKS FOR EACH USER"
   ]
  },
  {
   "cell_type": "code",
   "execution_count": 5,
   "metadata": {},
   "outputs": [],
   "source": [
    "#filter dataset by action = \"c\" only\n",
    "df_clicks=df[df['action']=='c']"
   ]
  },
  {
   "cell_type": "code",
   "execution_count": 18,
   "metadata": {},
   "outputs": [],
   "source": [
    "df_clicks_grouped=df_clicks.groupby('user_id')['time_since'].apply(list).reset_index(name='time_since')"
   ]
  },
  {
   "cell_type": "code",
   "execution_count": 19,
   "metadata": {},
   "outputs": [
    {
     "data": {
      "text/html": [
       "<div>\n",
       "<style scoped>\n",
       "    .dataframe tbody tr th:only-of-type {\n",
       "        vertical-align: middle;\n",
       "    }\n",
       "\n",
       "    .dataframe tbody tr th {\n",
       "        vertical-align: top;\n",
       "    }\n",
       "\n",
       "    .dataframe thead th {\n",
       "        text-align: right;\n",
       "    }\n",
       "</style>\n",
       "<table border=\"1\" class=\"dataframe\">\n",
       "  <thead>\n",
       "    <tr style=\"text-align: right;\">\n",
       "      <th></th>\n",
       "      <th>user_id</th>\n",
       "      <th>time_since</th>\n",
       "    </tr>\n",
       "  </thead>\n",
       "  <tbody>\n",
       "    <tr>\n",
       "      <th>0</th>\n",
       "      <td>365</td>\n",
       "      <td>[0.4320001602172852, 3.595000028610229, 6.5570...</td>\n",
       "    </tr>\n",
       "    <tr>\n",
       "      <th>1</th>\n",
       "      <td>371</td>\n",
       "      <td>[0.5269999504089355, 2.11899995803833, 3.26300...</td>\n",
       "    </tr>\n",
       "    <tr>\n",
       "      <th>2</th>\n",
       "      <td>373</td>\n",
       "      <td>[1.49399995803833, 3.2689998149871826, 5.67499...</td>\n",
       "    </tr>\n",
       "    <tr>\n",
       "      <th>3</th>\n",
       "      <td>374</td>\n",
       "      <td>[0.2739999294281006, 2.095999956130981, 3.4500...</td>\n",
       "    </tr>\n",
       "    <tr>\n",
       "      <th>4</th>\n",
       "      <td>375</td>\n",
       "      <td>[20.395999908447266, 25.128000020980835, 26.85...</td>\n",
       "    </tr>\n",
       "  </tbody>\n",
       "</table>\n",
       "</div>"
      ],
      "text/plain": [
       "   user_id                                         time_since\n",
       "0      365  [0.4320001602172852, 3.595000028610229, 6.5570...\n",
       "1      371  [0.5269999504089355, 2.11899995803833, 3.26300...\n",
       "2      373  [1.49399995803833, 3.2689998149871826, 5.67499...\n",
       "3      374  [0.2739999294281006, 2.095999956130981, 3.4500...\n",
       "4      375  [20.395999908447266, 25.128000020980835, 26.85..."
      ]
     },
     "execution_count": 19,
     "metadata": {},
     "output_type": "execute_result"
    }
   ],
   "source": [
    "df_clicks_grouped.head()"
   ]
  },
  {
   "cell_type": "code",
   "execution_count": 30,
   "metadata": {},
   "outputs": [],
   "source": [
    "def calc_avg_delay_btwn_clicks(df):\n",
    "    \n",
    "    #calc difference of time in clicks\n",
    "    diff=abs(np.diff(df['time_since']))\n",
    "    \n",
    "    #calculate average delay of clicks per user based on difference above    \n",
    "    avg_calc=sum(diff)/len(diff)\n",
    "    return avg_calc\n",
    "\n",
    "df_clicks_grouped['average_click_delay']=df_clicks_grouped.apply(lambda x: calc_avg_delay_btwn_clicks(x), axis=1)"
   ]
  },
  {
   "cell_type": "code",
   "execution_count": 34,
   "metadata": {},
   "outputs": [
    {
     "data": {
      "text/html": [
       "<div>\n",
       "<style scoped>\n",
       "    .dataframe tbody tr th:only-of-type {\n",
       "        vertical-align: middle;\n",
       "    }\n",
       "\n",
       "    .dataframe tbody tr th {\n",
       "        vertical-align: top;\n",
       "    }\n",
       "\n",
       "    .dataframe thead th {\n",
       "        text-align: right;\n",
       "    }\n",
       "</style>\n",
       "<table border=\"1\" class=\"dataframe\">\n",
       "  <thead>\n",
       "    <tr style=\"text-align: right;\">\n",
       "      <th></th>\n",
       "      <th>user_id</th>\n",
       "      <th>time_since</th>\n",
       "      <th>average_click_delay</th>\n",
       "    </tr>\n",
       "  </thead>\n",
       "  <tbody>\n",
       "    <tr>\n",
       "      <th>0</th>\n",
       "      <td>365</td>\n",
       "      <td>[0.4320001602172852, 3.595000028610229, 6.5570...</td>\n",
       "      <td>1.080952</td>\n",
       "    </tr>\n",
       "    <tr>\n",
       "      <th>1</th>\n",
       "      <td>371</td>\n",
       "      <td>[0.5269999504089355, 2.11899995803833, 3.26300...</td>\n",
       "      <td>1.301838</td>\n",
       "    </tr>\n",
       "    <tr>\n",
       "      <th>2</th>\n",
       "      <td>373</td>\n",
       "      <td>[1.49399995803833, 3.2689998149871826, 5.67499...</td>\n",
       "      <td>0.886830</td>\n",
       "    </tr>\n",
       "    <tr>\n",
       "      <th>3</th>\n",
       "      <td>374</td>\n",
       "      <td>[0.2739999294281006, 2.095999956130981, 3.4500...</td>\n",
       "      <td>0.904714</td>\n",
       "    </tr>\n",
       "    <tr>\n",
       "      <th>4</th>\n",
       "      <td>375</td>\n",
       "      <td>[20.395999908447266, 25.128000020980835, 26.85...</td>\n",
       "      <td>7.335211</td>\n",
       "    </tr>\n",
       "  </tbody>\n",
       "</table>\n",
       "</div>"
      ],
      "text/plain": [
       "   user_id                                         time_since  \\\n",
       "0      365  [0.4320001602172852, 3.595000028610229, 6.5570...   \n",
       "1      371  [0.5269999504089355, 2.11899995803833, 3.26300...   \n",
       "2      373  [1.49399995803833, 3.2689998149871826, 5.67499...   \n",
       "3      374  [0.2739999294281006, 2.095999956130981, 3.4500...   \n",
       "4      375  [20.395999908447266, 25.128000020980835, 26.85...   \n",
       "\n",
       "   average_click_delay  \n",
       "0             1.080952  \n",
       "1             1.301838  \n",
       "2             0.886830  \n",
       "3             0.904714  \n",
       "4             7.335211  "
      ]
     },
     "execution_count": 34,
     "metadata": {},
     "output_type": "execute_result"
    }
   ],
   "source": [
    "df_clicks_grouped.head()"
   ]
  }
 ],
 "metadata": {
  "kernelspec": {
   "display_name": "Python 3",
   "language": "python",
   "name": "python3"
  },
  "language_info": {
   "codemirror_mode": {
    "name": "ipython",
    "version": 3
   },
   "file_extension": ".py",
   "mimetype": "text/x-python",
   "name": "python",
   "nbconvert_exporter": "python",
   "pygments_lexer": "ipython3",
   "version": "3.7.3"
  }
 },
 "nbformat": 4,
 "nbformat_minor": 4
}
