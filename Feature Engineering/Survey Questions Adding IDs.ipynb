{
 "cells": [
  {
   "cell_type": "code",
   "execution_count": 131,
   "metadata": {},
   "outputs": [],
   "source": [
    "import pandas as pd\n",
    "import os\n",
    "import pathlib as Path\n",
    "import numpy as np\n",
    "import re"
   ]
  },
  {
   "cell_type": "code",
   "execution_count": 149,
   "metadata": {},
   "outputs": [
    {
     "data": {
      "text/plain": [
       "['last_c.json',\n",
       " 'Mobile Aspect Ratio.csv',\n",
       " 'users_with_absolute_response_features.csv',\n",
       " 'scraped_survey_questions.csv']"
      ]
     },
     "execution_count": 149,
     "metadata": {},
     "output_type": "execute_result"
    }
   ],
   "source": [
    "os.listdir('../Data/Extra')"
   ]
  },
  {
   "cell_type": "code",
   "execution_count": 3,
   "metadata": {},
   "outputs": [],
   "source": [
    "votes = pd.read_csv('/Users/kristinaliapchin/Downloads/votes (1).csv')"
   ]
  },
  {
   "cell_type": "code",
   "execution_count": 4,
   "metadata": {},
   "outputs": [],
   "source": [
    "scraped_survey = pd.read_csv('/Users/kristinaliapchin/Downloads/scraped_survey_questions (1).csv')"
   ]
  },
  {
   "cell_type": "code",
   "execution_count": 5,
   "metadata": {},
   "outputs": [
    {
     "data": {
      "text/html": [
       "<div>\n",
       "<style scoped>\n",
       "    .dataframe tbody tr th:only-of-type {\n",
       "        vertical-align: middle;\n",
       "    }\n",
       "\n",
       "    .dataframe tbody tr th {\n",
       "        vertical-align: top;\n",
       "    }\n",
       "\n",
       "    .dataframe thead th {\n",
       "        text-align: right;\n",
       "    }\n",
       "</style>\n",
       "<table border=\"1\" class=\"dataframe\">\n",
       "  <thead>\n",
       "    <tr style=\"text-align: right;\">\n",
       "      <th></th>\n",
       "      <th>Unnamed: 0</th>\n",
       "      <th>question_type</th>\n",
       "      <th>questions</th>\n",
       "    </tr>\n",
       "  </thead>\n",
       "  <tbody>\n",
       "    <tr>\n",
       "      <td>0</td>\n",
       "      <td>0</td>\n",
       "      <td>bf_questions</td>\n",
       "      <td>['Untidy', 'Unenvious', 'Efficient', 'Unkind',...</td>\n",
       "    </tr>\n",
       "    <tr>\n",
       "      <td>1</td>\n",
       "      <td>1</td>\n",
       "      <td>bs_questions</td>\n",
       "      <td>['When I go shopping, I buy things that I had ...</td>\n",
       "    </tr>\n",
       "    <tr>\n",
       "      <td>2</td>\n",
       "      <td>2</td>\n",
       "      <td>miq_questions</td>\n",
       "      <td>['I can use lots of different words to express...</td>\n",
       "    </tr>\n",
       "    <tr>\n",
       "      <td>3</td>\n",
       "      <td>3</td>\n",
       "      <td>pgi_liking_competence_questions</td>\n",
       "      <td>['Seat patrons at a restaurant', 'Oversee a ho...</td>\n",
       "    </tr>\n",
       "  </tbody>\n",
       "</table>\n",
       "</div>"
      ],
      "text/plain": [
       "   Unnamed: 0                    question_type  \\\n",
       "0           0                     bf_questions   \n",
       "1           1                     bs_questions   \n",
       "2           2                    miq_questions   \n",
       "3           3  pgi_liking_competence_questions   \n",
       "\n",
       "                                           questions  \n",
       "0  ['Untidy', 'Unenvious', 'Efficient', 'Unkind',...  \n",
       "1  ['When I go shopping, I buy things that I had ...  \n",
       "2  ['I can use lots of different words to express...  \n",
       "3  ['Seat patrons at a restaurant', 'Oversee a ho...  "
      ]
     },
     "execution_count": 5,
     "metadata": {},
     "output_type": "execute_result"
    }
   ],
   "source": [
    "scraped_survey.head()"
   ]
  },
  {
   "cell_type": "code",
   "execution_count": 6,
   "metadata": {},
   "outputs": [
    {
     "data": {
      "text/plain": [
       "\"['Untidy', 'Unenvious', 'Efficient', 'Unkind', 'Artistic', 'Untalkative', 'Rude', 'Reserved', 'Anxious', 'Warm', 'Moody', 'Envious', 'Untidy', 'Uncreative', 'Intelligent', 'Deep', 'Cooperative', 'Jealous', 'Neat', 'Shy', 'Extraverted', 'Emotional', 'Unworried', 'Quiet', 'Unanxious', 'Organized', 'Inefficient', 'Careless', 'Harsh', 'Emotional', 'Energetic', 'Creative', 'Disorganized', 'Inconsiderate', 'Philosophical', 'Outgoing', 'Kind', 'Systematic', '', '', '', '']\""
      ]
     },
     "execution_count": 6,
     "metadata": {},
     "output_type": "execute_result"
    }
   ],
   "source": [
    "scraped_survey.questions[0]"
   ]
  },
  {
   "cell_type": "code",
   "execution_count": 114,
   "metadata": {},
   "outputs": [],
   "source": [
    "df = pd.concat([pd.Series(row['question_type'], row['questions'].split(','))\n",
    "for _, row in scraped_survey.iterrows()]).reset_index()\n",
    "\n",
    "df = df.rename(columns={\"index\": \"question\", 0: \"question_type\"})"
   ]
  },
  {
   "cell_type": "code",
   "execution_count": 115,
   "metadata": {},
   "outputs": [],
   "source": [
    "df['question'] = df['question'].map(lambda x: x.lstrip(\"[\").rstrip(\"]\"))\n",
    "df['question'] = df['question'].map(lambda x: x.lstrip(\"'\").rstrip(\"'\"))"
   ]
  },
  {
   "cell_type": "code",
   "execution_count": 117,
   "metadata": {},
   "outputs": [
    {
     "data": {
      "text/html": [
       "<div>\n",
       "<style scoped>\n",
       "    .dataframe tbody tr th:only-of-type {\n",
       "        vertical-align: middle;\n",
       "    }\n",
       "\n",
       "    .dataframe tbody tr th {\n",
       "        vertical-align: top;\n",
       "    }\n",
       "\n",
       "    .dataframe thead th {\n",
       "        text-align: right;\n",
       "    }\n",
       "</style>\n",
       "<table border=\"1\" class=\"dataframe\">\n",
       "  <thead>\n",
       "    <tr style=\"text-align: right;\">\n",
       "      <th></th>\n",
       "      <th>question</th>\n",
       "      <th>question_type</th>\n",
       "      <th>question_id</th>\n",
       "    </tr>\n",
       "  </thead>\n",
       "  <tbody>\n",
       "    <tr>\n",
       "      <td>42</td>\n",
       "      <td>When I go shopping</td>\n",
       "      <td>bs_questions</td>\n",
       "      <td>bs_1</td>\n",
       "    </tr>\n",
       "    <tr>\n",
       "      <td>43</td>\n",
       "      <td>I buy things that I had not intended to purchase</td>\n",
       "      <td>bs_questions</td>\n",
       "      <td>bs_2</td>\n",
       "    </tr>\n",
       "    <tr>\n",
       "      <td>44</td>\n",
       "      <td>'When I see something that really interests me</td>\n",
       "      <td>bs_questions</td>\n",
       "      <td>bs_3</td>\n",
       "    </tr>\n",
       "    <tr>\n",
       "      <td>45</td>\n",
       "      <td>I buy it without considering the consequences</td>\n",
       "      <td>bs_questions</td>\n",
       "      <td>bs_4</td>\n",
       "    </tr>\n",
       "    <tr>\n",
       "      <td>46</td>\n",
       "      <td>'I am greatly attracted by sales and discounts</td>\n",
       "      <td>bs_questions</td>\n",
       "      <td>bs_5</td>\n",
       "    </tr>\n",
       "    <tr>\n",
       "      <td>47</td>\n",
       "      <td>'I only buy things that are on discount/sale ...</td>\n",
       "      <td>bs_questions</td>\n",
       "      <td>bs_6</td>\n",
       "    </tr>\n",
       "  </tbody>\n",
       "</table>\n",
       "</div>"
      ],
      "text/plain": [
       "                                             question question_type  \\\n",
       "42                                 When I go shopping  bs_questions   \n",
       "43   I buy things that I had not intended to purchase  bs_questions   \n",
       "44     'When I see something that really interests me  bs_questions   \n",
       "45      I buy it without considering the consequences  bs_questions   \n",
       "46     'I am greatly attracted by sales and discounts  bs_questions   \n",
       "47   'I only buy things that are on discount/sale ...  bs_questions   \n",
       "\n",
       "   question_id  \n",
       "42        bs_1  \n",
       "43        bs_2  \n",
       "44        bs_3  \n",
       "45        bs_4  \n",
       "46        bs_5  \n",
       "47        bs_6  "
      ]
     },
     "execution_count": 117,
     "metadata": {},
     "output_type": "execute_result"
    }
   ],
   "source": [
    "df['question_id'] = 0\n",
    "c_bs=1\n",
    "c_miq = 1\n",
    "c_pgi = 1\n",
    "for i in range(len(df)):\n",
    "    if df.loc[i,'question_type'] =='bf_questions':\n",
    "        df.loc[i,'question_id'] = \"bf_\"+str(i+1)\n",
    "    elif df.loc[i,'question_type'] == 'bs_questions':\n",
    "        df.loc[i,'question_id'] = \"bs_\"+str(c_bs)\n",
    "        c_bs+=1\n",
    "    elif df.loc[i,'question_type'] == 'miq_questions':\n",
    "        df.loc[i,'question_id'] = \"miq_\"+str(c_miq)\n",
    "        c_miq+=1\n",
    "    elif df.loc[i,'question_type'] == 'pgi_liking_competence_questions':\n",
    "        df.loc[i,'question_id'] = \"pgi_\"+str(c_pgi)\n",
    "        c_pgi+=1\n",
    "        \n",
    "df[df['question_type'] == 'bs_questions']\n"
   ]
  },
  {
   "cell_type": "code",
   "execution_count": 126,
   "metadata": {},
   "outputs": [],
   "source": [
    "df.iloc[38] = 'Talkative'\n",
    "df.iloc[39] = 'Unimaginative'\n",
    "df.iloc[40] = 'Sympathetic'\n",
    "df.iloc[41] = 'Intellectual'"
   ]
  },
  {
   "cell_type": "code",
   "execution_count": 146,
   "metadata": {},
   "outputs": [],
   "source": [
    "pattern = r'\\'.*?'\n",
    "df['question']=[re.sub(pattern,'', df.question[i]).strip() for i in range(len(df))]"
   ]
  },
  {
   "cell_type": "code",
   "execution_count": 147,
   "metadata": {},
   "outputs": [
    {
     "data": {
      "text/html": [
       "<div>\n",
       "<style scoped>\n",
       "    .dataframe tbody tr th:only-of-type {\n",
       "        vertical-align: middle;\n",
       "    }\n",
       "\n",
       "    .dataframe tbody tr th {\n",
       "        vertical-align: top;\n",
       "    }\n",
       "\n",
       "    .dataframe thead th {\n",
       "        text-align: right;\n",
       "    }\n",
       "</style>\n",
       "<table border=\"1\" class=\"dataframe\">\n",
       "  <thead>\n",
       "    <tr style=\"text-align: right;\">\n",
       "      <th></th>\n",
       "      <th>question</th>\n",
       "      <th>question_type</th>\n",
       "      <th>question_id</th>\n",
       "    </tr>\n",
       "  </thead>\n",
       "  <tbody>\n",
       "    <tr>\n",
       "      <td>0</td>\n",
       "      <td>Untidy</td>\n",
       "      <td>bf_questions</td>\n",
       "      <td>bf_1</td>\n",
       "    </tr>\n",
       "    <tr>\n",
       "      <td>1</td>\n",
       "      <td>Unenvious</td>\n",
       "      <td>bf_questions</td>\n",
       "      <td>bf_2</td>\n",
       "    </tr>\n",
       "    <tr>\n",
       "      <td>2</td>\n",
       "      <td>Efficient</td>\n",
       "      <td>bf_questions</td>\n",
       "      <td>bf_3</td>\n",
       "    </tr>\n",
       "    <tr>\n",
       "      <td>3</td>\n",
       "      <td>Unkind</td>\n",
       "      <td>bf_questions</td>\n",
       "      <td>bf_4</td>\n",
       "    </tr>\n",
       "    <tr>\n",
       "      <td>4</td>\n",
       "      <td>Artistic</td>\n",
       "      <td>bf_questions</td>\n",
       "      <td>bf_5</td>\n",
       "    </tr>\n",
       "    <tr>\n",
       "      <td>...</td>\n",
       "      <td>...</td>\n",
       "      <td>...</td>\n",
       "      <td>...</td>\n",
       "    </tr>\n",
       "    <tr>\n",
       "      <td>161</td>\n",
       "      <td>Study wildlife</td>\n",
       "      <td>pgi_liking_competence_questions</td>\n",
       "      <td>pgi_38</td>\n",
       "    </tr>\n",
       "    <tr>\n",
       "      <td>162</td>\n",
       "      <td>Draw cartoons</td>\n",
       "      <td>pgi_liking_competence_questions</td>\n",
       "      <td>pgi_39</td>\n",
       "    </tr>\n",
       "    <tr>\n",
       "      <td>163</td>\n",
       "      <td>Supervise children in a nursery</td>\n",
       "      <td>pgi_liking_competence_questions</td>\n",
       "      <td>pgi_40</td>\n",
       "    </tr>\n",
       "    <tr>\n",
       "      <td>164</td>\n",
       "      <td>Defend people in court</td>\n",
       "      <td>pgi_liking_competence_questions</td>\n",
       "      <td>pgi_41</td>\n",
       "    </tr>\n",
       "    <tr>\n",
       "      <td>165</td>\n",
       "      <td>Smooth wood-furniture with sandpaper</td>\n",
       "      <td>pgi_liking_competence_questions</td>\n",
       "      <td>pgi_42</td>\n",
       "    </tr>\n",
       "  </tbody>\n",
       "</table>\n",
       "<p>166 rows × 3 columns</p>\n",
       "</div>"
      ],
      "text/plain": [
       "                                 question                    question_type  \\\n",
       "0                                  Untidy                     bf_questions   \n",
       "1                               Unenvious                     bf_questions   \n",
       "2                               Efficient                     bf_questions   \n",
       "3                                  Unkind                     bf_questions   \n",
       "4                                Artistic                     bf_questions   \n",
       "..                                    ...                              ...   \n",
       "161                        Study wildlife  pgi_liking_competence_questions   \n",
       "162                         Draw cartoons  pgi_liking_competence_questions   \n",
       "163       Supervise children in a nursery  pgi_liking_competence_questions   \n",
       "164                Defend people in court  pgi_liking_competence_questions   \n",
       "165  Smooth wood-furniture with sandpaper  pgi_liking_competence_questions   \n",
       "\n",
       "    question_id  \n",
       "0          bf_1  \n",
       "1          bf_2  \n",
       "2          bf_3  \n",
       "3          bf_4  \n",
       "4          bf_5  \n",
       "..          ...  \n",
       "161      pgi_38  \n",
       "162      pgi_39  \n",
       "163      pgi_40  \n",
       "164      pgi_41  \n",
       "165      pgi_42  \n",
       "\n",
       "[166 rows x 3 columns]"
      ]
     },
     "execution_count": 147,
     "metadata": {},
     "output_type": "execute_result"
    }
   ],
   "source": [
    "df"
   ]
  },
  {
   "cell_type": "code",
   "execution_count": 150,
   "metadata": {},
   "outputs": [],
   "source": [
    "df.to_csv('../Data/Extra/survey_questions_with_id')"
   ]
  },
  {
   "cell_type": "code",
   "execution_count": 151,
   "metadata": {},
   "outputs": [],
   "source": [
    "df.to_csv('/Users/kristinaliapchin/Downloads/survey_questions_with_id')"
   ]
  },
  {
   "cell_type": "code",
   "execution_count": null,
   "metadata": {},
   "outputs": [],
   "source": []
  }
 ],
 "metadata": {
  "kernelspec": {
   "display_name": "Python 3",
   "language": "python",
   "name": "python3"
  },
  "language_info": {
   "codemirror_mode": {
    "name": "ipython",
    "version": 3
   },
   "file_extension": ".py",
   "mimetype": "text/x-python",
   "name": "python",
   "nbconvert_exporter": "python",
   "pygments_lexer": "ipython3",
   "version": "3.6.8"
  }
 },
 "nbformat": 4,
 "nbformat_minor": 2
}
