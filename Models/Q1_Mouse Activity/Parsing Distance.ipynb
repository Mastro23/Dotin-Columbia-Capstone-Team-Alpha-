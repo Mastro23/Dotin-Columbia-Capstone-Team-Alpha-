{
 "cells": [
  {
   "cell_type": "code",
   "execution_count": 1,
   "metadata": {},
   "outputs": [],
   "source": [
    "import os \n",
    "import pandas as pd \n",
    "import numpy as np\n",
    "import collections"
   ]
  },
  {
   "cell_type": "code",
   "execution_count": 2,
   "metadata": {},
   "outputs": [],
   "source": [
    "# set working directory (Change for youe)\n",
    "os.chdir('C:/Users/ander/Google Drive/Columbia/Fall 2019/Capstone/Dotin-Columbia-Castone-Team-Alpha-')\n",
    "\n",
    "# initilize path\n",
    "mouse_flat_path = 'Data/Clean Data/mouse_flat_v2.csv'\n",
    "\n",
    "# read file \n",
    "data = pd.read_csv(mouse_flat_path)"
   ]
  },
  {
   "cell_type": "code",
   "execution_count": 3,
   "metadata": {},
   "outputs": [],
   "source": [
    "coordinates =  data[['user_id','cord_x', 'cord_y']].to_numpy()"
   ]
  },
  {
   "cell_type": "code",
   "execution_count": 4,
   "metadata": {},
   "outputs": [],
   "source": [
    "def parse_distance(coord_data):\n",
    "    \"\"\"\n",
    "        Calculate the incremental coordinate for each mouse movement\n",
    "    :param coord_data:\n",
    "    :return: A seperate numpy array for the x, y, user id list.\n",
    "    \"\"\"\n",
    "    user_id = np.unique(coord_data[:, 0])[1:]\n",
    "    total_x = []\n",
    "    total_y = []\n",
    "    user_id_list = []\n",
    "\n",
    "    for user in user_id:\n",
    "        index = coord_data[:, 0] == user\n",
    "        new_index = coord_data[index]\n",
    "\n",
    "        id_updated = new_index[1:, 0]\n",
    "\n",
    "        distance_x = new_index[1:, 1] - new_index[:len(new_index) - 1, 1]\n",
    "        distance_y = new_index[1:, 2] - new_index[:len(new_index) - 1, 2]\n",
    "\n",
    "        total_x = np.append([total_x], [distance_x])\n",
    "        total_y = np.append([total_y], [distance_y])\n",
    "        user_id_list = np.append([user_id_list], [id_updated])\n",
    "\n",
    "    return total_x, total_y, user_id_list\n",
    "\n",
    "\n",
    "def parse_directions(id_list, x_coord, y_coord):\n",
    "    \"\"\"\n",
    "    Converts coordinate changes into Cardinal direction.\n",
    "\n",
    "    :param id_list: Unique list of user ids\n",
    "    :param x_coord: List of the changes in the x coordinate\n",
    "    :param y_coord: List of the changes in the y coordinates\n",
    "    :return: A data frame that contains the user id list, x directional changes, and y directional changes,\n",
    "    calculated cardinal direction\n",
    "    \"\"\"\n",
    "\n",
    "    directions = collections.deque()  # optimized for append operations\n",
    "    for value in range(0, len(id_list)):\n",
    "\n",
    "        x = x_coord[value]\n",
    "        y = y_coord[value]\n",
    "\n",
    "        if x == 0 and y == 0:\n",
    "            directions.append('No Movement')\n",
    "        elif x > 0 and y == 0:\n",
    "            directions.append('East')\n",
    "        elif x < 0 and y == 0:\n",
    "            directions.append('West')\n",
    "        elif x == 0 and y > 0:\n",
    "            directions.append('North')\n",
    "        elif x == 0 and y < 0:\n",
    "            directions.append('South')\n",
    "        elif x > 0 and y > 0:\n",
    "            directions.append('North East')\n",
    "        elif x > 0 and y < 0:\n",
    "            directions.append('North West')\n",
    "        elif x < 0 and y < 0:\n",
    "            directions.append('South West')\n",
    "        elif x < 0 and y > 0:\n",
    "            directions.append('South East')\n",
    "        else:\n",
    "            directions.append('TBD')\n",
    "\n",
    "    return pd.DataFrame({'User Id': id_list,\n",
    "                               'Distance X': x_coord,\n",
    "                               'Distance Y': y_coord,\n",
    "                               'Direction': directions})"
   ]
  },
  {
   "cell_type": "code",
   "execution_count": 5,
   "metadata": {},
   "outputs": [],
   "source": [
    "# parse distance\n",
    "coord_x, coord_y, coord_user = parse_distance(coordinates)\n",
    "\n",
    "# parse direction\n",
    "direction_data = parse_directions(coord_user, coord_x, coord_y)"
   ]
  },
  {
   "cell_type": "code",
   "execution_count": 7,
   "metadata": {},
   "outputs": [],
   "source": [
    "direction_data.to_csv(f'Models/Q1_Mouse Activity/Data/direction_data.csv')"
   ]
  }
 ],
 "metadata": {
  "kernelspec": {
   "display_name": "Python 3",
   "language": "python",
   "name": "python3"
  },
  "language_info": {
   "codemirror_mode": {
    "name": "ipython",
    "version": 3
   },
   "file_extension": ".py",
   "mimetype": "text/x-python",
   "name": "python",
   "nbconvert_exporter": "python",
   "pygments_lexer": "ipython3",
   "version": "3.7.3"
  }
 },
 "nbformat": 4,
 "nbformat_minor": 4
}
