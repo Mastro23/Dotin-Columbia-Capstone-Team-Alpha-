{
 "cells": [
  {
   "cell_type": "code",
   "execution_count": null,
   "metadata": {},
   "outputs": [],
   "source": [
    "import os \n",
    "import pandas as pd \n",
    "import numpy as np\n",
    "import collections\n",
    "\n",
    "import warnings\n",
    "warnings.filterwarnings(\"ignore\")"
   ]
  },
  {
   "cell_type": "code",
   "execution_count": null,
   "metadata": {},
   "outputs": [],
   "source": [
    "# set working directory (Change for youe)\n",
    "os.chdir('C:/Users/ander/Google Drive/Columbia/Fall 2019/Capstone/Dotin-Columbia-Castone-Team-Alpha-')\n",
    "\n",
    "# initilize path\n",
    "mouse_flat_path = 'Data/Clean Data/mouse_flat_v4.csv'\n",
    "\n",
    "# read file \n",
    "data = pd.read_csv(mouse_flat_path)\n",
    "data.head()"
   ]
  },
  {
   "cell_type": "code",
   "execution_count": null,
   "metadata": {},
   "outputs": [],
   "source": [
    "direction = data[['user_id', 'direction']].values\n",
    "user_list = set(data.user_id)\n",
    "page_movement = collections.deque()\n",
    "for user in user_list: \n",
    "    user_segment = direction[direction[:,0] == user]\n",
    "    count = 1\n",
    "    for user, action in user_segment:\n",
    "        if action == 'PageChange ,':\n",
    "            count += 1\n",
    "            user_movement = f'page {count}'\n",
    "            page_movement.append(user_movement)\n",
    "        else: \n",
    "            user_movement = f'page {count}'\n",
    "            page_movement.append(user_movement)   \n",
    "            \n",
    "data.direction = page_movement"
   ]
  },
  {
   "cell_type": "code",
   "execution_count": null,
   "metadata": {},
   "outputs": [],
   "source": [
    "# filter users with less than 196 radio count, which is the number of questions in the data \n",
    "subset_radio = data.loc[:,['user_id', 'radio']]\n",
    "subset_radio = subset_radio.dropna(subset = ['radio'])\n",
    "user_completion = subset_radio.groupby('user_id').count() >= 196\n",
    "user_completion = user_completion[user_completion['radio'] == True].reset_index()\n",
    "user_id_who_completed_survey = pd.DataFrame(user_completion['user_id'])\n",
    "completed_survey_data = data[data.user_id.isin(user_id_who_completed_survey.user_id)].reset_index()\n",
    "completed_survey_data = completed_survey_data.drop(columns = ['Index','index'])"
   ]
  },
  {
   "cell_type": "code",
   "execution_count": null,
   "metadata": {},
   "outputs": [],
   "source": [
    "len(set(completed_survey_data.user_id))"
   ]
  },
  {
   "cell_type": "code",
   "execution_count": null,
   "metadata": {},
   "outputs": [],
   "source": [
    "coordinates =  data[['user_id','cord_x', 'cord_y','action', 'direction']].to_numpy()"
   ]
  },
  {
   "cell_type": "code",
   "execution_count": null,
   "metadata": {},
   "outputs": [],
   "source": [
    "def parse_distance(coord_data):\n",
    "    \"\"\"\n",
    "    Calculate the incremental coordinate for each mouse movement\n",
    "    :param coord_data:\n",
    "    :return: A seperate numpy array for the x, y, user id list.\n",
    "    \"\"\"\n",
    "    user_id = np.unique(coord_data[:, 0])[1:]\n",
    "    total_x = []\n",
    "    total_y = []\n",
    "    user_id_list = []\n",
    "    action_list = []\n",
    "    page_list = []\n",
    "\n",
    "    for user in user_id:\n",
    "        index = coord_data[:, 0] == user\n",
    "        new_index = coord_data[index]\n",
    "\n",
    "        id_updated = new_index[1:, 0]\n",
    "        action_updated =new_index[1:,3]\n",
    "        page_updated =new_index[1:,4]\n",
    "\n",
    "        distance_x = new_index[1:, 1] - new_index[:len(new_index) - 1, 1]\n",
    "        distance_y = new_index[1:, 2] - new_index[:len(new_index) - 1, 2]\n",
    "\n",
    "        total_x = np.append([total_x], [distance_x])\n",
    "        total_y = np.append([total_y], [distance_y])\n",
    "        \n",
    "        user_id_list = np.append([user_id_list], [id_updated])\n",
    "        action_list = np.append([action_list], [action_updated])\n",
    "        page_list = np.append([page_list], [page_updated])\n",
    "\n",
    "    return total_x, total_y, user_id_list, action_list, page_list\n",
    "\n",
    "\n",
    "def parse_directions(id_list, x_coord, y_coord, action):\n",
    "    \"\"\"\n",
    "    Converts coordinate changes all mouse movements into Cardinal direction. Ignores scrolls and clicks \n",
    "\n",
    "    :param id_list: Unique list of user ids\n",
    "    :param x_coord: List of the changes in the x coordinate\n",
    "    :param y_coord: List of the changes in the y coordinates\n",
    "    :return: A data frame that contains the user id list, x directional changes, and y directional changes,\n",
    "    calculated cardinal direction\n",
    "    \"\"\"\n",
    "\n",
    "    directions = collections.deque()  # optimized for append operations\n",
    "    \n",
    "    for value in range(0, len(id_list)):\n",
    "\n",
    "        x = x_coord[value]\n",
    "        y = y_coord[value]\n",
    "        \n",
    "        action_value = action[value]\n",
    "        \n",
    "        if action_value == 'm':\n",
    "            if x == 0 and y == 0:\n",
    "                directions.append('No Movement')\n",
    "            elif x > 0 and y == 0:\n",
    "                directions.append('East')\n",
    "            elif x < 0 and y == 0:\n",
    "                directions.append('West')\n",
    "            elif x == 0 and y > 0:\n",
    "                directions.append('North')\n",
    "            elif x == 0 and y < 0:\n",
    "                directions.append('South')\n",
    "            elif x > 0 and y > 0:\n",
    "                directions.append('North East')\n",
    "            elif x > 0 and y < 0:\n",
    "                directions.append('North West')\n",
    "            elif x < 0 and y < 0:\n",
    "                directions.append('South West')\n",
    "            elif x < 0 and y > 0:\n",
    "                directions.append('South East')\n",
    "            else:\n",
    "                directions.append('TBD')  \n",
    "        else: \n",
    "            directions.append(action_value)\n",
    "\n",
    "    return pd.DataFrame({'User Id': id_list,\n",
    "                         'Distance X': x_coord,\n",
    "                         'Distance Y': y_coord,\n",
    "                         'Direction': directions})"
   ]
  },
  {
   "cell_type": "code",
   "execution_count": null,
   "metadata": {},
   "outputs": [],
   "source": [
    "# parse distance\n",
    "coord_x, coord_y, coord_user, action_type, page_list = parse_distance(coordinates)"
   ]
  },
  {
   "cell_type": "code",
   "execution_count": null,
   "metadata": {},
   "outputs": [],
   "source": [
    "user_sytem = data[['user_id', 'system']].drop_duplicates()\n",
    "user_sytem['system'].value_counts()"
   ]
  },
  {
   "cell_type": "code",
   "execution_count": null,
   "metadata": {},
   "outputs": [],
   "source": [
    "# parse direction\n",
    "direction_data = parse_directions(coord_user, coord_x, coord_y, action_type)\n",
    "direction_data['Page count'] = page_list\n",
    "direction_data['Direction'].value_counts()"
   ]
  },
  {
   "cell_type": "code",
   "execution_count": null,
   "metadata": {},
   "outputs": [],
   "source": [
    "# remove all clicks, scrolls, and np \n",
    "direction_data = direction_data[-direction_data.Direction.isin(['c','s','np'])]\n",
    "direction_data['Direction'].value_counts()"
   ]
  },
  {
   "cell_type": "code",
   "execution_count": null,
   "metadata": {},
   "outputs": [],
   "source": [
    "class page_description:\n",
    "    \"\"\"\n",
    "    Class to analyze direction data. Purpose is to determine the movement count thresholdhold for hmm model.  \n",
    "    \"\"\"\n",
    "    \n",
    "    def __init__(self, page_number):\n",
    "        self.page_number = page_number\n",
    "        self.page = direction_data[direction_data['Page count'] == f'page {self.page_number}']\n",
    "\n",
    "    def page_segment(self):\n",
    "        \"\"\"\n",
    "        Desplays the user id belong to a that segment\n",
    "        \"\"\"\n",
    "        page = direction_data[direction_data['Page count'] == f'page {self.page_number}']\n",
    "        page = page.groupby('User Id').count()[['Page count']]\n",
    "        return page\n",
    "\n",
    "    def page_description(self):\n",
    "        \"\"\"\n",
    "        Provide summary statistics on a page \n",
    "        \"\"\"\n",
    "        \n",
    "        return self.page_segment().describe()\n",
    "\n",
    "    def percentage(self):\n",
    "        \"\"\"\n",
    "        prints the percentage of the total number of counts recorded on this page\n",
    "        \"\"\"\n",
    "        \n",
    "        value = f' {round((len(self.page) / len(direction_data)) * 100,2)}% of all the mouse movemens are recorded in page {self.page_number}'\n",
    "        \n",
    "        return value"
   ]
  },
  {
   "cell_type": "markdown",
   "metadata": {},
   "source": [
    "Page 1 "
   ]
  },
  {
   "cell_type": "code",
   "execution_count": null,
   "metadata": {},
   "outputs": [],
   "source": [
    "page_description(1).percentage()"
   ]
  },
  {
   "cell_type": "code",
   "execution_count": null,
   "metadata": {},
   "outputs": [],
   "source": [
    "page_description(1).page_description()"
   ]
  },
  {
   "cell_type": "markdown",
   "metadata": {},
   "source": [
    "Page 2"
   ]
  },
  {
   "cell_type": "code",
   "execution_count": null,
   "metadata": {},
   "outputs": [],
   "source": [
    "page_description(2).percentage()"
   ]
  },
  {
   "cell_type": "code",
   "execution_count": null,
   "metadata": {},
   "outputs": [],
   "source": [
    "page_description(2).page_description()"
   ]
  },
  {
   "cell_type": "markdown",
   "metadata": {},
   "source": [
    "Page 3"
   ]
  },
  {
   "cell_type": "code",
   "execution_count": null,
   "metadata": {},
   "outputs": [],
   "source": [
    "page_description(3).percentage()"
   ]
  },
  {
   "cell_type": "code",
   "execution_count": null,
   "metadata": {},
   "outputs": [],
   "source": [
    "page_description(3).page_description()"
   ]
  },
  {
   "cell_type": "markdown",
   "metadata": {},
   "source": [
    "Page 4 "
   ]
  },
  {
   "cell_type": "code",
   "execution_count": null,
   "metadata": {},
   "outputs": [],
   "source": [
    "page_description(4).percentage()"
   ]
  },
  {
   "cell_type": "code",
   "execution_count": null,
   "metadata": {},
   "outputs": [],
   "source": [
    "page_description(4).page_description()"
   ]
  },
  {
   "cell_type": "markdown",
   "metadata": {},
   "source": [
    "Page 5 "
   ]
  },
  {
   "cell_type": "code",
   "execution_count": null,
   "metadata": {},
   "outputs": [],
   "source": [
    "page_description(5).percentage()"
   ]
  },
  {
   "cell_type": "code",
   "execution_count": null,
   "metadata": {},
   "outputs": [],
   "source": [
    "page_description(5).page_description()"
   ]
  },
  {
   "cell_type": "markdown",
   "metadata": {},
   "source": [
    "Page 6"
   ]
  },
  {
   "cell_type": "code",
   "execution_count": null,
   "metadata": {},
   "outputs": [],
   "source": [
    "page_description(6).percentage()"
   ]
  },
  {
   "cell_type": "code",
   "execution_count": null,
   "metadata": {},
   "outputs": [],
   "source": [
    "page_description(6).page_description()"
   ]
  },
  {
   "cell_type": "markdown",
   "metadata": {},
   "source": [
    "Page 7"
   ]
  },
  {
   "cell_type": "code",
   "execution_count": null,
   "metadata": {},
   "outputs": [],
   "source": [
    "page_description(7).percentage()"
   ]
  },
  {
   "cell_type": "code",
   "execution_count": null,
   "metadata": {},
   "outputs": [],
   "source": [
    "page_description(7).page_description()"
   ]
  },
  {
   "cell_type": "markdown",
   "metadata": {},
   "source": [
    "Page 8 "
   ]
  },
  {
   "cell_type": "code",
   "execution_count": null,
   "metadata": {},
   "outputs": [],
   "source": [
    "page_description(8).percentage()"
   ]
  },
  {
   "cell_type": "code",
   "execution_count": null,
   "metadata": {},
   "outputs": [],
   "source": [
    "page_description(8).page_description()"
   ]
  },
  {
   "cell_type": "markdown",
   "metadata": {},
   "source": [
    "Page 9 "
   ]
  },
  {
   "cell_type": "code",
   "execution_count": null,
   "metadata": {},
   "outputs": [],
   "source": [
    "page_description(9).percentage()"
   ]
  },
  {
   "cell_type": "code",
   "execution_count": null,
   "metadata": {},
   "outputs": [],
   "source": [
    "page_description(9).page_description()"
   ]
  },
  {
   "cell_type": "markdown",
   "metadata": {},
   "source": [
    "Page 10 "
   ]
  },
  {
   "cell_type": "code",
   "execution_count": null,
   "metadata": {},
   "outputs": [],
   "source": [
    "page_description(10).percentage()"
   ]
  },
  {
   "cell_type": "code",
   "execution_count": null,
   "metadata": {},
   "outputs": [],
   "source": [
    "page_description(10).page_description()"
   ]
  },
  {
   "cell_type": "markdown",
   "metadata": {},
   "source": [
    "Page 11"
   ]
  },
  {
   "cell_type": "code",
   "execution_count": null,
   "metadata": {},
   "outputs": [],
   "source": [
    "page_description(11).percentage()"
   ]
  },
  {
   "cell_type": "code",
   "execution_count": null,
   "metadata": {},
   "outputs": [],
   "source": [
    "page_description(11).page_description()"
   ]
  },
  {
   "cell_type": "markdown",
   "metadata": {},
   "source": [
    "Page 12"
   ]
  },
  {
   "cell_type": "code",
   "execution_count": null,
   "metadata": {},
   "outputs": [],
   "source": [
    "page_description(12).percentage()"
   ]
  },
  {
   "cell_type": "code",
   "execution_count": null,
   "metadata": {},
   "outputs": [],
   "source": [
    "page_description(12).page_description()"
   ]
  },
  {
   "cell_type": "markdown",
   "metadata": {},
   "source": [
    "Page 13"
   ]
  },
  {
   "cell_type": "code",
   "execution_count": null,
   "metadata": {},
   "outputs": [],
   "source": [
    "page_description(13).percentage()"
   ]
  },
  {
   "cell_type": "code",
   "execution_count": null,
   "metadata": {},
   "outputs": [],
   "source": [
    "page_description(13).page_description()"
   ]
  },
  {
   "cell_type": "markdown",
   "metadata": {},
   "source": [
    "Page 14"
   ]
  },
  {
   "cell_type": "code",
   "execution_count": null,
   "metadata": {},
   "outputs": [],
   "source": [
    "page_description(14).percentage()"
   ]
  },
  {
   "cell_type": "code",
   "execution_count": null,
   "metadata": {},
   "outputs": [],
   "source": [
    "page_description(14).page_description()"
   ]
  },
  {
   "cell_type": "markdown",
   "metadata": {},
   "source": [
    "Page 15"
   ]
  },
  {
   "cell_type": "code",
   "execution_count": null,
   "metadata": {},
   "outputs": [],
   "source": [
    "page_description(15).percentage()"
   ]
  },
  {
   "cell_type": "code",
   "execution_count": null,
   "metadata": {},
   "outputs": [],
   "source": [
    "page_description(15).page_description()"
   ]
  },
  {
   "cell_type": "code",
   "execution_count": null,
   "metadata": {},
   "outputs": [],
   "source": [
    "observation =  collections.deque()\n",
    "for user in user_list: \n",
    "    user_subset = direction_data[direction_data['User Id'] == user]\n",
    "    obs_count = 1\n",
    "    for row in range(0, len(user_subset)):\n",
    "        observation.append(obs_count)\n",
    "        obs_count += 1"
   ]
  },
  {
   "cell_type": "code",
   "execution_count": null,
   "metadata": {},
   "outputs": [],
   "source": []
  },
  {
   "cell_type": "code",
   "execution_count": null,
   "metadata": {},
   "outputs": [],
   "source": []
  }
 ],
 "metadata": {
  "kernelspec": {
   "display_name": "Python 3",
   "language": "python",
   "name": "python3"
  },
  "language_info": {
   "codemirror_mode": {
    "name": "ipython",
    "version": 3
   },
   "file_extension": ".py",
   "mimetype": "text/x-python",
   "name": "python",
   "nbconvert_exporter": "python",
   "pygments_lexer": "ipython3",
   "version": "3.7.3"
  }
 },
 "nbformat": 4,
 "nbformat_minor": 4
}
