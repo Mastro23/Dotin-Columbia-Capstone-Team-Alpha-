{
 "cells": [
  {
   "cell_type": "code",
   "execution_count": 124,
   "metadata": {},
   "outputs": [],
   "source": [
    "import hmm_dotin\n",
    "import os \n",
    "import pandas as pd\n",
    "import numpy as np"
   ]
  },
  {
   "cell_type": "code",
   "execution_count": 54,
   "metadata": {},
   "outputs": [],
   "source": [
    "def generate_dic(items): \n",
    "    \"\"\" Genderates a dictionay for all values in item \"\"\"\n",
    "    new_dic = {}\n",
    "    count = 0\n",
    "    for unique in items: \n",
    "        new_dic[unique]  = count\n",
    "        count +=1\n",
    "    return new_dic"
   ]
  },
  {
   "cell_type": "code",
   "execution_count": 252,
   "metadata": {},
   "outputs": [
    {
     "data": {
      "text/html": [
       "<div>\n",
       "<style scoped>\n",
       "    .dataframe tbody tr th:only-of-type {\n",
       "        vertical-align: middle;\n",
       "    }\n",
       "\n",
       "    .dataframe tbody tr th {\n",
       "        vertical-align: top;\n",
       "    }\n",
       "\n",
       "    .dataframe thead th {\n",
       "        text-align: right;\n",
       "    }\n",
       "</style>\n",
       "<table border=\"1\" class=\"dataframe\">\n",
       "  <thead>\n",
       "    <tr style=\"text-align: right;\">\n",
       "      <th></th>\n",
       "      <th>Unnamed: 0</th>\n",
       "      <th>User Id</th>\n",
       "      <th>Distance X</th>\n",
       "      <th>Distance Y</th>\n",
       "      <th>Direction</th>\n",
       "      <th>Page count</th>\n",
       "      <th>observation</th>\n",
       "    </tr>\n",
       "  </thead>\n",
       "  <tbody>\n",
       "    <tr>\n",
       "      <td>0</td>\n",
       "      <td>27135</td>\n",
       "      <td>377</td>\n",
       "      <td>1</td>\n",
       "      <td>0.0</td>\n",
       "      <td>East</td>\n",
       "      <td>page 1</td>\n",
       "      <td>1</td>\n",
       "    </tr>\n",
       "    <tr>\n",
       "      <td>1</td>\n",
       "      <td>27136</td>\n",
       "      <td>377</td>\n",
       "      <td>1</td>\n",
       "      <td>-1.0</td>\n",
       "      <td>North West</td>\n",
       "      <td>page 1</td>\n",
       "      <td>2</td>\n",
       "    </tr>\n",
       "    <tr>\n",
       "      <td>2</td>\n",
       "      <td>27137</td>\n",
       "      <td>377</td>\n",
       "      <td>1</td>\n",
       "      <td>-5.0</td>\n",
       "      <td>North West</td>\n",
       "      <td>page 1</td>\n",
       "      <td>3</td>\n",
       "    </tr>\n",
       "    <tr>\n",
       "      <td>3</td>\n",
       "      <td>27138</td>\n",
       "      <td>377</td>\n",
       "      <td>0</td>\n",
       "      <td>-5.0</td>\n",
       "      <td>South</td>\n",
       "      <td>page 1</td>\n",
       "      <td>4</td>\n",
       "    </tr>\n",
       "    <tr>\n",
       "      <td>4</td>\n",
       "      <td>27139</td>\n",
       "      <td>377</td>\n",
       "      <td>-3</td>\n",
       "      <td>-7.0</td>\n",
       "      <td>South West</td>\n",
       "      <td>page 1</td>\n",
       "      <td>5</td>\n",
       "    </tr>\n",
       "  </tbody>\n",
       "</table>\n",
       "</div>"
      ],
      "text/plain": [
       "   Unnamed: 0  User Id  Distance X  Distance Y   Direction Page count  \\\n",
       "0       27135      377           1         0.0        East     page 1   \n",
       "1       27136      377           1        -1.0  North West     page 1   \n",
       "2       27137      377           1        -5.0  North West     page 1   \n",
       "3       27138      377           0        -5.0       South     page 1   \n",
       "4       27139      377          -3        -7.0  South West     page 1   \n",
       "\n",
       "   observation  \n",
       "0            1  \n",
       "1            2  \n",
       "2            3  \n",
       "3            4  \n",
       "4            5  "
      ]
     },
     "execution_count": 252,
     "metadata": {},
     "output_type": "execute_result"
    }
   ],
   "source": [
    "# set working directory (Change for youe)\n",
    "os.chdir('C:/Users/ander/Google Drive/Columbia/Fall 2019/Capstone/Dotin-Columbia-Castone-Team-Alpha-')\n",
    "data_old = pd.read_csv('Models/Q1_Mouse Activity/Data/direction_data.csv')\n",
    "data_old.head()"
   ]
  },
  {
   "cell_type": "code",
   "execution_count": 253,
   "metadata": {},
   "outputs": [],
   "source": [
    "data = data_old[data_old.observation < 300]"
   ]
  },
  {
   "cell_type": "code",
   "execution_count": 254,
   "metadata": {},
   "outputs": [],
   "source": [
    "direction = data['Direction']"
   ]
  },
  {
   "cell_type": "code",
   "execution_count": 255,
   "metadata": {},
   "outputs": [
    {
     "data": {
      "text/html": [
       "<div>\n",
       "<style scoped>\n",
       "    .dataframe tbody tr th:only-of-type {\n",
       "        vertical-align: middle;\n",
       "    }\n",
       "\n",
       "    .dataframe tbody tr th {\n",
       "        vertical-align: top;\n",
       "    }\n",
       "\n",
       "    .dataframe thead th {\n",
       "        text-align: right;\n",
       "    }\n",
       "</style>\n",
       "<table border=\"1\" class=\"dataframe\">\n",
       "  <thead>\n",
       "    <tr style=\"text-align: right;\">\n",
       "      <th></th>\n",
       "      <th>User Id</th>\n",
       "      <th>Page count</th>\n",
       "      <th>Direction</th>\n",
       "    </tr>\n",
       "  </thead>\n",
       "  <tbody>\n",
       "    <tr>\n",
       "      <td>0</td>\n",
       "      <td>371</td>\n",
       "      <td>page 11</td>\n",
       "      <td>[No Movement, East, North East, North East, No...</td>\n",
       "    </tr>\n",
       "    <tr>\n",
       "      <td>1</td>\n",
       "      <td>371</td>\n",
       "      <td>page 13</td>\n",
       "      <td>[East, East, North East, North East, North Eas...</td>\n",
       "    </tr>\n",
       "    <tr>\n",
       "      <td>2</td>\n",
       "      <td>371</td>\n",
       "      <td>page 3</td>\n",
       "      <td>[South East, North, North, North East, North E...</td>\n",
       "    </tr>\n",
       "    <tr>\n",
       "      <td>3</td>\n",
       "      <td>373</td>\n",
       "      <td>page 10</td>\n",
       "      <td>[East, East, East, East, East, East, East, Eas...</td>\n",
       "    </tr>\n",
       "    <tr>\n",
       "      <td>4</td>\n",
       "      <td>373</td>\n",
       "      <td>page 11</td>\n",
       "      <td>[East, East, East, North East, East, North, No...</td>\n",
       "    </tr>\n",
       "    <tr>\n",
       "      <td>...</td>\n",
       "      <td>...</td>\n",
       "      <td>...</td>\n",
       "      <td>...</td>\n",
       "    </tr>\n",
       "    <tr>\n",
       "      <td>2129</td>\n",
       "      <td>1607</td>\n",
       "      <td>page 10</td>\n",
       "      <td>[North East, South West, South East, South Eas...</td>\n",
       "    </tr>\n",
       "    <tr>\n",
       "      <td>2130</td>\n",
       "      <td>1607</td>\n",
       "      <td>page 2</td>\n",
       "      <td>[North, North, North, North, North, North, Nor...</td>\n",
       "    </tr>\n",
       "    <tr>\n",
       "      <td>2131</td>\n",
       "      <td>1607</td>\n",
       "      <td>page 3</td>\n",
       "      <td>[East, North West, North West, West, South Eas...</td>\n",
       "    </tr>\n",
       "    <tr>\n",
       "      <td>2132</td>\n",
       "      <td>1607</td>\n",
       "      <td>page 4</td>\n",
       "      <td>[East, North West, North West, North West, Nor...</td>\n",
       "    </tr>\n",
       "    <tr>\n",
       "      <td>2133</td>\n",
       "      <td>1611</td>\n",
       "      <td>page 1</td>\n",
       "      <td>[North East, West, South West, South West, Sou...</td>\n",
       "    </tr>\n",
       "  </tbody>\n",
       "</table>\n",
       "<p>2134 rows × 3 columns</p>\n",
       "</div>"
      ],
      "text/plain": [
       "      User Id Page count                                          Direction\n",
       "0         371    page 11  [No Movement, East, North East, North East, No...\n",
       "1         371    page 13  [East, East, North East, North East, North Eas...\n",
       "2         371     page 3  [South East, North, North, North East, North E...\n",
       "3         373    page 10  [East, East, East, East, East, East, East, Eas...\n",
       "4         373    page 11  [East, East, East, North East, East, North, No...\n",
       "...       ...        ...                                                ...\n",
       "2129     1607    page 10  [North East, South West, South East, South Eas...\n",
       "2130     1607     page 2  [North, North, North, North, North, North, Nor...\n",
       "2131     1607     page 3  [East, North West, North West, West, South Eas...\n",
       "2132     1607     page 4  [East, North West, North West, North West, Nor...\n",
       "2133     1611     page 1  [North East, West, South West, South West, Sou...\n",
       "\n",
       "[2134 rows x 3 columns]"
      ]
     },
     "execution_count": 255,
     "metadata": {},
     "output_type": "execute_result"
    }
   ],
   "source": [
    "user_direction = data[['User Id','Page count', 'Direction']]\n",
    "flatten_data = user_direction.groupby(['User Id','Page count'], as_index=False).agg(list)\n",
    "flatten_data"
   ]
  },
  {
   "cell_type": "code",
   "execution_count": 256,
   "metadata": {},
   "outputs": [],
   "source": [
    "user_dict = generate_dic(set(direction))"
   ]
  },
  {
   "cell_type": "code",
   "execution_count": 257,
   "metadata": {},
   "outputs": [],
   "source": [
    "direction_numerized =[]\n",
    "for row in range(0,len(flatten_data)): \n",
    "    value = flatten_data.iloc[row,2]\n",
    "    numerized =[user_dict.get(key, value) for key in value]\n",
    "    direction_numerized.append(numerized)\n",
    "flatten_data['Direction Numerized'] = direction_numerized"
   ]
  },
  {
   "cell_type": "code",
   "execution_count": 258,
   "metadata": {},
   "outputs": [],
   "source": [
    "hmm= hmm_dotin.HMM(len(user_dict))"
   ]
  },
  {
   "cell_type": "code",
   "execution_count": 259,
   "metadata": {},
   "outputs": [],
   "source": [
    "page_number_list =[]\n",
    "for value in range(1,16):\n",
    "    page_ = f'page {value}'\n",
    "    page_number_list.append(page_)"
   ]
  },
  {
   "cell_type": "code",
   "execution_count": 260,
   "metadata": {},
   "outputs": [],
   "source": [
    "page_ = flatten_data[flatten_data['Page count'] == page_number_list[0]]"
   ]
  },
  {
   "cell_type": "code",
   "execution_count": 261,
   "metadata": {},
   "outputs": [
    {
     "name": "stdout",
     "output_type": "stream",
     "text": [
      "initial A: [[0.13791808 0.05666265 0.04492218 0.10917392 0.1424726  0.08378551\n",
      "  0.1942155  0.13561318 0.09523638]\n",
      " [0.11344094 0.09928257 0.21091658 0.12688045 0.01726502 0.11515557\n",
      "  0.2135046  0.05279548 0.05075879]\n",
      " [0.10048455 0.10053677 0.11992725 0.16057671 0.13695114 0.11550798\n",
      "  0.13657081 0.0610522  0.06839258]\n",
      " [0.06831367 0.08790152 0.18883592 0.02756478 0.12979629 0.12894682\n",
      "  0.14774803 0.12744072 0.09345224]\n",
      " [0.08353721 0.17504634 0.18499414 0.09832745 0.12225432 0.02265371\n",
      "  0.06216738 0.08127904 0.16974042]\n",
      " [0.05063257 0.0976512  0.19924279 0.10502018 0.12390402 0.02438654\n",
      "  0.16705476 0.12191588 0.11019207]\n",
      " [0.068399   0.06068772 0.08321736 0.13595451 0.17469862 0.10185548\n",
      "  0.13356249 0.11692445 0.12470036]\n",
      " [0.15491237 0.19340652 0.01910203 0.17534584 0.05594716 0.04459467\n",
      "  0.13143931 0.02197613 0.20327597]\n",
      " [0.16316178 0.18817711 0.00419557 0.1546253  0.14483254 0.04134903\n",
      "  0.03981714 0.18092311 0.08291842]]\n",
      "initial B: [[0.15356474 0.12303089 0.08631742 0.205309   0.18678668 0.07931506\n",
      "  0.00967399 0.06763532 0.08836691]\n",
      " [0.14403028 0.20336189 0.07271704 0.15579629 0.12119209 0.14132173\n",
      "  0.03087688 0.08149449 0.04920932]\n",
      " [0.0828939  0.12384466 0.16089137 0.02556126 0.0315918  0.07771076\n",
      "  0.15967008 0.20430623 0.13352994]\n",
      " [0.1950747  0.08785991 0.07232386 0.08087995 0.03905862 0.18928952\n",
      "  0.07731982 0.12610815 0.13208546]\n",
      " [0.0979665  0.00050493 0.18565408 0.17006236 0.03900301 0.05494218\n",
      "  0.09768043 0.16941802 0.18476849]\n",
      " [0.04799994 0.10518359 0.15040047 0.07350154 0.13625526 0.03001957\n",
      "  0.11195645 0.16137729 0.18330589]\n",
      " [0.02206179 0.11907031 0.05685803 0.12526618 0.15226519 0.0259426\n",
      "  0.0825202  0.25784626 0.15816944]\n",
      " [0.09563702 0.15754938 0.15511068 0.01015704 0.14817649 0.17547142\n",
      "  0.03469477 0.1632933  0.0599099 ]\n",
      " [0.06159203 0.13369934 0.02238678 0.13362116 0.1784349  0.1399395\n",
      "  0.08849385 0.08806909 0.15376336]]\n",
      "it: 0\n"
     ]
    },
    {
     "ename": "AssertionError",
     "evalue": "",
     "output_type": "error",
     "traceback": [
      "\u001b[1;31m---------------------------------------------------------------------------\u001b[0m",
      "\u001b[1;31mAssertionError\u001b[0m                            Traceback (most recent call last)",
      "\u001b[1;32m<ipython-input-261-f08c9d3b8b86>\u001b[0m in \u001b[0;36m<module>\u001b[1;34m\u001b[0m\n\u001b[1;32m----> 1\u001b[1;33m \u001b[0mhmm\u001b[0m\u001b[1;33m.\u001b[0m\u001b[0mfit\u001b[0m\u001b[1;33m(\u001b[0m\u001b[0mlist\u001b[0m\u001b[1;33m(\u001b[0m\u001b[0mpage_\u001b[0m\u001b[1;33m[\u001b[0m\u001b[1;34m'Direction Numerized'\u001b[0m\u001b[1;33m]\u001b[0m\u001b[1;33m)\u001b[0m\u001b[1;33m)\u001b[0m\u001b[1;33m\u001b[0m\u001b[1;33m\u001b[0m\u001b[0m\n\u001b[0m",
      "\u001b[1;32m~\\Google Drive\\Columbia\\Fall 2019\\Capstone\\Dotin-Columbia-Castone-Team-Alpha-\\Models\\Q1_Mouse Activity\\Hidden Markov\\hmm_dotin.py\u001b[0m in \u001b[0;36mfit\u001b[1;34m(self, X, max_iter)\u001b[0m\n\u001b[0;32m     66\u001b[0m             \u001b[0mcost\u001b[0m \u001b[1;33m=\u001b[0m \u001b[0mnp\u001b[0m\u001b[1;33m.\u001b[0m\u001b[0msum\u001b[0m\u001b[1;33m(\u001b[0m\u001b[0mnp\u001b[0m\u001b[1;33m.\u001b[0m\u001b[0mlog\u001b[0m\u001b[1;33m(\u001b[0m\u001b[0mP\u001b[0m\u001b[1;33m)\u001b[0m\u001b[1;33m)\u001b[0m\u001b[1;33m\u001b[0m\u001b[1;33m\u001b[0m\u001b[0m\n\u001b[0;32m     67\u001b[0m             \u001b[0mcosts\u001b[0m\u001b[1;33m.\u001b[0m\u001b[0mappend\u001b[0m\u001b[1;33m(\u001b[0m\u001b[0mcost\u001b[0m\u001b[1;33m)\u001b[0m\u001b[1;33m\u001b[0m\u001b[1;33m\u001b[0m\u001b[0m\n\u001b[1;32m---> 68\u001b[1;33m \u001b[1;33m\u001b[0m\u001b[0m\n\u001b[0m\u001b[0;32m     69\u001b[0m             \u001b[1;31m# now re-estimate pi, A, B\u001b[0m\u001b[1;33m\u001b[0m\u001b[1;33m\u001b[0m\u001b[1;33m\u001b[0m\u001b[0m\n\u001b[0;32m     70\u001b[0m             \u001b[0mself\u001b[0m\u001b[1;33m.\u001b[0m\u001b[0mstates_distribution\u001b[0m \u001b[1;33m=\u001b[0m \u001b[0mnp\u001b[0m\u001b[1;33m.\u001b[0m\u001b[0msum\u001b[0m\u001b[1;33m(\u001b[0m\u001b[1;33m(\u001b[0m\u001b[0malphas\u001b[0m\u001b[1;33m[\u001b[0m\u001b[0mn\u001b[0m\u001b[1;33m]\u001b[0m\u001b[1;33m[\u001b[0m\u001b[1;36m0\u001b[0m\u001b[1;33m]\u001b[0m \u001b[1;33m*\u001b[0m \u001b[0mbetas\u001b[0m\u001b[1;33m[\u001b[0m\u001b[0mn\u001b[0m\u001b[1;33m]\u001b[0m\u001b[1;33m[\u001b[0m\u001b[1;36m0\u001b[0m\u001b[1;33m]\u001b[0m\u001b[1;33m)\u001b[0m \u001b[1;33m/\u001b[0m \u001b[0mP\u001b[0m\u001b[1;33m[\u001b[0m\u001b[0mn\u001b[0m\u001b[1;33m]\u001b[0m \u001b[1;32mfor\u001b[0m \u001b[0mn\u001b[0m \u001b[1;32min\u001b[0m \u001b[0mrange\u001b[0m\u001b[1;33m(\u001b[0m\u001b[0mn_row_data\u001b[0m\u001b[1;33m)\u001b[0m\u001b[1;33m)\u001b[0m \u001b[1;33m/\u001b[0m \u001b[0mn_row_data\u001b[0m\u001b[1;33m\u001b[0m\u001b[1;33m\u001b[0m\u001b[0m\n",
      "\u001b[1;31mAssertionError\u001b[0m: "
     ]
    }
   ],
   "source": [
    "hmm.fit(list(page_['Direction Numerized']))"
   ]
  },
  {
   "cell_type": "code",
   "execution_count": null,
   "metadata": {},
   "outputs": [],
   "source": []
  },
  {
   "cell_type": "code",
   "execution_count": null,
   "metadata": {},
   "outputs": [],
   "source": []
  },
  {
   "cell_type": "code",
   "execution_count": null,
   "metadata": {},
   "outputs": [],
   "source": []
  },
  {
   "cell_type": "code",
   "execution_count": null,
   "metadata": {},
   "outputs": [],
   "source": []
  },
  {
   "cell_type": "code",
   "execution_count": null,
   "metadata": {},
   "outputs": [],
   "source": []
  },
  {
   "cell_type": "code",
   "execution_count": null,
   "metadata": {},
   "outputs": [],
   "source": []
  },
  {
   "cell_type": "code",
   "execution_count": null,
   "metadata": {},
   "outputs": [],
   "source": []
  }
 ],
 "metadata": {
  "kernelspec": {
   "display_name": "Python 3",
   "language": "python",
   "name": "python3"
  },
  "language_info": {
   "codemirror_mode": {
    "name": "ipython",
    "version": 3
   },
   "file_extension": ".py",
   "mimetype": "text/x-python",
   "name": "python",
   "nbconvert_exporter": "python",
   "pygments_lexer": "ipython3",
   "version": "3.7.3"
  }
 },
 "nbformat": 4,
 "nbformat_minor": 2
}
