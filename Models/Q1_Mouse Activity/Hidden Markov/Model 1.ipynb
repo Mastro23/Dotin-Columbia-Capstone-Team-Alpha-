{
 "cells": [
  {
   "cell_type": "markdown",
   "metadata": {},
   "source": [
    "Experiment 2: \n",
    "\n",
    "Run HMMM user who are on all 15 pages"
   ]
  },
  {
   "cell_type": "code",
   "execution_count": 1,
   "metadata": {},
   "outputs": [],
   "source": [
    "import hmm_scaled\n",
    "import os \n",
    "\n",
    "import pandas as pd \n",
    "import seaborn as sns \n",
    "import numpy as np \n",
    "import seaborn as sns\n",
    "import matplotlib.pyplot as plt\n",
    "\n",
    "from sklearn.preprocessing import StandardScaler\n",
    "from pyod.models.iforest import IForest\n",
    "\n",
    "import warnings\n",
    "warnings.filterwarnings(\"ignore\")"
   ]
  },
  {
   "cell_type": "code",
   "execution_count": 2,
   "metadata": {},
   "outputs": [],
   "source": [
    "def generate_dic(items): \n",
    "    \"\"\" Genderates a dictionay for all values in item \"\"\"\n",
    "    new_dic = {}\n",
    "    count = 0\n",
    "    for unique in items: \n",
    "        new_dic[unique]  = count\n",
    "        count +=1\n",
    "    return new_dic\n",
    "\n",
    "def column_scaler(data): \n",
    "    \"\"\"\n",
    "    scales each column of data \n",
    "    \"\"\"\n",
    "    scaler = StandardScaler()\n",
    "    for value in data.columns: \n",
    "        data_sub_ = pd.DataFrame(data.loc[:,value])\n",
    "        data.loc[:,value] =scaler.fit_transform(data_sub_)\n",
    "    return data\n",
    "\n",
    "def kmean_prop(data, column): \n",
    "    data_value = data.groupby(column).agg(count = pd.NamedAgg(column= column, aggfunc= 'count'))\n",
    "    percentage = []\n",
    "    for i in range(0, len(data_value)): \n",
    "        result = round(((data_value.iloc[i,0] / len(data)) * 100),2)\n",
    "         \n",
    "        percentage.append(result)\n",
    "    data_value['percentage (%)'] = percentage\n",
    "        \n",
    "    return data_value\n",
    "\n",
    "def PCA_Col_names(count):\n",
    "    \"\"\"\n",
    "    Remove columns in a PCA that meets the threshold count \n",
    "    \"\"\"\n",
    "    colname = []\n",
    "    rowname = 1\n",
    "    while rowname <= count: \n",
    "        colname.append(f'Principle Component {rowname}')\n",
    "        rowname += 1 \n",
    "    return (colname)"
   ]
  },
  {
   "cell_type": "code",
   "execution_count": 3,
   "metadata": {},
   "outputs": [],
   "source": [
    "# set working directory (Change for youe)\n",
    "os.chdir('C:/Users/ander/Google Drive/Columbia/Fall 2019/Capstone/Dotin-Columbia-Castone-Team-Alpha-')\n",
    "data = pd.read_csv('Models/Q1_Mouse Activity/Data/direction_data.csv')\n",
    "data = data.drop(columns='Unnamed: 0')"
   ]
  },
  {
   "cell_type": "code",
   "execution_count": 4,
   "metadata": {},
   "outputs": [],
   "source": [
    "unique_user = set(data['User Id'])"
   ]
  },
  {
   "cell_type": "code",
   "execution_count": 5,
   "metadata": {},
   "outputs": [
    {
     "data": {
      "text/plain": [
       "39"
      ]
     },
     "execution_count": 5,
     "metadata": {},
     "output_type": "execute_result"
    }
   ],
   "source": [
    "user_to_include = []\n",
    "for user in unique_user: \n",
    "    user_thresh_hold = data[data['User Id'] == user]['Page count'].value_counts() <= 100\n",
    "    if sum(np.where(user_thresh_hold.values ==False, 1,0)) == 15: \n",
    "        user_to_include.append(user)\n",
    "len(user_to_include)"
   ]
  },
  {
   "cell_type": "code",
   "execution_count": 6,
   "metadata": {},
   "outputs": [],
   "source": [
    "# create a list with all the page number\n",
    "page_number_list =[]\n",
    "for value in range(1,16):\n",
    "    page_ = f'page {value}'\n",
    "    page_number_list.append(page_)"
   ]
  },
  {
   "cell_type": "code",
   "execution_count": 7,
   "metadata": {},
   "outputs": [],
   "source": [
    "## limit page observation per page \n",
    "final_data = data[0:0]\n",
    "\n",
    "for page in range(0,len(page_number_list)):\n",
    "    observation_limit = 200\n",
    "    page_subset =  data[data['Page count'] == page_number_list[page]]\n",
    "    page_shrunk = page_subset[page_subset.observation <= observation_limit]\n",
    "    page_ = page_shrunk.groupby('User Id').count()['observation']\n",
    "    user_list = page_[page_  == observation_limit].index\n",
    "    updated_dat = page_shrunk[page_shrunk['User Id'].isin(user_list)]\n",
    "    final_data = pd.concat([final_data,updated_dat])"
   ]
  },
  {
   "cell_type": "code",
   "execution_count": 8,
   "metadata": {},
   "outputs": [
    {
     "name": "stdout",
     "output_type": "stream",
     "text": [
      " Page 1: 170\n",
      " Page 2: 221\n",
      " Page 3: 217\n",
      " Page 4: 206\n",
      " Page 5: 195\n",
      " Page 6: 188\n",
      " Page 7: 197\n",
      " Page 8: 194\n",
      " Page 9: 181\n",
      " Page 10: 180\n",
      " Page 11: 169\n",
      " Page 12: 151\n",
      " Page 13: 139\n",
      " Page 14: 119\n",
      " Page 15: 103\n"
     ]
    }
   ],
   "source": [
    "# count obse\n",
    "for page in range(0,15):\n",
    "    pages___ = final_data[final_data['Page count']== page_number_list[page]]\n",
    "    user_count = len(pages___.groupby('User Id').count()['observation'])\n",
    "    print(f' Page {page+1}: {user_count}')"
   ]
  },
  {
   "cell_type": "code",
   "execution_count": 9,
   "metadata": {},
   "outputs": [],
   "source": [
    "unique_page = set(data['Page count'])"
   ]
  },
  {
   "cell_type": "code",
   "execution_count": 10,
   "metadata": {},
   "outputs": [],
   "source": [
    "final_data = data\n",
    "user_list = []\n",
    "page_count_list = []\n",
    "for user in unique_user: \n",
    "    user_list.append(user)\n",
    "    num_pages_completed = len(set(data[data['User Id'] == user]['Page count']))\n",
    "    page_count_list.append(num_pages_completed)"
   ]
  },
  {
   "cell_type": "code",
   "execution_count": 11,
   "metadata": {},
   "outputs": [
    {
     "data": {
      "text/plain": [
       "1     212\n",
       "15     66\n",
       "10     39\n",
       "5      36\n",
       "9      35\n",
       "11     32\n",
       "8      31\n",
       "7      31\n",
       "14     29\n",
       "3      29\n",
       "6      27\n",
       "4      25\n",
       "12     24\n",
       "13     23\n",
       "2      22\n",
       "Name: Num page, dtype: int64"
      ]
     },
     "execution_count": 11,
     "metadata": {},
     "output_type": "execute_result"
    }
   ],
   "source": [
    "num_pages_user = pd.DataFrame({'User Id': user_list, \n",
    "                          'Num page': page_count_list})\n",
    "num_pages_user['Num page'].value_counts()"
   ]
  },
  {
   "cell_type": "code",
   "execution_count": 12,
   "metadata": {},
   "outputs": [],
   "source": [
    "user_completed_all_page = num_pages_user[num_pages_user['Num page'] == 15]['User Id'].values"
   ]
  },
  {
   "cell_type": "code",
   "execution_count": 13,
   "metadata": {},
   "outputs": [],
   "source": [
    "data = data[data['User Id'].isin(user_completed_all_page)]"
   ]
  },
  {
   "cell_type": "code",
   "execution_count": 14,
   "metadata": {},
   "outputs": [],
   "source": [
    "user_direction = data[['User Id','Page count', 'Direction']]\n",
    "flatten_data = user_direction.groupby(['User Id','Page count'], as_index=False).agg(list)\n",
    "\n",
    "user_dict = generate_dic(set(data['Direction']))\n",
    "\n",
    "direction_numerized =[]\n",
    "for row in range(0,len(flatten_data)): \n",
    "    value = flatten_data.iloc[row,2]\n",
    "    numerized =[user_dict.get(key, value) for key in value]\n",
    "    direction_numerized.append(numerized)\n",
    "flatten_data['Direction Numerized'] = direction_numerized\n",
    "\n",
    "page_number_list =[]\n",
    "for value in range(1,16):\n",
    "    page_ = f'page {value}'\n",
    "    page_number_list.append(page_)"
   ]
  },
  {
   "cell_type": "code",
   "execution_count": 19,
   "metadata": {},
   "outputs": [],
   "source": [
    "user_fraud_matrix = pd.DataFrame(data=0 , index=user_completed_all_page, columns=unique_page)\n",
    "user_fraud_matrix = user_fraud_matrix[page_number_list]"
   ]
  },
  {
   "cell_type": "code",
   "execution_count": 17,
   "metadata": {},
   "outputs": [],
   "source": [
    "hmm= hmm_scaled.HMM(hidden_states=2)"
   ]
  },
  {
   "cell_type": "code",
   "execution_count": 20,
   "metadata": {},
   "outputs": [
    {
     "name": "stdout",
     "output_type": "stream",
     "text": [
      "iteration: 0\n",
      "iteration: 10\n",
      "iteration: 20\n",
      "Fit duration: 0:00:32.861997\n"
     ]
    },
    {
     "data": {
      "image/png": "[encoded data removed]",
      "text/plain": [
       "<Figure size 432x288 with 1 Axes>"
      ]
     },
     "metadata": {
      "needs_background": "light"
     },
     "output_type": "display_data"
    },
    {
     "name": "stdout",
     "output_type": "stream",
     "text": [
      "iteration: 0\n",
      "iteration: 10\n",
      "iteration: 20\n",
      "Fit duration: 0:00:48.665576\n"
     ]
    },
    {
     "data": {
      "image/png": "[encoded data removed]",
      "text/plain": [
       "<Figure size 432x288 with 1 Axes>"
      ]
     },
     "metadata": {
      "needs_background": "light"
     },
     "output_type": "display_data"
    },
    {
     "name": "stdout",
     "output_type": "stream",
     "text": [
      "iteration: 0\n",
      "iteration: 10\n",
      "iteration: 20\n",
      "Fit duration: 0:00:43.256321\n"
     ]
    },
    {
     "data": {
      "image/png": "[encoded data removed]",
      "text/plain": [
       "<Figure size 432x288 with 1 Axes>"
      ]
     },
     "metadata": {
      "needs_background": "light"
     },
     "output_type": "display_data"
    },
    {
     "name": "stdout",
     "output_type": "stream",
     "text": [
      "iteration: 0\n",
      "iteration: 10\n",
      "iteration: 20\n",
      "Fit duration: 0:00:35.319570\n"
     ]
    },
    {
     "data": {
      "image/png": "[encoded data removed]",
      "text/plain": [
       "<Figure size 432x288 with 1 Axes>"
      ]
     },
     "metadata": {
      "needs_background": "light"
     },
     "output_type": "display_data"
    },
    {
     "name": "stdout",
     "output_type": "stream",
     "text": [
      "iteration: 0\n",
      "iteration: 10\n",
      "iteration: 20\n",
      "Fit duration: 0:00:40.779960\n"
     ]
    },
    {
     "data": {
      "image/png": "[encoded data removed]",
      "text/plain": [
       "<Figure size 432x288 with 1 Axes>"
      ]
     },
     "metadata": {
      "needs_background": "light"
     },
     "output_type": "display_data"
    },
    {
     "name": "stdout",
     "output_type": "stream",
     "text": [
      "iteration: 0\n",
      "iteration: 10\n",
      "iteration: 20\n",
      "Fit duration: 0:00:36.962516\n"
     ]
    },
    {
     "data": {
      "image/png": "[encoded data removed]",
      "text/plain": [
       "<Figure size 432x288 with 1 Axes>"
      ]
     },
     "metadata": {
      "needs_background": "light"
     },
     "output_type": "display_data"
    },
    {
     "name": "stdout",
     "output_type": "stream",
     "text": [
      "iteration: 0\n",
      "iteration: 10\n",
      "iteration: 20\n",
      "Fit duration: 0:00:37.572573\n"
     ]
    },
    {
     "data": {
      "image/png": "[encoded data removed]",
      "text/plain": [
       "<Figure size 432x288 with 1 Axes>"
      ]
     },
     "metadata": {
      "needs_background": "light"
     },
     "output_type": "display_data"
    },
    {
     "name": "stdout",
     "output_type": "stream",
     "text": [
      "iteration: 0\n",
      "iteration: 10\n",
      "iteration: 20\n",
      "Fit duration: 0:00:32.784000\n"
     ]
    },
    {
     "data": {
      "image/png": "[encoded data removed]",
      "text/plain": [
       "<Figure size 432x288 with 1 Axes>"
      ]
     },
     "metadata": {
      "needs_background": "light"
     },
     "output_type": "display_data"
    },
    {
     "name": "stdout",
     "output_type": "stream",
     "text": [
      "iteration: 0\n",
      "iteration: 10\n",
      "iteration: 20\n",
      "Fit duration: 0:00:42.512477\n"
     ]
    },
    {
     "data": {
      "image/png": "[encoded data removed]",
      "text/plain": [
       "<Figure size 432x288 with 1 Axes>"
      ]
     },
     "metadata": {
      "needs_background": "light"
     },
     "output_type": "display_data"
    },
    {
     "name": "stdout",
     "output_type": "stream",
     "text": [
      "iteration: 0\n",
      "iteration: 10\n",
      "iteration: 20\n",
      "Fit duration: 0:00:36.225100\n"
     ]
    },
    {
     "data": {
      "image/png": "[encoded data removed]",
      "text/plain": [
       "<Figure size 432x288 with 1 Axes>"
      ]
     },
     "metadata": {
      "needs_background": "light"
     },
     "output_type": "display_data"
    },
    {
     "name": "stdout",
     "output_type": "stream",
     "text": [
      "iteration: 0\n",
      "iteration: 10\n",
      "iteration: 20\n",
      "Fit duration: 0:00:40.379015\n"
     ]
    },
    {
     "data": {
      "image/png": "[encoded data removed]",
      "text/plain": [
       "<Figure size 432x288 with 1 Axes>"
      ]
     },
     "metadata": {
      "needs_background": "light"
     },
     "output_type": "display_data"
    },
    {
     "name": "stdout",
     "output_type": "stream",
     "text": [
      "iteration: 0\n",
      "iteration: 10\n",
      "iteration: 20\n",
      "Fit duration: 0:00:31.228182\n"
     ]
    },
    {
     "data": {
      "image/png": "[encoded data removed]",
      "text/plain": [
       "<Figure size 432x288 with 1 Axes>"
      ]
     },
     "metadata": {
      "needs_background": "light"
     },
     "output_type": "display_data"
    },
    {
     "name": "stdout",
     "output_type": "stream",
     "text": [
      "iteration: 0\n",
      "iteration: 10\n",
      "iteration: 20\n",
      "Fit duration: 0:00:28.193585\n"
     ]
    },
    {
     "data": {
      "image/png": "[encoded data removed]",
      "text/plain": [
       "<Figure size 432x288 with 1 Axes>"
      ]
     },
     "metadata": {
      "needs_background": "light"
     },
     "output_type": "display_data"
    },
    {
     "name": "stdout",
     "output_type": "stream",
     "text": [
      "iteration: 0\n",
      "iteration: 10\n",
      "iteration: 20\n",
      "Fit duration: 0:00:32.716848\n"
     ]
    },
    {
     "data": {
      "image/png": "[encoded data removed]",
      "text/plain": [
       "<Figure size 432x288 with 1 Axes>"
      ]
     },
     "metadata": {
      "needs_background": "light"
     },
     "output_type": "display_data"
    },
    {
     "name": "stdout",
     "output_type": "stream",
     "text": [
      "iteration: 0\n",
      "iteration: 10\n",
      "iteration: 20\n",
      "Fit duration: 0:00:25.432013\n"
     ]
    },
    {
     "data": {
      "image/png": "[encoded data removed]",
      "text/plain": [
       "<Figure size 432x288 with 1 Axes>"
      ]
     },
     "metadata": {
      "needs_background": "light"
     },
     "output_type": "display_data"
    }
   ],
   "source": [
    "for count in range(0,len(page_number_list)):\n",
    "    page_ = flatten_data[flatten_data['Page count'] == page_number_list[count]]\n",
    "    page_= page_.set_index('User Id')\n",
    "    hmm.fit(list(page_['Direction Numerized']))\n",
    "    for index in user_fraud_matrix.index:\n",
    "        try: \n",
    "            user_fraud_matrix.loc[index, page_number_list[count]] = hmm.log_likelihood(page_.loc[index, 'Direction Numerized'])\n",
    "        except KeyError:\n",
    "            continue"
   ]
  },
  {
   "cell_type": "markdown",
   "metadata": {},
   "source": [
    "### Isolation forest"
   ]
  },
  {
   "cell_type": "code",
   "execution_count": 22,
   "metadata": {},
   "outputs": [],
   "source": [
    "user_fraud_matrix = pd.read_csv('Models/Q1_Mouse Activity/Data/user_fraud_matrix.csv', index_col='Unnamed: 0')\n",
    "user_fraud_matrix_scaled = column_scaler(user_fraud_matrix)\n",
    "user_fraud_matrix_scaled = user_fraud_matrix_scaled[page_number_list]"
   ]
  },
  {
   "cell_type": "code",
   "execution_count": null,
   "metadata": {},
   "outputs": [],
   "source": []
  },
  {
   "cell_type": "code",
   "execution_count": 23,
   "metadata": {},
   "outputs": [
    {
     "data": {
      "image/png": "[encoded data removed]",
      "text/plain": [
       "<Figure size 1152x720 with 2 Axes>"
      ]
     },
     "metadata": {
      "needs_background": "light"
     },
     "output_type": "display_data"
    }
   ],
   "source": [
    "fig = plt.figure(figsize=(16,10))\n",
    "corr = user_fraud_matrix_scaled.corr()\n",
    "\n",
    "# Generate a mask for the upper triangle\n",
    "mask = np.zeros_like(corr)\n",
    "mask[np.triu_indices_from(mask)] = True\n",
    "\n",
    "# Generate a custom diverging colormap\n",
    "cmap = sns.diverging_palette(220, 10, as_cmap=True)\n",
    "\n",
    "# Draw the heatmap with the mask and correct aspect ratio\n",
    "sns.heatmap(corr, mask=mask, cmap=cmap, center=0,\n",
    "            square=True)\n",
    "plt.title('Probability correlation by page')\n",
    "plt.show()"
   ]
  },
  {
   "cell_type": "code",
   "execution_count": 44,
   "metadata": {},
   "outputs": [
    {
     "data": {
      "text/html": [
       "<div>\n",
       "<style scoped>\n",
       "    .dataframe tbody tr th:only-of-type {\n",
       "        vertical-align: middle;\n",
       "    }\n",
       "\n",
       "    .dataframe tbody tr th {\n",
       "        vertical-align: top;\n",
       "    }\n",
       "\n",
       "    .dataframe thead th {\n",
       "        text-align: right;\n",
       "    }\n",
       "</style>\n",
       "<table border=\"1\" class=\"dataframe\">\n",
       "  <thead>\n",
       "    <tr style=\"text-align: right;\">\n",
       "      <th></th>\n",
       "      <th>page 1</th>\n",
       "      <th>page 2</th>\n",
       "      <th>page 3</th>\n",
       "      <th>page 4</th>\n",
       "      <th>page 5</th>\n",
       "      <th>page 6</th>\n",
       "      <th>page 7</th>\n",
       "      <th>page 8</th>\n",
       "      <th>page 9</th>\n",
       "      <th>page 10</th>\n",
       "      <th>page 11</th>\n",
       "      <th>page 12</th>\n",
       "      <th>page 13</th>\n",
       "      <th>page 14</th>\n",
       "      <th>page 15</th>\n",
       "      <th>Iforest_1</th>\n",
       "    </tr>\n",
       "  </thead>\n",
       "  <tbody>\n",
       "    <tr>\n",
       "      <td>384</td>\n",
       "      <td>0.548</td>\n",
       "      <td>0.533</td>\n",
       "      <td>-0.022</td>\n",
       "      <td>-0.714</td>\n",
       "      <td>0.648</td>\n",
       "      <td>0.818</td>\n",
       "      <td>0.795</td>\n",
       "      <td>0.326</td>\n",
       "      <td>0.618</td>\n",
       "      <td>0.675</td>\n",
       "      <td>0.617</td>\n",
       "      <td>0.784</td>\n",
       "      <td>0.900</td>\n",
       "      <td>0.776</td>\n",
       "      <td>0.700</td>\n",
       "      <td>Normal</td>\n",
       "    </tr>\n",
       "    <tr>\n",
       "      <td>422</td>\n",
       "      <td>-2.184</td>\n",
       "      <td>-5.829</td>\n",
       "      <td>-4.181</td>\n",
       "      <td>-4.445</td>\n",
       "      <td>-4.693</td>\n",
       "      <td>-4.275</td>\n",
       "      <td>-6.126</td>\n",
       "      <td>-4.628</td>\n",
       "      <td>-4.139</td>\n",
       "      <td>-1.509</td>\n",
       "      <td>-2.916</td>\n",
       "      <td>-1.492</td>\n",
       "      <td>-0.605</td>\n",
       "      <td>-0.314</td>\n",
       "      <td>-0.380</td>\n",
       "      <td>Risk</td>\n",
       "    </tr>\n",
       "    <tr>\n",
       "      <td>448</td>\n",
       "      <td>0.563</td>\n",
       "      <td>0.949</td>\n",
       "      <td>0.500</td>\n",
       "      <td>-0.185</td>\n",
       "      <td>1.068</td>\n",
       "      <td>1.426</td>\n",
       "      <td>0.280</td>\n",
       "      <td>0.532</td>\n",
       "      <td>0.619</td>\n",
       "      <td>0.539</td>\n",
       "      <td>-0.148</td>\n",
       "      <td>0.667</td>\n",
       "      <td>-0.477</td>\n",
       "      <td>0.491</td>\n",
       "      <td>0.129</td>\n",
       "      <td>Normal</td>\n",
       "    </tr>\n",
       "    <tr>\n",
       "      <td>507</td>\n",
       "      <td>0.567</td>\n",
       "      <td>0.458</td>\n",
       "      <td>-0.333</td>\n",
       "      <td>0.172</td>\n",
       "      <td>-0.050</td>\n",
       "      <td>0.022</td>\n",
       "      <td>0.274</td>\n",
       "      <td>-0.681</td>\n",
       "      <td>-0.240</td>\n",
       "      <td>0.947</td>\n",
       "      <td>0.867</td>\n",
       "      <td>0.978</td>\n",
       "      <td>1.140</td>\n",
       "      <td>1.175</td>\n",
       "      <td>0.667</td>\n",
       "      <td>Normal</td>\n",
       "    </tr>\n",
       "    <tr>\n",
       "      <td>549</td>\n",
       "      <td>0.202</td>\n",
       "      <td>0.890</td>\n",
       "      <td>0.746</td>\n",
       "      <td>0.769</td>\n",
       "      <td>0.563</td>\n",
       "      <td>1.001</td>\n",
       "      <td>0.930</td>\n",
       "      <td>0.746</td>\n",
       "      <td>0.888</td>\n",
       "      <td>0.676</td>\n",
       "      <td>0.720</td>\n",
       "      <td>-0.408</td>\n",
       "      <td>-1.199</td>\n",
       "      <td>-1.342</td>\n",
       "      <td>-2.574</td>\n",
       "      <td>Normal</td>\n",
       "    </tr>\n",
       "    <tr>\n",
       "      <td>...</td>\n",
       "      <td>...</td>\n",
       "      <td>...</td>\n",
       "      <td>...</td>\n",
       "      <td>...</td>\n",
       "      <td>...</td>\n",
       "      <td>...</td>\n",
       "      <td>...</td>\n",
       "      <td>...</td>\n",
       "      <td>...</td>\n",
       "      <td>...</td>\n",
       "      <td>...</td>\n",
       "      <td>...</td>\n",
       "      <td>...</td>\n",
       "      <td>...</td>\n",
       "      <td>...</td>\n",
       "      <td>...</td>\n",
       "    </tr>\n",
       "    <tr>\n",
       "      <td>1562</td>\n",
       "      <td>0.592</td>\n",
       "      <td>-0.613</td>\n",
       "      <td>-0.717</td>\n",
       "      <td>0.078</td>\n",
       "      <td>0.905</td>\n",
       "      <td>-0.541</td>\n",
       "      <td>0.672</td>\n",
       "      <td>0.312</td>\n",
       "      <td>-1.063</td>\n",
       "      <td>0.315</td>\n",
       "      <td>0.376</td>\n",
       "      <td>0.344</td>\n",
       "      <td>0.352</td>\n",
       "      <td>0.055</td>\n",
       "      <td>-1.708</td>\n",
       "      <td>Normal</td>\n",
       "    </tr>\n",
       "    <tr>\n",
       "      <td>1568</td>\n",
       "      <td>-1.513</td>\n",
       "      <td>-0.315</td>\n",
       "      <td>0.543</td>\n",
       "      <td>0.547</td>\n",
       "      <td>0.558</td>\n",
       "      <td>-0.162</td>\n",
       "      <td>0.516</td>\n",
       "      <td>0.337</td>\n",
       "      <td>0.547</td>\n",
       "      <td>0.286</td>\n",
       "      <td>0.382</td>\n",
       "      <td>0.427</td>\n",
       "      <td>-0.354</td>\n",
       "      <td>-1.253</td>\n",
       "      <td>0.754</td>\n",
       "      <td>Normal</td>\n",
       "    </tr>\n",
       "    <tr>\n",
       "      <td>1572</td>\n",
       "      <td>0.632</td>\n",
       "      <td>0.723</td>\n",
       "      <td>0.473</td>\n",
       "      <td>0.299</td>\n",
       "      <td>0.555</td>\n",
       "      <td>0.824</td>\n",
       "      <td>0.090</td>\n",
       "      <td>-0.578</td>\n",
       "      <td>-0.545</td>\n",
       "      <td>-0.250</td>\n",
       "      <td>-0.055</td>\n",
       "      <td>0.654</td>\n",
       "      <td>0.738</td>\n",
       "      <td>0.717</td>\n",
       "      <td>0.912</td>\n",
       "      <td>Normal</td>\n",
       "    </tr>\n",
       "    <tr>\n",
       "      <td>1576</td>\n",
       "      <td>0.634</td>\n",
       "      <td>0.794</td>\n",
       "      <td>0.345</td>\n",
       "      <td>0.046</td>\n",
       "      <td>-0.221</td>\n",
       "      <td>-0.913</td>\n",
       "      <td>-1.013</td>\n",
       "      <td>0.759</td>\n",
       "      <td>0.536</td>\n",
       "      <td>-1.160</td>\n",
       "      <td>-0.307</td>\n",
       "      <td>0.731</td>\n",
       "      <td>-1.124</td>\n",
       "      <td>0.543</td>\n",
       "      <td>0.793</td>\n",
       "      <td>Normal</td>\n",
       "    </tr>\n",
       "    <tr>\n",
       "      <td>1583</td>\n",
       "      <td>-6.539</td>\n",
       "      <td>-0.162</td>\n",
       "      <td>0.094</td>\n",
       "      <td>0.199</td>\n",
       "      <td>0.173</td>\n",
       "      <td>-0.723</td>\n",
       "      <td>0.834</td>\n",
       "      <td>0.622</td>\n",
       "      <td>0.863</td>\n",
       "      <td>0.740</td>\n",
       "      <td>0.776</td>\n",
       "      <td>0.643</td>\n",
       "      <td>-0.652</td>\n",
       "      <td>0.298</td>\n",
       "      <td>-1.614</td>\n",
       "      <td>Normal</td>\n",
       "    </tr>\n",
       "  </tbody>\n",
       "</table>\n",
       "<p>66 rows × 16 columns</p>\n",
       "</div>"
      ],
      "text/plain": [
       "      page 1  page 2  page 3  page 4  page 5  page 6  page 7  page 8  page 9  \\\n",
       "384    0.548   0.533  -0.022  -0.714   0.648   0.818   0.795   0.326   0.618   \n",
       "422   -2.184  -5.829  -4.181  -4.445  -4.693  -4.275  -6.126  -4.628  -4.139   \n",
       "448    0.563   0.949   0.500  -0.185   1.068   1.426   0.280   0.532   0.619   \n",
       "507    0.567   0.458  -0.333   0.172  -0.050   0.022   0.274  -0.681  -0.240   \n",
       "549    0.202   0.890   0.746   0.769   0.563   1.001   0.930   0.746   0.888   \n",
       "...      ...     ...     ...     ...     ...     ...     ...     ...     ...   \n",
       "1562   0.592  -0.613  -0.717   0.078   0.905  -0.541   0.672   0.312  -1.063   \n",
       "1568  -1.513  -0.315   0.543   0.547   0.558  -0.162   0.516   0.337   0.547   \n",
       "1572   0.632   0.723   0.473   0.299   0.555   0.824   0.090  -0.578  -0.545   \n",
       "1576   0.634   0.794   0.345   0.046  -0.221  -0.913  -1.013   0.759   0.536   \n",
       "1583  -6.539  -0.162   0.094   0.199   0.173  -0.723   0.834   0.622   0.863   \n",
       "\n",
       "      page 10  page 11  page 12  page 13  page 14  page 15 Iforest_1  \n",
       "384     0.675    0.617    0.784    0.900    0.776    0.700    Normal  \n",
       "422    -1.509   -2.916   -1.492   -0.605   -0.314   -0.380      Risk  \n",
       "448     0.539   -0.148    0.667   -0.477    0.491    0.129    Normal  \n",
       "507     0.947    0.867    0.978    1.140    1.175    0.667    Normal  \n",
       "549     0.676    0.720   -0.408   -1.199   -1.342   -2.574    Normal  \n",
       "...       ...      ...      ...      ...      ...      ...       ...  \n",
       "1562    0.315    0.376    0.344    0.352    0.055   -1.708    Normal  \n",
       "1568    0.286    0.382    0.427   -0.354   -1.253    0.754    Normal  \n",
       "1572   -0.250   -0.055    0.654    0.738    0.717    0.912    Normal  \n",
       "1576   -1.160   -0.307    0.731   -1.124    0.543    0.793    Normal  \n",
       "1583    0.740    0.776    0.643   -0.652    0.298   -1.614    Normal  \n",
       "\n",
       "[66 rows x 16 columns]"
      ]
     },
     "execution_count": 44,
     "metadata": {},
     "output_type": "execute_result"
    }
   ],
   "source": [
    "round(user_fraud_matrix_scaled,3)"
   ]
  },
  {
   "cell_type": "code",
   "execution_count": 25,
   "metadata": {},
   "outputs": [],
   "source": [
    "iforest_1 = IForest(behaviour=\"new\", bootstrap=True,n_jobs=-1,) \n",
    "iforest_1= iforest_1.fit_predict(user_fraud_matrix_scaled)"
   ]
  },
  {
   "cell_type": "code",
   "execution_count": 26,
   "metadata": {},
   "outputs": [
    {
     "data": {
      "text/plain": [
       "{0: 59, 1: 7}"
      ]
     },
     "execution_count": 26,
     "metadata": {},
     "output_type": "execute_result"
    }
   ],
   "source": [
    "unique, counts = np.unique(iforest_1,return_counts=True)\n",
    "dict(zip(unique, counts))"
   ]
  },
  {
   "cell_type": "code",
   "execution_count": 27,
   "metadata": {},
   "outputs": [],
   "source": [
    "user_fraud_matrix_scaled['Iforest_1'] = np.where(iforest_1 == 0, 'Normal', 'Risk')\n",
    "user_fraud_matrix_scaled.to_csv('Models/Q1_Mouse Activity/Data/user_fraud_matrix_labeled.csv')"
   ]
  },
  {
   "cell_type": "code",
   "execution_count": 28,
   "metadata": {},
   "outputs": [
    {
     "data": {
      "text/html": [
       "<div>\n",
       "<style scoped>\n",
       "    .dataframe tbody tr th:only-of-type {\n",
       "        vertical-align: middle;\n",
       "    }\n",
       "\n",
       "    .dataframe tbody tr th {\n",
       "        vertical-align: top;\n",
       "    }\n",
       "\n",
       "    .dataframe thead th {\n",
       "        text-align: right;\n",
       "    }\n",
       "</style>\n",
       "<table border=\"1\" class=\"dataframe\">\n",
       "  <thead>\n",
       "    <tr style=\"text-align: right;\">\n",
       "      <th></th>\n",
       "      <th>page 1</th>\n",
       "      <th>page 2</th>\n",
       "      <th>page 3</th>\n",
       "      <th>page 4</th>\n",
       "      <th>page 5</th>\n",
       "      <th>page 6</th>\n",
       "      <th>page 7</th>\n",
       "      <th>page 8</th>\n",
       "      <th>page 9</th>\n",
       "      <th>page 10</th>\n",
       "      <th>page 11</th>\n",
       "      <th>page 12</th>\n",
       "      <th>page 13</th>\n",
       "      <th>page 14</th>\n",
       "      <th>page 15</th>\n",
       "      <th>Iforest_1</th>\n",
       "    </tr>\n",
       "  </thead>\n",
       "  <tbody>\n",
       "    <tr>\n",
       "      <td>422</td>\n",
       "      <td>-2.183712</td>\n",
       "      <td>-5.828676</td>\n",
       "      <td>-4.181490</td>\n",
       "      <td>-4.445188</td>\n",
       "      <td>-4.693307</td>\n",
       "      <td>-4.274546</td>\n",
       "      <td>-6.125894</td>\n",
       "      <td>-4.628268</td>\n",
       "      <td>-4.138891</td>\n",
       "      <td>-1.508994</td>\n",
       "      <td>-2.916452</td>\n",
       "      <td>-1.491649</td>\n",
       "      <td>-0.604758</td>\n",
       "      <td>-0.314440</td>\n",
       "      <td>-0.379609</td>\n",
       "      <td>Risk</td>\n",
       "    </tr>\n",
       "    <tr>\n",
       "      <td>727</td>\n",
       "      <td>-0.202614</td>\n",
       "      <td>-1.288524</td>\n",
       "      <td>-1.540978</td>\n",
       "      <td>-2.275778</td>\n",
       "      <td>-0.445298</td>\n",
       "      <td>-1.584552</td>\n",
       "      <td>-1.974968</td>\n",
       "      <td>-1.823290</td>\n",
       "      <td>-4.174004</td>\n",
       "      <td>-2.587013</td>\n",
       "      <td>-1.823522</td>\n",
       "      <td>-1.661425</td>\n",
       "      <td>-3.521579</td>\n",
       "      <td>-2.754341</td>\n",
       "      <td>-3.487638</td>\n",
       "      <td>Risk</td>\n",
       "    </tr>\n",
       "    <tr>\n",
       "      <td>866</td>\n",
       "      <td>-0.254270</td>\n",
       "      <td>-0.550579</td>\n",
       "      <td>-0.804950</td>\n",
       "      <td>-2.098284</td>\n",
       "      <td>-2.465853</td>\n",
       "      <td>-2.757636</td>\n",
       "      <td>-0.404033</td>\n",
       "      <td>0.007019</td>\n",
       "      <td>0.481451</td>\n",
       "      <td>-1.273219</td>\n",
       "      <td>0.020065</td>\n",
       "      <td>-1.784863</td>\n",
       "      <td>0.344770</td>\n",
       "      <td>-0.623173</td>\n",
       "      <td>0.219069</td>\n",
       "      <td>Risk</td>\n",
       "    </tr>\n",
       "    <tr>\n",
       "      <td>1141</td>\n",
       "      <td>-1.820926</td>\n",
       "      <td>-0.444974</td>\n",
       "      <td>0.220089</td>\n",
       "      <td>-0.055135</td>\n",
       "      <td>-0.866363</td>\n",
       "      <td>0.259542</td>\n",
       "      <td>-0.420009</td>\n",
       "      <td>-0.245612</td>\n",
       "      <td>-1.157066</td>\n",
       "      <td>-0.459751</td>\n",
       "      <td>-1.962109</td>\n",
       "      <td>0.773933</td>\n",
       "      <td>1.565960</td>\n",
       "      <td>-0.082486</td>\n",
       "      <td>-0.368176</td>\n",
       "      <td>Risk</td>\n",
       "    </tr>\n",
       "    <tr>\n",
       "      <td>1272</td>\n",
       "      <td>-0.342062</td>\n",
       "      <td>1.120141</td>\n",
       "      <td>0.977275</td>\n",
       "      <td>-1.051740</td>\n",
       "      <td>-2.426578</td>\n",
       "      <td>-1.713342</td>\n",
       "      <td>1.210826</td>\n",
       "      <td>0.966093</td>\n",
       "      <td>1.165767</td>\n",
       "      <td>0.961911</td>\n",
       "      <td>0.971380</td>\n",
       "      <td>1.157981</td>\n",
       "      <td>1.446635</td>\n",
       "      <td>1.279634</td>\n",
       "      <td>0.973207</td>\n",
       "      <td>Risk</td>\n",
       "    </tr>\n",
       "    <tr>\n",
       "      <td>1297</td>\n",
       "      <td>0.047205</td>\n",
       "      <td>0.132114</td>\n",
       "      <td>-0.027132</td>\n",
       "      <td>0.371317</td>\n",
       "      <td>0.652262</td>\n",
       "      <td>-0.041159</td>\n",
       "      <td>-1.134578</td>\n",
       "      <td>-1.933471</td>\n",
       "      <td>-1.224167</td>\n",
       "      <td>-5.476701</td>\n",
       "      <td>-3.737193</td>\n",
       "      <td>1.098760</td>\n",
       "      <td>1.431168</td>\n",
       "      <td>1.327531</td>\n",
       "      <td>0.991720</td>\n",
       "      <td>Risk</td>\n",
       "    </tr>\n",
       "    <tr>\n",
       "      <td>1495</td>\n",
       "      <td>-0.468345</td>\n",
       "      <td>-2.110980</td>\n",
       "      <td>-2.617049</td>\n",
       "      <td>-2.763410</td>\n",
       "      <td>-0.962960</td>\n",
       "      <td>-0.381544</td>\n",
       "      <td>-0.347351</td>\n",
       "      <td>-1.187253</td>\n",
       "      <td>-0.738828</td>\n",
       "      <td>-0.654655</td>\n",
       "      <td>-0.736261</td>\n",
       "      <td>-0.789223</td>\n",
       "      <td>-0.511677</td>\n",
       "      <td>-0.774498</td>\n",
       "      <td>-1.831863</td>\n",
       "      <td>Risk</td>\n",
       "    </tr>\n",
       "  </tbody>\n",
       "</table>\n",
       "</div>"
      ],
      "text/plain": [
       "        page 1    page 2    page 3    page 4    page 5    page 6    page 7  \\\n",
       "422  -2.183712 -5.828676 -4.181490 -4.445188 -4.693307 -4.274546 -6.125894   \n",
       "727  -0.202614 -1.288524 -1.540978 -2.275778 -0.445298 -1.584552 -1.974968   \n",
       "866  -0.254270 -0.550579 -0.804950 -2.098284 -2.465853 -2.757636 -0.404033   \n",
       "1141 -1.820926 -0.444974  0.220089 -0.055135 -0.866363  0.259542 -0.420009   \n",
       "1272 -0.342062  1.120141  0.977275 -1.051740 -2.426578 -1.713342  1.210826   \n",
       "1297  0.047205  0.132114 -0.027132  0.371317  0.652262 -0.041159 -1.134578   \n",
       "1495 -0.468345 -2.110980 -2.617049 -2.763410 -0.962960 -0.381544 -0.347351   \n",
       "\n",
       "        page 8    page 9   page 10   page 11   page 12   page 13   page 14  \\\n",
       "422  -4.628268 -4.138891 -1.508994 -2.916452 -1.491649 -0.604758 -0.314440   \n",
       "727  -1.823290 -4.174004 -2.587013 -1.823522 -1.661425 -3.521579 -2.754341   \n",
       "866   0.007019  0.481451 -1.273219  0.020065 -1.784863  0.344770 -0.623173   \n",
       "1141 -0.245612 -1.157066 -0.459751 -1.962109  0.773933  1.565960 -0.082486   \n",
       "1272  0.966093  1.165767  0.961911  0.971380  1.157981  1.446635  1.279634   \n",
       "1297 -1.933471 -1.224167 -5.476701 -3.737193  1.098760  1.431168  1.327531   \n",
       "1495 -1.187253 -0.738828 -0.654655 -0.736261 -0.789223 -0.511677 -0.774498   \n",
       "\n",
       "       page 15 Iforest_1  \n",
       "422  -0.379609      Risk  \n",
       "727  -3.487638      Risk  \n",
       "866   0.219069      Risk  \n",
       "1141 -0.368176      Risk  \n",
       "1272  0.973207      Risk  \n",
       "1297  0.991720      Risk  \n",
       "1495 -1.831863      Risk  "
      ]
     },
     "execution_count": 28,
     "metadata": {},
     "output_type": "execute_result"
    }
   ],
   "source": [
    "user_fraud_matrix_scaled[user_fraud_matrix_scaled.Iforest_1== 'Risk']"
   ]
  },
  {
   "cell_type": "code",
   "execution_count": 29,
   "metadata": {},
   "outputs": [],
   "source": [
    "validations = pd.read_csv('Data/validations.csv')\n",
    "validations_userid_fraud = validations[validations.validation == False]['user_id']"
   ]
  },
  {
   "cell_type": "code",
   "execution_count": 30,
   "metadata": {},
   "outputs": [],
   "source": [
    "results_over_lap = validations_userid_fraud.isin(user_fraud_matrix_scaled[user_fraud_matrix_scaled.Iforest_1== 'Risk'].index)"
   ]
  },
  {
   "cell_type": "code",
   "execution_count": 31,
   "metadata": {},
   "outputs": [
    {
     "data": {
      "text/plain": [
       "130     727\n",
       "174     866\n",
       "368    1272\n",
       "Name: user_id, dtype: int64"
      ]
     },
     "execution_count": 31,
     "metadata": {},
     "output_type": "execute_result"
    }
   ],
   "source": [
    "validations_userid_fraud[results_over_lap == True]"
   ]
  },
  {
   "cell_type": "code",
   "execution_count": 32,
   "metadata": {},
   "outputs": [],
   "source": [
    "user_direction_summary = pd.read_csv('Models/Q1_Mouse Activity/Data/user_direction_summary.csv')\n",
    "user_direction_summary = user_direction_summary.drop(columns='Unnamed: 0')"
   ]
  },
  {
   "cell_type": "code",
   "execution_count": 33,
   "metadata": {},
   "outputs": [],
   "source": [
    "def plot_movement(user_id, page_number, user_label):\n",
    "    user_data = user_direction_summary[user_direction_summary['user_id'] == user_id]\n",
    "    user_data = user_data[user_data['direction'] == page_number]\n",
    "    plt.plot('cord_x','cord_y',data=user_data)\n",
    "    plt.xlim(0,1366)\n",
    "    plt.ylim(0,728)\n",
    "    plt.title(f'User {user_id} mouse movement for {page_number}: {user_label} ')\n",
    "    plt.show()"
   ]
  },
  {
   "cell_type": "code",
   "execution_count": 45,
   "metadata": {},
   "outputs": [
    {
     "data": {
      "image/png": "[encoded data removed]",
      "text/plain": [
       "<Figure size 432x288 with 1 Axes>"
      ]
     },
     "metadata": {
      "needs_background": "light"
     },
     "output_type": "display_data"
    }
   ],
   "source": [
    "plot_movement(422, page_number_list[7],'Outlier')"
   ]
  },
  {
   "cell_type": "code",
   "execution_count": 46,
   "metadata": {},
   "outputs": [
    {
     "data": {
      "image/png": "[encoded data removed]",
      "text/plain": [
       "<Figure size 432x288 with 1 Axes>"
      ]
     },
     "metadata": {
      "needs_background": "light"
     },
     "output_type": "display_data"
    }
   ],
   "source": [
    "plot_movement(387, page_number_list[7],'Normal')"
   ]
  }
 ],
 "metadata": {
  "kernelspec": {
   "display_name": "Python 3",
   "language": "python",
   "name": "python3"
  },
  "language_info": {
   "codemirror_mode": {
    "name": "ipython",
    "version": 3
   },
   "file_extension": ".py",
   "mimetype": "text/x-python",
   "name": "python",
   "nbconvert_exporter": "python",
   "pygments_lexer": "ipython3",
   "version": "3.7.4"
  }
 },
 "nbformat": 4,
 "nbformat_minor": 4
}
