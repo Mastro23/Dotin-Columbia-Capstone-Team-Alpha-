{
 "cells": [
  {
   "cell_type": "markdown",
   "metadata": {},
   "source": [
    "## Introduction \n",
    "\n",
    "The purpose of this model is to identify the most likely path for all users "
   ]
  },
  {
   "cell_type": "code",
   "execution_count": null,
   "metadata": {},
   "outputs": [],
   "source": [
    "import os\n",
    "import pandas as pd \n",
    "import numpy as np\n",
    "from pprint import pprint "
   ]
  },
  {
   "cell_type": "code",
   "execution_count": null,
   "metadata": {},
   "outputs": [],
   "source": [
    "def generate_dic(items): \n",
    "    \"\"\"Genderates a dictionay for all values in item \"\"\"\n",
    "    new_dic = {}\n",
    "    count = 0\n",
    "    for unique in items: \n",
    "        new_dic[unique]  = count\n",
    "        count +=1\n",
    "        \n",
    "    return new_dic\n",
    "\n",
    "def transition_matrix(transitions):\n",
    "    \"\"\"\n",
    "    Calculates a probability transtion matrix, and return a pandas dataframe with all the probabilities. \n",
    "    \"\"\"\n",
    "    unique_items = pd.unique(transitions)\n",
    "    length = len(unique_items)\n",
    "    transition_matrix = np.zeros((length, length))\n",
    "    \n",
    "    new_dict = generate_dic(unique_items)\n",
    "    \n",
    "    for (i,j) in zip(transitions,transitions[1:]):\n",
    "        transition_matrix[new_dict[i],new_dict[j]] +=1\n",
    "    \n",
    "    transition_prob = pd.DataFrame(data = 0,index=unique_items, columns=unique_items)\n",
    "    \n",
    "    for column in range(0,len(unique_items)):\n",
    "        for row in range(0,len(unique_items)):\n",
    "            transition_prob.iloc[column,row]  = transition_matrix[column,row] /  np.sum(transition_matrix[column,0:])\n",
    "        \n",
    "    return round(transition_prob,3)\n",
    "\n",
    "def _get_markov_edges(Q):\n",
    "    \"\"\"Takes a probabiilty matrix and outputs a dictionary like item for all the edges\"\"\"\n",
    "    edges = {}\n",
    "    for col in Q.columns:\n",
    "        for idx in Q.index:\n",
    "            edges[(idx,col)] = Q.loc[idx,col]\n",
    "    return edges"
   ]
  },
  {
   "cell_type": "code",
   "execution_count": null,
   "metadata": {},
   "outputs": [],
   "source": [
    "# set working directory (Change for youe)\n",
    "os.chdir('C:/Users/ander/Google Drive/Columbia/Fall 2019/Capstone/Dotin-Columbia-Castone-Team-Alpha-')"
   ]
  },
  {
   "cell_type": "code",
   "execution_count": null,
   "metadata": {},
   "outputs": [],
   "source": [
    "data = pd.read_csv('Models/Q1_Mouse Activity/Data/direction_data.csv')\n",
    "data = data.drop(columns= 'Unnamed: 0')\n",
    "data.head()"
   ]
  },
  {
   "cell_type": "code",
   "execution_count": 5,
   "metadata": {},
   "outputs": [
    {
     "data": {
      "text/html": [
       "<div>\n",
       "<style scoped>\n",
       "    .dataframe tbody tr th:only-of-type {\n",
       "        vertical-align: middle;\n",
       "    }\n",
       "\n",
       "    .dataframe tbody tr th {\n",
       "        vertical-align: top;\n",
       "    }\n",
       "\n",
       "    .dataframe thead th {\n",
       "        text-align: right;\n",
       "    }\n",
       "</style>\n",
       "<table border=\"1\" class=\"dataframe\">\n",
       "  <thead>\n",
       "    <tr style=\"text-align: right;\">\n",
       "      <th></th>\n",
       "      <th>Direction</th>\n",
       "      <th>Proportion</th>\n",
       "    </tr>\n",
       "  </thead>\n",
       "  <tbody>\n",
       "    <tr>\n",
       "      <td>No Movement</td>\n",
       "      <td>1551783</td>\n",
       "      <td>0.191068</td>\n",
       "    </tr>\n",
       "    <tr>\n",
       "      <td>North</td>\n",
       "      <td>1043138</td>\n",
       "      <td>0.128439</td>\n",
       "    </tr>\n",
       "    <tr>\n",
       "      <td>East</td>\n",
       "      <td>959875</td>\n",
       "      <td>0.118187</td>\n",
       "    </tr>\n",
       "    <tr>\n",
       "      <td>North East</td>\n",
       "      <td>935212</td>\n",
       "      <td>0.115151</td>\n",
       "    </tr>\n",
       "    <tr>\n",
       "      <td>South East</td>\n",
       "      <td>845577</td>\n",
       "      <td>0.104114</td>\n",
       "    </tr>\n",
       "    <tr>\n",
       "      <td>West</td>\n",
       "      <td>823033</td>\n",
       "      <td>0.101338</td>\n",
       "    </tr>\n",
       "    <tr>\n",
       "      <td>South West</td>\n",
       "      <td>769229</td>\n",
       "      <td>0.094714</td>\n",
       "    </tr>\n",
       "    <tr>\n",
       "      <td>South</td>\n",
       "      <td>612332</td>\n",
       "      <td>0.075395</td>\n",
       "    </tr>\n",
       "    <tr>\n",
       "      <td>North West</td>\n",
       "      <td>581457</td>\n",
       "      <td>0.071594</td>\n",
       "    </tr>\n",
       "  </tbody>\n",
       "</table>\n",
       "</div>"
      ],
      "text/plain": [
       "             Direction  Proportion\n",
       "No Movement    1551783    0.191068\n",
       "North          1043138    0.128439\n",
       "East            959875    0.118187\n",
       "North East      935212    0.115151\n",
       "South East      845577    0.104114\n",
       "West            823033    0.101338\n",
       "South West      769229    0.094714\n",
       "South           612332    0.075395\n",
       "North West      581457    0.071594"
      ]
     },
     "execution_count": 5,
     "metadata": {},
     "output_type": "execute_result"
    }
   ],
   "source": [
    "# calculate the proportion of each movement direction in the data\n",
    "proportion = pd.DataFrame(data['Direction'].value_counts())\n",
    "proportion['Proportion'] = proportion['Direction'] /proportion['Direction'].sum()\n",
    "proportion"
   ]
  },
  {
   "cell_type": "code",
   "execution_count": 6,
   "metadata": {},
   "outputs": [
    {
     "data": {
      "text/plain": [
       "array(['North East', 'North West', 'No Movement', 'North', 'South East',\n",
       "       'South West', 'South', 'West', 'East'], dtype=object)"
      ]
     },
     "execution_count": 6,
     "metadata": {},
     "output_type": "execute_result"
    }
   ],
   "source": [
    "# identify all the states\n",
    "states_ = pd.unique(data['Direction'])\n",
    "states_"
   ]
  },
  {
   "cell_type": "code",
   "execution_count": 7,
   "metadata": {},
   "outputs": [],
   "source": [
    "user_direction = data[['User Id', 'Direction']]"
   ]
  },
  {
   "cell_type": "code",
   "execution_count": 8,
   "metadata": {},
   "outputs": [],
   "source": [
    "# create a list for all the directions in the dataset \n",
    "direction_all = []\n",
    "for value in data['Direction']: \n",
    "    direction_all.append(value)"
   ]
  },
  {
   "cell_type": "code",
   "execution_count": 9,
   "metadata": {},
   "outputs": [
    {
     "data": {
      "text/html": [
       "<div>\n",
       "<style scoped>\n",
       "    .dataframe tbody tr th:only-of-type {\n",
       "        vertical-align: middle;\n",
       "    }\n",
       "\n",
       "    .dataframe tbody tr th {\n",
       "        vertical-align: top;\n",
       "    }\n",
       "\n",
       "    .dataframe thead th {\n",
       "        text-align: right;\n",
       "    }\n",
       "</style>\n",
       "<table border=\"1\" class=\"dataframe\">\n",
       "  <thead>\n",
       "    <tr style=\"text-align: right;\">\n",
       "      <th></th>\n",
       "      <th>North East</th>\n",
       "      <th>North West</th>\n",
       "      <th>No Movement</th>\n",
       "      <th>North</th>\n",
       "      <th>South East</th>\n",
       "      <th>South West</th>\n",
       "      <th>South</th>\n",
       "      <th>West</th>\n",
       "      <th>East</th>\n",
       "    </tr>\n",
       "  </thead>\n",
       "  <tbody>\n",
       "    <tr>\n",
       "      <td>North East</td>\n",
       "      <td>0.585</td>\n",
       "      <td>0.005</td>\n",
       "      <td>0.161</td>\n",
       "      <td>0.100</td>\n",
       "      <td>0.004</td>\n",
       "      <td>0.011</td>\n",
       "      <td>0.004</td>\n",
       "      <td>0.005</td>\n",
       "      <td>0.124</td>\n",
       "    </tr>\n",
       "    <tr>\n",
       "      <td>North West</td>\n",
       "      <td>0.007</td>\n",
       "      <td>0.576</td>\n",
       "      <td>0.134</td>\n",
       "      <td>0.003</td>\n",
       "      <td>0.005</td>\n",
       "      <td>0.007</td>\n",
       "      <td>0.102</td>\n",
       "      <td>0.005</td>\n",
       "      <td>0.162</td>\n",
       "    </tr>\n",
       "    <tr>\n",
       "      <td>No Movement</td>\n",
       "      <td>0.099</td>\n",
       "      <td>0.047</td>\n",
       "      <td>0.385</td>\n",
       "      <td>0.112</td>\n",
       "      <td>0.078</td>\n",
       "      <td>0.071</td>\n",
       "      <td>0.062</td>\n",
       "      <td>0.067</td>\n",
       "      <td>0.079</td>\n",
       "    </tr>\n",
       "    <tr>\n",
       "      <td>North</td>\n",
       "      <td>0.099</td>\n",
       "      <td>0.004</td>\n",
       "      <td>0.146</td>\n",
       "      <td>0.569</td>\n",
       "      <td>0.099</td>\n",
       "      <td>0.002</td>\n",
       "      <td>0.006</td>\n",
       "      <td>0.039</td>\n",
       "      <td>0.035</td>\n",
       "    </tr>\n",
       "    <tr>\n",
       "      <td>South East</td>\n",
       "      <td>0.004</td>\n",
       "      <td>0.003</td>\n",
       "      <td>0.137</td>\n",
       "      <td>0.116</td>\n",
       "      <td>0.600</td>\n",
       "      <td>0.004</td>\n",
       "      <td>0.004</td>\n",
       "      <td>0.128</td>\n",
       "      <td>0.003</td>\n",
       "    </tr>\n",
       "    <tr>\n",
       "      <td>South West</td>\n",
       "      <td>0.014</td>\n",
       "      <td>0.005</td>\n",
       "      <td>0.142</td>\n",
       "      <td>0.009</td>\n",
       "      <td>0.004</td>\n",
       "      <td>0.630</td>\n",
       "      <td>0.086</td>\n",
       "      <td>0.107</td>\n",
       "      <td>0.003</td>\n",
       "    </tr>\n",
       "    <tr>\n",
       "      <td>South</td>\n",
       "      <td>0.005</td>\n",
       "      <td>0.097</td>\n",
       "      <td>0.179</td>\n",
       "      <td>0.007</td>\n",
       "      <td>0.002</td>\n",
       "      <td>0.102</td>\n",
       "      <td>0.511</td>\n",
       "      <td>0.048</td>\n",
       "      <td>0.048</td>\n",
       "    </tr>\n",
       "    <tr>\n",
       "      <td>West</td>\n",
       "      <td>0.002</td>\n",
       "      <td>0.003</td>\n",
       "      <td>0.136</td>\n",
       "      <td>0.045</td>\n",
       "      <td>0.121</td>\n",
       "      <td>0.108</td>\n",
       "      <td>0.039</td>\n",
       "      <td>0.536</td>\n",
       "      <td>0.011</td>\n",
       "    </tr>\n",
       "    <tr>\n",
       "      <td>East</td>\n",
       "      <td>0.112</td>\n",
       "      <td>0.102</td>\n",
       "      <td>0.132</td>\n",
       "      <td>0.036</td>\n",
       "      <td>0.002</td>\n",
       "      <td>0.003</td>\n",
       "      <td>0.033</td>\n",
       "      <td>0.010</td>\n",
       "      <td>0.570</td>\n",
       "    </tr>\n",
       "  </tbody>\n",
       "</table>\n",
       "</div>"
      ],
      "text/plain": [
       "             North East  North West  No Movement  North  South East  \\\n",
       "North East        0.585       0.005        0.161  0.100       0.004   \n",
       "North West        0.007       0.576        0.134  0.003       0.005   \n",
       "No Movement       0.099       0.047        0.385  0.112       0.078   \n",
       "North             0.099       0.004        0.146  0.569       0.099   \n",
       "South East        0.004       0.003        0.137  0.116       0.600   \n",
       "South West        0.014       0.005        0.142  0.009       0.004   \n",
       "South             0.005       0.097        0.179  0.007       0.002   \n",
       "West              0.002       0.003        0.136  0.045       0.121   \n",
       "East              0.112       0.102        0.132  0.036       0.002   \n",
       "\n",
       "             South West  South   West   East  \n",
       "North East        0.011  0.004  0.005  0.124  \n",
       "North West        0.007  0.102  0.005  0.162  \n",
       "No Movement       0.071  0.062  0.067  0.079  \n",
       "North             0.002  0.006  0.039  0.035  \n",
       "South East        0.004  0.004  0.128  0.003  \n",
       "South West        0.630  0.086  0.107  0.003  \n",
       "South             0.102  0.511  0.048  0.048  \n",
       "West              0.108  0.039  0.536  0.011  \n",
       "East              0.003  0.033  0.010  0.570  "
      ]
     },
     "execution_count": 9,
     "metadata": {},
     "output_type": "execute_result"
    }
   ],
   "source": [
    "# calculate the probability matrix\n",
    "prob_matrix = transition_matrix(direction_all)\n",
    "prob_matrix"
   ]
  },
  {
   "cell_type": "code",
   "execution_count": 10,
   "metadata": {},
   "outputs": [
    {
     "name": "stdout",
     "output_type": "stream",
     "text": [
      "{('East', 'East'): 0.57,\n",
      " ('East', 'No Movement'): 0.132,\n",
      " ('East', 'North'): 0.036,\n",
      " ('East', 'North East'): 0.112,\n",
      " ('East', 'North West'): 0.102,\n",
      " ('East', 'South'): 0.033,\n",
      " ('East', 'South East'): 0.002,\n",
      " ('East', 'South West'): 0.003,\n",
      " ('East', 'West'): 0.01,\n",
      " ('No Movement', 'East'): 0.079,\n",
      " ('No Movement', 'No Movement'): 0.385,\n",
      " ('No Movement', 'North'): 0.112,\n",
      " ('No Movement', 'North East'): 0.099,\n",
      " ('No Movement', 'North West'): 0.047,\n",
      " ('No Movement', 'South'): 0.062,\n",
      " ('No Movement', 'South East'): 0.078,\n",
      " ('No Movement', 'South West'): 0.071,\n",
      " ('No Movement', 'West'): 0.067,\n",
      " ('North', 'East'): 0.035,\n",
      " ('North', 'No Movement'): 0.146,\n",
      " ('North', 'North'): 0.569,\n",
      " ('North', 'North East'): 0.099,\n",
      " ('North', 'North West'): 0.004,\n",
      " ('North', 'South'): 0.006,\n",
      " ('North', 'South East'): 0.099,\n",
      " ('North', 'South West'): 0.002,\n",
      " ('North', 'West'): 0.039,\n",
      " ('North East', 'East'): 0.124,\n",
      " ('North East', 'No Movement'): 0.161,\n",
      " ('North East', 'North'): 0.1,\n",
      " ('North East', 'North East'): 0.585,\n",
      " ('North East', 'North West'): 0.005,\n",
      " ('North East', 'South'): 0.004,\n",
      " ('North East', 'South East'): 0.004,\n",
      " ('North East', 'South West'): 0.011,\n",
      " ('North East', 'West'): 0.005,\n",
      " ('North West', 'East'): 0.162,\n",
      " ('North West', 'No Movement'): 0.134,\n",
      " ('North West', 'North'): 0.003,\n",
      " ('North West', 'North East'): 0.007,\n",
      " ('North West', 'North West'): 0.576,\n",
      " ('North West', 'South'): 0.102,\n",
      " ('North West', 'South East'): 0.005,\n",
      " ('North West', 'South West'): 0.007,\n",
      " ('North West', 'West'): 0.005,\n",
      " ('South', 'East'): 0.048,\n",
      " ('South', 'No Movement'): 0.179,\n",
      " ('South', 'North'): 0.007,\n",
      " ('South', 'North East'): 0.005,\n",
      " ('South', 'North West'): 0.097,\n",
      " ('South', 'South'): 0.511,\n",
      " ('South', 'South East'): 0.002,\n",
      " ('South', 'South West'): 0.102,\n",
      " ('South', 'West'): 0.048,\n",
      " ('South East', 'East'): 0.003,\n",
      " ('South East', 'No Movement'): 0.137,\n",
      " ('South East', 'North'): 0.116,\n",
      " ('South East', 'North East'): 0.004,\n",
      " ('South East', 'North West'): 0.003,\n",
      " ('South East', 'South'): 0.004,\n",
      " ('South East', 'South East'): 0.6,\n",
      " ('South East', 'South West'): 0.004,\n",
      " ('South East', 'West'): 0.128,\n",
      " ('South West', 'East'): 0.003,\n",
      " ('South West', 'No Movement'): 0.142,\n",
      " ('South West', 'North'): 0.009,\n",
      " ('South West', 'North East'): 0.014,\n",
      " ('South West', 'North West'): 0.005,\n",
      " ('South West', 'South'): 0.086,\n",
      " ('South West', 'South East'): 0.004,\n",
      " ('South West', 'South West'): 0.63,\n",
      " ('South West', 'West'): 0.107,\n",
      " ('West', 'East'): 0.011,\n",
      " ('West', 'No Movement'): 0.136,\n",
      " ('West', 'North'): 0.045,\n",
      " ('West', 'North East'): 0.002,\n",
      " ('West', 'North West'): 0.003,\n",
      " ('West', 'South'): 0.039,\n",
      " ('West', 'South East'): 0.121,\n",
      " ('West', 'South West'): 0.108,\n",
      " ('West', 'West'): 0.536}\n"
     ]
    }
   ],
   "source": [
    "# find all the edges for the probability matrix \n",
    "edges_wts =  _get_markov_edges(prob_matrix)\n",
    "pprint(edges_wts)"
   ]
  },
  {
   "cell_type": "code",
   "execution_count": 13,
   "metadata": {},
   "outputs": [],
   "source": [
    "# create state space and initial state probabilities\n",
    "hidden_states = np.array(proportion.reset_index()['index'])"
   ]
  },
  {
   "cell_type": "code",
   "execution_count": 14,
   "metadata": {},
   "outputs": [
    {
     "data": {
      "text/plain": [
       "No Movement    0.191068\n",
       "North          0.128439\n",
       "East           0.118187\n",
       "North East     0.115151\n",
       "South East     0.104114\n",
       "West           0.101338\n",
       "South West     0.094714\n",
       "South          0.075395\n",
       "North West     0.071594\n",
       "Name: states, dtype: float64"
      ]
     },
     "execution_count": 14,
     "metadata": {},
     "output_type": "execute_result"
    }
   ],
   "source": [
    "pi = np.array(proportion['Proportion'])\n",
    "state_space = pd.Series(pi, index=hidden_states, name='states')\n",
    "state_space"
   ]
  },
  {
   "cell_type": "markdown",
   "metadata": {},
   "source": [
    "In this situation the true state of the user is unknown, thus hidden from you. One way to model this is to assume that the user has observable behaviors that represent the true, hidden state. Let's walk through an example.\n",
    "\n",
    "First we create our state space - accurate or fraud. We assume they are equiprobable. "
   ]
  },
  {
   "cell_type": "code",
   "execution_count": 15,
   "metadata": {},
   "outputs": [
    {
     "data": {
      "text/plain": [
       "array([[0.585, 0.005, 0.161, 0.1  , 0.004, 0.011, 0.004, 0.005, 0.124],\n",
       "       [0.007, 0.576, 0.134, 0.003, 0.005, 0.007, 0.102, 0.005, 0.162],\n",
       "       [0.099, 0.047, 0.385, 0.112, 0.078, 0.071, 0.062, 0.067, 0.079],\n",
       "       [0.099, 0.004, 0.146, 0.569, 0.099, 0.002, 0.006, 0.039, 0.035],\n",
       "       [0.004, 0.003, 0.137, 0.116, 0.6  , 0.004, 0.004, 0.128, 0.003],\n",
       "       [0.014, 0.005, 0.142, 0.009, 0.004, 0.63 , 0.086, 0.107, 0.003],\n",
       "       [0.005, 0.097, 0.179, 0.007, 0.002, 0.102, 0.511, 0.048, 0.048],\n",
       "       [0.002, 0.003, 0.136, 0.045, 0.121, 0.108, 0.039, 0.536, 0.011],\n",
       "       [0.112, 0.102, 0.132, 0.036, 0.002, 0.003, 0.033, 0.01 , 0.57 ]])"
      ]
     },
     "execution_count": 15,
     "metadata": {},
     "output_type": "execute_result"
    }
   ],
   "source": [
    "# create hidden transition matrix\n",
    "# a or alpha \n",
    "#   = transition probability matrix of changing states given a state\n",
    "# matrix is size (M x M) where M is number of states\n",
    "alpha_paramter =  np.array(prob_matrix)\n",
    "alpha_paramter"
   ]
  },
  {
   "cell_type": "code",
   "execution_count": 17,
   "metadata": {},
   "outputs": [
    {
     "data": {
      "text/plain": [
       "array([[0.1111111111111111, 0.1111111111111111, 0.1111111111111111,\n",
       "        0.1111111111111111, 0.1111111111111111, 0.1111111111111111,\n",
       "        0.1111111111111111, 0.1111111111111111, 0.1111111111111111],\n",
       "       [0.1111111111111111, 0.1111111111111111, 0.1111111111111111,\n",
       "        0.1111111111111111, 0.1111111111111111, 0.1111111111111111,\n",
       "        0.1111111111111111, 0.1111111111111111, 0.1111111111111111],\n",
       "       [0.1111111111111111, 0.1111111111111111, 0.1111111111111111,\n",
       "        0.1111111111111111, 0.1111111111111111, 0.1111111111111111,\n",
       "        0.1111111111111111, 0.1111111111111111, 0.1111111111111111],\n",
       "       [0.1111111111111111, 0.1111111111111111, 0.1111111111111111,\n",
       "        0.1111111111111111, 0.1111111111111111, 0.1111111111111111,\n",
       "        0.1111111111111111, 0.1111111111111111, 0.1111111111111111],\n",
       "       [0.1111111111111111, 0.1111111111111111, 0.1111111111111111,\n",
       "        0.1111111111111111, 0.1111111111111111, 0.1111111111111111,\n",
       "        0.1111111111111111, 0.1111111111111111, 0.1111111111111111],\n",
       "       [0.1111111111111111, 0.1111111111111111, 0.1111111111111111,\n",
       "        0.1111111111111111, 0.1111111111111111, 0.1111111111111111,\n",
       "        0.1111111111111111, 0.1111111111111111, 0.1111111111111111],\n",
       "       [0.1111111111111111, 0.1111111111111111, 0.1111111111111111,\n",
       "        0.1111111111111111, 0.1111111111111111, 0.1111111111111111,\n",
       "        0.1111111111111111, 0.1111111111111111, 0.1111111111111111],\n",
       "       [0.1111111111111111, 0.1111111111111111, 0.1111111111111111,\n",
       "        0.1111111111111111, 0.1111111111111111, 0.1111111111111111,\n",
       "        0.1111111111111111, 0.1111111111111111, 0.1111111111111111],\n",
       "       [0.1111111111111111, 0.1111111111111111, 0.1111111111111111,\n",
       "        0.1111111111111111, 0.1111111111111111, 0.1111111111111111,\n",
       "        0.1111111111111111, 0.1111111111111111, 0.1111111111111111]],\n",
       "      dtype=object)"
      ]
     },
     "execution_count": 17,
     "metadata": {},
     "output_type": "execute_result"
    }
   ],
   "source": [
    "# create matrix of observation (emission) probabilities\n",
    "# b or beta = observation probabilities given state\n",
    "# matrix is size (M x O) where M is number of states \n",
    "# and O is number of different possible observations\n",
    "b_df = pd.DataFrame(columns=states_, index=hidden_states)\n",
    "for row in range(0, len(hidden_states)): \n",
    "    for column in range(0, len(hidden_states)):\n",
    "        b_df.iloc[row, column] = 1/ len(hidden_states)\n",
    "\n",
    "b = b_df.values.T\n",
    "b"
   ]
  },
  {
   "cell_type": "code",
   "execution_count": 18,
   "metadata": {},
   "outputs": [],
   "source": [
    "# define Viterbi algorithm for shortest path\n",
    "# code adapted from Stephen Marsland's, Machine Learning An Algorthmic Perspective, Vol. 2\n",
    "# https://github.com/alexsosn/MarslandMLAlgo/blob/master/Ch16/HMM.py\n",
    "\n",
    "def viterbi(pi, a, b, obs):\n",
    "    \n",
    "    nStates = np.shape(b)[0]\n",
    "    T = np.shape(obs)[0]\n",
    "    \n",
    "    # init blank path\n",
    "    path = np.zeros(T,dtype=int)\n",
    "    # delta --> highest probability of any path that reaches state i\n",
    "    delta = np.zeros((nStates, T))\n",
    "    # phi --> argmax by time step for each state\n",
    "    phi = np.zeros((nStates, T))\n",
    "    \n",
    "    # init delta and phi \n",
    "    delta[:, 0] = pi * b[:, int(obs[0])]\n",
    "    phi[:, 0] = 0\n",
    "\n",
    "   # print('\\nStart Walk Forward\\n')    \n",
    "    # the forward algorithm extension\n",
    "    for t in range(1, T):\n",
    "        for s in range(nStates):\n",
    "            delta[s, t] = np.max(delta[:, t-1] * a[:, s]) * b[s, int(obs[t])] \n",
    "            phi[s, t] = np.argmax(delta[:, t-1] * a[:, s])\n",
    "            #print('s={s} and t={t}: phi[{s}, {t}] = {phi}'.format(s=s, t=t, phi=phi[s, t]))\n",
    "    \n",
    "    # find optimal path\n",
    "    print('-'*50)\n",
    "    #print('Start Backtrace\\n')\n",
    "    path[T-1] = np.argmax(delta[:, T-1])\n",
    "    #p('init path\\n    t={} path[{}-1]={}\\n'.format(T-1, T, path[T-1]))\n",
    "    for t in range(T-2, -1, -1):\n",
    "        path[t] = phi[path[t+1], [t+1]]\n",
    "        #p(' '*4 + 't={t}, path[{t}+1]={path}, [{t}+1]={i}'.format(t=t, path=path[t+1], i=[t+1]))\n",
    "        #print('path[{}] = {}'.format(t, path[t]))\n",
    "        \n",
    "    return path, delta, phi"
   ]
  },
  {
   "cell_type": "code",
   "execution_count": 19,
   "metadata": {},
   "outputs": [
    {
     "data": {
      "text/plain": [
       "{'North East': 0,\n",
       " 'North West': 1,\n",
       " 'No Movement': 2,\n",
       " 'North': 3,\n",
       " 'South East': 4,\n",
       " 'South West': 5,\n",
       " 'South': 6,\n",
       " 'West': 7,\n",
       " 'East': 8}"
      ]
     },
     "execution_count": 19,
     "metadata": {},
     "output_type": "execute_result"
    }
   ],
   "source": [
    "\n",
    "direction_dict =  generate_dic(pd.unique(user_365_direction))\n",
    "direction_dict"
   ]
  },
  {
   "cell_type": "code",
   "execution_count": 45,
   "metadata": {},
   "outputs": [],
   "source": [
    "unique_id = pd.unique(data['User Id'])"
   ]
  },
  {
   "cell_type": "code",
   "execution_count": 27,
   "metadata": {},
   "outputs": [],
   "source": [
    "user_365_direction =data[data['User Id'] == 365]['Direction']\n",
    "\n",
    "direction_365 = []\n",
    "for value in user_365_direction: \n",
    "    direction_365 = np.append([direction_365],[direction_dict[value]])"
   ]
  },
  {
   "cell_type": "code",
   "execution_count": 69,
   "metadata": {},
   "outputs": [
    {
     "name": "stdout",
     "output_type": "stream",
     "text": [
      "\n",
      "Start Walk Forward\n",
      "\n",
      "--------------------------------------------------\n",
      "Start Backtrace\n",
      "\n",
      "\n",
      "Start Walk Forward\n",
      "\n",
      "--------------------------------------------------\n",
      "Start Backtrace\n",
      "\n",
      "\n",
      "Start Walk Forward\n",
      "\n",
      "--------------------------------------------------\n",
      "Start Backtrace\n",
      "\n",
      "\n",
      "Start Walk Forward\n",
      "\n",
      "--------------------------------------------------\n",
      "Start Backtrace\n",
      "\n",
      "\n",
      "Start Walk Forward\n",
      "\n",
      "--------------------------------------------------\n",
      "Start Backtrace\n",
      "\n",
      "\n",
      "Start Walk Forward\n",
      "\n",
      "--------------------------------------------------\n",
      "Start Backtrace\n",
      "\n",
      "\n",
      "Start Walk Forward\n",
      "\n",
      "--------------------------------------------------\n",
      "Start Backtrace\n",
      "\n",
      "\n",
      "Start Walk Forward\n",
      "\n",
      "--------------------------------------------------\n",
      "Start Backtrace\n",
      "\n",
      "\n",
      "Start Walk Forward\n",
      "\n",
      "--------------------------------------------------\n",
      "Start Backtrace\n",
      "\n",
      "\n",
      "Start Walk Forward\n",
      "\n",
      "--------------------------------------------------\n",
      "Start Backtrace\n",
      "\n",
      "\n",
      "Start Walk Forward\n",
      "\n",
      "--------------------------------------------------\n",
      "Start Backtrace\n",
      "\n",
      "\n",
      "Start Walk Forward\n",
      "\n",
      "--------------------------------------------------\n",
      "Start Backtrace\n",
      "\n",
      "\n",
      "Start Walk Forward\n",
      "\n",
      "--------------------------------------------------\n",
      "Start Backtrace\n",
      "\n"
     ]
    },
    {
     "ename": "KeyboardInterrupt",
     "evalue": "",
     "output_type": "error",
     "traceback": [
      "\u001b[1;31m---------------------------------------------------------------------------\u001b[0m",
      "\u001b[1;31mKeyboardInterrupt\u001b[0m                         Traceback (most recent call last)",
      "\u001b[1;32m<ipython-input-69-c5d514b716d0>\u001b[0m in \u001b[0;36m<module>\u001b[1;34m\u001b[0m\n\u001b[0;32m      5\u001b[0m     \u001b[0muser_direction_all\u001b[0m \u001b[1;33m=\u001b[0m \u001b[1;33m[\u001b[0m\u001b[1;33m]\u001b[0m\u001b[1;33m\u001b[0m\u001b[1;33m\u001b[0m\u001b[0m\n\u001b[0;32m      6\u001b[0m     \u001b[1;32mfor\u001b[0m \u001b[0mvalue\u001b[0m \u001b[1;32min\u001b[0m \u001b[0muser_direction\u001b[0m\u001b[1;33m:\u001b[0m\u001b[1;33m\u001b[0m\u001b[1;33m\u001b[0m\u001b[0m\n\u001b[1;32m----> 7\u001b[1;33m             \u001b[0muser_direction_all\u001b[0m \u001b[1;33m=\u001b[0m \u001b[0mnp\u001b[0m\u001b[1;33m.\u001b[0m\u001b[0mappend\u001b[0m\u001b[1;33m(\u001b[0m\u001b[1;33m[\u001b[0m\u001b[0muser_direction_all\u001b[0m\u001b[1;33m]\u001b[0m\u001b[1;33m,\u001b[0m\u001b[1;33m[\u001b[0m\u001b[0mdirection_dict\u001b[0m\u001b[1;33m[\u001b[0m\u001b[0mvalue\u001b[0m\u001b[1;33m]\u001b[0m\u001b[1;33m]\u001b[0m\u001b[1;33m)\u001b[0m\u001b[1;33m\u001b[0m\u001b[1;33m\u001b[0m\u001b[0m\n\u001b[0m\u001b[0;32m      8\u001b[0m \u001b[1;33m\u001b[0m\u001b[0m\n\u001b[0;32m      9\u001b[0m     \u001b[0mpath\u001b[0m\u001b[1;33m,\u001b[0m \u001b[0mdelta\u001b[0m\u001b[1;33m,\u001b[0m \u001b[0mphi\u001b[0m \u001b[1;33m=\u001b[0m \u001b[0mviterbi\u001b[0m\u001b[1;33m(\u001b[0m\u001b[0mpi\u001b[0m\u001b[1;33m,\u001b[0m \u001b[0malpha_paramter\u001b[0m\u001b[1;33m,\u001b[0m \u001b[0mb\u001b[0m\u001b[1;33m,\u001b[0m \u001b[0muser_direction_all\u001b[0m\u001b[1;33m[\u001b[0m\u001b[1;36m1\u001b[0m\u001b[1;33m:\u001b[0m\u001b[1;36m200\u001b[0m\u001b[1;33m]\u001b[0m\u001b[1;33m)\u001b[0m\u001b[1;33m\u001b[0m\u001b[1;33m\u001b[0m\u001b[0m\n",
      "\u001b[1;32m<__array_function__ internals>\u001b[0m in \u001b[0;36mappend\u001b[1;34m(*args, **kwargs)\u001b[0m\n",
      "\u001b[1;32m~\\AppData\\Roaming\\Python\\Python37\\site-packages\\numpy\\lib\\function_base.py\u001b[0m in \u001b[0;36mappend\u001b[1;34m(arr, values, axis)\u001b[0m\n\u001b[0;32m   4692\u001b[0m \u001b[1;33m\u001b[0m\u001b[0m\n\u001b[0;32m   4693\u001b[0m     \"\"\"\n\u001b[1;32m-> 4694\u001b[1;33m     \u001b[0marr\u001b[0m \u001b[1;33m=\u001b[0m \u001b[0masanyarray\u001b[0m\u001b[1;33m(\u001b[0m\u001b[0marr\u001b[0m\u001b[1;33m)\u001b[0m\u001b[1;33m\u001b[0m\u001b[1;33m\u001b[0m\u001b[0m\n\u001b[0m\u001b[0;32m   4695\u001b[0m     \u001b[1;32mif\u001b[0m \u001b[0maxis\u001b[0m \u001b[1;32mis\u001b[0m \u001b[1;32mNone\u001b[0m\u001b[1;33m:\u001b[0m\u001b[1;33m\u001b[0m\u001b[1;33m\u001b[0m\u001b[0m\n\u001b[0;32m   4696\u001b[0m         \u001b[1;32mif\u001b[0m \u001b[0marr\u001b[0m\u001b[1;33m.\u001b[0m\u001b[0mndim\u001b[0m \u001b[1;33m!=\u001b[0m \u001b[1;36m1\u001b[0m\u001b[1;33m:\u001b[0m\u001b[1;33m\u001b[0m\u001b[1;33m\u001b[0m\u001b[0m\n",
      "\u001b[1;32m~\\AppData\\Roaming\\Python\\Python37\\site-packages\\numpy\\core\\_asarray.py\u001b[0m in \u001b[0;36masanyarray\u001b[1;34m(a, dtype, order)\u001b[0m\n\u001b[0;32m    136\u001b[0m \u001b[1;33m\u001b[0m\u001b[0m\n\u001b[0;32m    137\u001b[0m     \"\"\"\n\u001b[1;32m--> 138\u001b[1;33m     \u001b[1;32mreturn\u001b[0m \u001b[0marray\u001b[0m\u001b[1;33m(\u001b[0m\u001b[0ma\u001b[0m\u001b[1;33m,\u001b[0m \u001b[0mdtype\u001b[0m\u001b[1;33m,\u001b[0m \u001b[0mcopy\u001b[0m\u001b[1;33m=\u001b[0m\u001b[1;32mFalse\u001b[0m\u001b[1;33m,\u001b[0m \u001b[0morder\u001b[0m\u001b[1;33m=\u001b[0m\u001b[0morder\u001b[0m\u001b[1;33m,\u001b[0m \u001b[0msubok\u001b[0m\u001b[1;33m=\u001b[0m\u001b[1;32mTrue\u001b[0m\u001b[1;33m)\u001b[0m\u001b[1;33m\u001b[0m\u001b[1;33m\u001b[0m\u001b[0m\n\u001b[0m\u001b[0;32m    139\u001b[0m \u001b[1;33m\u001b[0m\u001b[0m\n\u001b[0;32m    140\u001b[0m \u001b[1;33m\u001b[0m\u001b[0m\n",
      "\u001b[1;31mKeyboardInterrupt\u001b[0m: "
     ]
    }
   ],
   "source": [
    "prob_value_matrix = []\n",
    "user_matrix = []\n",
    "for user in unique_id: \n",
    "    user_direction = data[data['User Id'] == user]['Direction']\n",
    "    user_direction_all = []\n",
    "    for value in user_direction: \n",
    "            user_direction_all = np.append([user_direction_all],[direction_dict[value]])     \n",
    "    \n",
    "    path, delta, phi = viterbi(pi, alpha_paramter, b, user_direction_all[1:200])\n",
    "            \n",
    "    prob_value = np.sum(delta)\n",
    "            \n",
    "    prob_value_matrix.append(prob_value)\n",
    "    user_matrix.append(user)"
   ]
  },
  {
   "cell_type": "code",
   "execution_count": 70,
   "metadata": {},
   "outputs": [
    {
     "data": {
      "text/plain": [
       "[0.11839009512851356,\n",
       " 0.11839009512851356,\n",
       " 0.11839009512851356,\n",
       " 0.11839009512851356,\n",
       " 0.11839009512851356,\n",
       " 0.11839009512851356,\n",
       " 0.11839009512851356,\n",
       " 0.11839009512851356,\n",
       " 0.11839009512851356,\n",
       " 0.11839009512851356,\n",
       " 0.11839009512851356,\n",
       " 0.11839009512851356,\n",
       " 0.11839009512851356]"
      ]
     },
     "execution_count": 70,
     "metadata": {},
     "output_type": "execute_result"
    }
   ],
   "source": [
    "prob_value_matrix"
   ]
  },
  {
   "cell_type": "code",
   "execution_count": 75,
   "metadata": {},
   "outputs": [
    {
     "data": {
      "text/plain": [
       "array([5, 5, 5, ..., 0, 0, 0])"
      ]
     },
     "execution_count": 75,
     "metadata": {},
     "output_type": "execute_result"
    }
   ],
   "source": [
    "prob_value_user = []\n",
    "prob_matrix = []\n",
    "\n",
    "path"
   ]
  },
  {
   "cell_type": "code",
   "execution_count": 57,
   "metadata": {},
   "outputs": [
    {
     "ename": "ValueError",
     "evalue": "If using all scalar values, you must pass an index",
     "output_type": "error",
     "traceback": [
      "\u001b[1;31m---------------------------------------------------------------------------\u001b[0m",
      "\u001b[1;31mValueError\u001b[0m                                Traceback (most recent call last)",
      "\u001b[1;32m<ipython-input-57-d4740cb99bbe>\u001b[0m in \u001b[0;36m<module>\u001b[1;34m\u001b[0m\n\u001b[0;32m      2\u001b[0m \u001b[1;33m\u001b[0m\u001b[0m\n\u001b[0;32m      3\u001b[0m prob_value = pd.DataFrame({'User ID': user, \n\u001b[1;32m----> 4\u001b[1;33m                           'Prob': prob_})\n\u001b[0m",
      "\u001b[1;32m~\\AppData\\Local\\Continuum\\anaconda3\\lib\\site-packages\\pandas\\core\\frame.py\u001b[0m in \u001b[0;36m__init__\u001b[1;34m(self, data, index, columns, dtype, copy)\u001b[0m\n\u001b[0;32m    409\u001b[0m             )\n\u001b[0;32m    410\u001b[0m         \u001b[1;32melif\u001b[0m \u001b[0misinstance\u001b[0m\u001b[1;33m(\u001b[0m\u001b[0mdata\u001b[0m\u001b[1;33m,\u001b[0m \u001b[0mdict\u001b[0m\u001b[1;33m)\u001b[0m\u001b[1;33m:\u001b[0m\u001b[1;33m\u001b[0m\u001b[1;33m\u001b[0m\u001b[0m\n\u001b[1;32m--> 411\u001b[1;33m             \u001b[0mmgr\u001b[0m \u001b[1;33m=\u001b[0m \u001b[0minit_dict\u001b[0m\u001b[1;33m(\u001b[0m\u001b[0mdata\u001b[0m\u001b[1;33m,\u001b[0m \u001b[0mindex\u001b[0m\u001b[1;33m,\u001b[0m \u001b[0mcolumns\u001b[0m\u001b[1;33m,\u001b[0m \u001b[0mdtype\u001b[0m\u001b[1;33m=\u001b[0m\u001b[0mdtype\u001b[0m\u001b[1;33m)\u001b[0m\u001b[1;33m\u001b[0m\u001b[1;33m\u001b[0m\u001b[0m\n\u001b[0m\u001b[0;32m    412\u001b[0m         \u001b[1;32melif\u001b[0m \u001b[0misinstance\u001b[0m\u001b[1;33m(\u001b[0m\u001b[0mdata\u001b[0m\u001b[1;33m,\u001b[0m \u001b[0mma\u001b[0m\u001b[1;33m.\u001b[0m\u001b[0mMaskedArray\u001b[0m\u001b[1;33m)\u001b[0m\u001b[1;33m:\u001b[0m\u001b[1;33m\u001b[0m\u001b[1;33m\u001b[0m\u001b[0m\n\u001b[0;32m    413\u001b[0m             \u001b[1;32mimport\u001b[0m \u001b[0mnumpy\u001b[0m\u001b[1;33m.\u001b[0m\u001b[0mma\u001b[0m\u001b[1;33m.\u001b[0m\u001b[0mmrecords\u001b[0m \u001b[1;32mas\u001b[0m \u001b[0mmrecords\u001b[0m\u001b[1;33m\u001b[0m\u001b[1;33m\u001b[0m\u001b[0m\n",
      "\u001b[1;32m~\\AppData\\Local\\Continuum\\anaconda3\\lib\\site-packages\\pandas\\core\\internals\\construction.py\u001b[0m in \u001b[0;36minit_dict\u001b[1;34m(data, index, columns, dtype)\u001b[0m\n\u001b[0;32m    255\u001b[0m             \u001b[0marr\u001b[0m \u001b[1;32mif\u001b[0m \u001b[1;32mnot\u001b[0m \u001b[0mis_datetime64tz_dtype\u001b[0m\u001b[1;33m(\u001b[0m\u001b[0marr\u001b[0m\u001b[1;33m)\u001b[0m \u001b[1;32melse\u001b[0m \u001b[0marr\u001b[0m\u001b[1;33m.\u001b[0m\u001b[0mcopy\u001b[0m\u001b[1;33m(\u001b[0m\u001b[1;33m)\u001b[0m \u001b[1;32mfor\u001b[0m \u001b[0marr\u001b[0m \u001b[1;32min\u001b[0m \u001b[0marrays\u001b[0m\u001b[1;33m\u001b[0m\u001b[1;33m\u001b[0m\u001b[0m\n\u001b[0;32m    256\u001b[0m         ]\n\u001b[1;32m--> 257\u001b[1;33m     \u001b[1;32mreturn\u001b[0m \u001b[0marrays_to_mgr\u001b[0m\u001b[1;33m(\u001b[0m\u001b[0marrays\u001b[0m\u001b[1;33m,\u001b[0m \u001b[0mdata_names\u001b[0m\u001b[1;33m,\u001b[0m \u001b[0mindex\u001b[0m\u001b[1;33m,\u001b[0m \u001b[0mcolumns\u001b[0m\u001b[1;33m,\u001b[0m \u001b[0mdtype\u001b[0m\u001b[1;33m=\u001b[0m\u001b[0mdtype\u001b[0m\u001b[1;33m)\u001b[0m\u001b[1;33m\u001b[0m\u001b[1;33m\u001b[0m\u001b[0m\n\u001b[0m\u001b[0;32m    258\u001b[0m \u001b[1;33m\u001b[0m\u001b[0m\n\u001b[0;32m    259\u001b[0m \u001b[1;33m\u001b[0m\u001b[0m\n",
      "\u001b[1;32m~\\AppData\\Local\\Continuum\\anaconda3\\lib\\site-packages\\pandas\\core\\internals\\construction.py\u001b[0m in \u001b[0;36marrays_to_mgr\u001b[1;34m(arrays, arr_names, index, columns, dtype)\u001b[0m\n\u001b[0;32m     75\u001b[0m     \u001b[1;31m# figure out the index, if necessary\u001b[0m\u001b[1;33m\u001b[0m\u001b[1;33m\u001b[0m\u001b[1;33m\u001b[0m\u001b[0m\n\u001b[0;32m     76\u001b[0m     \u001b[1;32mif\u001b[0m \u001b[0mindex\u001b[0m \u001b[1;32mis\u001b[0m \u001b[1;32mNone\u001b[0m\u001b[1;33m:\u001b[0m\u001b[1;33m\u001b[0m\u001b[1;33m\u001b[0m\u001b[0m\n\u001b[1;32m---> 77\u001b[1;33m         \u001b[0mindex\u001b[0m \u001b[1;33m=\u001b[0m \u001b[0mextract_index\u001b[0m\u001b[1;33m(\u001b[0m\u001b[0marrays\u001b[0m\u001b[1;33m)\u001b[0m\u001b[1;33m\u001b[0m\u001b[1;33m\u001b[0m\u001b[0m\n\u001b[0m\u001b[0;32m     78\u001b[0m     \u001b[1;32melse\u001b[0m\u001b[1;33m:\u001b[0m\u001b[1;33m\u001b[0m\u001b[1;33m\u001b[0m\u001b[0m\n\u001b[0;32m     79\u001b[0m         \u001b[0mindex\u001b[0m \u001b[1;33m=\u001b[0m \u001b[0mensure_index\u001b[0m\u001b[1;33m(\u001b[0m\u001b[0mindex\u001b[0m\u001b[1;33m)\u001b[0m\u001b[1;33m\u001b[0m\u001b[1;33m\u001b[0m\u001b[0m\n",
      "\u001b[1;32m~\\AppData\\Local\\Continuum\\anaconda3\\lib\\site-packages\\pandas\\core\\internals\\construction.py\u001b[0m in \u001b[0;36mextract_index\u001b[1;34m(data)\u001b[0m\n\u001b[0;32m    356\u001b[0m \u001b[1;33m\u001b[0m\u001b[0m\n\u001b[0;32m    357\u001b[0m         \u001b[1;32mif\u001b[0m \u001b[1;32mnot\u001b[0m \u001b[0mindexes\u001b[0m \u001b[1;32mand\u001b[0m \u001b[1;32mnot\u001b[0m \u001b[0mraw_lengths\u001b[0m\u001b[1;33m:\u001b[0m\u001b[1;33m\u001b[0m\u001b[1;33m\u001b[0m\u001b[0m\n\u001b[1;32m--> 358\u001b[1;33m             \u001b[1;32mraise\u001b[0m \u001b[0mValueError\u001b[0m\u001b[1;33m(\u001b[0m\u001b[1;34m\"If using all scalar values, you must pass an index\"\u001b[0m\u001b[1;33m)\u001b[0m\u001b[1;33m\u001b[0m\u001b[1;33m\u001b[0m\u001b[0m\n\u001b[0m\u001b[0;32m    359\u001b[0m \u001b[1;33m\u001b[0m\u001b[0m\n\u001b[0;32m    360\u001b[0m         \u001b[1;32mif\u001b[0m \u001b[0mhave_series\u001b[0m\u001b[1;33m:\u001b[0m\u001b[1;33m\u001b[0m\u001b[1;33m\u001b[0m\u001b[0m\n",
      "\u001b[1;31mValueError\u001b[0m: If using all scalar values, you must pass an index"
     ]
    }
   ],
   "source": [
    "prob_ = np.sum(delta)\n",
    "\n",
    "prob_value = pd.DataFrame({'User ID': user, \n",
    "                          'Prob': prob_})"
   ]
  },
  {
   "cell_type": "code",
   "execution_count": 71,
   "metadata": {},
   "outputs": [
    {
     "name": "stdout",
     "output_type": "stream",
     "text": [
      "\n",
      "Start Walk Forward\n",
      "\n",
      "--------------------------------------------------\n",
      "Start Backtrace\n",
      "\n",
      "\n",
      "single best state path: \n",
      " [5 5 5 ... 0 0 0]\n",
      "delta:\n",
      " [[2.12297539e-02 1.37993400e-03 8.96957101e-05 ... 0.00000000e+00\n",
      "  0.00000000e+00 0.00000000e+00]\n",
      " [1.42710437e-02 9.13346796e-04 5.84541950e-05 ... 0.00000000e+00\n",
      "  0.00000000e+00 0.00000000e+00]\n",
      " [1.31319328e-02 5.61754901e-04 2.46854860e-05 ... 0.00000000e+00\n",
      "  0.00000000e+00 0.00000000e+00]\n",
      " ...\n",
      " [1.05237281e-02 5.97513895e-04 3.39255111e-05 ... 0.00000000e+00\n",
      "  0.00000000e+00 0.00000000e+00]\n",
      " [8.37723938e-03 4.98911145e-04 2.97129304e-05 ... 0.00000000e+00\n",
      "  0.00000000e+00 0.00000000e+00]\n",
      " [7.95484227e-03 5.03806677e-04 3.19077562e-05 ... 0.00000000e+00\n",
      "  0.00000000e+00 0.00000000e+00]]\n",
      "phi:\n",
      " [[0. 0. 0. ... 0. 0. 0.]\n",
      " [0. 1. 1. ... 0. 0. 0.]\n",
      " [0. 2. 0. ... 0. 0. 0.]\n",
      " ...\n",
      " [0. 6. 6. ... 0. 0. 0.]\n",
      " [0. 7. 7. ... 0. 0. 0.]\n",
      " [0. 8. 8. ... 0. 0. 0.]]\n"
     ]
    }
   ],
   "source": [
    "path, delta, phi = viterbi(pi, alpha_paramter, b, direction_365)\n",
    "print('\\nsingle best state path: \\n', path)\n",
    "print('delta:\\n', delta)\n",
    "print('phi:\\n', phi)"
   ]
  },
  {
   "cell_type": "code",
   "execution_count": null,
   "metadata": {},
   "outputs": [],
   "source": []
  },
  {
   "cell_type": "markdown",
   "metadata": {},
   "source": [
    "Sources: \n",
    "\n",
    "https://www.blackarbs.com/blog/introduction-hidden-markov-models-python-networkx-sklearn/2/9/2017 <b/>\n",
    "\n",
    "https://github.com/alexsosn/MarslandMLAlgo/blob/master/Ch16/HMM.py"
   ]
  }
 ],
 "metadata": {
  "kernelspec": {
   "display_name": "Python 3",
   "language": "python",
   "name": "python3"
  },
  "language_info": {
   "codemirror_mode": {
    "name": "ipython",
    "version": 3
   },
   "file_extension": ".py",
   "mimetype": "text/x-python",
   "name": "python",
   "nbconvert_exporter": "python",
   "pygments_lexer": "ipython3",
   "version": "3.7.3"
  }
 },
 "nbformat": 4,
 "nbformat_minor": 4
}
