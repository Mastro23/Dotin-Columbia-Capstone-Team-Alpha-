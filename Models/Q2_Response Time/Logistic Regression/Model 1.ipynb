{
 "cells": [
  {
   "cell_type": "code",
   "execution_count": 7,
   "metadata": {
    "ExecuteTime": {
     "end_time": "2019-10-21T21:23:20.463475Z",
     "start_time": "2019-10-21T21:23:20.457068Z"
    }
   },
   "outputs": [],
   "source": [
    "import numpy as np\n",
    "import pandas as pd\n",
    "import os\n",
    "import sklearn "
   ]
  },
  {
   "cell_type": "code",
   "execution_count": 8,
   "metadata": {
    "ExecuteTime": {
     "end_time": "2019-10-21T21:23:20.775495Z",
     "start_time": "2019-10-21T21:23:20.763588Z"
    },
    "collapsed": true
   },
   "outputs": [
    {
     "ename": "FileNotFoundError",
     "evalue": "[Errno 2] No such file or directory: '/Users/mayurbansal/documents/github/Dotin-Columbia-Castone-Team-Alpha-/data/Clean Data'",
     "output_type": "error",
     "traceback": [
      "\u001b[0;31m---------------------------------------------------------------------------\u001b[0m",
      "\u001b[0;31mFileNotFoundError\u001b[0m                         Traceback (most recent call last)",
      "\u001b[0;32m<ipython-input-8-264ba66622b2>\u001b[0m in \u001b[0;36m<module>\u001b[0;34m\u001b[0m\n\u001b[0;32m----> 1\u001b[0;31m \u001b[0mos\u001b[0m\u001b[0;34m.\u001b[0m\u001b[0mchdir\u001b[0m\u001b[0;34m(\u001b[0m\u001b[0;34m'/Users/mayurbansal/documents/github/Dotin-Columbia-Castone-Team-Alpha-/data/Clean Data'\u001b[0m\u001b[0;34m)\u001b[0m\u001b[0;34m\u001b[0m\u001b[0;34m\u001b[0m\u001b[0m\n\u001b[0m",
      "\u001b[0;31mFileNotFoundError\u001b[0m: [Errno 2] No such file or directory: '/Users/mayurbansal/documents/github/Dotin-Columbia-Castone-Team-Alpha-/data/Clean Data'"
     ]
    }
   ],
   "source": [
    "os.chdir('/Users/mayurbansal/documents/github/Dotin-Columbia-Castone-Team-Alpha-/data/Clean Data')"
   ]
  },
  {
   "cell_type": "code",
   "execution_count": 9,
   "metadata": {
    "ExecuteTime": {
     "end_time": "2019-10-21T21:23:28.678686Z",
     "start_time": "2019-10-21T21:23:28.671277Z"
    }
   },
   "outputs": [
    {
     "data": {
      "text/plain": [
       "['Logistic Regression', 'README.md', '.ipynb_checkpoints']"
      ]
     },
     "execution_count": 9,
     "metadata": {},
     "output_type": "execute_result"
    }
   ],
   "source": [
    "os.listdir('..')"
   ]
  },
  {
   "cell_type": "code",
   "execution_count": 10,
   "metadata": {
    "ExecuteTime": {
     "end_time": "2019-10-21T21:23:36.308637Z",
     "start_time": "2019-10-21T21:23:36.289930Z"
    }
   },
   "outputs": [],
   "source": [
    "#read data\n",
    "data=pd.read_csv(\"/Users/albertomastrotto/Desktop/Fall_2019 /Capstone/Dotin-Columbia-Castone-Team-Alpha-/Data/Clean Data/merged_data_user_level_V2.csv\",index_col=0)\n"
   ]
  },
  {
   "cell_type": "code",
   "execution_count": 11,
   "metadata": {
    "ExecuteTime": {
     "end_time": "2019-10-21T21:23:37.139916Z",
     "start_time": "2019-10-21T21:23:37.108752Z"
    }
   },
   "outputs": [
    {
     "data": {
      "text/html": [
       "<div>\n",
       "<style scoped>\n",
       "    .dataframe tbody tr th:only-of-type {\n",
       "        vertical-align: middle;\n",
       "    }\n",
       "\n",
       "    .dataframe tbody tr th {\n",
       "        vertical-align: top;\n",
       "    }\n",
       "\n",
       "    .dataframe thead th {\n",
       "        text-align: right;\n",
       "    }\n",
       "</style>\n",
       "<table border=\"1\" class=\"dataframe\">\n",
       "  <thead>\n",
       "    <tr style=\"text-align: right;\">\n",
       "      <th></th>\n",
       "      <th>user_id</th>\n",
       "      <th>scroll count</th>\n",
       "      <th>mouse movement count</th>\n",
       "      <th>click count</th>\n",
       "      <th>average_click_delay</th>\n",
       "      <th>NA</th>\n",
       "      <th>User Record Count</th>\n",
       "      <th>Total Time</th>\n",
       "      <th>Total Distance</th>\n",
       "      <th>validation</th>\n",
       "      <th>...</th>\n",
       "      <th>movesup</th>\n",
       "      <th>movesdown</th>\n",
       "      <th>no_vertical_movement</th>\n",
       "      <th>perc_upwward_movement</th>\n",
       "      <th>perc_downward_movement</th>\n",
       "      <th>perc_no_movement_y</th>\n",
       "      <th>system</th>\n",
       "      <th>Max Speed</th>\n",
       "      <th>Avg Speed</th>\n",
       "      <th>Sd Speed</th>\n",
       "    </tr>\n",
       "  </thead>\n",
       "  <tbody>\n",
       "    <tr>\n",
       "      <th>1</th>\n",
       "      <td>0</td>\n",
       "      <td>0</td>\n",
       "      <td>0</td>\n",
       "      <td>0</td>\n",
       "      <td>1.301838</td>\n",
       "      <td>680</td>\n",
       "      <td>680</td>\n",
       "      <td>0.000</td>\n",
       "      <td>0.000000</td>\n",
       "      <td>0</td>\n",
       "      <td>...</td>\n",
       "      <td>0</td>\n",
       "      <td>0</td>\n",
       "      <td>0</td>\n",
       "      <td>0.000000</td>\n",
       "      <td>0.000000</td>\n",
       "      <td>0.000000</td>\n",
       "      <td>0</td>\n",
       "      <td>0.000000</td>\n",
       "      <td>0.000000</td>\n",
       "      <td>0.000000</td>\n",
       "    </tr>\n",
       "    <tr>\n",
       "      <th>2</th>\n",
       "      <td>365</td>\n",
       "      <td>11</td>\n",
       "      <td>4766</td>\n",
       "      <td>227</td>\n",
       "      <td>0.886830</td>\n",
       "      <td>0</td>\n",
       "      <td>5005</td>\n",
       "      <td>245.808</td>\n",
       "      <td>62662.118363</td>\n",
       "      <td>0</td>\n",
       "      <td>...</td>\n",
       "      <td>1512</td>\n",
       "      <td>2620</td>\n",
       "      <td>872</td>\n",
       "      <td>30.215827</td>\n",
       "      <td>52.358114</td>\n",
       "      <td>17.426059</td>\n",
       "      <td>pc</td>\n",
       "      <td>2835.321410</td>\n",
       "      <td>0.812244</td>\n",
       "      <td>40.225504</td>\n",
       "    </tr>\n",
       "    <tr>\n",
       "      <th>3</th>\n",
       "      <td>371</td>\n",
       "      <td>1</td>\n",
       "      <td>3900</td>\n",
       "      <td>143</td>\n",
       "      <td>0.904714</td>\n",
       "      <td>0</td>\n",
       "      <td>4044</td>\n",
       "      <td>185.388</td>\n",
       "      <td>41381.708124</td>\n",
       "      <td>1</td>\n",
       "      <td>...</td>\n",
       "      <td>1327</td>\n",
       "      <td>1950</td>\n",
       "      <td>766</td>\n",
       "      <td>32.822162</td>\n",
       "      <td>48.231511</td>\n",
       "      <td>18.946327</td>\n",
       "      <td>pc</td>\n",
       "      <td>6285.067883</td>\n",
       "      <td>1.977682</td>\n",
       "      <td>98.953356</td>\n",
       "    </tr>\n",
       "    <tr>\n",
       "      <th>4</th>\n",
       "      <td>373</td>\n",
       "      <td>34</td>\n",
       "      <td>5692</td>\n",
       "      <td>225</td>\n",
       "      <td>7.335211</td>\n",
       "      <td>0</td>\n",
       "      <td>5951</td>\n",
       "      <td>200.144</td>\n",
       "      <td>67693.337045</td>\n",
       "      <td>0</td>\n",
       "      <td>...</td>\n",
       "      <td>1719</td>\n",
       "      <td>2539</td>\n",
       "      <td>1693</td>\n",
       "      <td>28.885902</td>\n",
       "      <td>42.665098</td>\n",
       "      <td>28.449000</td>\n",
       "      <td>pc</td>\n",
       "      <td>209.407844</td>\n",
       "      <td>0.380699</td>\n",
       "      <td>4.693707</td>\n",
       "    </tr>\n",
       "    <tr>\n",
       "      <th>5</th>\n",
       "      <td>374</td>\n",
       "      <td>32</td>\n",
       "      <td>4666</td>\n",
       "      <td>277</td>\n",
       "      <td>3.378696</td>\n",
       "      <td>0</td>\n",
       "      <td>4975</td>\n",
       "      <td>249.975</td>\n",
       "      <td>115106.227146</td>\n",
       "      <td>1</td>\n",
       "      <td>...</td>\n",
       "      <td>1626</td>\n",
       "      <td>2169</td>\n",
       "      <td>1179</td>\n",
       "      <td>32.689988</td>\n",
       "      <td>43.606755</td>\n",
       "      <td>23.703257</td>\n",
       "      <td>pc</td>\n",
       "      <td>2809.115990</td>\n",
       "      <td>1.010814</td>\n",
       "      <td>40.907223</td>\n",
       "    </tr>\n",
       "  </tbody>\n",
       "</table>\n",
       "<p>5 rows × 52 columns</p>\n",
       "</div>"
      ],
      "text/plain": [
       "   user_id  scroll count  mouse movement count  click count  \\\n",
       "1        0             0                     0            0   \n",
       "2      365            11                  4766          227   \n",
       "3      371             1                  3900          143   \n",
       "4      373            34                  5692          225   \n",
       "5      374            32                  4666          277   \n",
       "\n",
       "   average_click_delay   NA  User Record Count  Total Time  Total Distance  \\\n",
       "1             1.301838  680                680       0.000        0.000000   \n",
       "2             0.886830    0               5005     245.808    62662.118363   \n",
       "3             0.904714    0               4044     185.388    41381.708124   \n",
       "4             7.335211    0               5951     200.144    67693.337045   \n",
       "5             3.378696    0               4975     249.975   115106.227146   \n",
       "\n",
       "   validation  ...  movesup  movesdown  no_vertical_movement  \\\n",
       "1           0  ...        0          0                     0   \n",
       "2           0  ...     1512       2620                   872   \n",
       "3           1  ...     1327       1950                   766   \n",
       "4           0  ...     1719       2539                  1693   \n",
       "5           1  ...     1626       2169                  1179   \n",
       "\n",
       "   perc_upwward_movement  perc_downward_movement  perc_no_movement_y  system  \\\n",
       "1               0.000000                0.000000            0.000000       0   \n",
       "2              30.215827               52.358114           17.426059      pc   \n",
       "3              32.822162               48.231511           18.946327      pc   \n",
       "4              28.885902               42.665098           28.449000      pc   \n",
       "5              32.689988               43.606755           23.703257      pc   \n",
       "\n",
       "     Max Speed  Avg Speed   Sd Speed  \n",
       "1     0.000000   0.000000   0.000000  \n",
       "2  2835.321410   0.812244  40.225504  \n",
       "3  6285.067883   1.977682  98.953356  \n",
       "4   209.407844   0.380699   4.693707  \n",
       "5  2809.115990   1.010814  40.907223  \n",
       "\n",
       "[5 rows x 52 columns]"
      ]
     },
     "execution_count": 11,
     "metadata": {},
     "output_type": "execute_result"
    }
   ],
   "source": [
    "data.head()"
   ]
  },
  {
   "cell_type": "code",
   "execution_count": 12,
   "metadata": {
    "ExecuteTime": {
     "end_time": "2019-10-21T21:23:39.110415Z",
     "start_time": "2019-10-21T21:23:39.105016Z"
    }
   },
   "outputs": [],
   "source": [
    "#fill na values with 0\n",
    "data['perc_left_movement'].fillna(0,inplace=True)\n",
    "data['perc_right_movement'].fillna(0,inplace=True)\n",
    "data['perc_no_movement_x'].fillna(0,inplace=True)\n",
    "data['average_click_delay'].fillna(0,inplace=True)"
   ]
  },
  {
   "cell_type": "markdown",
   "metadata": {},
   "source": [
    "### have 2 na values in each of these columns, replacing these with 0 for now"
   ]
  },
  {
   "cell_type": "code",
   "execution_count": 13,
   "metadata": {
    "ExecuteTime": {
     "end_time": "2019-10-21T21:23:41.896876Z",
     "start_time": "2019-10-21T21:23:41.093304Z"
    }
   },
   "outputs": [],
   "source": [
    "#logistic regression\n",
    "from sklearn import preprocessing\n",
    "from sklearn.linear_model import LogisticRegression\n",
    "from sklearn.model_selection import train_test_split\n"
   ]
  },
  {
   "cell_type": "code",
   "execution_count": 14,
   "metadata": {
    "ExecuteTime": {
     "end_time": "2019-10-21T21:23:46.346307Z",
     "start_time": "2019-10-21T21:23:46.320960Z"
    }
   },
   "outputs": [
    {
     "name": "stdout",
     "output_type": "stream",
     "text": [
      "<class 'pandas.core.frame.DataFrame'>\n",
      "Int64Index: 731 entries, 1 to 731\n",
      "Data columns (total 52 columns):\n",
      "user_id                   731 non-null int64\n",
      "scroll count              731 non-null int64\n",
      "mouse movement count      731 non-null int64\n",
      "click count               731 non-null int64\n",
      "average_click_delay       731 non-null float64\n",
      "NA                        731 non-null int64\n",
      "User Record Count         731 non-null int64\n",
      "Total Time                731 non-null float64\n",
      "Total Distance            731 non-null float64\n",
      "validation                731 non-null int64\n",
      "Min Score Value           731 non-null int64\n",
      "Max Score Value           731 non-null int64\n",
      "bf _votes_ 1 _count       731 non-null int64\n",
      "bf _votes_ 5 _count       731 non-null int64\n",
      "bf _votes_ 3 _count       731 non-null int64\n",
      "bs _votes_ 3 _count       731 non-null int64\n",
      "miq _votes_ 3 _count      731 non-null int64\n",
      "pgi _votes_ 4 _count      731 non-null int64\n",
      "bs _votes_ 1 _count       731 non-null int64\n",
      "bs _votes_ 4 _count       731 non-null int64\n",
      "bs _votes_ 5 _count       731 non-null int64\n",
      "miq _votes_ 1 _count      731 non-null int64\n",
      "miq _votes_ 2 _count      731 non-null int64\n",
      "miq _votes_ 4 _count      731 non-null int64\n",
      "miq _votes_ 5 _count      731 non-null int64\n",
      "pgi _votes_ 1 _count      731 non-null int64\n",
      "pgi _votes_ 2 _count      731 non-null int64\n",
      "pgi _votes_ 3 _count      731 non-null int64\n",
      "pgi _votes_ 5 _count      731 non-null int64\n",
      "pgi _votes_ 7 _count      731 non-null int64\n",
      "bf _votes_ 4 _count       731 non-null int64\n",
      "bf _votes_ 2 _count       731 non-null int64\n",
      "bs _votes_ 2 _count       731 non-null int64\n",
      "pgi _votes_ 6 _count      731 non-null int64\n",
      "measure_width_covered     731 non-null float64\n",
      "measure_height_covered    731 non-null float64\n",
      "movesleft                 731 non-null int64\n",
      "movesright                731 non-null int64\n",
      "no_horizontal_movement    731 non-null int64\n",
      "perc_left_movement        731 non-null float64\n",
      "perc_right_movement       731 non-null float64\n",
      "perc_no_movement_x        731 non-null float64\n",
      "movesup                   731 non-null int64\n",
      "movesdown                 731 non-null int64\n",
      "no_vertical_movement      731 non-null int64\n",
      "perc_upwward_movement     731 non-null float64\n",
      "perc_downward_movement    731 non-null float64\n",
      "perc_no_movement_y        731 non-null float64\n",
      "system                    731 non-null object\n",
      "Max Speed                 731 non-null float64\n",
      "Avg Speed                 731 non-null float64\n",
      "Sd Speed                  731 non-null float64\n",
      "dtypes: float64(14), int64(37), object(1)\n",
      "memory usage: 302.7+ KB\n"
     ]
    }
   ],
   "source": [
    "data.info()"
   ]
  },
  {
   "cell_type": "code",
   "execution_count": 15,
   "metadata": {
    "ExecuteTime": {
     "end_time": "2019-10-21T21:23:54.984753Z",
     "start_time": "2019-10-21T21:23:54.976798Z"
    }
   },
   "outputs": [],
   "source": [
    "# Split data into 'X' features and 'y' target label sets\n",
    "y = data['validation']\n",
    "X=data.iloc[:,np.r_[1:7,12:33,36:47]]"
   ]
  },
  {
   "cell_type": "markdown",
   "metadata": {},
   "source": [
    "### for our first model we have chosen the following variables:\n",
    "\n",
    "### -scroll count, movement count, click count, total record count\n",
    "### -max time elapsed, total distance\n",
    "### -bf_votes_1 etc i.e. choice of answers for each category for each question \n",
    "### -movement directions of user i.e. counts of left,right,up,down movements and percentage of each of these movements"
   ]
  },
  {
   "cell_type": "markdown",
   "metadata": {},
   "source": [
    "## 70,30 split for the model"
   ]
  },
  {
   "cell_type": "code",
   "execution_count": 16,
   "metadata": {
    "ExecuteTime": {
     "end_time": "2019-10-21T21:23:59.006252Z",
     "start_time": "2019-10-21T21:23:58.995990Z"
    }
   },
   "outputs": [],
   "source": [
    "\n",
    "# Split data set into training and test sets\n",
    "X_train, X_test, y_train, y_test = train_test_split(X, y, test_size=0.3, random_state=101)"
   ]
  },
  {
   "cell_type": "code",
   "execution_count": 17,
   "metadata": {
    "ExecuteTime": {
     "end_time": "2019-10-21T21:23:59.656043Z",
     "start_time": "2019-10-21T21:23:59.615346Z"
    }
   },
   "outputs": [
    {
     "name": "stderr",
     "output_type": "stream",
     "text": [
      "/Users/albertomastrotto/anaconda3/lib/python3.7/site-packages/sklearn/linear_model/logistic.py:432: FutureWarning: Default solver will be changed to 'lbfgs' in 0.22. Specify a solver to silence this warning.\n",
      "  FutureWarning)\n"
     ]
    },
    {
     "data": {
      "text/plain": [
       "LogisticRegression(C=1.0, class_weight=None, dual=False, fit_intercept=True,\n",
       "                   intercept_scaling=1, l1_ratio=None, max_iter=100,\n",
       "                   multi_class='warn', n_jobs=None, penalty='l2',\n",
       "                   random_state=None, solver='warn', tol=0.0001, verbose=0,\n",
       "                   warm_start=False)"
      ]
     },
     "execution_count": 17,
     "metadata": {},
     "output_type": "execute_result"
    }
   ],
   "source": [
    "# Import module for fitting\n",
    "from sklearn.linear_model import LogisticRegression\n",
    "# Create instance (i.e. object) of LogisticRegression\n",
    "logmodel = LogisticRegression()\n",
    "# Fit the model using the training data\n",
    "#X_train -> parameter supplies the data features\n",
    "#y_train -> parameter supplies the target labels\n",
    "logmodel.fit(X_train, y_train)"
   ]
  },
  {
   "cell_type": "code",
   "execution_count": 18,
   "metadata": {
    "ExecuteTime": {
     "end_time": "2019-10-21T21:24:08.804798Z",
     "start_time": "2019-10-21T21:24:08.790201Z"
    }
   },
   "outputs": [
    {
     "name": "stdout",
     "output_type": "stream",
     "text": [
      "Accuracy of logistic regression classifier on test set: 0.75\n"
     ]
    }
   ],
   "source": [
    "y_pred = logmodel.predict(X_test)\n",
    "print('Accuracy of logistic regression classifier on test set: {:.2f}'.format(logmodel.score(X_test, y_test)))"
   ]
  },
  {
   "cell_type": "code",
   "execution_count": 19,
   "metadata": {
    "ExecuteTime": {
     "end_time": "2019-10-21T21:24:11.033074Z",
     "start_time": "2019-10-21T21:24:11.018284Z"
    }
   },
   "outputs": [
    {
     "name": "stdout",
     "output_type": "stream",
     "text": [
      "              precision    recall  f1-score   support\n",
      "\n",
      "           0       0.67      0.50      0.57        72\n",
      "           1       0.78      0.88      0.83       148\n",
      "\n",
      "    accuracy                           0.75       220\n",
      "   macro avg       0.72      0.69      0.70       220\n",
      "weighted avg       0.75      0.75      0.74       220\n",
      "\n"
     ]
    }
   ],
   "source": [
    "from sklearn.metrics import classification_report\n",
    "print(classification_report(y_test,y_pred))\n"
   ]
  },
  {
   "cell_type": "markdown",
   "metadata": {},
   "source": [
    "### Accuracy and other metrics are close to 75% for the first model using some features we created"
   ]
  },
  {
   "cell_type": "code",
   "execution_count": 20,
   "metadata": {
    "ExecuteTime": {
     "end_time": "2019-10-21T21:24:14.286483Z",
     "start_time": "2019-10-21T21:24:14.043886Z"
    },
    "scrolled": true
   },
   "outputs": [
    {
     "name": "stdout",
     "output_type": "stream",
     "text": [
      "[False False False False False False  True  True False False False False\n",
      "  True  True  True  True False  True  True  True False False False False\n",
      "  True False False False False False False False False False False False\n",
      " False False]\n",
      "[19 18 16  3  8 17  1  1 22  2 23  4  1  1  1  1 21  1  1  1 10 13 11 14\n",
      "  1  9  6 29 24 25 12 20  7 26 28 27  5 15]\n"
     ]
    },
    {
     "name": "stderr",
     "output_type": "stream",
     "text": [
      "/Users/albertomastrotto/anaconda3/lib/python3.7/site-packages/sklearn/linear_model/logistic.py:432: FutureWarning: Default solver will be changed to 'lbfgs' in 0.22. Specify a solver to silence this warning.\n",
      "  FutureWarning)\n",
      "/Users/albertomastrotto/anaconda3/lib/python3.7/site-packages/sklearn/linear_model/logistic.py:432: FutureWarning: Default solver will be changed to 'lbfgs' in 0.22. Specify a solver to silence this warning.\n",
      "  FutureWarning)\n",
      "/Users/albertomastrotto/anaconda3/lib/python3.7/site-packages/sklearn/linear_model/logistic.py:432: FutureWarning: Default solver will be changed to 'lbfgs' in 0.22. Specify a solver to silence this warning.\n",
      "  FutureWarning)\n",
      "/Users/albertomastrotto/anaconda3/lib/python3.7/site-packages/sklearn/linear_model/logistic.py:432: FutureWarning: Default solver will be changed to 'lbfgs' in 0.22. Specify a solver to silence this warning.\n",
      "  FutureWarning)\n",
      "/Users/albertomastrotto/anaconda3/lib/python3.7/site-packages/sklearn/linear_model/logistic.py:432: FutureWarning: Default solver will be changed to 'lbfgs' in 0.22. Specify a solver to silence this warning.\n",
      "  FutureWarning)\n",
      "/Users/albertomastrotto/anaconda3/lib/python3.7/site-packages/sklearn/linear_model/logistic.py:432: FutureWarning: Default solver will be changed to 'lbfgs' in 0.22. Specify a solver to silence this warning.\n",
      "  FutureWarning)\n",
      "/Users/albertomastrotto/anaconda3/lib/python3.7/site-packages/sklearn/linear_model/logistic.py:432: FutureWarning: Default solver will be changed to 'lbfgs' in 0.22. Specify a solver to silence this warning.\n",
      "  FutureWarning)\n",
      "/Users/albertomastrotto/anaconda3/lib/python3.7/site-packages/sklearn/linear_model/logistic.py:432: FutureWarning: Default solver will be changed to 'lbfgs' in 0.22. Specify a solver to silence this warning.\n",
      "  FutureWarning)\n",
      "/Users/albertomastrotto/anaconda3/lib/python3.7/site-packages/sklearn/linear_model/logistic.py:432: FutureWarning: Default solver will be changed to 'lbfgs' in 0.22. Specify a solver to silence this warning.\n",
      "  FutureWarning)\n",
      "/Users/albertomastrotto/anaconda3/lib/python3.7/site-packages/sklearn/linear_model/logistic.py:432: FutureWarning: Default solver will be changed to 'lbfgs' in 0.22. Specify a solver to silence this warning.\n",
      "  FutureWarning)\n",
      "/Users/albertomastrotto/anaconda3/lib/python3.7/site-packages/sklearn/linear_model/logistic.py:432: FutureWarning: Default solver will be changed to 'lbfgs' in 0.22. Specify a solver to silence this warning.\n",
      "  FutureWarning)\n",
      "/Users/albertomastrotto/anaconda3/lib/python3.7/site-packages/sklearn/linear_model/logistic.py:432: FutureWarning: Default solver will be changed to 'lbfgs' in 0.22. Specify a solver to silence this warning.\n",
      "  FutureWarning)\n",
      "/Users/albertomastrotto/anaconda3/lib/python3.7/site-packages/sklearn/linear_model/logistic.py:432: FutureWarning: Default solver will be changed to 'lbfgs' in 0.22. Specify a solver to silence this warning.\n",
      "  FutureWarning)\n",
      "/Users/albertomastrotto/anaconda3/lib/python3.7/site-packages/sklearn/linear_model/logistic.py:432: FutureWarning: Default solver will be changed to 'lbfgs' in 0.22. Specify a solver to silence this warning.\n",
      "  FutureWarning)\n",
      "/Users/albertomastrotto/anaconda3/lib/python3.7/site-packages/sklearn/linear_model/logistic.py:432: FutureWarning: Default solver will be changed to 'lbfgs' in 0.22. Specify a solver to silence this warning.\n",
      "  FutureWarning)\n",
      "/Users/albertomastrotto/anaconda3/lib/python3.7/site-packages/sklearn/linear_model/logistic.py:432: FutureWarning: Default solver will be changed to 'lbfgs' in 0.22. Specify a solver to silence this warning.\n",
      "  FutureWarning)\n",
      "/Users/albertomastrotto/anaconda3/lib/python3.7/site-packages/sklearn/linear_model/logistic.py:432: FutureWarning: Default solver will be changed to 'lbfgs' in 0.22. Specify a solver to silence this warning.\n",
      "  FutureWarning)\n",
      "/Users/albertomastrotto/anaconda3/lib/python3.7/site-packages/sklearn/linear_model/logistic.py:432: FutureWarning: Default solver will be changed to 'lbfgs' in 0.22. Specify a solver to silence this warning.\n",
      "  FutureWarning)\n",
      "/Users/albertomastrotto/anaconda3/lib/python3.7/site-packages/sklearn/linear_model/logistic.py:432: FutureWarning: Default solver will be changed to 'lbfgs' in 0.22. Specify a solver to silence this warning.\n",
      "  FutureWarning)\n",
      "/Users/albertomastrotto/anaconda3/lib/python3.7/site-packages/sklearn/linear_model/logistic.py:432: FutureWarning: Default solver will be changed to 'lbfgs' in 0.22. Specify a solver to silence this warning.\n",
      "  FutureWarning)\n",
      "/Users/albertomastrotto/anaconda3/lib/python3.7/site-packages/sklearn/linear_model/logistic.py:432: FutureWarning: Default solver will be changed to 'lbfgs' in 0.22. Specify a solver to silence this warning.\n",
      "  FutureWarning)\n",
      "/Users/albertomastrotto/anaconda3/lib/python3.7/site-packages/sklearn/linear_model/logistic.py:432: FutureWarning: Default solver will be changed to 'lbfgs' in 0.22. Specify a solver to silence this warning.\n",
      "  FutureWarning)\n",
      "/Users/albertomastrotto/anaconda3/lib/python3.7/site-packages/sklearn/linear_model/logistic.py:432: FutureWarning: Default solver will be changed to 'lbfgs' in 0.22. Specify a solver to silence this warning.\n",
      "  FutureWarning)\n",
      "/Users/albertomastrotto/anaconda3/lib/python3.7/site-packages/sklearn/linear_model/logistic.py:432: FutureWarning: Default solver will be changed to 'lbfgs' in 0.22. Specify a solver to silence this warning.\n",
      "  FutureWarning)\n",
      "/Users/albertomastrotto/anaconda3/lib/python3.7/site-packages/sklearn/linear_model/logistic.py:432: FutureWarning: Default solver will be changed to 'lbfgs' in 0.22. Specify a solver to silence this warning.\n",
      "  FutureWarning)\n",
      "/Users/albertomastrotto/anaconda3/lib/python3.7/site-packages/sklearn/linear_model/logistic.py:432: FutureWarning: Default solver will be changed to 'lbfgs' in 0.22. Specify a solver to silence this warning.\n",
      "  FutureWarning)\n",
      "/Users/albertomastrotto/anaconda3/lib/python3.7/site-packages/sklearn/linear_model/logistic.py:432: FutureWarning: Default solver will be changed to 'lbfgs' in 0.22. Specify a solver to silence this warning.\n",
      "  FutureWarning)\n",
      "/Users/albertomastrotto/anaconda3/lib/python3.7/site-packages/sklearn/linear_model/logistic.py:432: FutureWarning: Default solver will be changed to 'lbfgs' in 0.22. Specify a solver to silence this warning.\n",
      "  FutureWarning)\n",
      "/Users/albertomastrotto/anaconda3/lib/python3.7/site-packages/sklearn/linear_model/logistic.py:432: FutureWarning: Default solver will be changed to 'lbfgs' in 0.22. Specify a solver to silence this warning.\n",
      "  FutureWarning)\n"
     ]
    },
    {
     "data": {
      "text/plain": [
       "Index(['bf _votes_ 1 _count', 'bf _votes_ 5 _count', 'bs _votes_ 1 _count',\n",
       "       'bs _votes_ 4 _count', 'bs _votes_ 5 _count', 'miq _votes_ 1 _count',\n",
       "       'miq _votes_ 4 _count', 'miq _votes_ 5 _count', 'pgi _votes_ 1 _count',\n",
       "       'bf _votes_ 4 _count'],\n",
       "      dtype='object')"
      ]
     },
     "execution_count": 20,
     "metadata": {},
     "output_type": "execute_result"
    }
   ],
   "source": [
    "#Feature selection \n",
    "#Recursive feature elimination\n",
    "from sklearn.feature_selection import RFE\n",
    "\n",
    "#Select best feature \n",
    "rfe = RFE(logmodel, n_features_to_select= 10)\n",
    "rfe = rfe.fit(X_train, y_train)\n",
    "\n",
    "#Summarize the selection of the attributes\n",
    "print(rfe.support_)\n",
    "print(rfe.ranking_)\n",
    "X_train.columns[rfe.support_]"
   ]
  },
  {
   "cell_type": "code",
   "execution_count": 21,
   "metadata": {
    "ExecuteTime": {
     "end_time": "2019-10-21T21:24:25.135815Z",
     "start_time": "2019-10-21T21:24:24.661869Z"
    }
   },
   "outputs": [
    {
     "name": "stdout",
     "output_type": "stream",
     "text": [
      "[0.02048668 0.02834854 0.02702139 0.02617914 0.00023885 0.03126063\n",
      " 0.05356014 0.02645    0.02527069 0.02297387 0.02754546 0.02438018\n",
      " 0.01579127 0.01371601 0.02181213 0.02236345 0.03636265 0.02989981\n",
      " 0.02240932 0.03464388 0.0359192  0.02037071 0.02761299 0.02098426\n",
      " 0.03731575 0.03849615 0.01459475 0.03201494 0.02954994 0.02431229\n",
      " 0.03245293 0.02700066 0.02648421 0.02467202 0.02973031 0.01647216\n",
      " 0.0224961  0.02880655]\n"
     ]
    },
    {
     "name": "stderr",
     "output_type": "stream",
     "text": [
      "/Users/albertomastrotto/anaconda3/lib/python3.7/site-packages/sklearn/ensemble/forest.py:245: FutureWarning: The default value of n_estimators will change from 10 in version 0.20 to 100 in 0.22.\n",
      "  \"10 in version 0.20 to 100 in 0.22.\", FutureWarning)\n"
     ]
    },
    {
     "data": {
      "text/plain": [
       "<Figure size 640x480 with 1 Axes>"
      ]
     },
     "metadata": {},
     "output_type": "display_data"
    }
   ],
   "source": [
    "from sklearn.ensemble import ExtraTreesClassifier\n",
    "import matplotlib.pyplot as plt\n",
    "model = ExtraTreesClassifier()\n",
    "model.fit(X,y)\n",
    "print(model.feature_importances_) #use inbuilt class feature_importances of tree based classifiers\n",
    "#plot graph of feature importances for better visualization\n",
    "feat_importances = pd.Series(model.feature_importances_, index=X.columns)\n",
    "feat_importances.nlargest(10).plot(kind='barh')\n",
    "plt.show()"
   ]
  },
  {
   "cell_type": "markdown",
   "metadata": {},
   "source": [
    "#### Using tree based classifier method for feature selection, we find following features as important:\n",
    "\n",
    "### - How users answer some questions\n",
    "### - movements right,left, down etc\n",
    "### -no of records(scroll+click+moves) by user\n",
    "### -total time taken by user to complete survey"
   ]
  },
  {
   "cell_type": "markdown",
   "metadata": {},
   "source": [
    "# GLM MODEL \n"
   ]
  },
  {
   "cell_type": "code",
   "execution_count": 22,
   "metadata": {
    "ExecuteTime": {
     "end_time": "2019-10-21T22:43:56.571875Z",
     "start_time": "2019-10-21T22:43:56.568412Z"
    }
   },
   "outputs": [],
   "source": [
    "from sklearn.ensemble import GradientBoostingClassifier"
   ]
  },
  {
   "cell_type": "code",
   "execution_count": 23,
   "metadata": {
    "ExecuteTime": {
     "end_time": "2019-10-21T22:45:37.948789Z",
     "start_time": "2019-10-21T22:45:37.400599Z"
    }
   },
   "outputs": [
    {
     "name": "stdout",
     "output_type": "stream",
     "text": [
      "Accuracy of the GBM on test set: 0.727\n",
      "              precision    recall  f1-score   support\n",
      "\n",
      "           0       0.60      0.50      0.55        72\n",
      "           1       0.78      0.84      0.81       148\n",
      "\n",
      "    accuracy                           0.73       220\n",
      "   macro avg       0.69      0.67      0.68       220\n",
      "weighted avg       0.72      0.73      0.72       220\n",
      "\n"
     ]
    },
    {
     "data": {
      "image/png": "[encoded data removed]",
      "text/plain": [
       "<Figure size 432x288 with 1 Axes>"
      ]
     },
     "metadata": {
      "needs_background": "light"
     },
     "output_type": "display_data"
    }
   ],
   "source": [
    "#Run a baseline model without tuning\n",
    "\n",
    "baseline = GradientBoostingClassifier(learning_rate=0.1, n_estimators=100,max_depth=3, min_samples_split=2, min_samples_leaf=1, subsample=1,max_features='sqrt', random_state=10)\n",
    "baseline.fit(X_train,y_train)\n",
    "predictors=list(X_train)\n",
    "feat_imp = pd.Series(baseline.feature_importances_, predictors).sort_values(ascending=False)\n",
    "feat_imp.plot(kind='bar', title='Importance of Features')\n",
    "plt.ylabel('Feature Importance Score')\n",
    "print('Accuracy of the GBM on test set: {:.3f}'.format(baseline.score(X_test, y_test)))\n",
    "pred=baseline.predict(X_test)\n",
    "print(classification_report(y_test, pred))"
   ]
  },
  {
   "cell_type": "markdown",
   "metadata": {},
   "source": [
    "##### Tunign n_estimators and Learning rate\n",
    "n_estimators captures the number of trees that we add to the model. A high number of trees can be computationally expensive. Generally, with a change in learning rate,n_estimators should also be adjusted (10-fold decrease in learning_rate should go in line with a approx. 10-fold increase in n_estimators."
   ]
  },
  {
   "cell_type": "code",
   "execution_count": 26,
   "metadata": {
    "ExecuteTime": {
     "end_time": "2019-10-21T22:52:58.985981Z",
     "start_time": "2019-10-21T22:51:47.904960Z"
    }
   },
   "outputs": [
    {
     "ename": "AttributeError",
     "evalue": "'GridSearchCV' object has no attribute 'grid_scores_'",
     "output_type": "error",
     "traceback": [
      "\u001b[0;31m---------------------------------------------------------------------------\u001b[0m",
      "\u001b[0;31mAttributeError\u001b[0m                            Traceback (most recent call last)",
      "\u001b[0;32m<ipython-input-26-4d2f1cc12087>\u001b[0m in \u001b[0;36m<module>\u001b[0;34m\u001b[0m\n\u001b[1;32m      6\u001b[0m             param_grid = p_test3, scoring='accuracy',n_jobs=4,iid=False, cv=5)\n\u001b[1;32m      7\u001b[0m \u001b[0mtuning\u001b[0m\u001b[0;34m.\u001b[0m\u001b[0mfit\u001b[0m\u001b[0;34m(\u001b[0m\u001b[0mX_train\u001b[0m\u001b[0;34m,\u001b[0m\u001b[0my_train\u001b[0m\u001b[0;34m)\u001b[0m\u001b[0;34m\u001b[0m\u001b[0;34m\u001b[0m\u001b[0m\n\u001b[0;32m----> 8\u001b[0;31m \u001b[0mtuning\u001b[0m\u001b[0;34m.\u001b[0m\u001b[0mgrid_scores_\u001b[0m\u001b[0;34m,\u001b[0m \u001b[0mtuning\u001b[0m\u001b[0;34m.\u001b[0m\u001b[0mbest_params_\u001b[0m\u001b[0;34m,\u001b[0m \u001b[0mtuning\u001b[0m\u001b[0;34m.\u001b[0m\u001b[0mbest_score_\u001b[0m\u001b[0;34m\u001b[0m\u001b[0;34m\u001b[0m\u001b[0m\n\u001b[0m",
      "\u001b[0;31mAttributeError\u001b[0m: 'GridSearchCV' object has no attribute 'grid_scores_'"
     ]
    }
   ],
   "source": [
    "from sklearn.model_selection import GridSearchCV\n",
    "\n",
    "p_test3 = {'learning_rate':[0.15,0.1,0.05,0.01,0.005,0.001], 'n_estimators':[100,250,500,750,1000,1250,1500,1750]}\n",
    "\n",
    "tuning = GridSearchCV(estimator =GradientBoostingClassifier(max_depth=4, min_samples_split=2, min_samples_leaf=1, subsample=1,max_features='sqrt', random_state=10), \n",
    "            param_grid = p_test3, scoring='accuracy',n_jobs=4,iid=False, cv=5)\n",
    "tuning.fit(X_train,y_train)\n",
    "tuning.grid_scores_, tuning.best_params_, tuning.best_score_"
   ]
  },
  {
   "cell_type": "code",
   "execution_count": null,
   "metadata": {},
   "outputs": [],
   "source": []
  },
  {
   "cell_type": "code",
   "execution_count": null,
   "metadata": {},
   "outputs": [],
   "source": []
  }
 ],
 "metadata": {
  "kernelspec": {
   "display_name": "Python 3",
   "language": "python",
   "name": "python3"
  },
  "language_info": {
   "codemirror_mode": {
    "name": "ipython",
    "version": 3
   },
   "file_extension": ".py",
   "mimetype": "text/x-python",
   "name": "python",
   "nbconvert_exporter": "python",
   "pygments_lexer": "ipython3",
   "version": "3.7.3"
  }
 },
 "nbformat": 4,
 "nbformat_minor": 4
}
