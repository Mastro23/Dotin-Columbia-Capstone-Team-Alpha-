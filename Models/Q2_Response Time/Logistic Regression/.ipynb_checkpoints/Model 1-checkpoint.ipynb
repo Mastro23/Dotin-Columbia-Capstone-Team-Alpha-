{
 "cells": [
  {
   "cell_type": "code",
   "execution_count": 1,
   "metadata": {},
   "outputs": [],
   "source": [
    "import numpy as np\n",
    "import pandas as pd\n",
    "import os\n",
    "import sklearn "
   ]
  },
  {
   "cell_type": "code",
   "execution_count": 2,
   "metadata": {},
   "outputs": [],
   "source": [
    "os.chdir('/Users/mayurbansal/documents/github/Dotin-Columbia-Castone-Team-Alpha-/data/Clean Data')"
   ]
  },
  {
   "cell_type": "code",
   "execution_count": 3,
   "metadata": {},
   "outputs": [],
   "source": [
    "#read data\n",
    "data=pd.read_csv(\"../Clean Data/merged_data_user_level_V2.csv\",index_col=0)"
   ]
  },
  {
   "cell_type": "code",
   "execution_count": 4,
   "metadata": {},
   "outputs": [
    {
     "data": {
      "text/html": [
       "<div>\n",
       "<style scoped>\n",
       "    .dataframe tbody tr th:only-of-type {\n",
       "        vertical-align: middle;\n",
       "    }\n",
       "\n",
       "    .dataframe tbody tr th {\n",
       "        vertical-align: top;\n",
       "    }\n",
       "\n",
       "    .dataframe thead th {\n",
       "        text-align: right;\n",
       "    }\n",
       "</style>\n",
       "<table border=\"1\" class=\"dataframe\">\n",
       "  <thead>\n",
       "    <tr style=\"text-align: right;\">\n",
       "      <th></th>\n",
       "      <th>user_id</th>\n",
       "      <th>scroll count</th>\n",
       "      <th>mouse movement count</th>\n",
       "      <th>click count</th>\n",
       "      <th>average_click_delay</th>\n",
       "      <th>User Record Count</th>\n",
       "      <th>Total Time</th>\n",
       "      <th>Total Distance</th>\n",
       "      <th>validation</th>\n",
       "      <th>Min Score Value.x</th>\n",
       "      <th>...</th>\n",
       "      <th>perc_left_movement</th>\n",
       "      <th>perc_right_movement</th>\n",
       "      <th>perc_no_movement_x</th>\n",
       "      <th>movesup</th>\n",
       "      <th>movesdown</th>\n",
       "      <th>no_vertical_movement</th>\n",
       "      <th>perc_upwward_movement</th>\n",
       "      <th>perc_downward_movement</th>\n",
       "      <th>perc_no_movement_y</th>\n",
       "      <th>system</th>\n",
       "    </tr>\n",
       "  </thead>\n",
       "  <tbody>\n",
       "    <tr>\n",
       "      <td>1</td>\n",
       "      <td>365</td>\n",
       "      <td>11</td>\n",
       "      <td>4766</td>\n",
       "      <td>227</td>\n",
       "      <td>1.301838</td>\n",
       "      <td>5005</td>\n",
       "      <td>245.808</td>\n",
       "      <td>5005</td>\n",
       "      <td>False</td>\n",
       "      <td>1</td>\n",
       "      <td>...</td>\n",
       "      <td>28.517186</td>\n",
       "      <td>26.618705</td>\n",
       "      <td>44.864109</td>\n",
       "      <td>1512</td>\n",
       "      <td>2620</td>\n",
       "      <td>872</td>\n",
       "      <td>30.215827</td>\n",
       "      <td>52.358114</td>\n",
       "      <td>17.426059</td>\n",
       "      <td>pc</td>\n",
       "    </tr>\n",
       "    <tr>\n",
       "      <td>2</td>\n",
       "      <td>371</td>\n",
       "      <td>1</td>\n",
       "      <td>3900</td>\n",
       "      <td>143</td>\n",
       "      <td>0.886830</td>\n",
       "      <td>4044</td>\n",
       "      <td>185.388</td>\n",
       "      <td>4044</td>\n",
       "      <td>True</td>\n",
       "      <td>1</td>\n",
       "      <td>...</td>\n",
       "      <td>41.578036</td>\n",
       "      <td>38.511007</td>\n",
       "      <td>19.910957</td>\n",
       "      <td>1327</td>\n",
       "      <td>1950</td>\n",
       "      <td>766</td>\n",
       "      <td>32.822162</td>\n",
       "      <td>48.231511</td>\n",
       "      <td>18.946327</td>\n",
       "      <td>pc</td>\n",
       "    </tr>\n",
       "    <tr>\n",
       "      <td>3</td>\n",
       "      <td>373</td>\n",
       "      <td>35</td>\n",
       "      <td>5692</td>\n",
       "      <td>225</td>\n",
       "      <td>0.904714</td>\n",
       "      <td>5952</td>\n",
       "      <td>200.144</td>\n",
       "      <td>5952</td>\n",
       "      <td>False</td>\n",
       "      <td>1</td>\n",
       "      <td>...</td>\n",
       "      <td>39.438750</td>\n",
       "      <td>36.548479</td>\n",
       "      <td>24.012771</td>\n",
       "      <td>1719</td>\n",
       "      <td>2539</td>\n",
       "      <td>1693</td>\n",
       "      <td>28.885902</td>\n",
       "      <td>42.665098</td>\n",
       "      <td>28.449000</td>\n",
       "      <td>pc</td>\n",
       "    </tr>\n",
       "    <tr>\n",
       "      <td>4</td>\n",
       "      <td>374</td>\n",
       "      <td>32</td>\n",
       "      <td>4666</td>\n",
       "      <td>277</td>\n",
       "      <td>7.335211</td>\n",
       "      <td>4975</td>\n",
       "      <td>249.975</td>\n",
       "      <td>4975</td>\n",
       "      <td>True</td>\n",
       "      <td>3</td>\n",
       "      <td>...</td>\n",
       "      <td>36.771210</td>\n",
       "      <td>31.081624</td>\n",
       "      <td>32.147165</td>\n",
       "      <td>1626</td>\n",
       "      <td>2169</td>\n",
       "      <td>1179</td>\n",
       "      <td>32.689988</td>\n",
       "      <td>43.606755</td>\n",
       "      <td>23.703257</td>\n",
       "      <td>pc</td>\n",
       "    </tr>\n",
       "    <tr>\n",
       "      <td>5</td>\n",
       "      <td>375</td>\n",
       "      <td>70</td>\n",
       "      <td>3758</td>\n",
       "      <td>77</td>\n",
       "      <td>3.378696</td>\n",
       "      <td>3905</td>\n",
       "      <td>577.872</td>\n",
       "      <td>3905</td>\n",
       "      <td>False</td>\n",
       "      <td>1</td>\n",
       "      <td>...</td>\n",
       "      <td>37.064549</td>\n",
       "      <td>37.371926</td>\n",
       "      <td>25.563525</td>\n",
       "      <td>1718</td>\n",
       "      <td>1476</td>\n",
       "      <td>710</td>\n",
       "      <td>44.006148</td>\n",
       "      <td>37.807377</td>\n",
       "      <td>18.186475</td>\n",
       "      <td>pc</td>\n",
       "    </tr>\n",
       "  </tbody>\n",
       "</table>\n",
       "<p>5 rows × 49 columns</p>\n",
       "</div>"
      ],
      "text/plain": [
       "   user_id  scroll count  mouse movement count  click count  \\\n",
       "1      365            11                  4766          227   \n",
       "2      371             1                  3900          143   \n",
       "3      373            35                  5692          225   \n",
       "4      374            32                  4666          277   \n",
       "5      375            70                  3758           77   \n",
       "\n",
       "   average_click_delay  User Record Count  Total Time  Total Distance  \\\n",
       "1             1.301838               5005     245.808            5005   \n",
       "2             0.886830               4044     185.388            4044   \n",
       "3             0.904714               5952     200.144            5952   \n",
       "4             7.335211               4975     249.975            4975   \n",
       "5             3.378696               3905     577.872            3905   \n",
       "\n",
       "   validation  Min Score Value.x  ...  perc_left_movement  \\\n",
       "1       False                  1  ...           28.517186   \n",
       "2        True                  1  ...           41.578036   \n",
       "3       False                  1  ...           39.438750   \n",
       "4        True                  3  ...           36.771210   \n",
       "5       False                  1  ...           37.064549   \n",
       "\n",
       "   perc_right_movement  perc_no_movement_x  movesup  movesdown  \\\n",
       "1            26.618705           44.864109     1512       2620   \n",
       "2            38.511007           19.910957     1327       1950   \n",
       "3            36.548479           24.012771     1719       2539   \n",
       "4            31.081624           32.147165     1626       2169   \n",
       "5            37.371926           25.563525     1718       1476   \n",
       "\n",
       "   no_vertical_movement  perc_upwward_movement  perc_downward_movement  \\\n",
       "1                   872              30.215827               52.358114   \n",
       "2                   766              32.822162               48.231511   \n",
       "3                  1693              28.885902               42.665098   \n",
       "4                  1179              32.689988               43.606755   \n",
       "5                   710              44.006148               37.807377   \n",
       "\n",
       "   perc_no_movement_y  system  \n",
       "1           17.426059      pc  \n",
       "2           18.946327      pc  \n",
       "3           28.449000      pc  \n",
       "4           23.703257      pc  \n",
       "5           18.186475      pc  \n",
       "\n",
       "[5 rows x 49 columns]"
      ]
     },
     "execution_count": 4,
     "metadata": {},
     "output_type": "execute_result"
    }
   ],
   "source": [
    "data.head()"
   ]
  },
  {
   "cell_type": "code",
   "execution_count": 5,
   "metadata": {},
   "outputs": [],
   "source": [
    "#fill na values with 0\n",
    "data['perc_left_movement'].fillna(0,inplace=True)\n",
    "data['perc_right_movement'].fillna(0,inplace=True)\n",
    "data['perc_no_movement_x'].fillna(0,inplace=True)\n",
    "data['average_click_delay'].fillna(0,inplace=True)"
   ]
  },
  {
   "cell_type": "markdown",
   "metadata": {},
   "source": [
    "### have 2 na values in each of these columns, replacing these with 0 for now"
   ]
  },
  {
   "cell_type": "code",
   "execution_count": 6,
   "metadata": {},
   "outputs": [],
   "source": [
    "#logistic regression\n",
    "from sklearn import preprocessing\n",
    "from sklearn.linear_model import LogisticRegression\n",
    "from sklearn.model_selection import train_test_split\n"
   ]
  },
  {
   "cell_type": "code",
   "execution_count": 7,
   "metadata": {},
   "outputs": [
    {
     "name": "stdout",
     "output_type": "stream",
     "text": [
      "<class 'pandas.core.frame.DataFrame'>\n",
      "Int64Index: 730 entries, 1 to 730\n",
      "Data columns (total 49 columns):\n",
      "user_id                   730 non-null int64\n",
      "scroll count              730 non-null int64\n",
      "mouse movement count      730 non-null int64\n",
      "click count               730 non-null int64\n",
      "average_click_delay       730 non-null float64\n",
      "User Record Count         730 non-null int64\n",
      "Total Time                730 non-null float64\n",
      "Total Distance            730 non-null int64\n",
      "validation                730 non-null bool\n",
      "Min Score Value.x         730 non-null int64\n",
      "Max Score Value           730 non-null int64\n",
      "Min Score Value.y         730 non-null int64\n",
      "bf _votes_ 1              730 non-null int64\n",
      "bf _votes_ 5              730 non-null int64\n",
      "bf _votes_ 3              730 non-null int64\n",
      "bs _votes_ 3              730 non-null int64\n",
      "miq _votes_ 3             730 non-null int64\n",
      "pgi _votes_ 4             730 non-null int64\n",
      "bs _votes_ 1              730 non-null int64\n",
      "bs _votes_ 4              730 non-null int64\n",
      "bs _votes_ 5              730 non-null int64\n",
      "miq _votes_ 1             730 non-null int64\n",
      "miq _votes_ 2             730 non-null int64\n",
      "miq _votes_ 4             730 non-null int64\n",
      "miq _votes_ 5             730 non-null int64\n",
      "pgi _votes_ 1             730 non-null int64\n",
      "pgi _votes_ 2             730 non-null int64\n",
      "pgi _votes_ 3             730 non-null int64\n",
      "pgi _votes_ 5             730 non-null int64\n",
      "pgi _votes_ 7             730 non-null int64\n",
      "bf _votes_ 4              730 non-null int64\n",
      "bf _votes_ 2              730 non-null int64\n",
      "bs _votes_ 2              730 non-null int64\n",
      "pgi _votes_ 6             730 non-null int64\n",
      "measure_width_covered     730 non-null float64\n",
      "measure_height_covered    730 non-null float64\n",
      "movesleft                 730 non-null int64\n",
      "movesright                730 non-null int64\n",
      "no_horizontal_movement    730 non-null int64\n",
      "perc_left_movement        730 non-null float64\n",
      "perc_right_movement       730 non-null float64\n",
      "perc_no_movement_x        730 non-null float64\n",
      "movesup                   730 non-null int64\n",
      "movesdown                 730 non-null int64\n",
      "no_vertical_movement      730 non-null int64\n",
      "perc_upwward_movement     730 non-null float64\n",
      "perc_downward_movement    730 non-null float64\n",
      "perc_no_movement_y        730 non-null float64\n",
      "system                    730 non-null object\n",
      "dtypes: bool(1), float64(10), int64(37), object(1)\n",
      "memory usage: 280.2+ KB\n"
     ]
    }
   ],
   "source": [
    "data.info()"
   ]
  },
  {
   "cell_type": "code",
   "execution_count": 8,
   "metadata": {},
   "outputs": [],
   "source": [
    "# Split data into 'X' features and 'y' target label sets\n",
    "y = data['validation']\n",
    "X=data.iloc[:,np.r_[1:7,12:33,36:47]]"
   ]
  },
  {
   "cell_type": "markdown",
   "metadata": {},
   "source": [
    "### for our first model we have chosen the following variables:\n",
    "\n",
    "### -scroll count, movement count, click count, total record count\n",
    "### -max time elapsed, total distance\n",
    "### -bf_votes_1 etc i.e. choice of answers for each category for each question \n",
    "### -movement directions of user i.e. counts of left,right,up,down movements and percentage of each of these movements"
   ]
  },
  {
   "cell_type": "markdown",
   "metadata": {},
   "source": [
    "## 70,30 split for the model"
   ]
  },
  {
   "cell_type": "code",
   "execution_count": 9,
   "metadata": {},
   "outputs": [],
   "source": [
    "\n",
    "# Split data set into training and test sets\n",
    "X_train, X_test, y_train, y_test = train_test_split(X, y, test_size=0.3, random_state=101)"
   ]
  },
  {
   "cell_type": "code",
   "execution_count": 10,
   "metadata": {},
   "outputs": [
    {
     "data": {
      "text/plain": [
       "LogisticRegression(C=1.0, class_weight=None, dual=False, fit_intercept=True,\n",
       "          intercept_scaling=1, max_iter=100, multi_class='ovr', n_jobs=1,\n",
       "          penalty='l2', random_state=None, solver='liblinear', tol=0.0001,\n",
       "          verbose=0, warm_start=False)"
      ]
     },
     "execution_count": 10,
     "metadata": {},
     "output_type": "execute_result"
    }
   ],
   "source": [
    "# Import module for fitting\n",
    "from sklearn.linear_model import LogisticRegression\n",
    "# Create instance (i.e. object) of LogisticRegression\n",
    "logmodel = LogisticRegression()\n",
    "# Fit the model using the training data\n",
    "#X_train -> parameter supplies the data features\n",
    "#y_train -> parameter supplies the target labels\n",
    "logmodel.fit(X_train, y_train)"
   ]
  },
  {
   "cell_type": "code",
   "execution_count": 11,
   "metadata": {},
   "outputs": [
    {
     "name": "stdout",
     "output_type": "stream",
     "text": [
      "Accuracy of logistic regression classifier on test set: 0.76\n"
     ]
    }
   ],
   "source": [
    "y_pred = logmodel.predict(X_test)\n",
    "print('Accuracy of logistic regression classifier on test set: {:.2f}'.format(logmodel.score(X_test, y_test)))"
   ]
  },
  {
   "cell_type": "code",
   "execution_count": 12,
   "metadata": {},
   "outputs": [
    {
     "name": "stdout",
     "output_type": "stream",
     "text": [
      "             precision    recall  f1-score   support\n",
      "\n",
      "      False       0.67      0.49      0.56        70\n",
      "       True       0.79      0.89      0.83       149\n",
      "\n",
      "avg / total       0.75      0.76      0.75       219\n",
      "\n"
     ]
    }
   ],
   "source": [
    "from sklearn.metrics import classification_report\n",
    "print(classification_report(y_test,y_pred))\n"
   ]
  },
  {
   "cell_type": "markdown",
   "metadata": {},
   "source": [
    "### Accuracy and other metrics are close to 75% for the first model using some features we created"
   ]
  },
  {
   "cell_type": "code",
   "execution_count": 13,
   "metadata": {},
   "outputs": [
    {
     "name": "stdout",
     "output_type": "stream",
     "text": [
      "[False False False  True False False  True  True False False False False\n",
      "  True  True  True  True  True False False  True False False False False\n",
      " False False  True False False False False False False False False False\n",
      " False False]\n",
      "[25 26 21  1 24 16  1  1  6  4 28 17  1  1  1  1  1  2  8  1 18 14 11 12\n",
      "  9  3  1 29 20 23  7 10  5 19 27 22 15 13]\n"
     ]
    },
    {
     "data": {
      "text/plain": [
       "Index(['average_click_delay', 'bf _votes_ 1', 'bf _votes_ 5', 'bs _votes_ 1',\n",
       "       'bs _votes_ 4', 'bs _votes_ 5', 'miq _votes_ 1', 'miq _votes_ 2',\n",
       "       'pgi _votes_ 1', 'bs _votes_ 2'],\n",
       "      dtype='object')"
      ]
     },
     "execution_count": 13,
     "metadata": {},
     "output_type": "execute_result"
    }
   ],
   "source": [
    "#Feature selection \n",
    "#Recursive feature elimination\n",
    "from sklearn.feature_selection import RFE\n",
    "\n",
    "#Select best feature \n",
    "rfe = RFE(logmodel, n_features_to_select= 10)\n",
    "rfe = rfe.fit(X_train, y_train)\n",
    "\n",
    "#Summarize the selection of the attributes\n",
    "print(rfe.support_)\n",
    "print(rfe.ranking_)\n",
    "X_train.columns[rfe.support_]"
   ]
  },
  {
   "cell_type": "code",
   "execution_count": 15,
   "metadata": {},
   "outputs": [
    {
     "name": "stdout",
     "output_type": "stream",
     "text": [
      "[0.0260597  0.02607544 0.02550287 0.02382424 0.02621443 0.04768998\n",
      " 0.03325435 0.03104577 0.0283353  0.0194223  0.02159497 0.02757941\n",
      " 0.0059438  0.01908737 0.02090604 0.0210153  0.0395221  0.02207135\n",
      " 0.01935103 0.03776358 0.02900228 0.0142124  0.02347119 0.02435805\n",
      " 0.02947334 0.03426764 0.02046416 0.03319464 0.02540512 0.02031744\n",
      " 0.02638035 0.02674456 0.03131246 0.03273967 0.02872038 0.0250238\n",
      " 0.02870974 0.02394346]\n"
     ]
    },
    {
     "data": {
      "image/png": "[encoded data removed]",
      "text/plain": [
       "<Figure size 432x288 with 1 Axes>"
      ]
     },
     "metadata": {},
     "output_type": "display_data"
    }
   ],
   "source": [
    "from sklearn.ensemble import ExtraTreesClassifier\n",
    "import matplotlib.pyplot as plt\n",
    "model = ExtraTreesClassifier()\n",
    "model.fit(X,y)\n",
    "print(model.feature_importances_) #use inbuilt class feature_importances of tree based classifiers\n",
    "#plot graph of feature importances for better visualization\n",
    "feat_importances = pd.Series(model.feature_importances_, index=X.columns)\n",
    "feat_importances.nlargest(10).plot(kind='barh')\n",
    "plt.show()"
   ]
  },
  {
   "cell_type": "markdown",
   "metadata": {},
   "source": [
    "#### Using tree based classifier method for feature selection, we find following features as important:\n",
    "\n",
    "### - How users answer some questions\n",
    "### - movements right,left, down etc\n",
    "### -no of records(scroll+click+moves) by user\n",
    "### -total time taken by user to complete survey"
   ]
  },
  {
   "cell_type": "code",
   "execution_count": null,
   "metadata": {},
   "outputs": [],
   "source": []
  },
  {
   "cell_type": "code",
   "execution_count": null,
   "metadata": {},
   "outputs": [],
   "source": []
  },
  {
   "cell_type": "code",
   "execution_count": null,
   "metadata": {},
   "outputs": [],
   "source": []
  }
 ],
 "metadata": {
  "kernelspec": {
   "display_name": "Python 3",
   "language": "python",
   "name": "python3"
  },
  "language_info": {
   "codemirror_mode": {
    "name": "ipython",
    "version": 3
   },
   "file_extension": ".py",
   "mimetype": "text/x-python",
   "name": "python",
   "nbconvert_exporter": "python",
   "pygments_lexer": "ipython3",
   "version": "3.6.4"
  }
 },
 "nbformat": 4,
 "nbformat_minor": 2
}
