{
 "cells": [
  {
   "cell_type": "code",
   "execution_count": 1,
   "metadata": {
    "ExecuteTime": {
     "end_time": "2019-10-21T22:59:45.308304Z",
     "start_time": "2019-10-21T22:59:44.357345Z"
    }
   },
   "outputs": [],
   "source": [
    "import numpy as np\n",
    "import pandas as pd\n",
    "import os\n",
    "import sklearn "
   ]
  },
  {
   "cell_type": "code",
   "execution_count": 8,
   "metadata": {
    "ExecuteTime": {
     "end_time": "2019-10-21T21:23:20.775495Z",
     "start_time": "2019-10-21T21:23:20.763588Z"
    },
    "collapsed": true
   },
   "outputs": [
    {
     "ename": "FileNotFoundError",
     "evalue": "[Errno 2] No such file or directory: '/Users/mayurbansal/documents/github/Dotin-Columbia-Castone-Team-Alpha-/data/Clean Data'",
     "output_type": "error",
     "traceback": [
      "\u001b[0;31m---------------------------------------------------------------------------\u001b[0m",
      "\u001b[0;31mFileNotFoundError\u001b[0m                         Traceback (most recent call last)",
      "\u001b[0;32m<ipython-input-8-264ba66622b2>\u001b[0m in \u001b[0;36m<module>\u001b[0;34m\u001b[0m\n\u001b[0;32m----> 1\u001b[0;31m \u001b[0mos\u001b[0m\u001b[0;34m.\u001b[0m\u001b[0mchdir\u001b[0m\u001b[0;34m(\u001b[0m\u001b[0;34m'/Users/mayurbansal/documents/github/Dotin-Columbia-Castone-Team-Alpha-/data/Clean Data'\u001b[0m\u001b[0;34m)\u001b[0m\u001b[0;34m\u001b[0m\u001b[0;34m\u001b[0m\u001b[0m\n\u001b[0m",
      "\u001b[0;31mFileNotFoundError\u001b[0m: [Errno 2] No such file or directory: '/Users/mayurbansal/documents/github/Dotin-Columbia-Castone-Team-Alpha-/data/Clean Data'"
     ]
    }
   ],
   "source": [
    "os.chdir('/Users/mayurbansal/documents/github/Dotin-Columbia-Castone-Team-Alpha-/data/Clean Data')"
   ]
  },
  {
   "cell_type": "code",
   "execution_count": 9,
   "metadata": {
    "ExecuteTime": {
     "end_time": "2019-10-21T21:23:28.678686Z",
     "start_time": "2019-10-21T21:23:28.671277Z"
    }
   },
   "outputs": [
    {
     "data": {
      "text/plain": [
       "['Logistic Regression', 'README.md', '.ipynb_checkpoints']"
      ]
     },
     "execution_count": 9,
     "metadata": {},
     "output_type": "execute_result"
    }
   ],
   "source": [
    "os.listdir('..')"
   ]
  },
  {
   "cell_type": "code",
   "execution_count": 2,
   "metadata": {
    "ExecuteTime": {
     "end_time": "2019-10-21T22:59:48.181804Z",
     "start_time": "2019-10-21T22:59:48.133045Z"
    }
   },
   "outputs": [],
   "source": [
    "#read data\n",
    "data=pd.read_csv(\"/Users/albertomastrotto/Desktop/Fall_2019 /Capstone/Dotin-Columbia-Castone-Team-Alpha-/Data/Clean Data/merged_data_user_level_V2.csv\",index_col=0)\n"
   ]
  },
  {
   "cell_type": "code",
   "execution_count": 3,
   "metadata": {
    "ExecuteTime": {
     "end_time": "2019-10-21T22:59:48.823659Z",
     "start_time": "2019-10-21T22:59:48.784159Z"
    }
   },
   "outputs": [
    {
     "data": {
      "text/html": [
       "<div>\n",
       "<style scoped>\n",
       "    .dataframe tbody tr th:only-of-type {\n",
       "        vertical-align: middle;\n",
       "    }\n",
       "\n",
       "    .dataframe tbody tr th {\n",
       "        vertical-align: top;\n",
       "    }\n",
       "\n",
       "    .dataframe thead th {\n",
       "        text-align: right;\n",
       "    }\n",
       "</style>\n",
       "<table border=\"1\" class=\"dataframe\">\n",
       "  <thead>\n",
       "    <tr style=\"text-align: right;\">\n",
       "      <th></th>\n",
       "      <th>user_id</th>\n",
       "      <th>scroll count</th>\n",
       "      <th>mouse movement count</th>\n",
       "      <th>click count</th>\n",
       "      <th>average_click_delay</th>\n",
       "      <th>NA</th>\n",
       "      <th>User Record Count</th>\n",
       "      <th>Total Time</th>\n",
       "      <th>Total Distance</th>\n",
       "      <th>validation</th>\n",
       "      <th>...</th>\n",
       "      <th>movesup</th>\n",
       "      <th>movesdown</th>\n",
       "      <th>no_vertical_movement</th>\n",
       "      <th>perc_upwward_movement</th>\n",
       "      <th>perc_downward_movement</th>\n",
       "      <th>perc_no_movement_y</th>\n",
       "      <th>system</th>\n",
       "      <th>Max Speed</th>\n",
       "      <th>Avg Speed</th>\n",
       "      <th>Sd Speed</th>\n",
       "    </tr>\n",
       "  </thead>\n",
       "  <tbody>\n",
       "    <tr>\n",
       "      <th>1</th>\n",
       "      <td>0</td>\n",
       "      <td>0</td>\n",
       "      <td>0</td>\n",
       "      <td>0</td>\n",
       "      <td>1.301838</td>\n",
       "      <td>680</td>\n",
       "      <td>680</td>\n",
       "      <td>0.000</td>\n",
       "      <td>0.000000</td>\n",
       "      <td>0</td>\n",
       "      <td>...</td>\n",
       "      <td>0</td>\n",
       "      <td>0</td>\n",
       "      <td>0</td>\n",
       "      <td>0.000000</td>\n",
       "      <td>0.000000</td>\n",
       "      <td>0.000000</td>\n",
       "      <td>0</td>\n",
       "      <td>0.000000</td>\n",
       "      <td>0.000000</td>\n",
       "      <td>0.000000</td>\n",
       "    </tr>\n",
       "    <tr>\n",
       "      <th>2</th>\n",
       "      <td>365</td>\n",
       "      <td>11</td>\n",
       "      <td>4766</td>\n",
       "      <td>227</td>\n",
       "      <td>0.886830</td>\n",
       "      <td>0</td>\n",
       "      <td>5005</td>\n",
       "      <td>245.808</td>\n",
       "      <td>62662.118363</td>\n",
       "      <td>0</td>\n",
       "      <td>...</td>\n",
       "      <td>1512</td>\n",
       "      <td>2620</td>\n",
       "      <td>872</td>\n",
       "      <td>30.215827</td>\n",
       "      <td>52.358114</td>\n",
       "      <td>17.426059</td>\n",
       "      <td>pc</td>\n",
       "      <td>2835.321410</td>\n",
       "      <td>0.812244</td>\n",
       "      <td>40.225504</td>\n",
       "    </tr>\n",
       "    <tr>\n",
       "      <th>3</th>\n",
       "      <td>371</td>\n",
       "      <td>1</td>\n",
       "      <td>3900</td>\n",
       "      <td>143</td>\n",
       "      <td>0.904714</td>\n",
       "      <td>0</td>\n",
       "      <td>4044</td>\n",
       "      <td>185.388</td>\n",
       "      <td>41381.708124</td>\n",
       "      <td>1</td>\n",
       "      <td>...</td>\n",
       "      <td>1327</td>\n",
       "      <td>1950</td>\n",
       "      <td>766</td>\n",
       "      <td>32.822162</td>\n",
       "      <td>48.231511</td>\n",
       "      <td>18.946327</td>\n",
       "      <td>pc</td>\n",
       "      <td>6285.067883</td>\n",
       "      <td>1.977682</td>\n",
       "      <td>98.953356</td>\n",
       "    </tr>\n",
       "    <tr>\n",
       "      <th>4</th>\n",
       "      <td>373</td>\n",
       "      <td>34</td>\n",
       "      <td>5692</td>\n",
       "      <td>225</td>\n",
       "      <td>7.335211</td>\n",
       "      <td>0</td>\n",
       "      <td>5951</td>\n",
       "      <td>200.144</td>\n",
       "      <td>67693.337045</td>\n",
       "      <td>0</td>\n",
       "      <td>...</td>\n",
       "      <td>1719</td>\n",
       "      <td>2539</td>\n",
       "      <td>1693</td>\n",
       "      <td>28.885902</td>\n",
       "      <td>42.665098</td>\n",
       "      <td>28.449000</td>\n",
       "      <td>pc</td>\n",
       "      <td>209.407844</td>\n",
       "      <td>0.380699</td>\n",
       "      <td>4.693707</td>\n",
       "    </tr>\n",
       "    <tr>\n",
       "      <th>5</th>\n",
       "      <td>374</td>\n",
       "      <td>32</td>\n",
       "      <td>4666</td>\n",
       "      <td>277</td>\n",
       "      <td>3.378696</td>\n",
       "      <td>0</td>\n",
       "      <td>4975</td>\n",
       "      <td>249.975</td>\n",
       "      <td>115106.227146</td>\n",
       "      <td>1</td>\n",
       "      <td>...</td>\n",
       "      <td>1626</td>\n",
       "      <td>2169</td>\n",
       "      <td>1179</td>\n",
       "      <td>32.689988</td>\n",
       "      <td>43.606755</td>\n",
       "      <td>23.703257</td>\n",
       "      <td>pc</td>\n",
       "      <td>2809.115990</td>\n",
       "      <td>1.010814</td>\n",
       "      <td>40.907223</td>\n",
       "    </tr>\n",
       "  </tbody>\n",
       "</table>\n",
       "<p>5 rows × 52 columns</p>\n",
       "</div>"
      ],
      "text/plain": [
       "   user_id  scroll count  mouse movement count  click count  \\\n",
       "1        0             0                     0            0   \n",
       "2      365            11                  4766          227   \n",
       "3      371             1                  3900          143   \n",
       "4      373            34                  5692          225   \n",
       "5      374            32                  4666          277   \n",
       "\n",
       "   average_click_delay   NA  User Record Count  Total Time  Total Distance  \\\n",
       "1             1.301838  680                680       0.000        0.000000   \n",
       "2             0.886830    0               5005     245.808    62662.118363   \n",
       "3             0.904714    0               4044     185.388    41381.708124   \n",
       "4             7.335211    0               5951     200.144    67693.337045   \n",
       "5             3.378696    0               4975     249.975   115106.227146   \n",
       "\n",
       "   validation  ...  movesup  movesdown  no_vertical_movement  \\\n",
       "1           0  ...        0          0                     0   \n",
       "2           0  ...     1512       2620                   872   \n",
       "3           1  ...     1327       1950                   766   \n",
       "4           0  ...     1719       2539                  1693   \n",
       "5           1  ...     1626       2169                  1179   \n",
       "\n",
       "   perc_upwward_movement  perc_downward_movement  perc_no_movement_y  system  \\\n",
       "1               0.000000                0.000000            0.000000       0   \n",
       "2              30.215827               52.358114           17.426059      pc   \n",
       "3              32.822162               48.231511           18.946327      pc   \n",
       "4              28.885902               42.665098           28.449000      pc   \n",
       "5              32.689988               43.606755           23.703257      pc   \n",
       "\n",
       "     Max Speed  Avg Speed   Sd Speed  \n",
       "1     0.000000   0.000000   0.000000  \n",
       "2  2835.321410   0.812244  40.225504  \n",
       "3  6285.067883   1.977682  98.953356  \n",
       "4   209.407844   0.380699   4.693707  \n",
       "5  2809.115990   1.010814  40.907223  \n",
       "\n",
       "[5 rows x 52 columns]"
      ]
     },
     "execution_count": 3,
     "metadata": {},
     "output_type": "execute_result"
    }
   ],
   "source": [
    "data.head()"
   ]
  },
  {
   "cell_type": "code",
   "execution_count": 4,
   "metadata": {
    "ExecuteTime": {
     "end_time": "2019-10-21T22:59:49.174400Z",
     "start_time": "2019-10-21T22:59:49.166533Z"
    }
   },
   "outputs": [],
   "source": [
    "#fill na values with 0\n",
    "data['perc_left_movement'].fillna(0,inplace=True)\n",
    "data['perc_right_movement'].fillna(0,inplace=True)\n",
    "data['perc_no_movement_x'].fillna(0,inplace=True)\n",
    "data['average_click_delay'].fillna(0,inplace=True)"
   ]
  },
  {
   "cell_type": "markdown",
   "metadata": {},
   "source": [
    "### have 2 na values in each of these columns, replacing these with 0 for now"
   ]
  },
  {
   "cell_type": "code",
   "execution_count": 5,
   "metadata": {
    "ExecuteTime": {
     "end_time": "2019-10-21T22:59:50.501392Z",
     "start_time": "2019-10-21T22:59:49.907639Z"
    }
   },
   "outputs": [],
   "source": [
    "#logistic regression\n",
    "from sklearn import preprocessing\n",
    "from sklearn.linear_model import LogisticRegression\n",
    "from sklearn.model_selection import train_test_split\n"
   ]
  },
  {
   "cell_type": "code",
   "execution_count": 6,
   "metadata": {
    "ExecuteTime": {
     "end_time": "2019-10-21T22:59:50.601175Z",
     "start_time": "2019-10-21T22:59:50.587540Z"
    }
   },
   "outputs": [
    {
     "name": "stdout",
     "output_type": "stream",
     "text": [
      "<class 'pandas.core.frame.DataFrame'>\n",
      "Int64Index: 731 entries, 1 to 731\n",
      "Data columns (total 52 columns):\n",
      "user_id                   731 non-null int64\n",
      "scroll count              731 non-null int64\n",
      "mouse movement count      731 non-null int64\n",
      "click count               731 non-null int64\n",
      "average_click_delay       731 non-null float64\n",
      "NA                        731 non-null int64\n",
      "User Record Count         731 non-null int64\n",
      "Total Time                731 non-null float64\n",
      "Total Distance            731 non-null float64\n",
      "validation                731 non-null int64\n",
      "Min Score Value           731 non-null int64\n",
      "Max Score Value           731 non-null int64\n",
      "bf _votes_ 1 _count       731 non-null int64\n",
      "bf _votes_ 5 _count       731 non-null int64\n",
      "bf _votes_ 3 _count       731 non-null int64\n",
      "bs _votes_ 3 _count       731 non-null int64\n",
      "miq _votes_ 3 _count      731 non-null int64\n",
      "pgi _votes_ 4 _count      731 non-null int64\n",
      "bs _votes_ 1 _count       731 non-null int64\n",
      "bs _votes_ 4 _count       731 non-null int64\n",
      "bs _votes_ 5 _count       731 non-null int64\n",
      "miq _votes_ 1 _count      731 non-null int64\n",
      "miq _votes_ 2 _count      731 non-null int64\n",
      "miq _votes_ 4 _count      731 non-null int64\n",
      "miq _votes_ 5 _count      731 non-null int64\n",
      "pgi _votes_ 1 _count      731 non-null int64\n",
      "pgi _votes_ 2 _count      731 non-null int64\n",
      "pgi _votes_ 3 _count      731 non-null int64\n",
      "pgi _votes_ 5 _count      731 non-null int64\n",
      "pgi _votes_ 7 _count      731 non-null int64\n",
      "bf _votes_ 4 _count       731 non-null int64\n",
      "bf _votes_ 2 _count       731 non-null int64\n",
      "bs _votes_ 2 _count       731 non-null int64\n",
      "pgi _votes_ 6 _count      731 non-null int64\n",
      "measure_width_covered     731 non-null float64\n",
      "measure_height_covered    731 non-null float64\n",
      "movesleft                 731 non-null int64\n",
      "movesright                731 non-null int64\n",
      "no_horizontal_movement    731 non-null int64\n",
      "perc_left_movement        731 non-null float64\n",
      "perc_right_movement       731 non-null float64\n",
      "perc_no_movement_x        731 non-null float64\n",
      "movesup                   731 non-null int64\n",
      "movesdown                 731 non-null int64\n",
      "no_vertical_movement      731 non-null int64\n",
      "perc_upwward_movement     731 non-null float64\n",
      "perc_downward_movement    731 non-null float64\n",
      "perc_no_movement_y        731 non-null float64\n",
      "system                    731 non-null object\n",
      "Max Speed                 731 non-null float64\n",
      "Avg Speed                 731 non-null float64\n",
      "Sd Speed                  731 non-null float64\n",
      "dtypes: float64(14), int64(37), object(1)\n",
      "memory usage: 302.7+ KB\n"
     ]
    }
   ],
   "source": [
    "data.info()"
   ]
  },
  {
   "cell_type": "code",
   "execution_count": 7,
   "metadata": {
    "ExecuteTime": {
     "end_time": "2019-10-21T22:59:51.217043Z",
     "start_time": "2019-10-21T22:59:51.210711Z"
    }
   },
   "outputs": [],
   "source": [
    "# Split data into 'X' features and 'y' target label sets\n",
    "y = data['validation']\n",
    "X=data.iloc[:,np.r_[1:7,12:33,36:47]]"
   ]
  },
  {
   "cell_type": "markdown",
   "metadata": {},
   "source": [
    "### for our first model we have chosen the following variables:\n",
    "\n",
    "### -scroll count, movement count, click count, total record count\n",
    "### -max time elapsed, total distance\n",
    "### -bf_votes_1 etc i.e. choice of answers for each category for each question \n",
    "### -movement directions of user i.e. counts of left,right,up,down movements and percentage of each of these movements"
   ]
  },
  {
   "cell_type": "markdown",
   "metadata": {},
   "source": [
    "## 70,30 split for the model"
   ]
  },
  {
   "cell_type": "code",
   "execution_count": 8,
   "metadata": {
    "ExecuteTime": {
     "end_time": "2019-10-21T22:59:52.198372Z",
     "start_time": "2019-10-21T22:59:52.187986Z"
    }
   },
   "outputs": [],
   "source": [
    "\n",
    "# Split data set into training and test sets\n",
    "X_train, X_test, y_train, y_test = train_test_split(X, y, test_size=0.3, random_state=101)"
   ]
  },
  {
   "cell_type": "code",
   "execution_count": 9,
   "metadata": {
    "ExecuteTime": {
     "end_time": "2019-10-21T22:59:53.000224Z",
     "start_time": "2019-10-21T22:59:52.964554Z"
    }
   },
   "outputs": [
    {
     "name": "stderr",
     "output_type": "stream",
     "text": [
      "/Users/albertomastrotto/anaconda3/lib/python3.7/site-packages/sklearn/linear_model/logistic.py:432: FutureWarning: Default solver will be changed to 'lbfgs' in 0.22. Specify a solver to silence this warning.\n",
      "  FutureWarning)\n"
     ]
    },
    {
     "data": {
      "text/plain": [
       "LogisticRegression(C=1.0, class_weight=None, dual=False, fit_intercept=True,\n",
       "                   intercept_scaling=1, l1_ratio=None, max_iter=100,\n",
       "                   multi_class='warn', n_jobs=None, penalty='l2',\n",
       "                   random_state=None, solver='warn', tol=0.0001, verbose=0,\n",
       "                   warm_start=False)"
      ]
     },
     "execution_count": 9,
     "metadata": {},
     "output_type": "execute_result"
    }
   ],
   "source": [
    "# Import module for fitting\n",
    "from sklearn.linear_model import LogisticRegression\n",
    "# Create instance (i.e. object) of LogisticRegression\n",
    "logmodel = LogisticRegression()\n",
    "# Fit the model using the training data\n",
    "#X_train -> parameter supplies the data features\n",
    "#y_train -> parameter supplies the target labels\n",
    "logmodel.fit(X_train, y_train)"
   ]
  },
  {
   "cell_type": "code",
   "execution_count": 10,
   "metadata": {
    "ExecuteTime": {
     "end_time": "2019-10-21T22:59:53.854199Z",
     "start_time": "2019-10-21T22:59:53.843333Z"
    }
   },
   "outputs": [
    {
     "name": "stdout",
     "output_type": "stream",
     "text": [
      "Accuracy of logistic regression classifier on test set: 0.75\n"
     ]
    }
   ],
   "source": [
    "y_pred = logmodel.predict(X_test)\n",
    "print('Accuracy of logistic regression classifier on test set: {:.2f}'.format(logmodel.score(X_test, y_test)))"
   ]
  },
  {
   "cell_type": "code",
   "execution_count": 11,
   "metadata": {
    "ExecuteTime": {
     "end_time": "2019-10-21T22:59:54.550243Z",
     "start_time": "2019-10-21T22:59:54.538115Z"
    }
   },
   "outputs": [
    {
     "name": "stdout",
     "output_type": "stream",
     "text": [
      "              precision    recall  f1-score   support\n",
      "\n",
      "           0       0.67      0.50      0.57        72\n",
      "           1       0.78      0.88      0.83       148\n",
      "\n",
      "    accuracy                           0.75       220\n",
      "   macro avg       0.72      0.69      0.70       220\n",
      "weighted avg       0.75      0.75      0.74       220\n",
      "\n"
     ]
    }
   ],
   "source": [
    "from sklearn.metrics import classification_report\n",
    "print(classification_report(y_test,y_pred))\n"
   ]
  },
  {
   "cell_type": "markdown",
   "metadata": {},
   "source": [
    "### Accuracy and other metrics are close to 75% for the first model using some features we created"
   ]
  },
  {
   "cell_type": "code",
   "execution_count": 12,
   "metadata": {
    "ExecuteTime": {
     "end_time": "2019-10-21T22:59:56.946611Z",
     "start_time": "2019-10-21T22:59:56.729007Z"
    },
    "scrolled": true
   },
   "outputs": [
    {
     "name": "stdout",
     "output_type": "stream",
     "text": [
      "[False False False False False False  True  True False False False False\n",
      "  True  True  True  True False  True  True  True False False False False\n",
      "  True False False False False False False False False False False False\n",
      " False False]\n",
      "[19 18 16  3  8 17  1  1 22  2 23  4  1  1  1  1 21  1  1  1 10 13 11 14\n",
      "  1  9  6 29 24 25 12 20  7 26 28 27  5 15]\n"
     ]
    },
    {
     "name": "stderr",
     "output_type": "stream",
     "text": [
      "/Users/albertomastrotto/anaconda3/lib/python3.7/site-packages/sklearn/linear_model/logistic.py:432: FutureWarning: Default solver will be changed to 'lbfgs' in 0.22. Specify a solver to silence this warning.\n",
      "  FutureWarning)\n",
      "/Users/albertomastrotto/anaconda3/lib/python3.7/site-packages/sklearn/linear_model/logistic.py:432: FutureWarning: Default solver will be changed to 'lbfgs' in 0.22. Specify a solver to silence this warning.\n",
      "  FutureWarning)\n",
      "/Users/albertomastrotto/anaconda3/lib/python3.7/site-packages/sklearn/linear_model/logistic.py:432: FutureWarning: Default solver will be changed to 'lbfgs' in 0.22. Specify a solver to silence this warning.\n",
      "  FutureWarning)\n",
      "/Users/albertomastrotto/anaconda3/lib/python3.7/site-packages/sklearn/linear_model/logistic.py:432: FutureWarning: Default solver will be changed to 'lbfgs' in 0.22. Specify a solver to silence this warning.\n",
      "  FutureWarning)\n",
      "/Users/albertomastrotto/anaconda3/lib/python3.7/site-packages/sklearn/linear_model/logistic.py:432: FutureWarning: Default solver will be changed to 'lbfgs' in 0.22. Specify a solver to silence this warning.\n",
      "  FutureWarning)\n",
      "/Users/albertomastrotto/anaconda3/lib/python3.7/site-packages/sklearn/linear_model/logistic.py:432: FutureWarning: Default solver will be changed to 'lbfgs' in 0.22. Specify a solver to silence this warning.\n",
      "  FutureWarning)\n",
      "/Users/albertomastrotto/anaconda3/lib/python3.7/site-packages/sklearn/linear_model/logistic.py:432: FutureWarning: Default solver will be changed to 'lbfgs' in 0.22. Specify a solver to silence this warning.\n",
      "  FutureWarning)\n",
      "/Users/albertomastrotto/anaconda3/lib/python3.7/site-packages/sklearn/linear_model/logistic.py:432: FutureWarning: Default solver will be changed to 'lbfgs' in 0.22. Specify a solver to silence this warning.\n",
      "  FutureWarning)\n",
      "/Users/albertomastrotto/anaconda3/lib/python3.7/site-packages/sklearn/linear_model/logistic.py:432: FutureWarning: Default solver will be changed to 'lbfgs' in 0.22. Specify a solver to silence this warning.\n",
      "  FutureWarning)\n",
      "/Users/albertomastrotto/anaconda3/lib/python3.7/site-packages/sklearn/linear_model/logistic.py:432: FutureWarning: Default solver will be changed to 'lbfgs' in 0.22. Specify a solver to silence this warning.\n",
      "  FutureWarning)\n",
      "/Users/albertomastrotto/anaconda3/lib/python3.7/site-packages/sklearn/linear_model/logistic.py:432: FutureWarning: Default solver will be changed to 'lbfgs' in 0.22. Specify a solver to silence this warning.\n",
      "  FutureWarning)\n",
      "/Users/albertomastrotto/anaconda3/lib/python3.7/site-packages/sklearn/linear_model/logistic.py:432: FutureWarning: Default solver will be changed to 'lbfgs' in 0.22. Specify a solver to silence this warning.\n",
      "  FutureWarning)\n",
      "/Users/albertomastrotto/anaconda3/lib/python3.7/site-packages/sklearn/linear_model/logistic.py:432: FutureWarning: Default solver will be changed to 'lbfgs' in 0.22. Specify a solver to silence this warning.\n",
      "  FutureWarning)\n",
      "/Users/albertomastrotto/anaconda3/lib/python3.7/site-packages/sklearn/linear_model/logistic.py:432: FutureWarning: Default solver will be changed to 'lbfgs' in 0.22. Specify a solver to silence this warning.\n",
      "  FutureWarning)\n",
      "/Users/albertomastrotto/anaconda3/lib/python3.7/site-packages/sklearn/linear_model/logistic.py:432: FutureWarning: Default solver will be changed to 'lbfgs' in 0.22. Specify a solver to silence this warning.\n",
      "  FutureWarning)\n",
      "/Users/albertomastrotto/anaconda3/lib/python3.7/site-packages/sklearn/linear_model/logistic.py:432: FutureWarning: Default solver will be changed to 'lbfgs' in 0.22. Specify a solver to silence this warning.\n",
      "  FutureWarning)\n",
      "/Users/albertomastrotto/anaconda3/lib/python3.7/site-packages/sklearn/linear_model/logistic.py:432: FutureWarning: Default solver will be changed to 'lbfgs' in 0.22. Specify a solver to silence this warning.\n",
      "  FutureWarning)\n",
      "/Users/albertomastrotto/anaconda3/lib/python3.7/site-packages/sklearn/linear_model/logistic.py:432: FutureWarning: Default solver will be changed to 'lbfgs' in 0.22. Specify a solver to silence this warning.\n",
      "  FutureWarning)\n",
      "/Users/albertomastrotto/anaconda3/lib/python3.7/site-packages/sklearn/linear_model/logistic.py:432: FutureWarning: Default solver will be changed to 'lbfgs' in 0.22. Specify a solver to silence this warning.\n",
      "  FutureWarning)\n",
      "/Users/albertomastrotto/anaconda3/lib/python3.7/site-packages/sklearn/linear_model/logistic.py:432: FutureWarning: Default solver will be changed to 'lbfgs' in 0.22. Specify a solver to silence this warning.\n",
      "  FutureWarning)\n",
      "/Users/albertomastrotto/anaconda3/lib/python3.7/site-packages/sklearn/linear_model/logistic.py:432: FutureWarning: Default solver will be changed to 'lbfgs' in 0.22. Specify a solver to silence this warning.\n",
      "  FutureWarning)\n",
      "/Users/albertomastrotto/anaconda3/lib/python3.7/site-packages/sklearn/linear_model/logistic.py:432: FutureWarning: Default solver will be changed to 'lbfgs' in 0.22. Specify a solver to silence this warning.\n",
      "  FutureWarning)\n",
      "/Users/albertomastrotto/anaconda3/lib/python3.7/site-packages/sklearn/linear_model/logistic.py:432: FutureWarning: Default solver will be changed to 'lbfgs' in 0.22. Specify a solver to silence this warning.\n",
      "  FutureWarning)\n",
      "/Users/albertomastrotto/anaconda3/lib/python3.7/site-packages/sklearn/linear_model/logistic.py:432: FutureWarning: Default solver will be changed to 'lbfgs' in 0.22. Specify a solver to silence this warning.\n",
      "  FutureWarning)\n",
      "/Users/albertomastrotto/anaconda3/lib/python3.7/site-packages/sklearn/linear_model/logistic.py:432: FutureWarning: Default solver will be changed to 'lbfgs' in 0.22. Specify a solver to silence this warning.\n",
      "  FutureWarning)\n",
      "/Users/albertomastrotto/anaconda3/lib/python3.7/site-packages/sklearn/linear_model/logistic.py:432: FutureWarning: Default solver will be changed to 'lbfgs' in 0.22. Specify a solver to silence this warning.\n",
      "  FutureWarning)\n",
      "/Users/albertomastrotto/anaconda3/lib/python3.7/site-packages/sklearn/linear_model/logistic.py:432: FutureWarning: Default solver will be changed to 'lbfgs' in 0.22. Specify a solver to silence this warning.\n",
      "  FutureWarning)\n",
      "/Users/albertomastrotto/anaconda3/lib/python3.7/site-packages/sklearn/linear_model/logistic.py:432: FutureWarning: Default solver will be changed to 'lbfgs' in 0.22. Specify a solver to silence this warning.\n",
      "  FutureWarning)\n",
      "/Users/albertomastrotto/anaconda3/lib/python3.7/site-packages/sklearn/linear_model/logistic.py:432: FutureWarning: Default solver will be changed to 'lbfgs' in 0.22. Specify a solver to silence this warning.\n",
      "  FutureWarning)\n"
     ]
    },
    {
     "data": {
      "text/plain": [
       "Index(['bf _votes_ 1 _count', 'bf _votes_ 5 _count', 'bs _votes_ 1 _count',\n",
       "       'bs _votes_ 4 _count', 'bs _votes_ 5 _count', 'miq _votes_ 1 _count',\n",
       "       'miq _votes_ 4 _count', 'miq _votes_ 5 _count', 'pgi _votes_ 1 _count',\n",
       "       'bf _votes_ 4 _count'],\n",
       "      dtype='object')"
      ]
     },
     "execution_count": 12,
     "metadata": {},
     "output_type": "execute_result"
    }
   ],
   "source": [
    "#Feature selection \n",
    "#Recursive feature elimination\n",
    "from sklearn.feature_selection import RFE\n",
    "\n",
    "#Select best feature \n",
    "rfe = RFE(logmodel, n_features_to_select= 10)\n",
    "rfe = rfe.fit(X_train, y_train)\n",
    "\n",
    "#Summarize the selection of the attributes\n",
    "print(rfe.support_)\n",
    "print(rfe.ranking_)\n",
    "X_train.columns[rfe.support_]"
   ]
  },
  {
   "cell_type": "code",
   "execution_count": 13,
   "metadata": {
    "ExecuteTime": {
     "end_time": "2019-10-21T22:59:58.078008Z",
     "start_time": "2019-10-21T22:59:57.720375Z"
    }
   },
   "outputs": [
    {
     "name": "stdout",
     "output_type": "stream",
     "text": [
      "[0.02554921 0.04093613 0.02408868 0.0299747  0.0013973  0.02370777\n",
      " 0.03401992 0.01809143 0.02684403 0.02240684 0.02990942 0.02641085\n",
      " 0.01622725 0.01766224 0.02677763 0.01899111 0.0436119  0.02786254\n",
      " 0.02288796 0.03708233 0.03459313 0.02204154 0.01910541 0.02317723\n",
      " 0.02568765 0.02349247 0.0239701  0.02726864 0.02951538 0.02674746\n",
      " 0.02583843 0.02583869 0.02823522 0.02531585 0.02955032 0.03333122\n",
      " 0.02732669 0.0345253 ]\n"
     ]
    },
    {
     "name": "stderr",
     "output_type": "stream",
     "text": [
      "/Users/albertomastrotto/anaconda3/lib/python3.7/site-packages/sklearn/ensemble/forest.py:245: FutureWarning: The default value of n_estimators will change from 10 in version 0.20 to 100 in 0.22.\n",
      "  \"10 in version 0.20 to 100 in 0.22.\", FutureWarning)\n"
     ]
    },
    {
     "data": {
      "text/plain": [
       "<Figure size 640x480 with 1 Axes>"
      ]
     },
     "metadata": {},
     "output_type": "display_data"
    }
   ],
   "source": [
    "from sklearn.ensemble import ExtraTreesClassifier\n",
    "import matplotlib.pyplot as plt\n",
    "model = ExtraTreesClassifier()\n",
    "model.fit(X,y)\n",
    "print(model.feature_importances_) #use inbuilt class feature_importances of tree based classifiers\n",
    "#plot graph of feature importances for better visualization\n",
    "feat_importances = pd.Series(model.feature_importances_, index=X.columns)\n",
    "feat_importances.nlargest(10).plot(kind='barh')\n",
    "plt.show()"
   ]
  },
  {
   "cell_type": "markdown",
   "metadata": {},
   "source": [
    "#### Using tree based classifier method for feature selection, we find following features as important:\n",
    "\n",
    "### - How users answer some questions\n",
    "### - movements right,left, down etc\n",
    "### -no of records(scroll+click+moves) by user\n",
    "### -total time taken by user to complete survey"
   ]
  },
  {
   "cell_type": "markdown",
   "metadata": {},
   "source": [
    "# GLM MODEL \n"
   ]
  },
  {
   "cell_type": "code",
   "execution_count": 14,
   "metadata": {
    "ExecuteTime": {
     "end_time": "2019-10-21T23:00:00.582714Z",
     "start_time": "2019-10-21T23:00:00.579758Z"
    }
   },
   "outputs": [],
   "source": [
    "from sklearn.ensemble import GradientBoostingClassifier"
   ]
  },
  {
   "cell_type": "code",
   "execution_count": 15,
   "metadata": {
    "ExecuteTime": {
     "end_time": "2019-10-21T23:00:02.436003Z",
     "start_time": "2019-10-21T23:00:01.885524Z"
    }
   },
   "outputs": [
    {
     "name": "stdout",
     "output_type": "stream",
     "text": [
      "Accuracy of the GBM on test set: 0.727\n",
      "              precision    recall  f1-score   support\n",
      "\n",
      "           0       0.60      0.50      0.55        72\n",
      "           1       0.78      0.84      0.81       148\n",
      "\n",
      "    accuracy                           0.73       220\n",
      "   macro avg       0.69      0.67      0.68       220\n",
      "weighted avg       0.72      0.73      0.72       220\n",
      "\n"
     ]
    },
    {
     "data": {
      "image/png": "[encoded data removed]",
      "text/plain": [
       "<Figure size 432x288 with 1 Axes>"
      ]
     },
     "metadata": {
      "needs_background": "light"
     },
     "output_type": "display_data"
    }
   ],
   "source": [
    "#Run a baseline model without tuning\n",
    "\n",
    "baseline = GradientBoostingClassifier(learning_rate=0.1, n_estimators=100,max_depth=3, min_samples_split=2, min_samples_leaf=1, subsample=1,max_features='sqrt', random_state=10)\n",
    "baseline.fit(X_train,y_train)\n",
    "predictors=list(X_train)\n",
    "feat_imp = pd.Series(baseline.feature_importances_, predictors).sort_values(ascending=False)\n",
    "feat_imp.plot(kind='bar', title='Importance of Features')\n",
    "plt.ylabel('Feature Importance Score')\n",
    "print('Accuracy of the GBM on test set: {:.3f}'.format(baseline.score(X_test, y_test)))\n",
    "pred=baseline.predict(X_test)\n",
    "print(classification_report(y_test, pred))"
   ]
  },
  {
   "cell_type": "markdown",
   "metadata": {},
   "source": [
    "##### Tunign n_estimators and Learning rate\n",
    "n_estimators captures the number of trees that we add to the model. A high number of trees can be computationally expensive. Generally, with a change in learning rate,n_estimators should also be adjusted (10-fold decrease in learning_rate should go in line with a approx. 10-fold increase in n_estimators."
   ]
  },
  {
   "cell_type": "code",
   "execution_count": 18,
   "metadata": {
    "ExecuteTime": {
     "end_time": "2019-10-21T23:08:54.805452Z",
     "start_time": "2019-10-21T23:07:46.774961Z"
    }
   },
   "outputs": [
    {
     "data": {
      "text/plain": [
       "({'mean_fit_time': array([0.18650856, 0.34422846, 0.53002543, 0.65356145, 0.96428337,\n",
       "         0.76148796, 0.83022952, 1.00771275, 0.14542308, 0.74469776,\n",
       "         1.16457744, 0.99526906, 0.87400761, 1.01699777, 1.01052938,\n",
       "         1.51003361, 0.21090188, 0.46120429, 0.90470581, 1.03751822,\n",
       "         1.41713405, 1.56771846, 1.97382798, 2.135461  , 0.25689006,\n",
       "         0.52211061, 1.01480823, 1.11483426, 1.90446129, 1.58626423,\n",
       "         1.90616889, 2.29183278, 0.14110842, 0.38133678, 0.75948672,\n",
       "         0.99572887, 1.48424931, 1.88370209, 2.39104438, 2.55154734,\n",
       "         0.21580744, 0.35403113, 0.72788053, 1.08920751, 1.42757988,\n",
       "         1.79282298, 1.97748494, 2.11066546]),\n",
       "  'std_fit_time': array([0.02855717, 0.0048586 , 0.02180561, 0.09710897, 0.07014345,\n",
       "         0.02713464, 0.02311636, 0.16414343, 0.02623858, 0.14649643,\n",
       "         0.02206829, 0.16430906, 0.02092297, 0.03954438, 0.01309053,\n",
       "         0.26243541, 0.02269986, 0.01487026, 0.06322797, 0.01964502,\n",
       "         0.06483165, 0.09975364, 0.10937282, 0.15718244, 0.06421904,\n",
       "         0.04278909, 0.02350577, 0.08658393, 0.24234696, 0.07929415,\n",
       "         0.06940335, 0.05411256, 0.00713399, 0.03477238, 0.05067451,\n",
       "         0.03751719, 0.20793756, 0.18064627, 0.11461759, 0.17367834,\n",
       "         0.02873941, 0.01094502, 0.02288804, 0.03528455, 0.05059898,\n",
       "         0.0791204 , 0.01256127, 0.23914112]),\n",
       "  'mean_score_time': array([0.00238504, 0.00271239, 0.00313916, 0.00668902, 0.00421286,\n",
       "         0.00360818, 0.00366945, 0.02349739, 0.00244527, 0.00760059,\n",
       "         0.00497355, 0.00367355, 0.0038682 , 0.00516062, 0.00537138,\n",
       "         0.00582113, 0.00373201, 0.00315857, 0.00684114, 0.00524616,\n",
       "         0.00563502, 0.00628304, 0.00929108, 0.01285615, 0.00251179,\n",
       "         0.00348239, 0.00489655, 0.00632401, 0.00528002, 0.00631828,\n",
       "         0.00686851, 0.00865164, 0.00225792, 0.00274768, 0.00353656,\n",
       "         0.00497375, 0.00544705, 0.00689998, 0.0086926 , 0.00961914,\n",
       "         0.00272441, 0.00269685, 0.00360651, 0.00438228, 0.00641837,\n",
       "         0.00716486, 0.00727272, 0.00713363]),\n",
       "  'std_score_time': array([2.20371137e-04, 1.49018181e-04, 1.21589230e-04, 5.07791748e-03,\n",
       "         8.53320139e-04, 1.33646100e-04, 1.65656990e-04, 3.86503125e-02,\n",
       "         7.44138332e-04, 7.96145232e-03, 7.98969816e-04, 1.46218598e-04,\n",
       "         5.63670332e-05, 1.83952971e-03, 1.68513380e-03, 2.17457807e-03,\n",
       "         1.51778772e-03, 6.45246010e-04, 4.81027611e-03, 1.27727684e-03,\n",
       "         6.20039958e-04, 1.66157929e-03, 2.70962256e-03, 3.65086019e-03,\n",
       "         1.85884519e-04, 8.35882746e-04, 1.01587726e-03, 4.00846802e-03,\n",
       "         2.64731127e-04, 7.26957638e-04, 2.82677280e-04, 1.46892776e-03,\n",
       "         3.76745282e-04, 6.35644858e-05, 5.98965262e-04, 1.03271591e-03,\n",
       "         7.85460818e-04, 1.85975937e-03, 3.27771949e-03, 2.87520289e-03,\n",
       "         9.14229812e-04, 5.65790145e-05, 2.15273753e-04, 6.13234325e-04,\n",
       "         2.36244280e-03, 1.73724518e-03, 1.66101828e-04, 1.44953062e-03]),\n",
       "  'param_learning_rate': masked_array(data=[0.15, 0.15, 0.15, 0.15, 0.15, 0.15, 0.15, 0.15, 0.1,\n",
       "                     0.1, 0.1, 0.1, 0.1, 0.1, 0.1, 0.1, 0.05, 0.05, 0.05,\n",
       "                     0.05, 0.05, 0.05, 0.05, 0.05, 0.01, 0.01, 0.01, 0.01,\n",
       "                     0.01, 0.01, 0.01, 0.01, 0.005, 0.005, 0.005, 0.005,\n",
       "                     0.005, 0.005, 0.005, 0.005, 0.001, 0.001, 0.001, 0.001,\n",
       "                     0.001, 0.001, 0.001, 0.001],\n",
       "               mask=[False, False, False, False, False, False, False, False,\n",
       "                     False, False, False, False, False, False, False, False,\n",
       "                     False, False, False, False, False, False, False, False,\n",
       "                     False, False, False, False, False, False, False, False,\n",
       "                     False, False, False, False, False, False, False, False,\n",
       "                     False, False, False, False, False, False, False, False],\n",
       "         fill_value='?',\n",
       "              dtype=object),\n",
       "  'param_n_estimators': masked_array(data=[100, 250, 500, 750, 1000, 1250, 1500, 1750, 100, 250,\n",
       "                     500, 750, 1000, 1250, 1500, 1750, 100, 250, 500, 750,\n",
       "                     1000, 1250, 1500, 1750, 100, 250, 500, 750, 1000, 1250,\n",
       "                     1500, 1750, 100, 250, 500, 750, 1000, 1250, 1500, 1750,\n",
       "                     100, 250, 500, 750, 1000, 1250, 1500, 1750],\n",
       "               mask=[False, False, False, False, False, False, False, False,\n",
       "                     False, False, False, False, False, False, False, False,\n",
       "                     False, False, False, False, False, False, False, False,\n",
       "                     False, False, False, False, False, False, False, False,\n",
       "                     False, False, False, False, False, False, False, False,\n",
       "                     False, False, False, False, False, False, False, False],\n",
       "         fill_value='?',\n",
       "              dtype=object),\n",
       "  'params': [{'learning_rate': 0.15, 'n_estimators': 100},\n",
       "   {'learning_rate': 0.15, 'n_estimators': 250},\n",
       "   {'learning_rate': 0.15, 'n_estimators': 500},\n",
       "   {'learning_rate': 0.15, 'n_estimators': 750},\n",
       "   {'learning_rate': 0.15, 'n_estimators': 1000},\n",
       "   {'learning_rate': 0.15, 'n_estimators': 1250},\n",
       "   {'learning_rate': 0.15, 'n_estimators': 1500},\n",
       "   {'learning_rate': 0.15, 'n_estimators': 1750},\n",
       "   {'learning_rate': 0.1, 'n_estimators': 100},\n",
       "   {'learning_rate': 0.1, 'n_estimators': 250},\n",
       "   {'learning_rate': 0.1, 'n_estimators': 500},\n",
       "   {'learning_rate': 0.1, 'n_estimators': 750},\n",
       "   {'learning_rate': 0.1, 'n_estimators': 1000},\n",
       "   {'learning_rate': 0.1, 'n_estimators': 1250},\n",
       "   {'learning_rate': 0.1, 'n_estimators': 1500},\n",
       "   {'learning_rate': 0.1, 'n_estimators': 1750},\n",
       "   {'learning_rate': 0.05, 'n_estimators': 100},\n",
       "   {'learning_rate': 0.05, 'n_estimators': 250},\n",
       "   {'learning_rate': 0.05, 'n_estimators': 500},\n",
       "   {'learning_rate': 0.05, 'n_estimators': 750},\n",
       "   {'learning_rate': 0.05, 'n_estimators': 1000},\n",
       "   {'learning_rate': 0.05, 'n_estimators': 1250},\n",
       "   {'learning_rate': 0.05, 'n_estimators': 1500},\n",
       "   {'learning_rate': 0.05, 'n_estimators': 1750},\n",
       "   {'learning_rate': 0.01, 'n_estimators': 100},\n",
       "   {'learning_rate': 0.01, 'n_estimators': 250},\n",
       "   {'learning_rate': 0.01, 'n_estimators': 500},\n",
       "   {'learning_rate': 0.01, 'n_estimators': 750},\n",
       "   {'learning_rate': 0.01, 'n_estimators': 1000},\n",
       "   {'learning_rate': 0.01, 'n_estimators': 1250},\n",
       "   {'learning_rate': 0.01, 'n_estimators': 1500},\n",
       "   {'learning_rate': 0.01, 'n_estimators': 1750},\n",
       "   {'learning_rate': 0.005, 'n_estimators': 100},\n",
       "   {'learning_rate': 0.005, 'n_estimators': 250},\n",
       "   {'learning_rate': 0.005, 'n_estimators': 500},\n",
       "   {'learning_rate': 0.005, 'n_estimators': 750},\n",
       "   {'learning_rate': 0.005, 'n_estimators': 1000},\n",
       "   {'learning_rate': 0.005, 'n_estimators': 1250},\n",
       "   {'learning_rate': 0.005, 'n_estimators': 1500},\n",
       "   {'learning_rate': 0.005, 'n_estimators': 1750},\n",
       "   {'learning_rate': 0.001, 'n_estimators': 100},\n",
       "   {'learning_rate': 0.001, 'n_estimators': 250},\n",
       "   {'learning_rate': 0.001, 'n_estimators': 500},\n",
       "   {'learning_rate': 0.001, 'n_estimators': 750},\n",
       "   {'learning_rate': 0.001, 'n_estimators': 1000},\n",
       "   {'learning_rate': 0.001, 'n_estimators': 1250},\n",
       "   {'learning_rate': 0.001, 'n_estimators': 1500},\n",
       "   {'learning_rate': 0.001, 'n_estimators': 1750}],\n",
       "  'split0_test_score': array([0.76699029, 0.74757282, 0.74757282, 0.74757282, 0.74757282,\n",
       "         0.74757282, 0.74757282, 0.74757282, 0.76699029, 0.74757282,\n",
       "         0.74757282, 0.74757282, 0.74757282, 0.74757282, 0.74757282,\n",
       "         0.74757282, 0.73786408, 0.74757282, 0.73786408, 0.74757282,\n",
       "         0.73786408, 0.73786408, 0.73786408, 0.73786408, 0.72815534,\n",
       "         0.70873786, 0.73786408, 0.73786408, 0.73786408, 0.73786408,\n",
       "         0.73786408, 0.73786408, 0.70873786, 0.73786408, 0.67961165,\n",
       "         0.72815534, 0.73786408, 0.73786408, 0.73786408, 0.74757282,\n",
       "         0.69902913, 0.69902913, 0.70873786, 0.74757282, 0.72815534,\n",
       "         0.73786408, 0.74757282, 0.72815534]),\n",
       "  'split1_test_score': array([0.69902913, 0.68932039, 0.7184466 , 0.7184466 , 0.7184466 ,\n",
       "         0.7184466 , 0.7184466 , 0.7184466 , 0.67961165, 0.68932039,\n",
       "         0.67961165, 0.67961165, 0.67961165, 0.67961165, 0.67961165,\n",
       "         0.67961165, 0.68932039, 0.66990291, 0.67961165, 0.67961165,\n",
       "         0.69902913, 0.69902913, 0.69902913, 0.69902913, 0.74757282,\n",
       "         0.70873786, 0.72815534, 0.69902913, 0.68932039, 0.68932039,\n",
       "         0.68932039, 0.68932039, 0.72815534, 0.73786408, 0.70873786,\n",
       "         0.68932039, 0.68932039, 0.68932039, 0.68932039, 0.68932039,\n",
       "         0.69902913, 0.69902913, 0.7184466 , 0.72815534, 0.75728155,\n",
       "         0.73786408, 0.72815534, 0.7184466 ]),\n",
       "  'split2_test_score': array([0.7745098 , 0.75490196, 0.74509804, 0.74509804, 0.74509804,\n",
       "         0.74509804, 0.74509804, 0.74509804, 0.74509804, 0.75490196,\n",
       "         0.74509804, 0.74509804, 0.74509804, 0.74509804, 0.74509804,\n",
       "         0.74509804, 0.75490196, 0.7745098 , 0.75490196, 0.7745098 ,\n",
       "         0.78431373, 0.7745098 , 0.7745098 , 0.7745098 , 0.69607843,\n",
       "         0.75490196, 0.76470588, 0.76470588, 0.75490196, 0.75490196,\n",
       "         0.75490196, 0.75490196, 0.70588235, 0.7254902 , 0.74509804,\n",
       "         0.76470588, 0.7745098 , 0.7745098 , 0.76470588, 0.75490196,\n",
       "         0.70588235, 0.70588235, 0.70588235, 0.71568627, 0.69607843,\n",
       "         0.7254902 , 0.74509804, 0.75490196]),\n",
       "  'split3_test_score': array([0.81372549, 0.79411765, 0.81372549, 0.81372549, 0.81372549,\n",
       "         0.81372549, 0.81372549, 0.81372549, 0.82352941, 0.84313725,\n",
       "         0.82352941, 0.82352941, 0.82352941, 0.82352941, 0.82352941,\n",
       "         0.82352941, 0.82352941, 0.82352941, 0.79411765, 0.80392157,\n",
       "         0.7745098 , 0.78431373, 0.78431373, 0.78431373, 0.78431373,\n",
       "         0.82352941, 0.83333333, 0.82352941, 0.83333333, 0.83333333,\n",
       "         0.84313725, 0.83333333, 0.70588235, 0.78431373, 0.81372549,\n",
       "         0.82352941, 0.82352941, 0.83333333, 0.83333333, 0.82352941,\n",
       "         0.70588235, 0.70588235, 0.70588235, 0.75490196, 0.79411765,\n",
       "         0.78431373, 0.78431373, 0.79411765]),\n",
       "  'split4_test_score': array([0.8019802 , 0.81188119, 0.82178218, 0.82178218, 0.82178218,\n",
       "         0.82178218, 0.82178218, 0.82178218, 0.77227723, 0.79207921,\n",
       "         0.83168317, 0.84158416, 0.84158416, 0.84158416, 0.84158416,\n",
       "         0.84158416, 0.8019802 , 0.78217822, 0.8019802 , 0.81188119,\n",
       "         0.8019802 , 0.8019802 , 0.8019802 , 0.8019802 , 0.77227723,\n",
       "         0.79207921, 0.77227723, 0.79207921, 0.79207921, 0.79207921,\n",
       "         0.79207921, 0.81188119, 0.7029703 , 0.77227723, 0.82178218,\n",
       "         0.79207921, 0.8019802 , 0.78217822, 0.78217822, 0.78217822,\n",
       "         0.7029703 , 0.7029703 , 0.7029703 , 0.74257426, 0.75247525,\n",
       "         0.77227723, 0.79207921, 0.8019802 ]),\n",
       "  'mean_test_score': array([0.77124698, 0.7595588 , 0.76932503, 0.76932503, 0.76932503,\n",
       "         0.76932503, 0.76932503, 0.76932503, 0.75750132, 0.76540233,\n",
       "         0.76549902, 0.76747922, 0.76747922, 0.76747922, 0.76747922,\n",
       "         0.76747922, 0.76151921, 0.75953863, 0.75369511, 0.76349941,\n",
       "         0.75953939, 0.75953939, 0.75953939, 0.75953939, 0.74567951,\n",
       "         0.75759726, 0.76726717, 0.76344154, 0.76149979, 0.76149979,\n",
       "         0.76346058, 0.76546019, 0.71032564, 0.75156186, 0.75379104,\n",
       "         0.75955805, 0.76544078, 0.76344116, 0.76148038, 0.75950056,\n",
       "         0.70255865, 0.70255865, 0.70838389, 0.73777813, 0.74562164,\n",
       "         0.75156186, 0.75944383, 0.75952035]),\n",
       "  'std_test_score': array([0.03998284, 0.04249878, 0.04091912, 0.04091912, 0.04091912,\n",
       "         0.04091912, 0.04091912, 0.04091912, 0.0466663 , 0.05093326,\n",
       "         0.05632416, 0.0587385 , 0.0587385 , 0.0587385 , 0.0587385 ,\n",
       "         0.0587385 , 0.04753605, 0.05100833, 0.04405875, 0.04772167,\n",
       "         0.03679787, 0.03679787, 0.03679787, 0.03679787, 0.0315309 ,\n",
       "         0.04542642, 0.03685289, 0.04297774, 0.04880001, 0.04880001,\n",
       "         0.05175441, 0.05183042, 0.00909952, 0.02261328, 0.05625455,\n",
       "         0.04710822, 0.04763707, 0.04797204, 0.04767902, 0.04405144,\n",
       "         0.00307176, 0.00307176, 0.00535174, 0.01409122, 0.0325404 ,\n",
       "         0.02261328, 0.02453272, 0.03374006]),\n",
       "  'rank_test_score': array([ 1, 26,  2,  2,  2,  2,  2,  2, 37, 17, 14,  8,  8,  8,  8,  8, 22,\n",
       "         32, 39, 18, 28, 28, 28, 28, 42, 36, 13, 20, 23, 23, 19, 15, 45, 40,\n",
       "         38, 27, 16, 21, 25, 34, 47, 47, 46, 44, 43, 40, 35, 33],\n",
       "        dtype=int32)},\n",
       " {'learning_rate': 0.15, 'n_estimators': 100},\n",
       " 0.7712469819226355)"
      ]
     },
     "execution_count": 18,
     "metadata": {},
     "output_type": "execute_result"
    }
   ],
   "source": [
    "from sklearn.model_selection import GridSearchCV\n",
    "\n",
    "p_test3 = {'learning_rate':[0.15,0.1,0.05,0.01,0.005,0.001], 'n_estimators':[100,250,500,750,1000,1250,1500,1750]}\n",
    "\n",
    "tuning = GridSearchCV(estimator =GradientBoostingClassifier(max_depth=4, min_samples_split=2, min_samples_leaf=1, subsample=1,max_features='sqrt', random_state=10), \n",
    "            param_grid = p_test3, scoring='accuracy',n_jobs=4,iid=False, cv=5)\n",
    "tuning.fit(X_train,y_train)\n",
    "tuning.cv_results_, tuning.best_params_, tuning.best_score_\n"
   ]
  },
  {
   "cell_type": "markdown",
   "metadata": {},
   "source": [
    "##### max_depth\n",
    "max_depth bounds the maximum depth of the tree. We can use the obtained results to tune the max_depth parameter. There is one interesting comment on depth in the scikit-learn documentation especially relevant for large datasets: \"We found that max_leaf_nodes=k gives comparable results to max_depth=k-1 but is significantly faster to train at the expense of a slightly higher training error.\""
   ]
  },
  {
   "cell_type": "code",
   "execution_count": 21,
   "metadata": {
    "ExecuteTime": {
     "end_time": "2019-10-21T23:22:06.495604Z",
     "start_time": "2019-10-21T23:22:04.688704Z"
    }
   },
   "outputs": [
    {
     "data": {
      "text/plain": [
       "({'mean_fit_time': array([0.11395721, 0.1095016 , 0.15260162, 0.1920218 , 0.27781701,\n",
       "         0.30481362]),\n",
       "  'std_fit_time': array([0.00717189, 0.01040779, 0.00482758, 0.01457133, 0.01277132,\n",
       "         0.05004454]),\n",
       "  'mean_score_time': array([0.00282001, 0.00213294, 0.00220876, 0.00229478, 0.0025064 ,\n",
       "         0.00205026]),\n",
       "  'std_score_time': array([6.13184201e-04, 8.03065693e-05, 1.02515154e-04, 3.86364645e-05,\n",
       "         1.90966501e-04, 1.11939958e-04]),\n",
       "  'param_max_depth': masked_array(data=[2, 3, 4, 5, 6, 7],\n",
       "               mask=[False, False, False, False, False, False],\n",
       "         fill_value='?',\n",
       "              dtype=object),\n",
       "  'params': [{'max_depth': 2},\n",
       "   {'max_depth': 3},\n",
       "   {'max_depth': 4},\n",
       "   {'max_depth': 5},\n",
       "   {'max_depth': 6},\n",
       "   {'max_depth': 7}],\n",
       "  'split0_test_score': array([0.76699029, 0.74757282, 0.76699029, 0.72815534, 0.75728155,\n",
       "         0.74757282]),\n",
       "  'split1_test_score': array([0.69902913, 0.65048544, 0.69902913, 0.70873786, 0.70873786,\n",
       "         0.70873786]),\n",
       "  'split2_test_score': array([0.75490196, 0.74509804, 0.7745098 , 0.74509804, 0.76470588,\n",
       "         0.75490196]),\n",
       "  'split3_test_score': array([0.81372549, 0.88235294, 0.81372549, 0.79411765, 0.84313725,\n",
       "         0.78431373]),\n",
       "  'split4_test_score': array([0.79207921, 0.81188119, 0.8019802 , 0.78217822, 0.77227723,\n",
       "         0.79207921]),\n",
       "  'mean_test_score': array([0.76534522, 0.76747808, 0.77124698, 0.75165742, 0.76922796,\n",
       "         0.75752111]),\n",
       "  'std_test_score': array([0.03889717, 0.07713914, 0.03998284, 0.03216163, 0.04311403,\n",
       "         0.02965717]),\n",
       "  'rank_test_score': array([4, 3, 1, 6, 2, 5], dtype=int32)},\n",
       " {'max_depth': 4},\n",
       " 0.7712469819226355)"
      ]
     },
     "execution_count": 21,
     "metadata": {},
     "output_type": "execute_result"
    }
   ],
   "source": [
    "p_test2 = {'max_depth':[2,3,4,5,6,7] }\n",
    "tuning = GridSearchCV(estimator =GradientBoostingClassifier(learning_rate=0.15,n_estimators=100, min_samples_split=2, min_samples_leaf=1, subsample=1,max_features='sqrt', random_state=10), \n",
    "            param_grid = p_test2, scoring='accuracy',n_jobs=4,iid=False, cv=5)\n",
    "tuning.fit(X_train,y_train)\n",
    "tuning.cv_results_, tuning.best_params_, tuning.best_score_"
   ]
  },
  {
   "cell_type": "markdown",
   "metadata": {},
   "source": [
    "##### Tree related parameters: Min sample split and min samples leaf\n",
    "min_samples_split sets the minimum number of samples to split while min_samples_leaf sets the minimum number of samples to form a leaf (Notice the slight difference)."
   ]
  },
  {
   "cell_type": "code",
   "execution_count": 22,
   "metadata": {
    "ExecuteTime": {
     "end_time": "2019-10-21T23:24:25.983956Z",
     "start_time": "2019-10-21T23:24:18.321330Z"
    }
   },
   "outputs": [
    {
     "data": {
      "text/plain": [
       "({'mean_fit_time': array([0.23029118, 0.28498211, 0.28540101, 0.21497254, 0.13321095,\n",
       "         0.14243569, 0.1682076 , 0.16956863, 0.12166462, 0.11824331,\n",
       "         0.12264524, 0.12297282, 0.12595286, 0.11581788, 0.12093334,\n",
       "         0.1019712 , 0.09448719, 0.08575926, 0.12199721, 0.11704926,\n",
       "         0.1212924 , 0.12192779, 0.11599383, 0.10873718, 0.0999228 ,\n",
       "         0.09666228, 0.09014826, 0.11816339, 0.11570811, 0.11901803,\n",
       "         0.1145546 , 0.11061831, 0.11217947, 0.10330596, 0.10223303,\n",
       "         0.08536148, 0.11121464, 0.10934229, 0.10718746, 0.11042919,\n",
       "         0.1137691 , 0.10889659, 0.09895887, 0.0929265 , 0.07778144]),\n",
       "  'std_fit_time': array([0.02230866, 0.04440391, 0.03351277, 0.02043057, 0.00714151,\n",
       "         0.01365548, 0.00616537, 0.0114667 , 0.02481011, 0.00174261,\n",
       "         0.00476882, 0.00366552, 0.00466149, 0.00283794, 0.01115213,\n",
       "         0.00757343, 0.00164696, 0.00114529, 0.00364942, 0.00415459,\n",
       "         0.00360659, 0.00347013, 0.00296735, 0.00219291, 0.00516276,\n",
       "         0.00665076, 0.00812379, 0.00245505, 0.00285503, 0.00337775,\n",
       "         0.00511947, 0.00197992, 0.00602662, 0.00368081, 0.00490457,\n",
       "         0.00247875, 0.00409571, 0.00186619, 0.00234732, 0.00467596,\n",
       "         0.00757137, 0.00211449, 0.00195823, 0.00327493, 0.01489755]),\n",
       "  'mean_score_time': array([0.00343552, 0.00462136, 0.00663471, 0.0024899 , 0.00219297,\n",
       "         0.00497818, 0.00530396, 0.00360837, 0.00214491, 0.00211568,\n",
       "         0.002139  , 0.00210557, 0.00213237, 0.00240426, 0.00228   ,\n",
       "         0.00209408, 0.00294385, 0.00200419, 0.0024868 , 0.00203013,\n",
       "         0.00214477, 0.0023356 , 0.00210552, 0.00203986, 0.0021791 ,\n",
       "         0.00207539, 0.00198264, 0.00218782, 0.00219784, 0.00207629,\n",
       "         0.00210018, 0.00203757, 0.00211215, 0.0036366 , 0.0021112 ,\n",
       "         0.00200052, 0.00208988, 0.00225959, 0.00303483, 0.00206847,\n",
       "         0.00211992, 0.00277939, 0.0021359 , 0.00204473, 0.00168729]),\n",
       "  'std_score_time': array([1.75336179e-03, 3.96946021e-03, 5.28692907e-03, 3.81182103e-04,\n",
       "         2.47521985e-04, 4.13984459e-03, 3.44364688e-03, 2.16238456e-03,\n",
       "         1.44518998e-04, 1.14486149e-04, 1.33171629e-04, 7.57008987e-05,\n",
       "         1.32810354e-04, 4.24787390e-04, 1.51524639e-04, 1.01177429e-04,\n",
       "         1.74198317e-03, 5.14255998e-05, 6.99177507e-04, 2.41493424e-05,\n",
       "         1.32027883e-04, 3.46243028e-04, 1.26904134e-04, 1.78399560e-05,\n",
       "         7.37778554e-04, 7.08571674e-05, 7.19225358e-05, 2.40205629e-04,\n",
       "         2.48532751e-04, 2.70045643e-05, 1.52829099e-05, 1.53170902e-05,\n",
       "         5.93601936e-05, 1.97329481e-03, 9.69049961e-05, 2.16057226e-05,\n",
       "         8.66988568e-05, 1.37557446e-04, 1.93905030e-03, 2.58814981e-05,\n",
       "         8.85188305e-05, 1.11327563e-03, 1.11287561e-04, 5.48261965e-05,\n",
       "         2.86185292e-04]),\n",
       "  'param_min_samples_leaf': masked_array(data=[1, 1, 1, 1, 1, 1, 1, 1, 1, 3, 3, 3, 3, 3, 3, 3, 3, 3,\n",
       "                     5, 5, 5, 5, 5, 5, 5, 5, 5, 7, 7, 7, 7, 7, 7, 7, 7, 7,\n",
       "                     9, 9, 9, 9, 9, 9, 9, 9, 9],\n",
       "               mask=[False, False, False, False, False, False, False, False,\n",
       "                     False, False, False, False, False, False, False, False,\n",
       "                     False, False, False, False, False, False, False, False,\n",
       "                     False, False, False, False, False, False, False, False,\n",
       "                     False, False, False, False, False, False, False, False,\n",
       "                     False, False, False, False, False],\n",
       "         fill_value='?',\n",
       "              dtype=object),\n",
       "  'param_min_samples_split': masked_array(data=[2, 4, 6, 8, 10, 20, 40, 60, 100, 2, 4, 6, 8, 10, 20,\n",
       "                     40, 60, 100, 2, 4, 6, 8, 10, 20, 40, 60, 100, 2, 4, 6,\n",
       "                     8, 10, 20, 40, 60, 100, 2, 4, 6, 8, 10, 20, 40, 60,\n",
       "                     100],\n",
       "               mask=[False, False, False, False, False, False, False, False,\n",
       "                     False, False, False, False, False, False, False, False,\n",
       "                     False, False, False, False, False, False, False, False,\n",
       "                     False, False, False, False, False, False, False, False,\n",
       "                     False, False, False, False, False, False, False, False,\n",
       "                     False, False, False, False, False],\n",
       "         fill_value='?',\n",
       "              dtype=object),\n",
       "  'params': [{'min_samples_leaf': 1, 'min_samples_split': 2},\n",
       "   {'min_samples_leaf': 1, 'min_samples_split': 4},\n",
       "   {'min_samples_leaf': 1, 'min_samples_split': 6},\n",
       "   {'min_samples_leaf': 1, 'min_samples_split': 8},\n",
       "   {'min_samples_leaf': 1, 'min_samples_split': 10},\n",
       "   {'min_samples_leaf': 1, 'min_samples_split': 20},\n",
       "   {'min_samples_leaf': 1, 'min_samples_split': 40},\n",
       "   {'min_samples_leaf': 1, 'min_samples_split': 60},\n",
       "   {'min_samples_leaf': 1, 'min_samples_split': 100},\n",
       "   {'min_samples_leaf': 3, 'min_samples_split': 2},\n",
       "   {'min_samples_leaf': 3, 'min_samples_split': 4},\n",
       "   {'min_samples_leaf': 3, 'min_samples_split': 6},\n",
       "   {'min_samples_leaf': 3, 'min_samples_split': 8},\n",
       "   {'min_samples_leaf': 3, 'min_samples_split': 10},\n",
       "   {'min_samples_leaf': 3, 'min_samples_split': 20},\n",
       "   {'min_samples_leaf': 3, 'min_samples_split': 40},\n",
       "   {'min_samples_leaf': 3, 'min_samples_split': 60},\n",
       "   {'min_samples_leaf': 3, 'min_samples_split': 100},\n",
       "   {'min_samples_leaf': 5, 'min_samples_split': 2},\n",
       "   {'min_samples_leaf': 5, 'min_samples_split': 4},\n",
       "   {'min_samples_leaf': 5, 'min_samples_split': 6},\n",
       "   {'min_samples_leaf': 5, 'min_samples_split': 8},\n",
       "   {'min_samples_leaf': 5, 'min_samples_split': 10},\n",
       "   {'min_samples_leaf': 5, 'min_samples_split': 20},\n",
       "   {'min_samples_leaf': 5, 'min_samples_split': 40},\n",
       "   {'min_samples_leaf': 5, 'min_samples_split': 60},\n",
       "   {'min_samples_leaf': 5, 'min_samples_split': 100},\n",
       "   {'min_samples_leaf': 7, 'min_samples_split': 2},\n",
       "   {'min_samples_leaf': 7, 'min_samples_split': 4},\n",
       "   {'min_samples_leaf': 7, 'min_samples_split': 6},\n",
       "   {'min_samples_leaf': 7, 'min_samples_split': 8},\n",
       "   {'min_samples_leaf': 7, 'min_samples_split': 10},\n",
       "   {'min_samples_leaf': 7, 'min_samples_split': 20},\n",
       "   {'min_samples_leaf': 7, 'min_samples_split': 40},\n",
       "   {'min_samples_leaf': 7, 'min_samples_split': 60},\n",
       "   {'min_samples_leaf': 7, 'min_samples_split': 100},\n",
       "   {'min_samples_leaf': 9, 'min_samples_split': 2},\n",
       "   {'min_samples_leaf': 9, 'min_samples_split': 4},\n",
       "   {'min_samples_leaf': 9, 'min_samples_split': 6},\n",
       "   {'min_samples_leaf': 9, 'min_samples_split': 8},\n",
       "   {'min_samples_leaf': 9, 'min_samples_split': 10},\n",
       "   {'min_samples_leaf': 9, 'min_samples_split': 20},\n",
       "   {'min_samples_leaf': 9, 'min_samples_split': 40},\n",
       "   {'min_samples_leaf': 9, 'min_samples_split': 60},\n",
       "   {'min_samples_leaf': 9, 'min_samples_split': 100}],\n",
       "  'split0_test_score': array([0.76699029, 0.70873786, 0.73786408, 0.75728155, 0.74757282,\n",
       "         0.74757282, 0.74757282, 0.73786408, 0.74757282, 0.75728155,\n",
       "         0.75728155, 0.75728155, 0.72815534, 0.73786408, 0.74757282,\n",
       "         0.7184466 , 0.7184466 , 0.75728155, 0.74757282, 0.74757282,\n",
       "         0.74757282, 0.74757282, 0.74757282, 0.74757282, 0.73786408,\n",
       "         0.73786408, 0.73786408, 0.73786408, 0.73786408, 0.73786408,\n",
       "         0.73786408, 0.73786408, 0.73786408, 0.74757282, 0.74757282,\n",
       "         0.74757282, 0.72815534, 0.72815534, 0.72815534, 0.72815534,\n",
       "         0.72815534, 0.74757282, 0.74757282, 0.73786408, 0.72815534]),\n",
       "  'split1_test_score': array([0.69902913, 0.66990291, 0.69902913, 0.66019417, 0.7184466 ,\n",
       "         0.67961165, 0.6407767 , 0.73786408, 0.7184466 , 0.66990291,\n",
       "         0.66990291, 0.66990291, 0.70873786, 0.67961165, 0.67961165,\n",
       "         0.66990291, 0.73786408, 0.70873786, 0.72815534, 0.72815534,\n",
       "         0.72815534, 0.72815534, 0.72815534, 0.69902913, 0.68932039,\n",
       "         0.67961165, 0.7184466 , 0.66990291, 0.66990291, 0.66990291,\n",
       "         0.66990291, 0.66990291, 0.67961165, 0.67961165, 0.70873786,\n",
       "         0.68932039, 0.7184466 , 0.7184466 , 0.7184466 , 0.7184466 ,\n",
       "         0.7184466 , 0.70873786, 0.66990291, 0.7184466 , 0.69902913]),\n",
       "  'split2_test_score': array([0.7745098 , 0.75490196, 0.74509804, 0.76470588, 0.76470588,\n",
       "         0.76470588, 0.71568627, 0.76470588, 0.73529412, 0.75490196,\n",
       "         0.75490196, 0.75490196, 0.76470588, 0.74509804, 0.76470588,\n",
       "         0.75490196, 0.7745098 , 0.78431373, 0.76470588, 0.76470588,\n",
       "         0.76470588, 0.76470588, 0.76470588, 0.79411765, 0.76470588,\n",
       "         0.78431373, 0.76470588, 0.7745098 , 0.7745098 , 0.7745098 ,\n",
       "         0.7745098 , 0.7745098 , 0.78431373, 0.7745098 , 0.79411765,\n",
       "         0.7745098 , 0.7745098 , 0.7745098 , 0.7745098 , 0.7745098 ,\n",
       "         0.7745098 , 0.74509804, 0.75490196, 0.7745098 , 0.76470588]),\n",
       "  'split3_test_score': array([0.81372549, 0.78431373, 0.83333333, 0.79411765, 0.81372549,\n",
       "         0.81372549, 0.82352941, 0.79411765, 0.79411765, 0.83333333,\n",
       "         0.83333333, 0.83333333, 0.78431373, 0.84313725, 0.81372549,\n",
       "         0.82352941, 0.80392157, 0.81372549, 0.79411765, 0.79411765,\n",
       "         0.79411765, 0.79411765, 0.79411765, 0.78431373, 0.80392157,\n",
       "         0.80392157, 0.80392157, 0.81372549, 0.81372549, 0.81372549,\n",
       "         0.81372549, 0.81372549, 0.81372549, 0.81372549, 0.78431373,\n",
       "         0.80392157, 0.82352941, 0.82352941, 0.82352941, 0.82352941,\n",
       "         0.82352941, 0.81372549, 0.82352941, 0.81372549, 0.84313725]),\n",
       "  'split4_test_score': array([0.8019802 , 0.82178218, 0.85148515, 0.83168317, 0.83168317,\n",
       "         0.83168317, 0.79207921, 0.84158416, 0.83168317, 0.78217822,\n",
       "         0.78217822, 0.78217822, 0.81188119, 0.81188119, 0.84158416,\n",
       "         0.83168317, 0.84158416, 0.82178218, 0.79207921, 0.79207921,\n",
       "         0.79207921, 0.79207921, 0.79207921, 0.83168317, 0.83168317,\n",
       "         0.78217822, 0.84158416, 0.8019802 , 0.8019802 , 0.8019802 ,\n",
       "         0.8019802 , 0.8019802 , 0.8019802 , 0.81188119, 0.79207921,\n",
       "         0.8019802 , 0.81188119, 0.81188119, 0.81188119, 0.81188119,\n",
       "         0.81188119, 0.8019802 , 0.79207921, 0.8019802 , 0.8019802 ]),\n",
       "  'mean_test_score': array([0.77124698, 0.74792773, 0.77336194, 0.76159649, 0.77522679,\n",
       "         0.7674598 , 0.74392888, 0.77522717, 0.76542287, 0.7595196 ,\n",
       "         0.7595196 , 0.7595196 , 0.7595588 , 0.76351844, 0.76944   ,\n",
       "         0.75969281, 0.77526524, 0.77716816, 0.76532618, 0.76532618,\n",
       "         0.76532618, 0.76532618, 0.76532618, 0.7713433 , 0.76549902,\n",
       "         0.75757785, 0.77330446, 0.7595965 , 0.7595965 , 0.7595965 ,\n",
       "         0.7595965 , 0.7595965 , 0.76349903, 0.76546019, 0.76536425,\n",
       "         0.76346095, 0.77130447, 0.77130447, 0.77130447, 0.77130447,\n",
       "         0.77130447, 0.76342288, 0.75759726, 0.76930523, 0.76740156]),\n",
       "  'std_test_score': array([0.03998284, 0.05376017, 0.05879476, 0.05706222, 0.04187814,\n",
       "         0.05363866, 0.06341292, 0.03914792, 0.04158594, 0.0529516 ,\n",
       "         0.0529516 , 0.0529516 , 0.03727164, 0.05782027, 0.05609938,\n",
       "         0.06171572, 0.04437828, 0.04112442, 0.02546335, 0.02546335,\n",
       "         0.02546335, 0.02546335, 0.02546335, 0.04499373, 0.04984804,\n",
       "         0.04457597, 0.04458445, 0.05189599, 0.05189599, 0.05189599,\n",
       "         0.05189599, 0.05189599, 0.04925646, 0.04951015, 0.03293209,\n",
       "         0.04240785, 0.04252056, 0.04252056, 0.04252056, 0.04252056,\n",
       "         0.04252056, 0.03897305, 0.05164127, 0.03645009, 0.05129113]),\n",
       "  'rank_test_score': array([13, 44,  5, 31,  4, 16, 45,  3, 20, 39, 39, 39, 38, 27, 14, 32,  2,\n",
       "          1, 22, 22, 22, 22, 22,  7, 18, 43,  6, 33, 33, 33, 33, 33, 28, 19,\n",
       "         21, 29,  8,  8,  8,  8,  8, 30, 42, 15, 17], dtype=int32)},\n",
       " {'min_samples_leaf': 3, 'min_samples_split': 100},\n",
       " 0.777168162275965)"
      ]
     },
     "execution_count": 22,
     "metadata": {},
     "output_type": "execute_result"
    }
   ],
   "source": [
    "p_test4 = {'min_samples_split':[2,4,6,8,10,20,40,60,100], 'min_samples_leaf':[1,3,5,7,9]}\n",
    "\n",
    "tuning = GridSearchCV(estimator =GradientBoostingClassifier(learning_rate=0.15, n_estimators=100,max_depth=4, subsample=1,max_features='sqrt', random_state=10), \n",
    "            param_grid = p_test4, scoring='accuracy',n_jobs=4,iid=False, cv=5)\n",
    "tuning.fit(X_train,y_train)\n",
    "tuning.cv_results_, tuning.best_params_, tuning.best_score_"
   ]
  },
  {
   "cell_type": "markdown",
   "metadata": {
    "ExecuteTime": {
     "end_time": "2019-10-21T23:25:03.441301Z",
     "start_time": "2019-10-21T23:25:03.432650Z"
    }
   },
   "source": [
    "##### Max features\n",
    "The square root of features is usually a good starting point. Let's use CV to tune the parameter. The tuning suggests to use 4 features (close to the sqrt of 21).\n",
    "\n"
   ]
  },
  {
   "cell_type": "code",
   "execution_count": 24,
   "metadata": {
    "ExecuteTime": {
     "end_time": "2019-10-21T23:26:11.196831Z",
     "start_time": "2019-10-21T23:26:10.310492Z"
    }
   },
   "outputs": [
    {
     "data": {
      "text/plain": [
       "({'mean_fit_time': array([0.12601409, 0.08793192, 0.08432493, 0.08753681, 0.09700742,\n",
       "         0.0791954 ]),\n",
       "  'std_fit_time': array([0.01348495, 0.01205498, 0.0042766 , 0.00676859, 0.00744803,\n",
       "         0.00770522]),\n",
       "  'mean_score_time': array([0.00287008, 0.0028985 , 0.00224333, 0.00262136, 0.00302987,\n",
       "         0.00173416]),\n",
       "  'std_score_time': array([0.00032393, 0.00132896, 0.00011217, 0.0005922 , 0.0015665 ,\n",
       "         0.00028301]),\n",
       "  'param_max_features': masked_array(data=[2, 3, 4, 5, 6, 7],\n",
       "               mask=[False, False, False, False, False, False],\n",
       "         fill_value='?',\n",
       "              dtype=object),\n",
       "  'params': [{'max_features': 2},\n",
       "   {'max_features': 3},\n",
       "   {'max_features': 4},\n",
       "   {'max_features': 5},\n",
       "   {'max_features': 6},\n",
       "   {'max_features': 7}],\n",
       "  'split0_test_score': array([0.74757282, 0.73786408, 0.74757282, 0.76699029, 0.75728155,\n",
       "         0.74757282]),\n",
       "  'split1_test_score': array([0.68932039, 0.69902913, 0.66990291, 0.72815534, 0.70873786,\n",
       "         0.69902913]),\n",
       "  'split2_test_score': array([0.78431373, 0.78431373, 0.7745098 , 0.76470588, 0.78431373,\n",
       "         0.76470588]),\n",
       "  'split3_test_score': array([0.7745098 , 0.79411765, 0.80392157, 0.7745098 , 0.81372549,\n",
       "         0.78431373]),\n",
       "  'split4_test_score': array([0.82178218, 0.86138614, 0.85148515, 0.83168317, 0.82178218,\n",
       "         0.82178218]),\n",
       "  'mean_test_score': array([0.76349978, 0.77534214, 0.76947845, 0.7732089 , 0.77716816,\n",
       "         0.76348075]),\n",
       "  'std_test_score': array([0.04406252, 0.05489055, 0.06055062, 0.03335185, 0.04112442,\n",
       "         0.04059962]),\n",
       "  'rank_test_score': array([5, 2, 4, 3, 1, 6], dtype=int32)},\n",
       " {'max_features': 6},\n",
       " 0.777168162275965)"
      ]
     },
     "execution_count": 24,
     "metadata": {},
     "output_type": "execute_result"
    }
   ],
   "source": [
    "#TUNING MAX FEATURES\n",
    "\n",
    "p_test5 = {'max_features':[2,3,4,5,6,7]}\n",
    "tuning = GridSearchCV(estimator =GradientBoostingClassifier(learning_rate=0.15, n_estimators=100,max_depth=4, min_samples_split=100, min_samples_leaf=3, subsample=1, random_state=10), \n",
    "param_grid = p_test5, scoring='accuracy',n_jobs=4,iid=False, cv=5)\n",
    "tuning.fit(X_train,y_train)\n",
    "tuning.cv_results_, tuning.best_params_, tuning.best_score_\n"
   ]
  },
  {
   "cell_type": "markdown",
   "metadata": {},
   "source": [
    "##### Subsample\n",
    "Subsample sets the fraction of samples to be used for fitting the individual base learners. Values lower than 1 generally lead to a reduction of variance and an increase in bias.\n"
   ]
  },
  {
   "cell_type": "code",
   "execution_count": 25,
   "metadata": {
    "ExecuteTime": {
     "end_time": "2019-10-21T23:27:55.344063Z",
     "start_time": "2019-10-21T23:27:54.196976Z"
    }
   },
   "outputs": [
    {
     "data": {
      "text/plain": [
       "({'mean_fit_time': array([0.13904004, 0.10887613, 0.10547047, 0.11131949, 0.11215835,\n",
       "         0.10317011, 0.0706862 ]),\n",
       "  'std_fit_time': array([0.02056947, 0.00259798, 0.00497052, 0.00391706, 0.0035631 ,\n",
       "         0.00724625, 0.01778853]),\n",
       "  'mean_score_time': array([0.00222745, 0.00246077, 0.00214329, 0.00206981, 0.00293188,\n",
       "         0.00205445, 0.00167751]),\n",
       "  'std_score_time': array([9.91627096e-05, 5.86324666e-04, 9.12509355e-05, 1.71446666e-05,\n",
       "         1.04953253e-03, 7.15500472e-05, 3.55124229e-04]),\n",
       "  'param_subsample': masked_array(data=[0.7, 0.75, 0.8, 0.85, 0.9, 0.95, 1],\n",
       "               mask=[False, False, False, False, False, False, False],\n",
       "         fill_value='?',\n",
       "              dtype=object),\n",
       "  'params': [{'subsample': 0.7},\n",
       "   {'subsample': 0.75},\n",
       "   {'subsample': 0.8},\n",
       "   {'subsample': 0.85},\n",
       "   {'subsample': 0.9},\n",
       "   {'subsample': 0.95},\n",
       "   {'subsample': 1}],\n",
       "  'split0_test_score': array([0.70873786, 0.70873786, 0.67961165, 0.75728155, 0.73786408,\n",
       "         0.72815534, 0.75728155]),\n",
       "  'split1_test_score': array([0.67961165, 0.68932039, 0.68932039, 0.66019417, 0.69902913,\n",
       "         0.68932039, 0.70873786]),\n",
       "  'split2_test_score': array([0.75490196, 0.78431373, 0.75490196, 0.75490196, 0.78431373,\n",
       "         0.78431373, 0.78431373]),\n",
       "  'split3_test_score': array([0.80392157, 0.76470588, 0.78431373, 0.76470588, 0.81372549,\n",
       "         0.81372549, 0.81372549]),\n",
       "  'split4_test_score': array([0.8019802 , 0.85148515, 0.82178218, 0.81188119, 0.83168317,\n",
       "         0.85148515, 0.82178218]),\n",
       "  'mean_test_score': array([0.74983065, 0.7597126 , 0.74598598, 0.74979295, 0.77332312,\n",
       "         0.77340002, 0.77716816]),\n",
       "  'std_test_score': array([0.04957912, 0.05762957, 0.0546079 , 0.04937098, 0.04885894,\n",
       "         0.05823917, 0.04112442]),\n",
       "  'rank_test_score': array([5, 4, 7, 6, 3, 2, 1], dtype=int32)},\n",
       " {'subsample': 1},\n",
       " 0.777168162275965)"
      ]
     },
     "execution_count": 25,
     "metadata": {},
     "output_type": "execute_result"
    }
   ],
   "source": [
    "p_test6= {'subsample':[0.7,0.75,0.8,0.85,0.9,0.95,1]}\n",
    "\n",
    "tuning = GridSearchCV(estimator =GradientBoostingClassifier(learning_rate=0.15, n_estimators=100,max_depth=4, min_samples_split=100, min_samples_leaf=3,max_features=6 , random_state=10), \n",
    "param_grid = p_test6, scoring='accuracy',n_jobs=4,iid=False, cv=5)\n",
    "tuning.fit(X_train,y_train)\n",
    "tuning.cv_results_, tuning.best_params_, tuning.best_score_\n"
   ]
  },
  {
   "cell_type": "code",
   "execution_count": 26,
   "metadata": {
    "ExecuteTime": {
     "end_time": "2019-10-21T23:29:26.750814Z",
     "start_time": "2019-10-21T23:29:26.206773Z"
    }
   },
   "outputs": [
    {
     "name": "stdout",
     "output_type": "stream",
     "text": [
      "Accuracy of the GBM on test set: 0.723\n",
      "              precision    recall  f1-score   support\n",
      "\n",
      "           0       0.59      0.50      0.54        72\n",
      "           1       0.77      0.83      0.80       148\n",
      "\n",
      "    accuracy                           0.72       220\n",
      "   macro avg       0.68      0.67      0.67       220\n",
      "weighted avg       0.71      0.72      0.72       220\n",
      "\n"
     ]
    },
    {
     "data": {
      "image/png": "[encoded data removed]",
      "text/plain": [
       "<Figure size 432x288 with 1 Axes>"
      ]
     },
     "metadata": {
      "needs_background": "light"
     },
     "output_type": "display_data"
    }
   ],
   "source": [
    "new=GradientBoostingClassifier(learning_rate=0.15, n_estimators=100,max_depth=4, min_samples_split=100, min_samples_leaf=3,max_features=6 , subsample=1, random_state=10)\n",
    "new.fit(X_train,y_train)\n",
    "predictors=list(X_train)\n",
    "feat_imp = pd.Series(new.feature_importances_, predictors).sort_values(ascending=False)\n",
    "feat_imp.plot(kind='bar', title='Importance of Features')\n",
    "plt.ylabel('Feature Importance Score')\n",
    "print('Accuracy of the GBM on test set: {:.3f}'.format(new.score(X_test, y_test)))\n",
    "pred=new.predict(X_test)\n",
    "print(classification_report(y_test, pred))"
   ]
  },
  {
   "cell_type": "code",
   "execution_count": null,
   "metadata": {},
   "outputs": [],
   "source": []
  }
 ],
 "metadata": {
  "kernelspec": {
   "display_name": "Python 3",
   "language": "python",
   "name": "python3"
  },
  "language_info": {
   "codemirror_mode": {
    "name": "ipython",
    "version": 3
   },
   "file_extension": ".py",
   "mimetype": "text/x-python",
   "name": "python",
   "nbconvert_exporter": "python",
   "pygments_lexer": "ipython3",
   "version": "3.7.3"
  }
 },
 "nbformat": 4,
 "nbformat_minor": 4
}
