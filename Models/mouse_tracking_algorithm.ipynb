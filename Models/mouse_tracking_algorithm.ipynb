{
 "cells": [
  {
   "cell_type": "code",
   "execution_count": null,
   "metadata": {},
   "outputs": [],
   "source": [
    "import math\n",
    "import time\n",
    "import sys \n",
    "from datetime import date\n",
    "\n",
    "import pandas as pd\n",
    "from PyQt5.QtGui import QCursor\n",
    "from PyQt5.QtWidgets import QApplication\n",
    "\n",
    "import mousetracking\n",
    "\n",
    "\n",
    "if __name__ == '__main__':\n",
    "    app = QApplication(sys.argv)\n",
    "\n",
    "    begin = time.time()\n",
    "\n",
    "    user_name = input('Please Type your name')\n",
    "    survey_objective = input('Please Type the Survey Object.Accurate, False')\n",
    "    survey_part = input('Please indcate which part of the survey you are taking')\n",
    "\n",
    "    x_coord = []\n",
    "    y_coord = []\n",
    "\n",
    "    name_list = []\n",
    "    time_list = []\n",
    "    \n",
    "    date_today = date.today()\n",
    "\n",
    "    survey_objective_list = []\n",
    "\n",
    "    time_since_list = []\n",
    "\n",
    "    while True:\n",
    "        new_frame = mousetracking.Frame.get_current_cursor_position()\n",
    "        x_value = new_frame[0]\n",
    "        y_value = new_frame[1]\n",
    "\n",
    "        x_coord.append(x_value)\n",
    "        y_coord.append(y_value)\n",
    "        \n",
    "        current_time = time.time()\n",
    "        time_since = current_time - begin \n",
    "        \n",
    "        time_since_list.append(time_since)\n",
    "\n",
    "        time.sleep(0.5)\n",
    "        print('Appended mouse coordinates to mouse_tracking data....')"
   ]
  },
  {
   "cell_type": "code",
   "execution_count": null,
   "metadata": {},
   "outputs": [],
   "source": [
    "mouse_tracking = pd.DataFrame(\n",
    "        {'User Name': user_name,\n",
    "         'Date': date_today,\n",
    "         'Survey Object': survey_objective,\n",
    "         'x_coord': x_coord,\n",
    "         'y_coord': y_coord,\n",
    "         'Time Since': time_since_list, \n",
    "         'Survey Part': survey_part\n",
    "         }\n",
    "    )"
   ]
  },
  {
   "cell_type": "code",
   "execution_count": null,
   "metadata": {},
   "outputs": [],
   "source": [
    "mouse_tracking.head()"
   ]
  },
  {
   "cell_type": "code",
   "execution_count": null,
   "metadata": {},
   "outputs": [],
   "source": [
    "# save as a csv\n",
    "mouse_tracking.to_csv('../Data/Team Survey Data/mouse_tracking_anderson.csv')"
   ]
  },
  {
   "cell_type": "code",
   "execution_count": null,
   "metadata": {},
   "outputs": [],
   "source": []
  }
 ],
 "metadata": {
  "kernelspec": {
   "display_name": "Python 3",
   "language": "python",
   "name": "python3"
  },
  "language_info": {
   "codemirror_mode": {
    "name": "ipython",
    "version": 3
   },
   "file_extension": ".py",
   "mimetype": "text/x-python",
   "name": "python",
   "nbconvert_exporter": "python",
   "pygments_lexer": "ipython3",
   "version": "3.7.3"
  }
 },
 "nbformat": 4,
 "nbformat_minor": 4
}
