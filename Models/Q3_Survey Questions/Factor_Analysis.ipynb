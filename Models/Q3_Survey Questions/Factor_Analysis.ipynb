{
 "cells": [
  {
   "cell_type": "code",
   "execution_count": 1,
   "metadata": {},
   "outputs": [],
   "source": [
    "import pandas as pd\n",
    "from factor_analyzer import FactorAnalyzer\n",
    "import matplotlib.pyplot as plt"
   ]
  },
  {
   "cell_type": "code",
   "execution_count": 2,
   "metadata": {},
   "outputs": [],
   "source": [
    "df=pd.read_csv('C:/Users/Ergo/Desktop/Git_Dotin/Dotin-Columbia-Castone-Team-Alpha-/Data/Clean Data/votes_v2.csv')"
   ]
  },
  {
   "cell_type": "code",
   "execution_count": 3,
   "metadata": {},
   "outputs": [
    {
     "data": {
      "text/html": [
       "<div>\n",
       "<style scoped>\n",
       "    .dataframe tbody tr th:only-of-type {\n",
       "        vertical-align: middle;\n",
       "    }\n",
       "\n",
       "    .dataframe tbody tr th {\n",
       "        vertical-align: top;\n",
       "    }\n",
       "\n",
       "    .dataframe thead th {\n",
       "        text-align: right;\n",
       "    }\n",
       "</style>\n",
       "<table border=\"1\" class=\"dataframe\">\n",
       "  <thead>\n",
       "    <tr style=\"text-align: right;\">\n",
       "      <th></th>\n",
       "      <th>Unnamed: 0</th>\n",
       "      <th>id</th>\n",
       "      <th>attr</th>\n",
       "      <th>value</th>\n",
       "      <th>score</th>\n",
       "      <th>user_id</th>\n",
       "      <th>weight</th>\n",
       "      <th>created_date</th>\n",
       "      <th>created_time</th>\n",
       "      <th>created_weekday</th>\n",
       "    </tr>\n",
       "  </thead>\n",
       "  <tbody>\n",
       "    <tr>\n",
       "      <th>0</th>\n",
       "      <td>0</td>\n",
       "      <td>1</td>\n",
       "      <td>psy</td>\n",
       "      <td>bf_1</td>\n",
       "      <td>1</td>\n",
       "      <td>365</td>\n",
       "      <td>0.0</td>\n",
       "      <td>2019-03-05</td>\n",
       "      <td>06:56:35.625896</td>\n",
       "      <td>Tuesday</td>\n",
       "    </tr>\n",
       "    <tr>\n",
       "      <th>1</th>\n",
       "      <td>1</td>\n",
       "      <td>2</td>\n",
       "      <td>psy</td>\n",
       "      <td>bf_2</td>\n",
       "      <td>1</td>\n",
       "      <td>365</td>\n",
       "      <td>0.0</td>\n",
       "      <td>2019-03-05</td>\n",
       "      <td>06:56:35.628088</td>\n",
       "      <td>Tuesday</td>\n",
       "    </tr>\n",
       "    <tr>\n",
       "      <th>2</th>\n",
       "      <td>2</td>\n",
       "      <td>3</td>\n",
       "      <td>psy</td>\n",
       "      <td>bf_3</td>\n",
       "      <td>1</td>\n",
       "      <td>365</td>\n",
       "      <td>0.0</td>\n",
       "      <td>2019-03-05</td>\n",
       "      <td>06:56:35.629157</td>\n",
       "      <td>Tuesday</td>\n",
       "    </tr>\n",
       "    <tr>\n",
       "      <th>3</th>\n",
       "      <td>3</td>\n",
       "      <td>4</td>\n",
       "      <td>psy</td>\n",
       "      <td>bf_4</td>\n",
       "      <td>1</td>\n",
       "      <td>365</td>\n",
       "      <td>0.0</td>\n",
       "      <td>2019-03-05</td>\n",
       "      <td>06:56:35.630054</td>\n",
       "      <td>Tuesday</td>\n",
       "    </tr>\n",
       "    <tr>\n",
       "      <th>4</th>\n",
       "      <td>4</td>\n",
       "      <td>5</td>\n",
       "      <td>psy</td>\n",
       "      <td>bf_5</td>\n",
       "      <td>1</td>\n",
       "      <td>365</td>\n",
       "      <td>0.0</td>\n",
       "      <td>2019-03-05</td>\n",
       "      <td>06:56:35.630927</td>\n",
       "      <td>Tuesday</td>\n",
       "    </tr>\n",
       "  </tbody>\n",
       "</table>\n",
       "</div>"
      ],
      "text/plain": [
       "   Unnamed: 0  id attr value  score  user_id  weight created_date  \\\n",
       "0           0   1  psy  bf_1      1      365     0.0   2019-03-05   \n",
       "1           1   2  psy  bf_2      1      365     0.0   2019-03-05   \n",
       "2           2   3  psy  bf_3      1      365     0.0   2019-03-05   \n",
       "3           3   4  psy  bf_4      1      365     0.0   2019-03-05   \n",
       "4           4   5  psy  bf_5      1      365     0.0   2019-03-05   \n",
       "\n",
       "      created_time created_weekday  \n",
       "0  06:56:35.625896         Tuesday  \n",
       "1  06:56:35.628088         Tuesday  \n",
       "2  06:56:35.629157         Tuesday  \n",
       "3  06:56:35.630054         Tuesday  \n",
       "4  06:56:35.630927         Tuesday  "
      ]
     },
     "execution_count": 3,
     "metadata": {},
     "output_type": "execute_result"
    }
   ],
   "source": [
    "df.head()"
   ]
  },
  {
   "cell_type": "code",
   "execution_count": 4,
   "metadata": {},
   "outputs": [],
   "source": [
    "df_pivot=pd.pivot_table(df, index='user_id', columns='value', values='score')"
   ]
  },
  {
   "cell_type": "code",
   "execution_count": 5,
   "metadata": {},
   "outputs": [
    {
     "data": {
      "text/html": [
       "<div>\n",
       "<style scoped>\n",
       "    .dataframe tbody tr th:only-of-type {\n",
       "        vertical-align: middle;\n",
       "    }\n",
       "\n",
       "    .dataframe tbody tr th {\n",
       "        vertical-align: top;\n",
       "    }\n",
       "\n",
       "    .dataframe thead th {\n",
       "        text-align: right;\n",
       "    }\n",
       "</style>\n",
       "<table border=\"1\" class=\"dataframe\">\n",
       "  <thead>\n",
       "    <tr style=\"text-align: right;\">\n",
       "      <th>value</th>\n",
       "      <th>bf_1</th>\n",
       "      <th>bf_10</th>\n",
       "      <th>bf_11</th>\n",
       "      <th>bf_12</th>\n",
       "      <th>bf_13</th>\n",
       "      <th>bf_14</th>\n",
       "      <th>bf_15</th>\n",
       "      <th>bf_16</th>\n",
       "      <th>bf_17</th>\n",
       "      <th>bf_18</th>\n",
       "      <th>...</th>\n",
       "      <th>pgi_7_Competence</th>\n",
       "      <th>pgi_7_Liking</th>\n",
       "      <th>pgi_8_Competence</th>\n",
       "      <th>pgi_8_Liking</th>\n",
       "      <th>pgi_9_Competence</th>\n",
       "      <th>pgi_9_Liking</th>\n",
       "      <th>pgi_validation_5_Competence</th>\n",
       "      <th>pgi_validation_5_Liking</th>\n",
       "      <th>pgi_validation_6_Competence</th>\n",
       "      <th>pgi_validation_6_Liking</th>\n",
       "    </tr>\n",
       "    <tr>\n",
       "      <th>user_id</th>\n",
       "      <th></th>\n",
       "      <th></th>\n",
       "      <th></th>\n",
       "      <th></th>\n",
       "      <th></th>\n",
       "      <th></th>\n",
       "      <th></th>\n",
       "      <th></th>\n",
       "      <th></th>\n",
       "      <th></th>\n",
       "      <th></th>\n",
       "      <th></th>\n",
       "      <th></th>\n",
       "      <th></th>\n",
       "      <th></th>\n",
       "      <th></th>\n",
       "      <th></th>\n",
       "      <th></th>\n",
       "      <th></th>\n",
       "      <th></th>\n",
       "      <th></th>\n",
       "    </tr>\n",
       "  </thead>\n",
       "  <tbody>\n",
       "    <tr>\n",
       "      <th>365</th>\n",
       "      <td>1</td>\n",
       "      <td>5</td>\n",
       "      <td>5</td>\n",
       "      <td>5</td>\n",
       "      <td>5</td>\n",
       "      <td>5</td>\n",
       "      <td>5</td>\n",
       "      <td>5</td>\n",
       "      <td>5</td>\n",
       "      <td>3</td>\n",
       "      <td>...</td>\n",
       "      <td>4</td>\n",
       "      <td>4</td>\n",
       "      <td>4</td>\n",
       "      <td>4</td>\n",
       "      <td>4</td>\n",
       "      <td>4</td>\n",
       "      <td>4</td>\n",
       "      <td>4</td>\n",
       "      <td>4</td>\n",
       "      <td>4</td>\n",
       "    </tr>\n",
       "    <tr>\n",
       "      <th>371</th>\n",
       "      <td>1</td>\n",
       "      <td>1</td>\n",
       "      <td>1</td>\n",
       "      <td>1</td>\n",
       "      <td>1</td>\n",
       "      <td>1</td>\n",
       "      <td>1</td>\n",
       "      <td>1</td>\n",
       "      <td>1</td>\n",
       "      <td>1</td>\n",
       "      <td>...</td>\n",
       "      <td>1</td>\n",
       "      <td>5</td>\n",
       "      <td>1</td>\n",
       "      <td>7</td>\n",
       "      <td>1</td>\n",
       "      <td>1</td>\n",
       "      <td>1</td>\n",
       "      <td>1</td>\n",
       "      <td>1</td>\n",
       "      <td>1</td>\n",
       "    </tr>\n",
       "    <tr>\n",
       "      <th>373</th>\n",
       "      <td>5</td>\n",
       "      <td>3</td>\n",
       "      <td>3</td>\n",
       "      <td>4</td>\n",
       "      <td>4</td>\n",
       "      <td>3</td>\n",
       "      <td>4</td>\n",
       "      <td>3</td>\n",
       "      <td>5</td>\n",
       "      <td>5</td>\n",
       "      <td>...</td>\n",
       "      <td>4</td>\n",
       "      <td>6</td>\n",
       "      <td>6</td>\n",
       "      <td>5</td>\n",
       "      <td>7</td>\n",
       "      <td>7</td>\n",
       "      <td>4</td>\n",
       "      <td>5</td>\n",
       "      <td>2</td>\n",
       "      <td>4</td>\n",
       "    </tr>\n",
       "    <tr>\n",
       "      <th>374</th>\n",
       "      <td>4</td>\n",
       "      <td>3</td>\n",
       "      <td>4</td>\n",
       "      <td>5</td>\n",
       "      <td>4</td>\n",
       "      <td>5</td>\n",
       "      <td>4</td>\n",
       "      <td>3</td>\n",
       "      <td>3</td>\n",
       "      <td>5</td>\n",
       "      <td>...</td>\n",
       "      <td>6</td>\n",
       "      <td>5</td>\n",
       "      <td>6</td>\n",
       "      <td>6</td>\n",
       "      <td>6</td>\n",
       "      <td>6</td>\n",
       "      <td>6</td>\n",
       "      <td>6</td>\n",
       "      <td>4</td>\n",
       "      <td>4</td>\n",
       "    </tr>\n",
       "    <tr>\n",
       "      <th>375</th>\n",
       "      <td>3</td>\n",
       "      <td>5</td>\n",
       "      <td>5</td>\n",
       "      <td>2</td>\n",
       "      <td>3</td>\n",
       "      <td>2</td>\n",
       "      <td>3</td>\n",
       "      <td>2</td>\n",
       "      <td>2</td>\n",
       "      <td>4</td>\n",
       "      <td>...</td>\n",
       "      <td>2</td>\n",
       "      <td>2</td>\n",
       "      <td>3</td>\n",
       "      <td>2</td>\n",
       "      <td>2</td>\n",
       "      <td>5</td>\n",
       "      <td>3</td>\n",
       "      <td>2</td>\n",
       "      <td>2</td>\n",
       "      <td>5</td>\n",
       "    </tr>\n",
       "  </tbody>\n",
       "</table>\n",
       "<p>5 rows × 196 columns</p>\n",
       "</div>"
      ],
      "text/plain": [
       "value    bf_1  bf_10  bf_11  bf_12  bf_13  bf_14  bf_15  bf_16  bf_17  bf_18  \\\n",
       "user_id                                                                        \n",
       "365         1      5      5      5      5      5      5      5      5      3   \n",
       "371         1      1      1      1      1      1      1      1      1      1   \n",
       "373         5      3      3      4      4      3      4      3      5      5   \n",
       "374         4      3      4      5      4      5      4      3      3      5   \n",
       "375         3      5      5      2      3      2      3      2      2      4   \n",
       "\n",
       "value    ...  pgi_7_Competence  pgi_7_Liking  pgi_8_Competence  pgi_8_Liking  \\\n",
       "user_id  ...                                                                   \n",
       "365      ...                 4             4                 4             4   \n",
       "371      ...                 1             5                 1             7   \n",
       "373      ...                 4             6                 6             5   \n",
       "374      ...                 6             5                 6             6   \n",
       "375      ...                 2             2                 3             2   \n",
       "\n",
       "value    pgi_9_Competence  pgi_9_Liking  pgi_validation_5_Competence  \\\n",
       "user_id                                                                \n",
       "365                     4             4                            4   \n",
       "371                     1             1                            1   \n",
       "373                     7             7                            4   \n",
       "374                     6             6                            6   \n",
       "375                     2             5                            3   \n",
       "\n",
       "value    pgi_validation_5_Liking  pgi_validation_6_Competence  \\\n",
       "user_id                                                         \n",
       "365                            4                            4   \n",
       "371                            1                            1   \n",
       "373                            5                            2   \n",
       "374                            6                            4   \n",
       "375                            2                            2   \n",
       "\n",
       "value    pgi_validation_6_Liking  \n",
       "user_id                           \n",
       "365                            4  \n",
       "371                            1  \n",
       "373                            4  \n",
       "374                            4  \n",
       "375                            5  \n",
       "\n",
       "[5 rows x 196 columns]"
      ]
     },
     "execution_count": 5,
     "metadata": {},
     "output_type": "execute_result"
    }
   ],
   "source": [
    "df_pivot.head()"
   ]
  },
  {
   "cell_type": "code",
   "execution_count": 6,
   "metadata": {},
   "outputs": [],
   "source": [
    "#turn pivot to df\n",
    "df2 = pd.DataFrame(df_pivot.to_records())"
   ]
  },
  {
   "cell_type": "markdown",
   "metadata": {},
   "source": [
    "### Normalize the Survey Question Scores"
   ]
  },
  {
   "cell_type": "code",
   "execution_count": 8,
   "metadata": {},
   "outputs": [],
   "source": [
    "from sklearn import preprocessing\n",
    "col='user_id'\n",
    "unnormalized=df2.loc[:, df2.columns != col]"
   ]
  },
  {
   "cell_type": "code",
   "execution_count": 13,
   "metadata": {},
   "outputs": [],
   "source": [
    "#normalize dataset\n",
    "normalized=preprocessing.normalize(unnormalized)"
   ]
  },
  {
   "cell_type": "code",
   "execution_count": 14,
   "metadata": {},
   "outputs": [
    {
     "data": {
      "text/plain": [
       "array([[0.0202113 , 0.10105651, 0.10105651, ..., 0.08084521, 0.08084521,\n",
       "        0.08084521],\n",
       "       [0.02968261, 0.02968261, 0.02968261, ..., 0.02968261, 0.02968261,\n",
       "        0.02968261],\n",
       "       [0.08932845, 0.05359707, 0.05359707, ..., 0.08932845, 0.03573138,\n",
       "        0.07146276],\n",
       "       ...,\n",
       "       [0.02282772, 0.09131087, 0.04565544, ..., 0.13696631, 0.09131087,\n",
       "        0.09131087],\n",
       "       [0.04342357, 0.05789809, 0.05789809, ..., 0.08684714, 0.05789809,\n",
       "        0.05789809],\n",
       "       [0.0363877 , 0.0727754 , 0.05458155, ..., 0.10916311, 0.0727754 ,\n",
       "        0.0727754 ]])"
      ]
     },
     "execution_count": 14,
     "metadata": {},
     "output_type": "execute_result"
    }
   ],
   "source": [
    "normalized"
   ]
  },
  {
   "cell_type": "code",
   "execution_count": 19,
   "metadata": {},
   "outputs": [],
   "source": [
    "df_normalized = pd.DataFrame(normalized,index=normalized[:,0])"
   ]
  },
  {
   "cell_type": "markdown",
   "metadata": {},
   "source": [
    "### Evaluate the factorability of the dataset"
   ]
  },
  {
   "cell_type": "code",
   "execution_count": 20,
   "metadata": {},
   "outputs": [
    {
     "data": {
      "text/plain": [
       "(83838.17172546322, 0.0)"
      ]
     },
     "execution_count": 20,
     "metadata": {},
     "output_type": "execute_result"
    }
   ],
   "source": [
    "#Bartlett Sphericity Test\n",
    "\n",
    "from factor_analyzer.factor_analyzer import calculate_bartlett_sphericity\n",
    "chi_square_value,p_value=calculate_bartlett_sphericity(df_normalized)\n",
    "chi_square_value, p_value"
   ]
  },
  {
   "cell_type": "code",
   "execution_count": 21,
   "metadata": {},
   "outputs": [],
   "source": [
    "from factor_analyzer.factor_analyzer import calculate_kmo\n",
    "kmo_all,kmo_model=calculate_kmo(df_normalized)"
   ]
  },
  {
   "cell_type": "code",
   "execution_count": 22,
   "metadata": {},
   "outputs": [
    {
     "data": {
      "text/plain": [
       "0.885312835531242"
      ]
     },
     "execution_count": 22,
     "metadata": {},
     "output_type": "execute_result"
    }
   ],
   "source": [
    "kmo_model"
   ]
  },
  {
   "cell_type": "markdown",
   "metadata": {},
   "source": [
    "### Factor Analysis"
   ]
  },
  {
   "cell_type": "code",
   "execution_count": 26,
   "metadata": {},
   "outputs": [],
   "source": [
    "#perform factor analysis\n",
    "fa = FactorAnalyzer(rotation=None)\n",
    "fa.fit(df_normalized, 25)\n",
    "# Check Eigenvalues\n",
    "ev, v = fa.get_eigenvalues()"
   ]
  },
  {
   "cell_type": "code",
   "execution_count": 27,
   "metadata": {},
   "outputs": [
    {
     "data": {
      "image/png": "[encoded data removed]",
      "text/plain": [
       "<Figure size 432x288 with 1 Axes>"
      ]
     },
     "metadata": {
      "needs_background": "light"
     },
     "output_type": "display_data"
    }
   ],
   "source": [
    "#scree plot\n",
    "plt.scatter(range(1,df_normalized.shape[1]+1),ev)\n",
    "plt.plot(range(1,df_normalized.shape[1]+1),ev)\n",
    "plt.title('Scree Plot')\n",
    "plt.xlabel('Factors')\n",
    "plt.ylabel('Eigenvalue')\n",
    "plt.grid()\n",
    "plt.show()"
   ]
  },
  {
   "cell_type": "code",
   "execution_count": null,
   "metadata": {},
   "outputs": [],
   "source": [
    "# factor analysis with only selected nr of factors\n",
    "fa = FactorAnalyzer()\n",
    "fa.fit(df, x, rotation=\"varimax\")\n",
    "# x should be nr of factors from scree plot"
   ]
  },
  {
   "cell_type": "code",
   "execution_count": null,
   "metadata": {},
   "outputs": [],
   "source": []
  }
 ],
 "metadata": {
  "kernelspec": {
   "display_name": "Python 3",
   "language": "python",
   "name": "python3"
  },
  "language_info": {
   "codemirror_mode": {
    "name": "ipython",
    "version": 3
   },
   "file_extension": ".py",
   "mimetype": "text/x-python",
   "name": "python",
   "nbconvert_exporter": "python",
   "pygments_lexer": "ipython3",
   "version": "3.7.3"
  }
 },
 "nbformat": 4,
 "nbformat_minor": 4
}
