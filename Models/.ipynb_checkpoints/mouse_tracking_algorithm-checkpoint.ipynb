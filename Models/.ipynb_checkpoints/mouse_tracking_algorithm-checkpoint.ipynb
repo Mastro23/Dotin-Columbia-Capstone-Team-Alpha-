{
 "cells": [
  {
   "cell_type": "markdown",
   "metadata": {},
   "source": [
    "### Mouse movement tracker \n",
    "\n",
    "The purpose of program is to track the mouse movements of team alpha taking the dotin survey. \n",
    "\n",
    "Step 1: Run the below script and type your name, survey objective, and survey part \n",
    "\n",
    "Step 2: The program will start to record mouse movement\n",
    "\n",
    "Step 3: Once your done taking the survey, click the stop button on jupyter notebook \n",
    "\n",
    "Step 4: Run the mouse tracking PD data frame, and save it as a CSV\n",
    "\n",
    "Note: Restart the Kernel and Clear the output after each run"
   ]
  },
  {
   "cell_type": "code",
   "execution_count": null,
   "metadata": {},
   "outputs": [],
   "source": [
    "import time\n",
    "import sys \n",
    "from datetime import date\n",
    "\n",
    "import pandas as pd\n",
    "from PyQt5.QtGui import QCursor\n",
    "from PyQt5.QtWidgets import QApplication\n",
    "\n",
    "import mousetracking\n",
    "\n",
    "\n",
    "if __name__ == '__main__':\n",
    "    app = QApplication(sys.argv)\n",
    "    \n",
    "    user_name = input('Please type your name')\n",
    "    survey_objective = input('Please type the survey objective: Accurate or False')\n",
    "    survey_part = input('Please indcate which part of the survey you are taking')\n",
    "\n",
    "    x_coord = []\n",
    "    y_coord = []\n",
    "\n",
    "    name_list = []\n",
    "    time_list = []\n",
    "    \n",
    "    date_today = date.today()\n",
    "    survey_objective_list = []\n",
    "    time_since_list = []\n",
    "    \n",
    "    begin = time.time()\n",
    "\n",
    "    while True:\n",
    "        new_frame = mousetracking.Frame.get_current_cursor_position()\n",
    "        x_value = new_frame[0]\n",
    "        y_value = new_frame[1]\n",
    "\n",
    "        x_coord.append(x_value)\n",
    "        y_coord.append(y_value)\n",
    "        \n",
    "        current_time = time.time()\n",
    "        time_since = current_time - begin \n",
    "        \n",
    "        time_since_list.append(time_since)\n",
    "\n",
    "        time.sleep(0.5)\n",
    "        print('Appended mouse coordinates to mouse_tracking data....')"
   ]
  },
  {
   "cell_type": "code",
   "execution_count": null,
   "metadata": {},
   "outputs": [],
   "source": [
    "mouse_tracking = pd.DataFrame(\n",
    "        {'User Name': user_name,\n",
    "         'Date': date_today,\n",
    "         'Survey Object': survey_objective,\n",
    "         'x_coord': x_coord,\n",
    "         'y_coord': y_coord,\n",
    "         'Time Since': time_since_list, \n",
    "         'Survey Part': survey_part\n",
    "         }\n",
    "    )"
   ]
  },
  {
   "cell_type": "code",
   "execution_count": null,
   "metadata": {},
   "outputs": [],
   "source": [
    "mouse_tracking.head()"
   ]
  },
  {
   "cell_type": "code",
   "execution_count": null,
   "metadata": {},
   "outputs": [],
   "source": [
    "# save as a csv\n",
    "mouse_tracking.to_csv(f'../Data/Team Survey Data/mouse_tracking_{user_name}_{survey_objective}_{survey_part}.csv')"
   ]
  },
  {
   "cell_type": "code",
   "execution_count": null,
   "metadata": {},
   "outputs": [],
   "source": []
  }
 ],
 "metadata": {
  "kernelspec": {
   "display_name": "Python 3",
   "language": "python",
   "name": "python3"
  },
  "language_info": {
   "codemirror_mode": {
    "name": "ipython",
    "version": 3
   },
   "file_extension": ".py",
   "mimetype": "text/x-python",
   "name": "python",
   "nbconvert_exporter": "python",
   "pygments_lexer": "ipython3",
   "version": "3.7.3"
  }
 },
 "nbformat": 4,
 "nbformat_minor": 4
}
