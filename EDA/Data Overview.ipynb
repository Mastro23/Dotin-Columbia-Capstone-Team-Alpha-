{
 "cells": [
  {
   "cell_type": "markdown",
   "metadata": {},
   "source": [
    "# Dotin Data Prep and EDA"
   ]
  },
  {
   "cell_type": "code",
   "execution_count": 1,
   "metadata": {
    "ExecuteTime": {
     "end_time": "2019-09-17T22:06:37.755806Z",
     "start_time": "2019-09-17T22:06:37.545551Z"
    }
   },
   "outputs": [],
   "source": [
    "import pandas as pd\n",
    "import numpy as np\n",
    "import json"
   ]
  },
  {
   "cell_type": "code",
   "execution_count": 11,
   "metadata": {
    "ExecuteTime": {
     "end_time": "2019-09-17T22:10:11.088914Z",
     "start_time": "2019-09-17T22:10:11.083252Z"
    }
   },
   "outputs": [
    {
     "data": {
      "text/html": [
       "<div>\n",
       "<style scoped>\n",
       "    .dataframe tbody tr th:only-of-type {\n",
       "        vertical-align: middle;\n",
       "    }\n",
       "\n",
       "    .dataframe tbody tr th {\n",
       "        vertical-align: top;\n",
       "    }\n",
       "\n",
       "    .dataframe thead th {\n",
       "        text-align: right;\n",
       "    }\n",
       "</style>\n",
       "<table border=\"1\" class=\"dataframe\">\n",
       "  <thead>\n",
       "    <tr style=\"text-align: right;\">\n",
       "      <th></th>\n",
       "      <th>Unnamed: 0</th>\n",
       "      <th>user_id</th>\n",
       "      <th>cord_x</th>\n",
       "      <th>cord_y</th>\n",
       "      <th>time_since</th>\n",
       "      <th>id</th>\n",
       "    </tr>\n",
       "  </thead>\n",
       "  <tbody>\n",
       "    <tr>\n",
       "      <th>count</th>\n",
       "      <td>8.123046e+06</td>\n",
       "      <td>8.123046e+06</td>\n",
       "      <td>8.123046e+06</td>\n",
       "      <td>8.123046e+06</td>\n",
       "      <td>8.123046e+06</td>\n",
       "      <td>8.123046e+06</td>\n",
       "    </tr>\n",
       "    <tr>\n",
       "      <th>mean</th>\n",
       "      <td>4.061522e+06</td>\n",
       "      <td>1.176548e+03</td>\n",
       "      <td>6.752315e+02</td>\n",
       "      <td>3.913665e+02</td>\n",
       "      <td>2.894918e+02</td>\n",
       "      <td>3.991314e+02</td>\n",
       "    </tr>\n",
       "    <tr>\n",
       "      <th>std</th>\n",
       "      <td>2.344922e+06</td>\n",
       "      <td>4.392326e+02</td>\n",
       "      <td>2.450381e+02</td>\n",
       "      <td>2.029872e+02</td>\n",
       "      <td>2.594780e+02</td>\n",
       "      <td>2.351275e+02</td>\n",
       "    </tr>\n",
       "    <tr>\n",
       "      <th>min</th>\n",
       "      <td>0.000000e+00</td>\n",
       "      <td>3.650000e+02</td>\n",
       "      <td>-1.960000e+02</td>\n",
       "      <td>-4.850000e+02</td>\n",
       "      <td>0.000000e+00</td>\n",
       "      <td>1.000000e+00</td>\n",
       "    </tr>\n",
       "    <tr>\n",
       "      <th>25%</th>\n",
       "      <td>2.030761e+06</td>\n",
       "      <td>7.850000e+02</td>\n",
       "      <td>5.450000e+02</td>\n",
       "      <td>2.740000e+02</td>\n",
       "      <td>1.110370e+02</td>\n",
       "      <td>1.920000e+02</td>\n",
       "    </tr>\n",
       "    <tr>\n",
       "      <th>50%</th>\n",
       "      <td>4.061522e+06</td>\n",
       "      <td>1.210000e+03</td>\n",
       "      <td>6.180000e+02</td>\n",
       "      <td>3.780000e+02</td>\n",
       "      <td>2.133330e+02</td>\n",
       "      <td>4.010000e+02</td>\n",
       "    </tr>\n",
       "    <tr>\n",
       "      <th>75%</th>\n",
       "      <td>6.092284e+06</td>\n",
       "      <td>1.576000e+03</td>\n",
       "      <td>8.570000e+02</td>\n",
       "      <td>4.900000e+02</td>\n",
       "      <td>3.983290e+02</td>\n",
       "      <td>6.060000e+02</td>\n",
       "    </tr>\n",
       "    <tr>\n",
       "      <th>max</th>\n",
       "      <td>8.123045e+06</td>\n",
       "      <td>1.838000e+03</td>\n",
       "      <td>2.180000e+03</td>\n",
       "      <td>4.000000e+03</td>\n",
       "      <td>2.844241e+03</td>\n",
       "      <td>8.090000e+02</td>\n",
       "    </tr>\n",
       "  </tbody>\n",
       "</table>\n",
       "</div>"
      ],
      "text/plain": [
       "         Unnamed: 0       user_id        cord_x        cord_y    time_since  \\\n",
       "count  8.123046e+06  8.123046e+06  8.123046e+06  8.123046e+06  8.123046e+06   \n",
       "mean   4.061522e+06  1.176548e+03  6.752315e+02  3.913665e+02  2.894918e+02   \n",
       "std    2.344922e+06  4.392326e+02  2.450381e+02  2.029872e+02  2.594780e+02   \n",
       "min    0.000000e+00  3.650000e+02 -1.960000e+02 -4.850000e+02  0.000000e+00   \n",
       "25%    2.030761e+06  7.850000e+02  5.450000e+02  2.740000e+02  1.110370e+02   \n",
       "50%    4.061522e+06  1.210000e+03  6.180000e+02  3.780000e+02  2.133330e+02   \n",
       "75%    6.092284e+06  1.576000e+03  8.570000e+02  4.900000e+02  3.983290e+02   \n",
       "max    8.123045e+06  1.838000e+03  2.180000e+03  4.000000e+03  2.844241e+03   \n",
       "\n",
       "                 id  \n",
       "count  8.123046e+06  \n",
       "mean   3.991314e+02  \n",
       "std    2.351275e+02  \n",
       "min    1.000000e+00  \n",
       "25%    1.920000e+02  \n",
       "50%    4.010000e+02  \n",
       "75%    6.060000e+02  \n",
       "max    8.090000e+02  "
      ]
     },
     "execution_count": 11,
     "metadata": {},
     "output_type": "execute_result"
    }
   ],
   "source": [
    "mouse = pd.read_csv('../Data/mouse-flat.csv')\n",
    "\n",
    "\n",
    "mouse.describe()"
   ]
  },
  {
   "cell_type": "code",
   "execution_count": 4,
   "metadata": {
    "ExecuteTime": {
     "end_time": "2019-09-17T22:10:11.987618Z",
     "start_time": "2019-09-17T22:10:11.977170Z"
    }
   },
   "outputs": [
    {
     "data": {
      "text/plain": [
       "0"
      ]
     },
     "execution_count": 4,
     "metadata": {},
     "output_type": "execute_result"
    }
   ],
   "source": [
    "# the created_at and updated_at values are exactly the same\n",
    "sum((mouse.created_at != mouse.updated_at))"
   ]
  },
  {
   "cell_type": "code",
   "execution_count": 7,
   "metadata": {
    "ExecuteTime": {
     "end_time": "2019-09-17T22:10:12.143802Z",
     "start_time": "2019-09-17T22:10:12.134503Z"
    }
   },
   "outputs": [
    {
     "data": {
      "text/plain": [
       "730"
      ]
     },
     "execution_count": 7,
     "metadata": {},
     "output_type": "execute_result"
    }
   ],
   "source": [
    "# how many users data do we have (non broken)\n",
    "len(mouse.user_id.unique())"
   ]
  },
  {
   "cell_type": "markdown",
   "metadata": {},
   "source": [
    "There are 802 instances so some users are repeated"
   ]
  },
  {
   "cell_type": "code",
   "execution_count": 6,
   "metadata": {
    "ExecuteTime": {
     "end_time": "2019-09-17T22:10:12.935963Z",
     "start_time": "2019-09-17T22:10:12.925826Z"
    },
    "scrolled": true
   },
   "outputs": [
    {
     "data": {
      "text/plain": [
       "990     240325\n",
       "642     160910\n",
       "647     108504\n",
       "404      95616\n",
       "386      84424\n",
       "764      74036\n",
       "685      63849\n",
       "396      56169\n",
       "971      51840\n",
       "1170     50828\n",
       "1077     42720\n",
       "989      42516\n",
       "422      41136\n",
       "444      35708\n",
       "630      35534\n",
       "962      33908\n",
       "646      32808\n",
       "828      30652\n",
       "1141     30336\n",
       "866      30140\n",
       "718      30084\n",
       "401      28756\n",
       "727      28208\n",
       "645      28190\n",
       "652      27476\n",
       "683      27430\n",
       "1593     26843\n",
       "395      26484\n",
       "667      26380\n",
       "1687     26347\n",
       "         ...  \n",
       "1832       775\n",
       "1120       735\n",
       "1344       731\n",
       "1551       630\n",
       "1390       620\n",
       "1231       594\n",
       "1429       585\n",
       "1102       543\n",
       "1618       531\n",
       "1795       523\n",
       "1233       462\n",
       "1124       462\n",
       "407        442\n",
       "1172       410\n",
       "1265       406\n",
       "897        395\n",
       "1807       387\n",
       "627        369\n",
       "461        357\n",
       "878        347\n",
       "1605       338\n",
       "1560       238\n",
       "1053       232\n",
       "894        230\n",
       "1384       187\n",
       "943        160\n",
       "1530       147\n",
       "1801       120\n",
       "904        114\n",
       "640        108\n",
       "Name: user_id, Length: 730, dtype: int64"
      ]
     },
     "execution_count": 6,
     "metadata": {},
     "output_type": "execute_result"
    }
   ],
   "source": [
    "# which users are repeated and how many times\n",
    "mouse.user_id.value_counts()[mouse.user_id.value_counts() > 1]"
   ]
  },
  {
   "cell_type": "code",
   "execution_count": null,
   "metadata": {
    "ExecuteTime": {
     "end_time": "2019-09-17T22:10:12.959910Z",
     "start_time": "2019-09-17T22:10:12.952794Z"
    }
   },
   "outputs": [],
   "source": [
    "# descriptive stats on elapsed time\n",
    "mouse.timeElapsed.describe()"
   ]
  },
  {
   "cell_type": "code",
   "execution_count": null,
   "metadata": {
    "ExecuteTime": {
     "end_time": "2019-09-17T22:10:13.753946Z",
     "start_time": "2019-09-17T22:10:13.744998Z"
    }
   },
   "outputs": [],
   "source": [
    "# descriptitve stats on window_x\n",
    "mouse.window_x.describe()"
   ]
  },
  {
   "cell_type": "code",
   "execution_count": null,
   "metadata": {
    "ExecuteTime": {
     "end_time": "2019-09-17T22:10:15.392906Z",
     "start_time": "2019-09-17T22:10:15.386492Z"
    }
   },
   "outputs": [],
   "source": [
    "# descriptitve stats on window_y\n",
    "mouse.window_y.describe()"
   ]
  },
  {
   "cell_type": "code",
   "execution_count": null,
   "metadata": {
    "ExecuteTime": {
     "end_time": "2019-09-17T22:10:18.637581Z",
     "start_time": "2019-09-17T22:10:15.793576Z"
    }
   },
   "outputs": [],
   "source": [
    "# describe the stats on number of frames per user_id-id instance.\n",
    "mouse_flat.groupby([\"user_id\",\"id\"]).count()[\"action\"].describe()"
   ]
  },
  {
   "cell_type": "markdown",
   "metadata": {},
   "source": [
    "The average # of frames for any one instance is ~10.1k "
   ]
  },
  {
   "cell_type": "code",
   "execution_count": null,
   "metadata": {
    "ExecuteTime": {
     "end_time": "2019-09-17T22:10:23.388288Z",
     "start_time": "2019-09-17T22:10:23.375818Z"
    }
   },
   "outputs": [],
   "source": [
    "# let's see the average aspect ratio\n",
    "print(\"16:9\",16/9)\n",
    "print(\"4:3\",4/3)\n",
    "mouse[\"aspect_ratio\"] = mouse[\"window_x\"] / mouse[\"window_y\"]\n",
    "mouse.aspect_ratio.describe()"
   ]
  },
  {
   "cell_type": "markdown",
   "metadata": {},
   "source": [
    "Most windows are close to the 16:9 aspect ratio"
   ]
  }
 ],
 "metadata": {
  "kernelspec": {
   "display_name": "Python 3",
   "language": "python",
   "name": "python3"
  },
  "language_info": {
   "codemirror_mode": {
    "name": "ipython",
    "version": 3
   },
   "file_extension": ".py",
   "mimetype": "text/x-python",
   "name": "python",
   "nbconvert_exporter": "python",
   "pygments_lexer": "ipython3",
   "version": "3.7.3"
  },
  "pycharm": {
   "stem_cell": {
    "cell_type": "raw",
    "metadata": {
     "collapsed": false
    },
    "source": []
   }
  }
 },
 "nbformat": 4,
 "nbformat_minor": 4
}
