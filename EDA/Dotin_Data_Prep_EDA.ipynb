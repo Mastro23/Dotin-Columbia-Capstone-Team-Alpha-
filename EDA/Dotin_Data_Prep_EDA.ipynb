{
 "cells": [
  {
   "cell_type": "markdown",
   "metadata": {},
   "source": [
    "# Dotin Data Prep and EDA"
   ]
  },
  {
   "cell_type": "code",
   "execution_count": 12,
   "metadata": {
    "ExecuteTime": {
     "end_time": "2019-09-17T22:06:37.755806Z",
     "start_time": "2019-09-17T22:06:37.545551Z"
    }
   },
   "outputs": [],
   "source": [
    "import pandas as pd\n",
    "import numpy as np\n",
    "from pathlib import Path\n",
    "import os\n",
    "import json"
   ]
  },
  {
   "cell_type": "markdown",
   "metadata": {},
   "source": [
    "## Load Data"
   ]
  },
  {
   "cell_type": "code",
   "execution_count": 13,
   "metadata": {
    "ExecuteTime": {
     "end_time": "2019-09-17T22:06:41.134473Z",
     "start_time": "2019-09-17T22:06:39.524373Z"
    }
   },
   "outputs": [],
   "source": [
    "mouse = pd.read_csv(\"../Data/Raw/mouse_paths.csv\")\n",
    "votes = pd.read_csv(\"../Data/Raw/votes.csv\")"
   ]
  },
  {
   "cell_type": "code",
   "execution_count": 14,
   "metadata": {
    "ExecuteTime": {
     "end_time": "2019-09-17T22:06:41.145210Z",
     "start_time": "2019-09-17T22:06:41.135965Z"
    },
    "scrolled": true
   },
   "outputs": [
    {
     "data": {
      "text/html": [
       "<div>\n",
       "<style scoped>\n",
       "    .dataframe tbody tr th:only-of-type {\n",
       "        vertical-align: middle;\n",
       "    }\n",
       "\n",
       "    .dataframe tbody tr th {\n",
       "        vertical-align: top;\n",
       "    }\n",
       "\n",
       "    .dataframe thead th {\n",
       "        text-align: right;\n",
       "    }\n",
       "</style>\n",
       "<table border=\"1\" class=\"dataframe\">\n",
       "  <thead>\n",
       "    <tr style=\"text-align: right;\">\n",
       "      <th></th>\n",
       "      <th>id</th>\n",
       "      <th>user_id</th>\n",
       "      <th>path</th>\n",
       "      <th>created_at</th>\n",
       "      <th>updated_at</th>\n",
       "    </tr>\n",
       "  </thead>\n",
       "  <tbody>\n",
       "    <tr>\n",
       "      <th>0</th>\n",
       "      <td>1</td>\n",
       "      <td>365</td>\n",
       "      <td>{\"frames\":[[\"s\",0,0],[\"m\",601,167,0.2200000286...</td>\n",
       "      <td>2019-03-05 06:56:35.848652</td>\n",
       "      <td>2019-03-05 06:56:35.848652</td>\n",
       "    </tr>\n",
       "    <tr>\n",
       "      <th>1</th>\n",
       "      <td>2</td>\n",
       "      <td>371</td>\n",
       "      <td>{\"frames\":[[\"s\",0,0],[\"m\",707,224,0.1179997920...</td>\n",
       "      <td>2019-03-06 10:13:30.862296</td>\n",
       "      <td>2019-03-06 10:13:30.862296</td>\n",
       "    </tr>\n",
       "    <tr>\n",
       "      <th>2</th>\n",
       "      <td>3</td>\n",
       "      <td>390</td>\n",
       "      <td>{\"frames\":[[\"s\",0,0],[\"m\",683,356,0.2530000209...</td>\n",
       "      <td>2019-03-07 11:03:09.178940</td>\n",
       "      <td>2019-03-07 11:03:09.178940</td>\n",
       "    </tr>\n",
       "    <tr>\n",
       "      <th>3</th>\n",
       "      <td>4</td>\n",
       "      <td>376</td>\n",
       "      <td>{\"frames\":[[\"s\",0,0],[\"m\",569,158,0.4359998703...</td>\n",
       "      <td>2019-03-07 11:05:58.261066</td>\n",
       "      <td>2019-03-07 11:05:58.261066</td>\n",
       "    </tr>\n",
       "    <tr>\n",
       "      <th>4</th>\n",
       "      <td>5</td>\n",
       "      <td>396</td>\n",
       "      <td>{\"frames\":[[\"s\",0,0],[\"m\",456,176,0.1780002117...</td>\n",
       "      <td>2019-03-07 11:07:43.482881</td>\n",
       "      <td>2019-03-07 11:07:43.482881</td>\n",
       "    </tr>\n",
       "  </tbody>\n",
       "</table>\n",
       "</div>"
      ],
      "text/plain": [
       "   id  user_id                                               path  \\\n",
       "0   1      365  {\"frames\":[[\"s\",0,0],[\"m\",601,167,0.2200000286...   \n",
       "1   2      371  {\"frames\":[[\"s\",0,0],[\"m\",707,224,0.1179997920...   \n",
       "2   3      390  {\"frames\":[[\"s\",0,0],[\"m\",683,356,0.2530000209...   \n",
       "3   4      376  {\"frames\":[[\"s\",0,0],[\"m\",569,158,0.4359998703...   \n",
       "4   5      396  {\"frames\":[[\"s\",0,0],[\"m\",456,176,0.1780002117...   \n",
       "\n",
       "                   created_at                  updated_at  \n",
       "0  2019-03-05 06:56:35.848652  2019-03-05 06:56:35.848652  \n",
       "1  2019-03-06 10:13:30.862296  2019-03-06 10:13:30.862296  \n",
       "2  2019-03-07 11:03:09.178940  2019-03-07 11:03:09.178940  \n",
       "3  2019-03-07 11:05:58.261066  2019-03-07 11:05:58.261066  \n",
       "4  2019-03-07 11:07:43.482881  2019-03-07 11:07:43.482881  "
      ]
     },
     "execution_count": 14,
     "metadata": {},
     "output_type": "execute_result"
    }
   ],
   "source": [
    "mouse.head()"
   ]
  },
  {
   "cell_type": "code",
   "execution_count": 15,
   "metadata": {
    "ExecuteTime": {
     "end_time": "2019-09-17T22:06:41.158516Z",
     "start_time": "2019-09-17T22:06:41.146767Z"
    }
   },
   "outputs": [],
   "source": [
    "# ignore this cell\n",
    "# dict(json.loads(mouse.path[0]))\n",
    "# dict(dict(json.loads(mouse.path[0]))['window'])[\"width\"]\n",
    "# json.loads(mouse.path[0])\n",
    "# mouse.path[409]"
   ]
  },
  {
   "cell_type": "code",
   "execution_count": 16,
   "metadata": {
    "ExecuteTime": {
     "end_time": "2019-09-17T22:06:41.168978Z",
     "start_time": "2019-09-17T22:06:41.159943Z"
    }
   },
   "outputs": [
    {
     "data": {
      "text/plain": [
       "[1236, 751, 1292, 1312, 1555, 1579, 1703, 1840]"
      ]
     },
     "execution_count": 16,
     "metadata": {},
     "output_type": "execute_result"
    }
   ],
   "source": [
    "# these indices contain incomplete frames data\n",
    "broken = [393,409,416,428,582,613,687,809]\n",
    "broken_uids = [mouse.user_id[i] for i in broken]; broken_uids "
   ]
  },
  {
   "cell_type": "code",
   "execution_count": 17,
   "metadata": {
    "ExecuteTime": {
     "end_time": "2019-09-17T22:06:41.576429Z",
     "start_time": "2019-09-17T22:06:41.570794Z"
    }
   },
   "outputs": [],
   "source": [
    "mouse.drop(broken,axis=0,inplace=True) # drop the broken indicies "
   ]
  },
  {
   "cell_type": "code",
   "execution_count": 18,
   "metadata": {
    "ExecuteTime": {
     "end_time": "2019-09-17T22:06:47.631489Z",
     "start_time": "2019-09-17T22:06:43.005711Z"
    }
   },
   "outputs": [],
   "source": [
    "# preparing the mouse data for flattening vy first adding the time elapsed, window_x and window_y cols\n",
    "time_elapsed, window_x, window_y = [],[],[]\n",
    "    \n",
    "for index,row in mouse.iterrows():\n",
    "    d = dict(json.loads(mouse.path[index]))\n",
    "    time_elapsed.append(d[\"timeElapsed\"])\n",
    "    window_x.append(dict(d['window'])[\"width\"])\n",
    "    window_y.append(dict(d['window'])[\"height\"])\n",
    "    \n",
    "mouse[\"timeElapsed\"] = time_elapsed\n",
    "mouse[\"window_x\"] = window_x\n",
    "mouse[\"window_y\"] = window_y"
   ]
  },
  {
   "cell_type": "code",
   "execution_count": 19,
   "metadata": {
    "ExecuteTime": {
     "end_time": "2019-09-17T22:07:25.818563Z",
     "start_time": "2019-09-17T22:07:25.809089Z"
    }
   },
   "outputs": [],
   "source": [
    "# function to create a new row for each frames movement \n",
    "def flatten_df(df):\n",
    "    \"\"\"\n",
    "    input mouse df with a json column, path, and return df with flattened df cols\n",
    "    \"\"\"\n",
    "    user_id, action, cord_x, cord_y, radio, time_since = [],[],[],[],[],[]\n",
    "    for index,row in df.iterrows():\n",
    "        f = dict(json.loads(row.path))['frames']\n",
    "        for i in range(len(f)):\n",
    "            user_id.append(row.user_id)\n",
    "            action.append(f[i][0])\n",
    "            cord_x.append(f[i][1])\n",
    "            cord_y.append(f[i][2])\n",
    "            if f[i][0] == \"c\":\n",
    "                assert len(f[i]) == 5\n",
    "                radio.append(f[i][3])\n",
    "                time_since.append(f[i][4])\n",
    "            else:\n",
    "                radio.append(np.nan)\n",
    "                time_since.append(f[i][3]) if i != 0 else time_since.append(0) # since len(f[i][0]) = 3 i.e. [s,0,0], indexing at 3 results in an error\n",
    "                \n",
    "    res = pd.DataFrame({\"user_id\":user_id,\n",
    "                      \"action\":action,\n",
    "                      \"cord_x\":cord_x,\n",
    "                      \"cord_y\":cord_y,\n",
    "                      \"radio\":radio,\n",
    "                      \"time_since\":time_since})\n",
    "    res.time_since.replace(\"None\",np.nan,inplace=True) # replace None string with np.nan for time_since\n",
    "    df.drop(\"path\",inplace=True,axis=1)\n",
    "    return pd.merge(res, df, how=\"left\", on=\"user_id\")"
   ]
  },
  {
   "cell_type": "code",
   "execution_count": 20,
   "metadata": {
    "ExecuteTime": {
     "end_time": "2019-09-17T22:08:46.734547Z",
     "start_time": "2019-09-17T22:07:26.627582Z"
    }
   },
   "outputs": [],
   "source": [
    "mouse_flat = flatten_df(mouse)"
   ]
  },
  {
   "cell_type": "code",
   "execution_count": 21,
   "metadata": {
    "ExecuteTime": {
     "end_time": "2019-09-17T22:08:51.010576Z",
     "start_time": "2019-09-17T22:08:51.005344Z"
    }
   },
   "outputs": [
    {
     "data": {
      "text/plain": [
       "(8123046, 12)"
      ]
     },
     "execution_count": 21,
     "metadata": {},
     "output_type": "execute_result"
    }
   ],
   "source": [
    "mouse_flat.shape"
   ]
  },
  {
   "cell_type": "code",
   "execution_count": 22,
   "metadata": {
    "ExecuteTime": {
     "end_time": "2019-09-17T22:10:01.987388Z",
     "start_time": "2019-09-17T22:08:59.198684Z"
    }
   },
   "outputs": [],
   "source": [
    "mouse_flat.to_csv(\"../Data/mouse-flat.csv\")\n",
    "# mouse_flat = pd.read_csv(path/\"mouse-flat.csv\")"
   ]
  },
  {
   "cell_type": "code",
   "execution_count": 23,
   "metadata": {
    "ExecuteTime": {
     "end_time": "2019-09-17T22:12:25.649644Z",
     "start_time": "2019-09-17T22:12:25.637328Z"
    }
   },
   "outputs": [
    {
     "data": {
      "text/html": [
       "<div>\n",
       "<style scoped>\n",
       "    .dataframe tbody tr th:only-of-type {\n",
       "        vertical-align: middle;\n",
       "    }\n",
       "\n",
       "    .dataframe tbody tr th {\n",
       "        vertical-align: top;\n",
       "    }\n",
       "\n",
       "    .dataframe thead th {\n",
       "        text-align: right;\n",
       "    }\n",
       "</style>\n",
       "<table border=\"1\" class=\"dataframe\">\n",
       "  <thead>\n",
       "    <tr style=\"text-align: right;\">\n",
       "      <th></th>\n",
       "      <th>user_id</th>\n",
       "      <th>action</th>\n",
       "      <th>cord_x</th>\n",
       "      <th>cord_y</th>\n",
       "      <th>radio</th>\n",
       "      <th>time_since</th>\n",
       "      <th>id</th>\n",
       "      <th>created_at</th>\n",
       "      <th>updated_at</th>\n",
       "      <th>timeElapsed</th>\n",
       "      <th>window_x</th>\n",
       "      <th>window_y</th>\n",
       "    </tr>\n",
       "  </thead>\n",
       "  <tbody>\n",
       "    <tr>\n",
       "      <th>0</th>\n",
       "      <td>365</td>\n",
       "      <td>s</td>\n",
       "      <td>0</td>\n",
       "      <td>0.0</td>\n",
       "      <td>NaN</td>\n",
       "      <td>0.000</td>\n",
       "      <td>1</td>\n",
       "      <td>2019-03-05 06:56:35.848652</td>\n",
       "      <td>2019-03-05 06:56:35.848652</td>\n",
       "      <td>245.925</td>\n",
       "      <td>1600</td>\n",
       "      <td>860</td>\n",
       "    </tr>\n",
       "    <tr>\n",
       "      <th>1</th>\n",
       "      <td>365</td>\n",
       "      <td>m</td>\n",
       "      <td>601</td>\n",
       "      <td>167.0</td>\n",
       "      <td>NaN</td>\n",
       "      <td>0.220</td>\n",
       "      <td>1</td>\n",
       "      <td>2019-03-05 06:56:35.848652</td>\n",
       "      <td>2019-03-05 06:56:35.848652</td>\n",
       "      <td>245.925</td>\n",
       "      <td>1600</td>\n",
       "      <td>860</td>\n",
       "    </tr>\n",
       "    <tr>\n",
       "      <th>2</th>\n",
       "      <td>365</td>\n",
       "      <td>m</td>\n",
       "      <td>602</td>\n",
       "      <td>166.0</td>\n",
       "      <td>NaN</td>\n",
       "      <td>0.304</td>\n",
       "      <td>1</td>\n",
       "      <td>2019-03-05 06:56:35.848652</td>\n",
       "      <td>2019-03-05 06:56:35.848652</td>\n",
       "      <td>245.925</td>\n",
       "      <td>1600</td>\n",
       "      <td>860</td>\n",
       "    </tr>\n",
       "    <tr>\n",
       "      <th>3</th>\n",
       "      <td>365</td>\n",
       "      <td>c</td>\n",
       "      <td>602</td>\n",
       "      <td>166.0</td>\n",
       "      <td>None</td>\n",
       "      <td>0.432</td>\n",
       "      <td>1</td>\n",
       "      <td>2019-03-05 06:56:35.848652</td>\n",
       "      <td>2019-03-05 06:56:35.848652</td>\n",
       "      <td>245.925</td>\n",
       "      <td>1600</td>\n",
       "      <td>860</td>\n",
       "    </tr>\n",
       "    <tr>\n",
       "      <th>4</th>\n",
       "      <td>365</td>\n",
       "      <td>m</td>\n",
       "      <td>602</td>\n",
       "      <td>166.0</td>\n",
       "      <td>NaN</td>\n",
       "      <td>0.518</td>\n",
       "      <td>1</td>\n",
       "      <td>2019-03-05 06:56:35.848652</td>\n",
       "      <td>2019-03-05 06:56:35.848652</td>\n",
       "      <td>245.925</td>\n",
       "      <td>1600</td>\n",
       "      <td>860</td>\n",
       "    </tr>\n",
       "  </tbody>\n",
       "</table>\n",
       "</div>"
      ],
      "text/plain": [
       "   user_id action  cord_x  cord_y radio  time_since  id  \\\n",
       "0      365      s       0     0.0   NaN       0.000   1   \n",
       "1      365      m     601   167.0   NaN       0.220   1   \n",
       "2      365      m     602   166.0   NaN       0.304   1   \n",
       "3      365      c     602   166.0  None       0.432   1   \n",
       "4      365      m     602   166.0   NaN       0.518   1   \n",
       "\n",
       "                   created_at                  updated_at  timeElapsed  \\\n",
       "0  2019-03-05 06:56:35.848652  2019-03-05 06:56:35.848652      245.925   \n",
       "1  2019-03-05 06:56:35.848652  2019-03-05 06:56:35.848652      245.925   \n",
       "2  2019-03-05 06:56:35.848652  2019-03-05 06:56:35.848652      245.925   \n",
       "3  2019-03-05 06:56:35.848652  2019-03-05 06:56:35.848652      245.925   \n",
       "4  2019-03-05 06:56:35.848652  2019-03-05 06:56:35.848652      245.925   \n",
       "\n",
       "   window_x  window_y  \n",
       "0      1600       860  \n",
       "1      1600       860  \n",
       "2      1600       860  \n",
       "3      1600       860  \n",
       "4      1600       860  "
      ]
     },
     "execution_count": 23,
     "metadata": {},
     "output_type": "execute_result"
    }
   ],
   "source": [
    "mouse_flat.head()"
   ]
  },
  {
   "cell_type": "markdown",
   "metadata": {},
   "source": [
    "# EDA"
   ]
  },
  {
   "cell_type": "markdown",
   "metadata": {},
   "source": [
    "## Mouse Data"
   ]
  },
  {
   "cell_type": "code",
   "execution_count": 24,
   "metadata": {
    "ExecuteTime": {
     "end_time": "2019-09-17T22:10:11.088914Z",
     "start_time": "2019-09-17T22:10:11.083252Z"
    }
   },
   "outputs": [
    {
     "data": {
      "text/plain": [
       "(802, 7)"
      ]
     },
     "execution_count": 24,
     "metadata": {},
     "output_type": "execute_result"
    }
   ],
   "source": [
    "mouse.shape "
   ]
  },
  {
   "cell_type": "code",
   "execution_count": 25,
   "metadata": {
    "ExecuteTime": {
     "end_time": "2019-09-17T22:10:11.912073Z",
     "start_time": "2019-09-17T22:10:11.901854Z"
    }
   },
   "outputs": [
    {
     "data": {
      "text/html": [
       "<div>\n",
       "<style scoped>\n",
       "    .dataframe tbody tr th:only-of-type {\n",
       "        vertical-align: middle;\n",
       "    }\n",
       "\n",
       "    .dataframe tbody tr th {\n",
       "        vertical-align: top;\n",
       "    }\n",
       "\n",
       "    .dataframe thead th {\n",
       "        text-align: right;\n",
       "    }\n",
       "</style>\n",
       "<table border=\"1\" class=\"dataframe\">\n",
       "  <thead>\n",
       "    <tr style=\"text-align: right;\">\n",
       "      <th></th>\n",
       "      <th>id</th>\n",
       "      <th>user_id</th>\n",
       "      <th>created_at</th>\n",
       "      <th>updated_at</th>\n",
       "      <th>timeElapsed</th>\n",
       "      <th>window_x</th>\n",
       "      <th>window_y</th>\n",
       "    </tr>\n",
       "  </thead>\n",
       "  <tbody>\n",
       "    <tr>\n",
       "      <th>0</th>\n",
       "      <td>1</td>\n",
       "      <td>365</td>\n",
       "      <td>2019-03-05 06:56:35.848652</td>\n",
       "      <td>2019-03-05 06:56:35.848652</td>\n",
       "      <td>245.925</td>\n",
       "      <td>1600</td>\n",
       "      <td>860</td>\n",
       "    </tr>\n",
       "    <tr>\n",
       "      <th>1</th>\n",
       "      <td>2</td>\n",
       "      <td>371</td>\n",
       "      <td>2019-03-06 10:13:30.862296</td>\n",
       "      <td>2019-03-06 10:13:30.862296</td>\n",
       "      <td>192.108</td>\n",
       "      <td>1853</td>\n",
       "      <td>1053</td>\n",
       "    </tr>\n",
       "    <tr>\n",
       "      <th>2</th>\n",
       "      <td>3</td>\n",
       "      <td>390</td>\n",
       "      <td>2019-03-07 11:03:09.178940</td>\n",
       "      <td>2019-03-07 11:03:09.178940</td>\n",
       "      <td>117.694</td>\n",
       "      <td>1600</td>\n",
       "      <td>860</td>\n",
       "    </tr>\n",
       "    <tr>\n",
       "      <th>3</th>\n",
       "      <td>4</td>\n",
       "      <td>376</td>\n",
       "      <td>2019-03-07 11:05:58.261066</td>\n",
       "      <td>2019-03-07 11:05:58.261066</td>\n",
       "      <td>156.110</td>\n",
       "      <td>1280</td>\n",
       "      <td>680</td>\n",
       "    </tr>\n",
       "    <tr>\n",
       "      <th>4</th>\n",
       "      <td>5</td>\n",
       "      <td>396</td>\n",
       "      <td>2019-03-07 11:07:43.482881</td>\n",
       "      <td>2019-03-07 11:07:43.482881</td>\n",
       "      <td>207.118</td>\n",
       "      <td>1366</td>\n",
       "      <td>728</td>\n",
       "    </tr>\n",
       "  </tbody>\n",
       "</table>\n",
       "</div>"
      ],
      "text/plain": [
       "   id  user_id                  created_at                  updated_at  \\\n",
       "0   1      365  2019-03-05 06:56:35.848652  2019-03-05 06:56:35.848652   \n",
       "1   2      371  2019-03-06 10:13:30.862296  2019-03-06 10:13:30.862296   \n",
       "2   3      390  2019-03-07 11:03:09.178940  2019-03-07 11:03:09.178940   \n",
       "3   4      376  2019-03-07 11:05:58.261066  2019-03-07 11:05:58.261066   \n",
       "4   5      396  2019-03-07 11:07:43.482881  2019-03-07 11:07:43.482881   \n",
       "\n",
       "   timeElapsed  window_x  window_y  \n",
       "0      245.925      1600       860  \n",
       "1      192.108      1853      1053  \n",
       "2      117.694      1600       860  \n",
       "3      156.110      1280       680  \n",
       "4      207.118      1366       728  "
      ]
     },
     "execution_count": 25,
     "metadata": {},
     "output_type": "execute_result"
    }
   ],
   "source": [
    "mouse.head()"
   ]
  },
  {
   "cell_type": "code",
   "execution_count": 26,
   "metadata": {
    "ExecuteTime": {
     "end_time": "2019-09-17T22:10:11.987618Z",
     "start_time": "2019-09-17T22:10:11.977170Z"
    }
   },
   "outputs": [
    {
     "data": {
      "text/plain": [
       "0"
      ]
     },
     "execution_count": 26,
     "metadata": {},
     "output_type": "execute_result"
    }
   ],
   "source": [
    "# the created_at and updated_at values are exactly the same\n",
    "sum((mouse.created_at != mouse.updated_at))"
   ]
  },
  {
   "cell_type": "code",
   "execution_count": 27,
   "metadata": {
    "ExecuteTime": {
     "end_time": "2019-09-17T22:10:12.143802Z",
     "start_time": "2019-09-17T22:10:12.134503Z"
    }
   },
   "outputs": [
    {
     "data": {
      "text/plain": [
       "730"
      ]
     },
     "execution_count": 27,
     "metadata": {},
     "output_type": "execute_result"
    }
   ],
   "source": [
    "# how many users data do we have (non broken)\n",
    "len(mouse.user_id.unique())"
   ]
  },
  {
   "cell_type": "markdown",
   "metadata": {},
   "source": [
    "There are 802 instances so some users are repeated"
   ]
  },
  {
   "cell_type": "code",
   "execution_count": 28,
   "metadata": {
    "ExecuteTime": {
     "end_time": "2019-09-17T22:10:12.935963Z",
     "start_time": "2019-09-17T22:10:12.925826Z"
    },
    "scrolled": true
   },
   "outputs": [
    {
     "data": {
      "text/plain": [
       "642     5\n",
       "990     5\n",
       "1077    4\n",
       "386     4\n",
       "647     4\n",
       "685     3\n",
       "989     3\n",
       "1017    3\n",
       "796     3\n",
       "971     3\n",
       "404     3\n",
       "396     3\n",
       "646     2\n",
       "422     2\n",
       "1022    2\n",
       "764     2\n",
       "645     2\n",
       "654     2\n",
       "659     2\n",
       "1114    2\n",
       "932     2\n",
       "444     2\n",
       "667     2\n",
       "652     2\n",
       "641     2\n",
       "1441    2\n",
       "673     2\n",
       "877     2\n",
       "869     2\n",
       "866     2\n",
       "401     2\n",
       "630     2\n",
       "395     2\n",
       "839     2\n",
       "828     2\n",
       "1170    2\n",
       "383     2\n",
       "794     2\n",
       "1174    2\n",
       "798     2\n",
       "749     2\n",
       "803     2\n",
       "691     2\n",
       "962     2\n",
       "683     2\n",
       "999     2\n",
       "718     2\n",
       "704     2\n",
       "679     2\n",
       "727     2\n",
       "1011    2\n",
       "1722    2\n",
       "1537    2\n",
       "Name: user_id, dtype: int64"
      ]
     },
     "execution_count": 28,
     "metadata": {},
     "output_type": "execute_result"
    }
   ],
   "source": [
    "# which users are repeated and how many times\n",
    "mouse.user_id.value_counts()[mouse.user_id.value_counts() > 1]"
   ]
  },
  {
   "cell_type": "code",
   "execution_count": 29,
   "metadata": {
    "ExecuteTime": {
     "end_time": "2019-09-17T22:10:12.959910Z",
     "start_time": "2019-09-17T22:10:12.952794Z"
    }
   },
   "outputs": [
    {
     "data": {
      "text/plain": [
       "count     802.000000\n",
       "mean      487.030003\n",
       "std       309.765446\n",
       "min        10.930000\n",
       "25%       252.644250\n",
       "50%       426.907500\n",
       "75%       649.207500\n",
       "max      2856.612000\n",
       "Name: timeElapsed, dtype: float64"
      ]
     },
     "execution_count": 29,
     "metadata": {},
     "output_type": "execute_result"
    }
   ],
   "source": [
    "# descriptive stats on elapsed time\n",
    "mouse.timeElapsed.describe()"
   ]
  },
  {
   "cell_type": "code",
   "execution_count": 30,
   "metadata": {
    "ExecuteTime": {
     "end_time": "2019-09-17T22:10:13.753946Z",
     "start_time": "2019-09-17T22:10:13.744998Z"
    }
   },
   "outputs": [
    {
     "data": {
      "text/plain": [
       "count     802.000000\n",
       "mean     1346.420200\n",
       "std       316.259552\n",
       "min         0.000000\n",
       "25%      1360.000000\n",
       "50%      1366.000000\n",
       "75%      1366.000000\n",
       "max      2576.000000\n",
       "Name: window_x, dtype: float64"
      ]
     },
     "execution_count": 30,
     "metadata": {},
     "output_type": "execute_result"
    }
   ],
   "source": [
    "# descriptitve stats on window_x\n",
    "mouse.window_x.describe()"
   ]
  },
  {
   "cell_type": "code",
   "execution_count": 31,
   "metadata": {
    "ExecuteTime": {
     "end_time": "2019-09-17T22:10:15.392906Z",
     "start_time": "2019-09-17T22:10:15.386492Z"
    }
   },
   "outputs": [
    {
     "data": {
      "text/plain": [
       "count     802.000000\n",
       "mean      772.829177\n",
       "std       145.474554\n",
       "min         0.000000\n",
       "25%       728.000000\n",
       "50%       728.000000\n",
       "75%       819.250000\n",
       "max      1781.000000\n",
       "Name: window_y, dtype: float64"
      ]
     },
     "execution_count": 31,
     "metadata": {},
     "output_type": "execute_result"
    }
   ],
   "source": [
    "# descriptitve stats on window_y\n",
    "mouse.window_y.describe()"
   ]
  },
  {
   "cell_type": "code",
   "execution_count": 32,
   "metadata": {
    "ExecuteTime": {
     "end_time": "2019-09-17T22:10:18.637581Z",
     "start_time": "2019-09-17T22:10:15.793576Z"
    }
   },
   "outputs": [
    {
     "data": {
      "text/plain": [
       "count      802.000000\n",
       "mean     10128.486284\n",
       "std       6664.522545\n",
       "min        108.000000\n",
       "25%       6163.750000\n",
       "50%       9385.000000\n",
       "75%      12899.500000\n",
       "max      48065.000000\n",
       "Name: action, dtype: float64"
      ]
     },
     "execution_count": 32,
     "metadata": {},
     "output_type": "execute_result"
    }
   ],
   "source": [
    "# describe the stats on number of frames per user_id-id instance.\n",
    "mouse_flat.groupby([\"user_id\",\"id\"]).count()[\"action\"].describe()"
   ]
  },
  {
   "cell_type": "markdown",
   "metadata": {},
   "source": [
    "The average # of frames for any one instance is ~10.1k "
   ]
  },
  {
   "cell_type": "code",
   "execution_count": 33,
   "metadata": {
    "ExecuteTime": {
     "end_time": "2019-09-17T22:10:23.388288Z",
     "start_time": "2019-09-17T22:10:23.375818Z"
    }
   },
   "outputs": [
    {
     "name": "stdout",
     "output_type": "stream",
     "text": [
      "16:9 1.7777777777777777\n",
      "4:3 1.3333333333333333\n"
     ]
    },
    {
     "data": {
      "text/plain": [
       "count    798.000000\n",
       "mean       1.744296\n",
       "std        0.314581\n",
       "min        0.537859\n",
       "25%        1.766423\n",
       "50%        1.868132\n",
       "75%        1.876374\n",
       "max        2.932790\n",
       "Name: aspect_ratio, dtype: float64"
      ]
     },
     "execution_count": 33,
     "metadata": {},
     "output_type": "execute_result"
    }
   ],
   "source": [
    "# let's see the average aspect ratio\n",
    "print(\"16:9\",16/9)\n",
    "print(\"4:3\",4/3)\n",
    "mouse[\"aspect_ratio\"] = mouse[\"window_x\"] / mouse[\"window_y\"]\n",
    "mouse.aspect_ratio.describe()"
   ]
  },
  {
   "cell_type": "markdown",
   "metadata": {},
   "source": [
    "Most windows are close to the 16:9 aspect ratio"
   ]
  }
 ],
 "metadata": {
  "kernelspec": {
   "display_name": "Python 3",
   "language": "python",
   "name": "python3"
  },
  "language_info": {
   "codemirror_mode": {
    "name": "ipython",
    "version": 3
   },
   "file_extension": ".py",
   "mimetype": "text/x-python",
   "name": "python",
   "nbconvert_exporter": "python",
   "pygments_lexer": "ipython3",
   "version": "3.7.3"
  }
 },
 "nbformat": 4,
 "nbformat_minor": 4
}
