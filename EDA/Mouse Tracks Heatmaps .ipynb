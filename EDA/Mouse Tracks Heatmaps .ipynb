{
 "cells": [
  {
   "cell_type": "markdown",
   "metadata": {},
   "source": [
    "# Dotin EDA : Mouse Track Heatmaps"
   ]
  },
  {
   "cell_type": "code",
   "execution_count": 1,
   "metadata": {},
   "outputs": [],
   "source": [
    "import numpy as np\n",
    "import pandas as pd\n",
    "import os\n",
    "from pathlib import Path\n",
    "import matplotlib.pyplot as plt\n",
    "import matplotlib.cm as cm\n",
    "from scipy.ndimage.filters import gaussian_filter\n",
    "import seaborn as sns"
   ]
  },
  {
   "cell_type": "code",
   "execution_count": 3,
   "metadata": {},
   "outputs": [],
   "source": [
    "import os "
   ]
  },
  {
   "cell_type": "code",
   "execution_count": 16,
   "metadata": {},
   "outputs": [
    {
     "data": {
      "text/plain": [
       "['.ipynb_checkpoints',\n",
       " 'merged_data_user_level.csv',\n",
       " 'merged_data_user_level_V2.csv',\n",
       " 'mouse_flat_v2.csv',\n",
       " 'mouse_flat_V3.csv',\n",
       " 'mouse_user_direction.csv',\n",
       " 'votes_v2.csv']"
      ]
     },
     "execution_count": 16,
     "metadata": {},
     "output_type": "execute_result"
    }
   ],
   "source": [
    "os.listdir('../Data/Clean Data')"
   ]
  },
  {
   "cell_type": "code",
   "execution_count": 17,
   "metadata": {},
   "outputs": [],
   "source": [
    "#call in data\n",
    "mt=pd.read_csv('../Data/Clean Data/mouse_flat_V3.csv')\n",
    "v=pd.read_csv('../Data/Raw/votes.csv')"
   ]
  },
  {
   "cell_type": "code",
   "execution_count": null,
   "metadata": {},
   "outputs": [],
   "source": []
  },
  {
   "cell_type": "code",
   "execution_count": null,
   "metadata": {},
   "outputs": [],
   "source": [
    "#Create two new features to capture x,y coordinates but improved, to account for variability in window size\n",
    "\n",
    "#ratio of cord_x / window_x * 100 - % of width\n",
    "mt['percent_cord_x']=(mt['cord_x']/mt['window_x'])*100\n",
    "\n",
    "#ratio of cord_y / window_y * 100 - % of length\n",
    "mt['percent_cord_y']=(mt['cord_y']/mt['window_y'])*100"
   ]
  },
  {
   "cell_type": "markdown",
   "metadata": {},
   "source": [
    "**Overall Mouse Activity Heatmap Per User**"
   ]
  },
  {
   "cell_type": "code",
   "execution_count": null,
   "metadata": {},
   "outputs": [],
   "source": [
    "def overall_heatmap (userid):\n",
    "    user_cords=mt[mt.user_id==userid]\n",
    "    cords=user_cords[['cord_x', 'cord_y', 'window_x', 'window_y']]\n",
    "    \n",
    "    x= user_cords['percent_cord_x'].to_numpy()\n",
    "    y= user_cords['percent_cord_y'].to_numpy()\n",
    "    \n",
    "    heatmap, xedges, yedges = np.histogram2d(x, y, bins=100)\n",
    "    extent = [xedges[0], xedges[-1], yedges[0], yedges[-1]]\n",
    "    \n",
    "    print(userid)\n",
    "    plt.clf()\n",
    "    plt.imshow(heatmap.T, extent=extent, origin='lower')\n",
    "    plt.show()"
   ]
  },
  {
   "cell_type": "code",
   "execution_count": null,
   "metadata": {},
   "outputs": [],
   "source": [
    "for userid in mt.user_id.unique():\n",
    "    overall_heatmap(userid)"
   ]
  },
  {
   "cell_type": "markdown",
   "metadata": {},
   "source": [
    "**Mouse Movements Heatmap Per User**"
   ]
  },
  {
   "cell_type": "code",
   "execution_count": null,
   "metadata": {},
   "outputs": [],
   "source": [
    "def movements_heatmap (userid):\n",
    "    user_cords=mt[mt.user_id==userid]\n",
    "    cords=user_cords[['cord_x', 'cord_y', 'window_x', 'window_y']]\n",
    "    user_movements=user_cords[user_cords.action=='m']\n",
    "    \n",
    "    x= user_movements['percent_cord_x'].to_numpy()\n",
    "    y= user_movements['percent_cord_y'].to_numpy()\n",
    "    \n",
    "    heatmap, xedges, yedges = np.histogram2d(x, y, bins=100)\n",
    "    extent = [xedges[0], xedges[-1], yedges[0], yedges[-1]]\n",
    "    \n",
    "    print(userid)\n",
    "    plt.clf()\n",
    "    plt.imshow(heatmap.T, extent=extent, origin='lower')\n",
    "    plt.show()"
   ]
  },
  {
   "cell_type": "code",
   "execution_count": null,
   "metadata": {},
   "outputs": [],
   "source": [
    "for userid in mt.user_id.unique():\n",
    "    movements_heatmap(userid)"
   ]
  },
  {
   "cell_type": "markdown",
   "metadata": {},
   "source": [
    "**Clicks Heatmap Per User**"
   ]
  },
  {
   "cell_type": "code",
   "execution_count": null,
   "metadata": {},
   "outputs": [],
   "source": [
    "def clicks_heatmap (userid):\n",
    "    user_cords=mt[mt.user_id==userid]\n",
    "    cords=user_cords[['cord_x', 'cord_y', 'window_x', 'window_y']]\n",
    "    user_clicks=user_cords[user_cords.action=='c']\n",
    "    \n",
    "    x= user_clicks['percent_cord_x'].to_numpy()\n",
    "    y= user_clicks['percent_cord_y'].to_numpy()\n",
    "    \n",
    "    heatmap, xedges, yedges = np.histogram2d(x, y, bins=100)\n",
    "    extent = [xedges[0], xedges[-1], yedges[0], yedges[-1]]\n",
    "    \n",
    "    print(userid)\n",
    "    plt.clf()\n",
    "    plt.imshow(heatmap.T, extent=extent, origin='lower')\n",
    "    plt.show()"
   ]
  },
  {
   "cell_type": "code",
   "execution_count": null,
   "metadata": {},
   "outputs": [],
   "source": [
    "for userid in mt.user_id.unique():\n",
    "    clicks_heatmap(userid)"
   ]
  },
  {
   "cell_type": "markdown",
   "metadata": {},
   "source": [
    "**Insights:**<br>\n",
    "1. Both movement and click patterns vary from user to user.\n",
    "2. On average, mouse movements are heavily concentrated on the left side of the screen.\n",
    "3. Most of the mouse activity happens between x coordinates 400 and 1200 - varies depending on screen size.\n",
    "4. A lot of the mouse movements and clicks form 2 clear vertical lines on the following x coordinates: 500-700 and 1000.\n",
    "\n",
    "**Next steps:**<br>\n",
    "1. It will be more insightful to analyze the movements based on the different parts of the survey, since the layout and location of response fields varies.\n",
    "2. Analyze mouse movements and clicks depending on the different devices, i.e. screen size"
   ]
  },
  {
   "cell_type": "markdown",
   "metadata": {},
   "source": [
    "### Scatterplots of Mouse Paths with Color Codes for Action Type"
   ]
  },
  {
   "cell_type": "code",
   "execution_count": null,
   "metadata": {},
   "outputs": [],
   "source": [
    "def action_type_scatter(userid):\n",
    "    user_cords=mt[mt.user_id==userid]\n",
    "    cords=user_cords[['cord_x', 'cord_y', 'window_x', 'window_y']]\n",
    "    \n",
    "    sns.lmplot( x=\"percent_cord_x\", y=\"percent_cord_y\", data=user_cords, fit_reg=False, hue='action', \n",
    "               legend=False, palette=dict(c=\"#CD5C5C\", m=\"#E9967A\", s=\"#FFA07A\"))\n",
    " \n",
    "    plt.legend(loc='lower right')\n",
    "    print(userid)\n",
    "    plt.show()"
   ]
  },
  {
   "cell_type": "code",
   "execution_count": null,
   "metadata": {},
   "outputs": [],
   "source": [
    "for userid in mt.user_id.unique():\n",
    "    action_type_scatter(userid)"
   ]
  }
 ],
 "metadata": {
  "kernelspec": {
   "display_name": "Python 3",
   "language": "python",
   "name": "python3"
  },
  "language_info": {
   "codemirror_mode": {
    "name": "ipython",
    "version": 3
   },
   "file_extension": ".py",
   "mimetype": "text/x-python",
   "name": "python",
   "nbconvert_exporter": "python",
   "pygments_lexer": "ipython3",
   "version": "3.7.3"
  }
 },
 "nbformat": 4,
 "nbformat_minor": 4
}
